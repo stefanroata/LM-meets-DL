{
  "nbformat": 4,
  "nbformat_minor": 0,
  "metadata": {
    "colab": {
      "provenance": [],
      "collapsed_sections": [],
      "machine_shape": "hm",
      "authorship_tag": "ABX9TyM33UOcqSLFEAEeZ2nBk/ID",
      "include_colab_link": true
    },
    "kernelspec": {
      "name": "python3",
      "display_name": "Python 3"
    },
    "language_info": {
      "name": "python"
    },
    "gpuClass": "standard",
    "accelerator": "GPU"
  },
  "cells": [
    {
      "cell_type": "markdown",
      "metadata": {
        "id": "view-in-github",
        "colab_type": "text"
      },
      "source": [
        "<a href=\"https://colab.research.google.com/github/stefanroata/LM-meets-DL/blob/main/IKSA_SGD_Training_and_Loss_Landscape_Viz.ipynb\" target=\"_parent\"><img src=\"https://colab.research.google.com/assets/colab-badge.svg\" alt=\"Open In Colab\"/></a>"
      ]
    },
    {
      "cell_type": "code",
      "execution_count": null,
      "metadata": {
        "id": "mTdNSjDGCkD7"
      },
      "outputs": [],
      "source": [
        "import torch\n",
        "import copy\n",
        "import torchvision\n",
        "import numpy as np\n",
        "import os\n",
        "from tqdm import tqdm\n",
        "from torchvision import transforms as T\n",
        "from torchvision import models\n",
        "from torch.utils.data.dataloader import DataLoader\n",
        "import matplotlib.pyplot as plt\n",
        "from torchvision.datasets import CIFAR10\n",
        "import torch.optim as optim\n",
        "from google.colab import drive"
      ]
    },
    {
      "cell_type": "code",
      "source": [
        "# ONLY AVAILABLE IF WORKING INSIDE GOOGLE COLAB\n",
        "# IF NOT WORKING INSIDE GOOGLE COLAB, PLEASE IGNORE THIS CELL\n",
        "drive.mount('/content/gdrive')\n",
        "os.chdir('/content/gdrive/MyDrive/CAPSTONE/')"
      ],
      "metadata": {
        "colab": {
          "base_uri": "https://localhost:8080/"
        },
        "id": "sUQ_59hRJoiM",
        "outputId": "a6918f01-a29f-409f-f2c5-37edd619cdab"
      },
      "execution_count": null,
      "outputs": [
        {
          "output_type": "stream",
          "name": "stdout",
          "text": [
            "Mounted at /content/gdrive\n"
          ]
        }
      ]
    },
    {
      "cell_type": "code",
      "source": [
        "from IKSA_optimizers.SGD_IKSA import SGD_IKSA"
      ],
      "metadata": {
        "id": "P8Hey68mvXVN"
      },
      "execution_count": null,
      "outputs": []
    },
    {
      "cell_type": "code",
      "source": [
        "!nvidia-smi -L "
      ],
      "metadata": {
        "colab": {
          "base_uri": "https://localhost:8080/"
        },
        "id": "hVaWWqy6wdNW",
        "outputId": "b37ad44b-fa1e-4130-c586-cd30149d56f3"
      },
      "execution_count": null,
      "outputs": [
        {
          "output_type": "stream",
          "name": "stdout",
          "text": [
            "GPU 0: Tesla P100-PCIE-16GB (UUID: GPU-8c4a3c3f-4d87-6995-5b7e-8a6c1b0760ca)\n"
          ]
        }
      ]
    },
    {
      "cell_type": "code",
      "source": [
        "# dir(models)\n",
        "model_ident = 'mobilenet_v2'\n",
        "optimizer_name = 'SGD_IKSA'\n",
        "dataset_name = 'imagenetv2'\n"
      ],
      "metadata": {
        "id": "EZrBFHPM9i0s"
      },
      "execution_count": null,
      "outputs": []
    },
    {
      "cell_type": "code",
      "source": [
        "device = torch.device('cuda' if torch.cuda.is_available() else 'cpu')\n",
        "print(device)"
      ],
      "metadata": {
        "colab": {
          "base_uri": "https://localhost:8080/"
        },
        "id": "za7hsKvfB9cM",
        "outputId": "4651e8a4-0fe5-423c-89e4-0a52cd877a2e"
      },
      "execution_count": null,
      "outputs": [
        {
          "output_type": "stream",
          "name": "stdout",
          "text": [
            "cuda\n"
          ]
        }
      ]
    },
    {
      "cell_type": "code",
      "source": [
        "model = torch.hub.load('pytorch/vision:v0.6.0', model_ident, weights = None, verbose=False)"
      ],
      "metadata": {
        "id": "TglvDXQg9wFu",
        "colab": {
          "base_uri": "https://localhost:8080/"
        },
        "outputId": "ef5a70a9-1cc8-4f2b-9b1d-9cb32eb754dd"
      },
      "execution_count": null,
      "outputs": [
        {
          "output_type": "stream",
          "name": "stderr",
          "text": [
            "Downloading: \"https://github.com/pytorch/vision/zipball/v0.6.0\" to /root/.cache/torch/hub/v0.6.0.zip\n"
          ]
        }
      ]
    },
    {
      "cell_type": "code",
      "source": [
        "model.to(device)"
      ],
      "metadata": {
        "colab": {
          "base_uri": "https://localhost:8080/"
        },
        "id": "XTzyeQ2koIk7",
        "outputId": "22a3b78d-3854-4ed3-89eb-619e83388cef"
      },
      "execution_count": null,
      "outputs": [
        {
          "output_type": "execute_result",
          "data": {
            "text/plain": [
              "MobileNetV2(\n",
              "  (features): Sequential(\n",
              "    (0): Conv2dNormActivation(\n",
              "      (0): Conv2d(3, 32, kernel_size=(3, 3), stride=(2, 2), padding=(1, 1), bias=False)\n",
              "      (1): BatchNorm2d(32, eps=1e-05, momentum=0.1, affine=True, track_running_stats=True)\n",
              "      (2): ReLU6(inplace=True)\n",
              "    )\n",
              "    (1): InvertedResidual(\n",
              "      (conv): Sequential(\n",
              "        (0): Conv2dNormActivation(\n",
              "          (0): Conv2d(32, 32, kernel_size=(3, 3), stride=(1, 1), padding=(1, 1), groups=32, bias=False)\n",
              "          (1): BatchNorm2d(32, eps=1e-05, momentum=0.1, affine=True, track_running_stats=True)\n",
              "          (2): ReLU6(inplace=True)\n",
              "        )\n",
              "        (1): Conv2d(32, 16, kernel_size=(1, 1), stride=(1, 1), bias=False)\n",
              "        (2): BatchNorm2d(16, eps=1e-05, momentum=0.1, affine=True, track_running_stats=True)\n",
              "      )\n",
              "    )\n",
              "    (2): InvertedResidual(\n",
              "      (conv): Sequential(\n",
              "        (0): Conv2dNormActivation(\n",
              "          (0): Conv2d(16, 96, kernel_size=(1, 1), stride=(1, 1), bias=False)\n",
              "          (1): BatchNorm2d(96, eps=1e-05, momentum=0.1, affine=True, track_running_stats=True)\n",
              "          (2): ReLU6(inplace=True)\n",
              "        )\n",
              "        (1): Conv2dNormActivation(\n",
              "          (0): Conv2d(96, 96, kernel_size=(3, 3), stride=(2, 2), padding=(1, 1), groups=96, bias=False)\n",
              "          (1): BatchNorm2d(96, eps=1e-05, momentum=0.1, affine=True, track_running_stats=True)\n",
              "          (2): ReLU6(inplace=True)\n",
              "        )\n",
              "        (2): Conv2d(96, 24, kernel_size=(1, 1), stride=(1, 1), bias=False)\n",
              "        (3): BatchNorm2d(24, eps=1e-05, momentum=0.1, affine=True, track_running_stats=True)\n",
              "      )\n",
              "    )\n",
              "    (3): InvertedResidual(\n",
              "      (conv): Sequential(\n",
              "        (0): Conv2dNormActivation(\n",
              "          (0): Conv2d(24, 144, kernel_size=(1, 1), stride=(1, 1), bias=False)\n",
              "          (1): BatchNorm2d(144, eps=1e-05, momentum=0.1, affine=True, track_running_stats=True)\n",
              "          (2): ReLU6(inplace=True)\n",
              "        )\n",
              "        (1): Conv2dNormActivation(\n",
              "          (0): Conv2d(144, 144, kernel_size=(3, 3), stride=(1, 1), padding=(1, 1), groups=144, bias=False)\n",
              "          (1): BatchNorm2d(144, eps=1e-05, momentum=0.1, affine=True, track_running_stats=True)\n",
              "          (2): ReLU6(inplace=True)\n",
              "        )\n",
              "        (2): Conv2d(144, 24, kernel_size=(1, 1), stride=(1, 1), bias=False)\n",
              "        (3): BatchNorm2d(24, eps=1e-05, momentum=0.1, affine=True, track_running_stats=True)\n",
              "      )\n",
              "    )\n",
              "    (4): InvertedResidual(\n",
              "      (conv): Sequential(\n",
              "        (0): Conv2dNormActivation(\n",
              "          (0): Conv2d(24, 144, kernel_size=(1, 1), stride=(1, 1), bias=False)\n",
              "          (1): BatchNorm2d(144, eps=1e-05, momentum=0.1, affine=True, track_running_stats=True)\n",
              "          (2): ReLU6(inplace=True)\n",
              "        )\n",
              "        (1): Conv2dNormActivation(\n",
              "          (0): Conv2d(144, 144, kernel_size=(3, 3), stride=(2, 2), padding=(1, 1), groups=144, bias=False)\n",
              "          (1): BatchNorm2d(144, eps=1e-05, momentum=0.1, affine=True, track_running_stats=True)\n",
              "          (2): ReLU6(inplace=True)\n",
              "        )\n",
              "        (2): Conv2d(144, 32, kernel_size=(1, 1), stride=(1, 1), bias=False)\n",
              "        (3): BatchNorm2d(32, eps=1e-05, momentum=0.1, affine=True, track_running_stats=True)\n",
              "      )\n",
              "    )\n",
              "    (5): InvertedResidual(\n",
              "      (conv): Sequential(\n",
              "        (0): Conv2dNormActivation(\n",
              "          (0): Conv2d(32, 192, kernel_size=(1, 1), stride=(1, 1), bias=False)\n",
              "          (1): BatchNorm2d(192, eps=1e-05, momentum=0.1, affine=True, track_running_stats=True)\n",
              "          (2): ReLU6(inplace=True)\n",
              "        )\n",
              "        (1): Conv2dNormActivation(\n",
              "          (0): Conv2d(192, 192, kernel_size=(3, 3), stride=(1, 1), padding=(1, 1), groups=192, bias=False)\n",
              "          (1): BatchNorm2d(192, eps=1e-05, momentum=0.1, affine=True, track_running_stats=True)\n",
              "          (2): ReLU6(inplace=True)\n",
              "        )\n",
              "        (2): Conv2d(192, 32, kernel_size=(1, 1), stride=(1, 1), bias=False)\n",
              "        (3): BatchNorm2d(32, eps=1e-05, momentum=0.1, affine=True, track_running_stats=True)\n",
              "      )\n",
              "    )\n",
              "    (6): InvertedResidual(\n",
              "      (conv): Sequential(\n",
              "        (0): Conv2dNormActivation(\n",
              "          (0): Conv2d(32, 192, kernel_size=(1, 1), stride=(1, 1), bias=False)\n",
              "          (1): BatchNorm2d(192, eps=1e-05, momentum=0.1, affine=True, track_running_stats=True)\n",
              "          (2): ReLU6(inplace=True)\n",
              "        )\n",
              "        (1): Conv2dNormActivation(\n",
              "          (0): Conv2d(192, 192, kernel_size=(3, 3), stride=(1, 1), padding=(1, 1), groups=192, bias=False)\n",
              "          (1): BatchNorm2d(192, eps=1e-05, momentum=0.1, affine=True, track_running_stats=True)\n",
              "          (2): ReLU6(inplace=True)\n",
              "        )\n",
              "        (2): Conv2d(192, 32, kernel_size=(1, 1), stride=(1, 1), bias=False)\n",
              "        (3): BatchNorm2d(32, eps=1e-05, momentum=0.1, affine=True, track_running_stats=True)\n",
              "      )\n",
              "    )\n",
              "    (7): InvertedResidual(\n",
              "      (conv): Sequential(\n",
              "        (0): Conv2dNormActivation(\n",
              "          (0): Conv2d(32, 192, kernel_size=(1, 1), stride=(1, 1), bias=False)\n",
              "          (1): BatchNorm2d(192, eps=1e-05, momentum=0.1, affine=True, track_running_stats=True)\n",
              "          (2): ReLU6(inplace=True)\n",
              "        )\n",
              "        (1): Conv2dNormActivation(\n",
              "          (0): Conv2d(192, 192, kernel_size=(3, 3), stride=(2, 2), padding=(1, 1), groups=192, bias=False)\n",
              "          (1): BatchNorm2d(192, eps=1e-05, momentum=0.1, affine=True, track_running_stats=True)\n",
              "          (2): ReLU6(inplace=True)\n",
              "        )\n",
              "        (2): Conv2d(192, 64, kernel_size=(1, 1), stride=(1, 1), bias=False)\n",
              "        (3): BatchNorm2d(64, eps=1e-05, momentum=0.1, affine=True, track_running_stats=True)\n",
              "      )\n",
              "    )\n",
              "    (8): InvertedResidual(\n",
              "      (conv): Sequential(\n",
              "        (0): Conv2dNormActivation(\n",
              "          (0): Conv2d(64, 384, kernel_size=(1, 1), stride=(1, 1), bias=False)\n",
              "          (1): BatchNorm2d(384, eps=1e-05, momentum=0.1, affine=True, track_running_stats=True)\n",
              "          (2): ReLU6(inplace=True)\n",
              "        )\n",
              "        (1): Conv2dNormActivation(\n",
              "          (0): Conv2d(384, 384, kernel_size=(3, 3), stride=(1, 1), padding=(1, 1), groups=384, bias=False)\n",
              "          (1): BatchNorm2d(384, eps=1e-05, momentum=0.1, affine=True, track_running_stats=True)\n",
              "          (2): ReLU6(inplace=True)\n",
              "        )\n",
              "        (2): Conv2d(384, 64, kernel_size=(1, 1), stride=(1, 1), bias=False)\n",
              "        (3): BatchNorm2d(64, eps=1e-05, momentum=0.1, affine=True, track_running_stats=True)\n",
              "      )\n",
              "    )\n",
              "    (9): InvertedResidual(\n",
              "      (conv): Sequential(\n",
              "        (0): Conv2dNormActivation(\n",
              "          (0): Conv2d(64, 384, kernel_size=(1, 1), stride=(1, 1), bias=False)\n",
              "          (1): BatchNorm2d(384, eps=1e-05, momentum=0.1, affine=True, track_running_stats=True)\n",
              "          (2): ReLU6(inplace=True)\n",
              "        )\n",
              "        (1): Conv2dNormActivation(\n",
              "          (0): Conv2d(384, 384, kernel_size=(3, 3), stride=(1, 1), padding=(1, 1), groups=384, bias=False)\n",
              "          (1): BatchNorm2d(384, eps=1e-05, momentum=0.1, affine=True, track_running_stats=True)\n",
              "          (2): ReLU6(inplace=True)\n",
              "        )\n",
              "        (2): Conv2d(384, 64, kernel_size=(1, 1), stride=(1, 1), bias=False)\n",
              "        (3): BatchNorm2d(64, eps=1e-05, momentum=0.1, affine=True, track_running_stats=True)\n",
              "      )\n",
              "    )\n",
              "    (10): InvertedResidual(\n",
              "      (conv): Sequential(\n",
              "        (0): Conv2dNormActivation(\n",
              "          (0): Conv2d(64, 384, kernel_size=(1, 1), stride=(1, 1), bias=False)\n",
              "          (1): BatchNorm2d(384, eps=1e-05, momentum=0.1, affine=True, track_running_stats=True)\n",
              "          (2): ReLU6(inplace=True)\n",
              "        )\n",
              "        (1): Conv2dNormActivation(\n",
              "          (0): Conv2d(384, 384, kernel_size=(3, 3), stride=(1, 1), padding=(1, 1), groups=384, bias=False)\n",
              "          (1): BatchNorm2d(384, eps=1e-05, momentum=0.1, affine=True, track_running_stats=True)\n",
              "          (2): ReLU6(inplace=True)\n",
              "        )\n",
              "        (2): Conv2d(384, 64, kernel_size=(1, 1), stride=(1, 1), bias=False)\n",
              "        (3): BatchNorm2d(64, eps=1e-05, momentum=0.1, affine=True, track_running_stats=True)\n",
              "      )\n",
              "    )\n",
              "    (11): InvertedResidual(\n",
              "      (conv): Sequential(\n",
              "        (0): Conv2dNormActivation(\n",
              "          (0): Conv2d(64, 384, kernel_size=(1, 1), stride=(1, 1), bias=False)\n",
              "          (1): BatchNorm2d(384, eps=1e-05, momentum=0.1, affine=True, track_running_stats=True)\n",
              "          (2): ReLU6(inplace=True)\n",
              "        )\n",
              "        (1): Conv2dNormActivation(\n",
              "          (0): Conv2d(384, 384, kernel_size=(3, 3), stride=(1, 1), padding=(1, 1), groups=384, bias=False)\n",
              "          (1): BatchNorm2d(384, eps=1e-05, momentum=0.1, affine=True, track_running_stats=True)\n",
              "          (2): ReLU6(inplace=True)\n",
              "        )\n",
              "        (2): Conv2d(384, 96, kernel_size=(1, 1), stride=(1, 1), bias=False)\n",
              "        (3): BatchNorm2d(96, eps=1e-05, momentum=0.1, affine=True, track_running_stats=True)\n",
              "      )\n",
              "    )\n",
              "    (12): InvertedResidual(\n",
              "      (conv): Sequential(\n",
              "        (0): Conv2dNormActivation(\n",
              "          (0): Conv2d(96, 576, kernel_size=(1, 1), stride=(1, 1), bias=False)\n",
              "          (1): BatchNorm2d(576, eps=1e-05, momentum=0.1, affine=True, track_running_stats=True)\n",
              "          (2): ReLU6(inplace=True)\n",
              "        )\n",
              "        (1): Conv2dNormActivation(\n",
              "          (0): Conv2d(576, 576, kernel_size=(3, 3), stride=(1, 1), padding=(1, 1), groups=576, bias=False)\n",
              "          (1): BatchNorm2d(576, eps=1e-05, momentum=0.1, affine=True, track_running_stats=True)\n",
              "          (2): ReLU6(inplace=True)\n",
              "        )\n",
              "        (2): Conv2d(576, 96, kernel_size=(1, 1), stride=(1, 1), bias=False)\n",
              "        (3): BatchNorm2d(96, eps=1e-05, momentum=0.1, affine=True, track_running_stats=True)\n",
              "      )\n",
              "    )\n",
              "    (13): InvertedResidual(\n",
              "      (conv): Sequential(\n",
              "        (0): Conv2dNormActivation(\n",
              "          (0): Conv2d(96, 576, kernel_size=(1, 1), stride=(1, 1), bias=False)\n",
              "          (1): BatchNorm2d(576, eps=1e-05, momentum=0.1, affine=True, track_running_stats=True)\n",
              "          (2): ReLU6(inplace=True)\n",
              "        )\n",
              "        (1): Conv2dNormActivation(\n",
              "          (0): Conv2d(576, 576, kernel_size=(3, 3), stride=(1, 1), padding=(1, 1), groups=576, bias=False)\n",
              "          (1): BatchNorm2d(576, eps=1e-05, momentum=0.1, affine=True, track_running_stats=True)\n",
              "          (2): ReLU6(inplace=True)\n",
              "        )\n",
              "        (2): Conv2d(576, 96, kernel_size=(1, 1), stride=(1, 1), bias=False)\n",
              "        (3): BatchNorm2d(96, eps=1e-05, momentum=0.1, affine=True, track_running_stats=True)\n",
              "      )\n",
              "    )\n",
              "    (14): InvertedResidual(\n",
              "      (conv): Sequential(\n",
              "        (0): Conv2dNormActivation(\n",
              "          (0): Conv2d(96, 576, kernel_size=(1, 1), stride=(1, 1), bias=False)\n",
              "          (1): BatchNorm2d(576, eps=1e-05, momentum=0.1, affine=True, track_running_stats=True)\n",
              "          (2): ReLU6(inplace=True)\n",
              "        )\n",
              "        (1): Conv2dNormActivation(\n",
              "          (0): Conv2d(576, 576, kernel_size=(3, 3), stride=(2, 2), padding=(1, 1), groups=576, bias=False)\n",
              "          (1): BatchNorm2d(576, eps=1e-05, momentum=0.1, affine=True, track_running_stats=True)\n",
              "          (2): ReLU6(inplace=True)\n",
              "        )\n",
              "        (2): Conv2d(576, 160, kernel_size=(1, 1), stride=(1, 1), bias=False)\n",
              "        (3): BatchNorm2d(160, eps=1e-05, momentum=0.1, affine=True, track_running_stats=True)\n",
              "      )\n",
              "    )\n",
              "    (15): InvertedResidual(\n",
              "      (conv): Sequential(\n",
              "        (0): Conv2dNormActivation(\n",
              "          (0): Conv2d(160, 960, kernel_size=(1, 1), stride=(1, 1), bias=False)\n",
              "          (1): BatchNorm2d(960, eps=1e-05, momentum=0.1, affine=True, track_running_stats=True)\n",
              "          (2): ReLU6(inplace=True)\n",
              "        )\n",
              "        (1): Conv2dNormActivation(\n",
              "          (0): Conv2d(960, 960, kernel_size=(3, 3), stride=(1, 1), padding=(1, 1), groups=960, bias=False)\n",
              "          (1): BatchNorm2d(960, eps=1e-05, momentum=0.1, affine=True, track_running_stats=True)\n",
              "          (2): ReLU6(inplace=True)\n",
              "        )\n",
              "        (2): Conv2d(960, 160, kernel_size=(1, 1), stride=(1, 1), bias=False)\n",
              "        (3): BatchNorm2d(160, eps=1e-05, momentum=0.1, affine=True, track_running_stats=True)\n",
              "      )\n",
              "    )\n",
              "    (16): InvertedResidual(\n",
              "      (conv): Sequential(\n",
              "        (0): Conv2dNormActivation(\n",
              "          (0): Conv2d(160, 960, kernel_size=(1, 1), stride=(1, 1), bias=False)\n",
              "          (1): BatchNorm2d(960, eps=1e-05, momentum=0.1, affine=True, track_running_stats=True)\n",
              "          (2): ReLU6(inplace=True)\n",
              "        )\n",
              "        (1): Conv2dNormActivation(\n",
              "          (0): Conv2d(960, 960, kernel_size=(3, 3), stride=(1, 1), padding=(1, 1), groups=960, bias=False)\n",
              "          (1): BatchNorm2d(960, eps=1e-05, momentum=0.1, affine=True, track_running_stats=True)\n",
              "          (2): ReLU6(inplace=True)\n",
              "        )\n",
              "        (2): Conv2d(960, 160, kernel_size=(1, 1), stride=(1, 1), bias=False)\n",
              "        (3): BatchNorm2d(160, eps=1e-05, momentum=0.1, affine=True, track_running_stats=True)\n",
              "      )\n",
              "    )\n",
              "    (17): InvertedResidual(\n",
              "      (conv): Sequential(\n",
              "        (0): Conv2dNormActivation(\n",
              "          (0): Conv2d(160, 960, kernel_size=(1, 1), stride=(1, 1), bias=False)\n",
              "          (1): BatchNorm2d(960, eps=1e-05, momentum=0.1, affine=True, track_running_stats=True)\n",
              "          (2): ReLU6(inplace=True)\n",
              "        )\n",
              "        (1): Conv2dNormActivation(\n",
              "          (0): Conv2d(960, 960, kernel_size=(3, 3), stride=(1, 1), padding=(1, 1), groups=960, bias=False)\n",
              "          (1): BatchNorm2d(960, eps=1e-05, momentum=0.1, affine=True, track_running_stats=True)\n",
              "          (2): ReLU6(inplace=True)\n",
              "        )\n",
              "        (2): Conv2d(960, 320, kernel_size=(1, 1), stride=(1, 1), bias=False)\n",
              "        (3): BatchNorm2d(320, eps=1e-05, momentum=0.1, affine=True, track_running_stats=True)\n",
              "      )\n",
              "    )\n",
              "    (18): Conv2dNormActivation(\n",
              "      (0): Conv2d(320, 1280, kernel_size=(1, 1), stride=(1, 1), bias=False)\n",
              "      (1): BatchNorm2d(1280, eps=1e-05, momentum=0.1, affine=True, track_running_stats=True)\n",
              "      (2): ReLU6(inplace=True)\n",
              "    )\n",
              "  )\n",
              "  (classifier): Sequential(\n",
              "    (0): Dropout(p=0.2, inplace=False)\n",
              "    (1): Linear(in_features=1280, out_features=1000, bias=True)\n",
              "  )\n",
              ")"
            ]
          },
          "metadata": {},
          "execution_count": 8
        }
      ]
    },
    {
      "cell_type": "code",
      "source": [
        "path_to_dataset = \"imagenetv2-threshold0.7-format-val\"\n",
        "\n",
        "dataset = torchvision.datasets.ImageFolder(root=path_to_dataset,\n",
        "                                            transform=T.Compose([T.Resize(256),\n",
        "                                                                 T.CenterCrop(224),\n",
        "                                                                 T.ToTensor(),\n",
        "                                                                 T.Normalize(mean=[0.485, 0.456, 0.406],\n",
        "                                                                            std=[0.229, 0.224, 0.225])]))"
      ],
      "metadata": {
        "id": "FbrvkmeqDYY2"
      },
      "execution_count": null,
      "outputs": []
    },
    {
      "cell_type": "code",
      "source": [
        "dataset_size = len(dataset)\n",
        "print(\"Dateset Size: \", dataset_size)\n",
        "classes = dataset.classes\n",
        "print(\"Classes: \", classes[0:10])"
      ],
      "metadata": {
        "colab": {
          "base_uri": "https://localhost:8080/"
        },
        "id": "8xbf9i2N-qmQ",
        "outputId": "50ae4188-bd94-4d86-c819-2f84a664e1f0"
      },
      "execution_count": null,
      "outputs": [
        {
          "output_type": "stream",
          "name": "stdout",
          "text": [
            "Dateset Size:  10000\n",
            "Classes:  ['0', '1', '10', '100', '101', '102', '103', '104', '105', '106']\n"
          ]
        }
      ]
    },
    {
      "cell_type": "code",
      "source": [
        "img, label = dataset[1]\n",
        "img_shape = img.shape\n",
        "img_shape"
      ],
      "metadata": {
        "colab": {
          "base_uri": "https://localhost:8080/"
        },
        "id": "bN6Cpl2n_R6j",
        "outputId": "deeb3719-9481-4b46-a805-b631cf7a7d9e"
      },
      "execution_count": null,
      "outputs": [
        {
          "output_type": "execute_result",
          "data": {
            "text/plain": [
              "torch.Size([3, 224, 224])"
            ]
          },
          "metadata": {},
          "execution_count": 11
        }
      ]
    },
    {
      "cell_type": "code",
      "source": [
        "img, label = dataset[0]\n",
        "plt.imshow(img.permute((1, 2, 0)))\n",
        "print('Label (numeric):', label)\n",
        "print('Label (textual):', classes[label])\n",
        "print(type(img))\n",
        "print(img.size())"
      ],
      "metadata": {
        "colab": {
          "base_uri": "https://localhost:8080/",
          "height": 356
        },
        "id": "hkjDPeLS_SsA",
        "outputId": "5dee8e55-0ded-44a3-9803-a5dd29269418"
      },
      "execution_count": null,
      "outputs": [
        {
          "output_type": "stream",
          "name": "stderr",
          "text": [
            "WARNING:matplotlib.image:Clipping input data to the valid range for imshow with RGB data ([0..1] for floats or [0..255] for integers).\n"
          ]
        },
        {
          "output_type": "stream",
          "name": "stdout",
          "text": [
            "Label (numeric): 0\n",
            "Label (textual): 0\n",
            "<class 'torch.Tensor'>\n",
            "torch.Size([3, 224, 224])\n"
          ]
        },
        {
          "output_type": "display_data",
          "data": {
            "text/plain": [
              "<Figure size 432x288 with 1 Axes>"
            ],
            "image/png": "[encoded data removed]"
          },
          "metadata": {
            "needs_background": "light"
          }
        }
      ]
    },
    {
      "cell_type": "code",
      "source": [
        "torch.manual_seed(1234)\n",
        "BATCH_SIZE= 50\n",
        "train_loader = torch.utils.data.DataLoader(dataset, batch_size=BATCH_SIZE, shuffle=True, num_workers=4)"
      ],
      "metadata": {
        "id": "tgWXE5Iz_kcL"
      },
      "execution_count": null,
      "outputs": []
    },
    {
      "cell_type": "code",
      "source": [
        "N_EPOCHS = 100\n",
        "LR = 0.05\n",
        "# LM_c = 4\n",
        "# different values of c: 5, 4, 3, 2, 1, current loss at that stage (loss.item())\n",
        "identity_function = lambda x: x\n",
        "square_function = lambda x: x**2\n",
        "arctan_x_sq_function = lambda x: torch.atan(x**2)\n",
        "fname = \"arctan(x^2)\"\n",
        "# --------------------------------------------\n",
        "criterion = torch.nn.CrossEntropyLoss()\n",
        "# choose different optimizers: RMSProp, Adam\n",
        "optimizer = SGD_IKSA(model.parameters(), lr=LR, function=arctan_x_sq_function, eps_IAKSA = 1)"
      ],
      "metadata": {
        "id": "K2j4wyXm_9gv"
      },
      "execution_count": null,
      "outputs": []
    },
    {
      "cell_type": "code",
      "source": [
        "MAX_ACC = 0\n",
        "\n",
        "for epoch in range(N_EPOCHS):\n",
        "  running_loss = 0\n",
        "  correct = 0\n",
        "  total = 0\n",
        "  for inputs, labels in tqdm(train_loader):\n",
        "    inputs, labels = inputs.to(device), labels.to(device)\n",
        "    optimizer.zero_grad()\n",
        "    outputs = model(inputs)\n",
        "    _, predicted = torch.max(outputs.data, 1)\n",
        "    correct += (predicted == labels).sum().item()\n",
        "    total += labels.size(0)\n",
        "    loss = criterion(outputs, labels)\n",
        "    loss.backward()\n",
        "    LM_c = loss.item()\n",
        "    optimizer.step(LM_c, loss)\n",
        "    running_loss += loss.item()\n",
        "  \n",
        "  train_loss = running_loss / len(train_loader)\n",
        "  accuracy = 100 * correct / total\n",
        "  print(f'Train Loss : {train_loss} ;   Accuracy : {accuracy}%')\n",
        "\n",
        "  if accuracy > MAX_ACC:\n",
        "    torch.save(model, f'{dataset_name}_{optimizer_name}_C=running_loss_f={fname}_{model_ident}_best_train_acc.pt')\n",
        "    MAX_ACC = accuracy"
      ],
      "metadata": {
        "colab": {
          "base_uri": "https://localhost:8080/"
        },
        "id": "Ca7iDpGmBJ-S",
        "outputId": "257f929f-e0d6-4d10-c154-8ddae85b1d65"
      },
      "execution_count": null,
      "outputs": [
        {
          "metadata": {
            "tags": null
          },
          "name": "stderr",
          "output_type": "stream",
          "text": [
            "100%|██████████| 200/200 [12:27<00:00,  3.74s/it]\n"
          ]
        },
        {
          "metadata": {
            "tags": null
          },
          "name": "stdout",
          "output_type": "stream",
          "text": [
            "Train Loss : 6.978603506088257 ;   Accuracy : 0.03%\n"
          ]
        },
        {
          "metadata": {
            "tags": null
          },
          "name": "stderr",
          "output_type": "stream",
          "text": [
            "100%|██████████| 200/200 [00:43<00:00,  4.55it/s]\n"
          ]
        },
        {
          "metadata": {
            "tags": null
          },
          "name": "stdout",
          "output_type": "stream",
          "text": [
            "Train Loss : 6.921710774898529 ;   Accuracy : 0.11%\n"
          ]
        },
        {
          "metadata": {
            "tags": null
          },
          "name": "stderr",
          "output_type": "stream",
          "text": [
            "100%|██████████| 200/200 [00:44<00:00,  4.49it/s]\n"
          ]
        },
        {
          "metadata": {
            "tags": null
          },
          "name": "stdout",
          "output_type": "stream",
          "text": [
            "Train Loss : 6.797751657962799 ;   Accuracy : 0.22%\n"
          ]
        },
        {
          "metadata": {
            "tags": null
          },
          "name": "stderr",
          "output_type": "stream",
          "text": [
            "100%|██████████| 200/200 [00:44<00:00,  4.45it/s]\n"
          ]
        },
        {
          "metadata": {
            "tags": null
          },
          "name": "stdout",
          "output_type": "stream",
          "text": [
            "Train Loss : 6.631357505321502 ;   Accuracy : 0.44%\n"
          ]
        },
        {
          "metadata": {
            "tags": null
          },
          "name": "stderr",
          "output_type": "stream",
          "text": [
            "100%|██████████| 200/200 [00:44<00:00,  4.46it/s]\n"
          ]
        },
        {
          "metadata": {
            "tags": null
          },
          "name": "stdout",
          "output_type": "stream",
          "text": [
            "Train Loss : 6.483363971710205 ;   Accuracy : 0.68%\n"
          ]
        },
        {
          "metadata": {
            "tags": null
          },
          "name": "stderr",
          "output_type": "stream",
          "text": [
            "100%|██████████| 200/200 [00:44<00:00,  4.46it/s]\n"
          ]
        },
        {
          "metadata": {
            "tags": null
          },
          "name": "stdout",
          "output_type": "stream",
          "text": [
            "Train Loss : 6.349595057964325 ;   Accuracy : 0.81%\n"
          ]
        },
        {
          "metadata": {
            "tags": null
          },
          "name": "stderr",
          "output_type": "stream",
          "text": [
            "100%|██████████| 200/200 [00:45<00:00,  4.44it/s]\n"
          ]
        },
        {
          "metadata": {
            "tags": null
          },
          "name": "stdout",
          "output_type": "stream",
          "text": [
            "Train Loss : 6.206154315471649 ;   Accuracy : 1.06%\n"
          ]
        },
        {
          "metadata": {
            "tags": null
          },
          "name": "stderr",
          "output_type": "stream",
          "text": [
            "100%|██████████| 200/200 [00:44<00:00,  4.46it/s]\n"
          ]
        },
        {
          "metadata": {
            "tags": null
          },
          "name": "stdout",
          "output_type": "stream",
          "text": [
            "Train Loss : 6.067469666004181 ;   Accuracy : 1.61%\n"
          ]
        },
        {
          "metadata": {
            "tags": null
          },
          "name": "stderr",
          "output_type": "stream",
          "text": [
            "100%|██████████| 200/200 [00:45<00:00,  4.39it/s]\n"
          ]
        },
        {
          "metadata": {
            "tags": null
          },
          "name": "stdout",
          "output_type": "stream",
          "text": [
            "Train Loss : 5.9365322256088255 ;   Accuracy : 2.04%\n"
          ]
        },
        {
          "metadata": {
            "tags": null
          },
          "name": "stderr",
          "output_type": "stream",
          "text": [
            "100%|██████████| 200/200 [00:44<00:00,  4.48it/s]\n"
          ]
        },
        {
          "metadata": {
            "tags": null
          },
          "name": "stdout",
          "output_type": "stream",
          "text": [
            "Train Loss : 5.8001069784164425 ;   Accuracy : 2.46%\n"
          ]
        },
        {
          "metadata": {
            "tags": null
          },
          "name": "stderr",
          "output_type": "stream",
          "text": [
            "100%|██████████| 200/200 [00:45<00:00,  4.40it/s]\n"
          ]
        },
        {
          "metadata": {
            "tags": null
          },
          "name": "stdout",
          "output_type": "stream",
          "text": [
            "Train Loss : 5.666116704940796 ;   Accuracy : 3.08%\n"
          ]
        },
        {
          "metadata": {
            "tags": null
          },
          "name": "stderr",
          "output_type": "stream",
          "text": [
            "100%|██████████| 200/200 [00:46<00:00,  4.34it/s]\n"
          ]
        },
        {
          "metadata": {
            "tags": null
          },
          "name": "stdout",
          "output_type": "stream",
          "text": [
            "Train Loss : 5.532141687870026 ;   Accuracy : 4.1%\n"
          ]
        },
        {
          "metadata": {
            "tags": null
          },
          "name": "stderr",
          "output_type": "stream",
          "text": [
            "100%|██████████| 200/200 [00:45<00:00,  4.41it/s]\n"
          ]
        },
        {
          "metadata": {
            "tags": null
          },
          "name": "stdout",
          "output_type": "stream",
          "text": [
            "Train Loss : 5.416310448646545 ;   Accuracy : 4.72%\n"
          ]
        },
        {
          "metadata": {
            "tags": null
          },
          "name": "stderr",
          "output_type": "stream",
          "text": [
            "100%|██████████| 200/200 [00:45<00:00,  4.36it/s]\n"
          ]
        },
        {
          "metadata": {
            "tags": null
          },
          "name": "stdout",
          "output_type": "stream",
          "text": [
            "Train Loss : 5.2842649507522585 ;   Accuracy : 5.27%\n"
          ]
        },
        {
          "metadata": {
            "tags": null
          },
          "name": "stderr",
          "output_type": "stream",
          "text": [
            "100%|██████████| 200/200 [00:45<00:00,  4.43it/s]\n"
          ]
        },
        {
          "metadata": {
            "tags": null
          },
          "name": "stdout",
          "output_type": "stream",
          "text": [
            "Train Loss : 5.167864091396332 ;   Accuracy : 5.99%\n"
          ]
        },
        {
          "metadata": {
            "tags": null
          },
          "name": "stderr",
          "output_type": "stream",
          "text": [
            "100%|██████████| 200/200 [00:45<00:00,  4.43it/s]\n"
          ]
        },
        {
          "metadata": {
            "tags": null
          },
          "name": "stdout",
          "output_type": "stream",
          "text": [
            "Train Loss : 5.04525164604187 ;   Accuracy : 7.02%\n"
          ]
        },
        {
          "metadata": {
            "tags": null
          },
          "name": "stderr",
          "output_type": "stream",
          "text": [
            "100%|██████████| 200/200 [00:45<00:00,  4.42it/s]\n"
          ]
        },
        {
          "metadata": {
            "tags": null
          },
          "name": "stdout",
          "output_type": "stream",
          "text": [
            "Train Loss : 4.9091576790809635 ;   Accuracy : 8.21%\n"
          ]
        },
        {
          "metadata": {
            "tags": null
          },
          "name": "stderr",
          "output_type": "stream",
          "text": [
            "100%|██████████| 200/200 [00:45<00:00,  4.41it/s]\n"
          ]
        },
        {
          "metadata": {
            "tags": null
          },
          "name": "stdout",
          "output_type": "stream",
          "text": [
            "Train Loss : 4.792604651451111 ;   Accuracy : 9.16%\n"
          ]
        },
        {
          "metadata": {
            "tags": null
          },
          "name": "stderr",
          "output_type": "stream",
          "text": [
            "100%|██████████| 200/200 [00:45<00:00,  4.36it/s]\n"
          ]
        },
        {
          "metadata": {
            "tags": null
          },
          "name": "stdout",
          "output_type": "stream",
          "text": [
            "Train Loss : 4.670086195468903 ;   Accuracy : 10.44%\n"
          ]
        },
        {
          "metadata": {
            "tags": null
          },
          "name": "stderr",
          "output_type": "stream",
          "text": [
            "100%|██████████| 200/200 [00:45<00:00,  4.44it/s]\n"
          ]
        },
        {
          "metadata": {
            "tags": null
          },
          "name": "stdout",
          "output_type": "stream",
          "text": [
            "Train Loss : 4.543700556755066 ;   Accuracy : 11.37%\n"
          ]
        },
        {
          "metadata": {
            "tags": null
          },
          "name": "stderr",
          "output_type": "stream",
          "text": [
            "100%|██████████| 200/200 [00:45<00:00,  4.44it/s]\n"
          ]
        },
        {
          "metadata": {
            "tags": null
          },
          "name": "stdout",
          "output_type": "stream",
          "text": [
            "Train Loss : 4.4081695997715 ;   Accuracy : 13.06%\n"
          ]
        },
        {
          "metadata": {
            "tags": null
          },
          "name": "stderr",
          "output_type": "stream",
          "text": [
            "100%|██████████| 200/200 [00:46<00:00,  4.32it/s]\n"
          ]
        },
        {
          "metadata": {
            "tags": null
          },
          "name": "stdout",
          "output_type": "stream",
          "text": [
            "Train Loss : 4.282959982156753 ;   Accuracy : 14.87%\n"
          ]
        },
        {
          "metadata": {
            "tags": null
          },
          "name": "stderr",
          "output_type": "stream",
          "text": [
            "100%|██████████| 200/200 [00:45<00:00,  4.40it/s]\n"
          ]
        },
        {
          "metadata": {
            "tags": null
          },
          "name": "stdout",
          "output_type": "stream",
          "text": [
            "Train Loss : 4.132212849855423 ;   Accuracy : 16.27%\n"
          ]
        },
        {
          "metadata": {
            "tags": null
          },
          "name": "stderr",
          "output_type": "stream",
          "text": [
            "100%|██████████| 200/200 [00:45<00:00,  4.40it/s]\n"
          ]
        },
        {
          "metadata": {
            "tags": null
          },
          "name": "stdout",
          "output_type": "stream",
          "text": [
            "Train Loss : 3.9910212779045104 ;   Accuracy : 18.71%\n"
          ]
        },
        {
          "metadata": {
            "tags": null
          },
          "name": "stderr",
          "output_type": "stream",
          "text": [
            "100%|██████████| 200/200 [00:45<00:00,  4.42it/s]\n"
          ]
        },
        {
          "metadata": {
            "tags": null
          },
          "name": "stdout",
          "output_type": "stream",
          "text": [
            "Train Loss : 3.86065212726593 ;   Accuracy : 20.74%\n"
          ]
        },
        {
          "metadata": {
            "tags": null
          },
          "name": "stderr",
          "output_type": "stream",
          "text": [
            "100%|██████████| 200/200 [00:45<00:00,  4.37it/s]\n"
          ]
        },
        {
          "metadata": {
            "tags": null
          },
          "name": "stdout",
          "output_type": "stream",
          "text": [
            "Train Loss : 3.725482404232025 ;   Accuracy : 22.57%\n"
          ]
        },
        {
          "metadata": {
            "tags": null
          },
          "name": "stderr",
          "output_type": "stream",
          "text": [
            "100%|██████████| 200/200 [00:45<00:00,  4.41it/s]\n"
          ]
        },
        {
          "metadata": {
            "tags": null
          },
          "name": "stdout",
          "output_type": "stream",
          "text": [
            "Train Loss : 3.5555936634540557 ;   Accuracy : 24.9%\n"
          ]
        },
        {
          "metadata": {
            "tags": null
          },
          "name": "stderr",
          "output_type": "stream",
          "text": [
            "100%|██████████| 200/200 [00:45<00:00,  4.37it/s]\n"
          ]
        },
        {
          "metadata": {
            "tags": null
          },
          "name": "stdout",
          "output_type": "stream",
          "text": [
            "Train Loss : 3.406595904827118 ;   Accuracy : 27.49%\n"
          ]
        },
        {
          "metadata": {
            "tags": null
          },
          "name": "stderr",
          "output_type": "stream",
          "text": [
            "100%|██████████| 200/200 [00:45<00:00,  4.43it/s]\n"
          ]
        },
        {
          "metadata": {
            "tags": null
          },
          "name": "stdout",
          "output_type": "stream",
          "text": [
            "Train Loss : 3.2754858779907225 ;   Accuracy : 29.81%\n"
          ]
        },
        {
          "metadata": {
            "tags": null
          },
          "name": "stderr",
          "output_type": "stream",
          "text": [
            "100%|██████████| 200/200 [00:45<00:00,  4.43it/s]\n"
          ]
        },
        {
          "metadata": {
            "tags": null
          },
          "name": "stdout",
          "output_type": "stream",
          "text": [
            "Train Loss : 3.0951298987865448 ;   Accuracy : 33.45%\n"
          ]
        },
        {
          "metadata": {
            "tags": null
          },
          "name": "stderr",
          "output_type": "stream",
          "text": [
            "100%|██████████| 200/200 [00:45<00:00,  4.41it/s]\n"
          ]
        },
        {
          "metadata": {
            "tags": null
          },
          "name": "stdout",
          "output_type": "stream",
          "text": [
            "Train Loss : 2.9348147654533387 ;   Accuracy : 36.07%\n"
          ]
        },
        {
          "metadata": {
            "tags": null
          },
          "name": "stderr",
          "output_type": "stream",
          "text": [
            "100%|██████████| 200/200 [00:46<00:00,  4.35it/s]\n"
          ]
        },
        {
          "metadata": {
            "tags": null
          },
          "name": "stdout",
          "output_type": "stream",
          "text": [
            "Train Loss : 2.7862170827388764 ;   Accuracy : 38.81%\n"
          ]
        },
        {
          "metadata": {
            "tags": null
          },
          "name": "stderr",
          "output_type": "stream",
          "text": [
            "100%|██████████| 200/200 [00:46<00:00,  4.33it/s]\n"
          ]
        },
        {
          "metadata": {
            "tags": null
          },
          "name": "stdout",
          "output_type": "stream",
          "text": [
            "Train Loss : 2.6301538640260698 ;   Accuracy : 42.84%\n"
          ]
        },
        {
          "metadata": {
            "tags": null
          },
          "name": "stderr",
          "output_type": "stream",
          "text": [
            "100%|██████████| 200/200 [00:46<00:00,  4.34it/s]\n"
          ]
        },
        {
          "metadata": {
            "tags": null
          },
          "name": "stdout",
          "output_type": "stream",
          "text": [
            "Train Loss : 2.4598628342151643 ;   Accuracy : 45.34%\n"
          ]
        },
        {
          "metadata": {
            "tags": null
          },
          "name": "stderr",
          "output_type": "stream",
          "text": [
            "100%|██████████| 200/200 [00:46<00:00,  4.30it/s]\n"
          ]
        },
        {
          "metadata": {
            "tags": null
          },
          "name": "stdout",
          "output_type": "stream",
          "text": [
            "Train Loss : 2.2694074565172198 ;   Accuracy : 50.43%\n"
          ]
        },
        {
          "metadata": {
            "tags": null
          },
          "name": "stderr",
          "output_type": "stream",
          "text": [
            "100%|██████████| 200/200 [00:45<00:00,  4.36it/s]\n"
          ]
        },
        {
          "metadata": {
            "tags": null
          },
          "name": "stdout",
          "output_type": "stream",
          "text": [
            "Train Loss : 2.090635195374489 ;   Accuracy : 54.28%\n"
          ]
        },
        {
          "metadata": {
            "tags": null
          },
          "name": "stderr",
          "output_type": "stream",
          "text": [
            "100%|██████████| 200/200 [00:45<00:00,  4.39it/s]\n"
          ]
        },
        {
          "metadata": {
            "tags": null
          },
          "name": "stdout",
          "output_type": "stream",
          "text": [
            "Train Loss : 1.9666289043426515 ;   Accuracy : 56.58%\n"
          ]
        },
        {
          "metadata": {
            "tags": null
          },
          "name": "stderr",
          "output_type": "stream",
          "text": [
            "100%|██████████| 200/200 [00:45<00:00,  4.36it/s]\n"
          ]
        },
        {
          "metadata": {
            "tags": null
          },
          "name": "stdout",
          "output_type": "stream",
          "text": [
            "Train Loss : 1.7871092009544371 ;   Accuracy : 61.55%\n"
          ]
        },
        {
          "metadata": {
            "tags": null
          },
          "name": "stderr",
          "output_type": "stream",
          "text": [
            "100%|██████████| 200/200 [00:45<00:00,  4.38it/s]\n"
          ]
        },
        {
          "metadata": {
            "tags": null
          },
          "name": "stdout",
          "output_type": "stream",
          "text": [
            "Train Loss : 1.6201005619764328 ;   Accuracy : 65.31%\n"
          ]
        },
        {
          "metadata": {
            "tags": null
          },
          "name": "stderr",
          "output_type": "stream",
          "text": [
            "100%|██████████| 200/200 [00:45<00:00,  4.35it/s]\n"
          ]
        },
        {
          "metadata": {
            "tags": null
          },
          "name": "stdout",
          "output_type": "stream",
          "text": [
            "Train Loss : 1.4754870730638503 ;   Accuracy : 68.48%\n"
          ]
        },
        {
          "metadata": {
            "tags": null
          },
          "name": "stderr",
          "output_type": "stream",
          "text": [
            "100%|██████████| 200/200 [00:46<00:00,  4.32it/s]\n"
          ]
        },
        {
          "metadata": {
            "tags": null
          },
          "name": "stdout",
          "output_type": "stream",
          "text": [
            "Train Loss : 1.2891243103146552 ;   Accuracy : 73.29%\n"
          ]
        },
        {
          "metadata": {
            "tags": null
          },
          "name": "stderr",
          "output_type": "stream",
          "text": [
            "100%|██████████| 200/200 [00:45<00:00,  4.36it/s]\n"
          ]
        },
        {
          "metadata": {
            "tags": null
          },
          "name": "stdout",
          "output_type": "stream",
          "text": [
            "Train Loss : 1.1333194327354432 ;   Accuracy : 77.57%\n"
          ]
        },
        {
          "metadata": {
            "tags": null
          },
          "name": "stderr",
          "output_type": "stream",
          "text": [
            "100%|██████████| 200/200 [00:45<00:00,  4.44it/s]\n"
          ]
        },
        {
          "metadata": {
            "tags": null
          },
          "name": "stdout",
          "output_type": "stream",
          "text": [
            "Train Loss : 0.9943822875618935 ;   Accuracy : 81.11%\n"
          ]
        },
        {
          "metadata": {
            "tags": null
          },
          "name": "stderr",
          "output_type": "stream",
          "text": [
            "100%|██████████| 200/200 [00:44<00:00,  4.46it/s]\n"
          ]
        },
        {
          "metadata": {
            "tags": null
          },
          "name": "stdout",
          "output_type": "stream",
          "text": [
            "Train Loss : 0.8411568166315555 ;   Accuracy : 85.35%\n"
          ]
        },
        {
          "metadata": {
            "tags": null
          },
          "name": "stderr",
          "output_type": "stream",
          "text": [
            "100%|██████████| 200/200 [00:44<00:00,  4.46it/s]\n"
          ]
        },
        {
          "metadata": {
            "tags": null
          },
          "name": "stdout",
          "output_type": "stream",
          "text": [
            "Train Loss : 0.7005587339401245 ;   Accuracy : 88.73%\n"
          ]
        },
        {
          "metadata": {
            "tags": null
          },
          "name": "stderr",
          "output_type": "stream",
          "text": [
            "100%|██████████| 200/200 [00:45<00:00,  4.39it/s]\n"
          ]
        },
        {
          "metadata": {
            "tags": null
          },
          "name": "stdout",
          "output_type": "stream",
          "text": [
            "Train Loss : 0.5912590140104294 ;   Accuracy : 91.49%\n"
          ]
        },
        {
          "metadata": {
            "tags": null
          },
          "name": "stderr",
          "output_type": "stream",
          "text": [
            "100%|██████████| 200/200 [00:45<00:00,  4.38it/s]\n"
          ]
        },
        {
          "metadata": {
            "tags": null
          },
          "name": "stdout",
          "output_type": "stream",
          "text": [
            "Train Loss : 0.4757001327723265 ;   Accuracy : 93.61%\n"
          ]
        },
        {
          "metadata": {
            "tags": null
          },
          "name": "stderr",
          "output_type": "stream",
          "text": [
            "100%|██████████| 200/200 [00:44<00:00,  4.49it/s]\n"
          ]
        },
        {
          "metadata": {
            "tags": null
          },
          "name": "stdout",
          "output_type": "stream",
          "text": [
            "Train Loss : 0.39282447963953016 ;   Accuracy : 95.62%\n"
          ]
        },
        {
          "metadata": {
            "tags": null
          },
          "name": "stderr",
          "output_type": "stream",
          "text": [
            "100%|██████████| 200/200 [00:45<00:00,  4.41it/s]\n"
          ]
        },
        {
          "metadata": {
            "tags": null
          },
          "name": "stdout",
          "output_type": "stream",
          "text": [
            "Train Loss : 0.3250061821192503 ;   Accuracy : 96.5%\n"
          ]
        },
        {
          "metadata": {
            "tags": null
          },
          "name": "stderr",
          "output_type": "stream",
          "text": [
            "100%|██████████| 200/200 [00:45<00:00,  4.40it/s]\n"
          ]
        },
        {
          "metadata": {
            "tags": null
          },
          "name": "stdout",
          "output_type": "stream",
          "text": [
            "Train Loss : 0.25971648149192333 ;   Accuracy : 97.7%\n"
          ]
        },
        {
          "metadata": {
            "tags": null
          },
          "name": "stderr",
          "output_type": "stream",
          "text": [
            "100%|██████████| 200/200 [00:45<00:00,  4.44it/s]\n"
          ]
        },
        {
          "metadata": {
            "tags": null
          },
          "name": "stdout",
          "output_type": "stream",
          "text": [
            "Train Loss : 0.2364516004920006 ;   Accuracy : 98.02%\n"
          ]
        },
        {
          "metadata": {
            "tags": null
          },
          "name": "stderr",
          "output_type": "stream",
          "text": [
            "100%|██████████| 200/200 [00:45<00:00,  4.42it/s]\n"
          ]
        },
        {
          "metadata": {
            "tags": null
          },
          "name": "stdout",
          "output_type": "stream",
          "text": [
            "Train Loss : 0.18573813002556563 ;   Accuracy : 98.75%\n"
          ]
        },
        {
          "output_type": "stream",
          "name": "stderr",
          "text": [
            "100%|██████████| 200/200 [00:45<00:00,  4.41it/s]\n"
          ]
        },
        {
          "output_type": "stream",
          "name": "stdout",
          "text": [
            "Train Loss : 0.1468131808191538 ;   Accuracy : 99.27%\n"
          ]
        },
        {
          "output_type": "stream",
          "name": "stderr",
          "text": [
            "100%|██████████| 200/200 [00:45<00:00,  4.36it/s]\n"
          ]
        },
        {
          "output_type": "stream",
          "name": "stdout",
          "text": [
            "Train Loss : 0.11567685171961785 ;   Accuracy : 99.56%\n"
          ]
        },
        {
          "output_type": "stream",
          "name": "stderr",
          "text": [
            "100%|██████████| 200/200 [00:45<00:00,  4.41it/s]\n"
          ]
        },
        {
          "output_type": "stream",
          "name": "stdout",
          "text": [
            "Train Loss : 0.09949219968169927 ;   Accuracy : 99.73%\n"
          ]
        },
        {
          "output_type": "stream",
          "name": "stderr",
          "text": [
            "100%|██████████| 200/200 [00:45<00:00,  4.38it/s]\n"
          ]
        },
        {
          "output_type": "stream",
          "name": "stdout",
          "text": [
            "Train Loss : 0.0904192054644227 ;   Accuracy : 99.59%\n"
          ]
        },
        {
          "output_type": "stream",
          "name": "stderr",
          "text": [
            "100%|██████████| 200/200 [00:45<00:00,  4.39it/s]\n"
          ]
        },
        {
          "output_type": "stream",
          "name": "stdout",
          "text": [
            "Train Loss : 0.08546070565469563 ;   Accuracy : 99.74%\n"
          ]
        },
        {
          "output_type": "stream",
          "name": "stderr",
          "text": [
            "100%|██████████| 200/200 [00:45<00:00,  4.41it/s]\n"
          ]
        },
        {
          "output_type": "stream",
          "name": "stdout",
          "text": [
            "Train Loss : 0.07937006864696741 ;   Accuracy : 99.72%\n"
          ]
        },
        {
          "output_type": "stream",
          "name": "stderr",
          "text": [
            "100%|██████████| 200/200 [00:45<00:00,  4.36it/s]\n"
          ]
        },
        {
          "output_type": "stream",
          "name": "stdout",
          "text": [
            "Train Loss : 0.06663651718758047 ;   Accuracy : 99.84%\n"
          ]
        },
        {
          "output_type": "stream",
          "name": "stderr",
          "text": [
            "100%|██████████| 200/200 [00:46<00:00,  4.35it/s]\n"
          ]
        },
        {
          "output_type": "stream",
          "name": "stdout",
          "text": [
            "Train Loss : 0.05335711471736431 ;   Accuracy : 99.96%\n"
          ]
        },
        {
          "output_type": "stream",
          "name": "stderr",
          "text": [
            "100%|██████████| 200/200 [00:45<00:00,  4.40it/s]\n"
          ]
        },
        {
          "output_type": "stream",
          "name": "stdout",
          "text": [
            "Train Loss : 0.0515242156945169 ;   Accuracy : 99.91%\n"
          ]
        },
        {
          "output_type": "stream",
          "name": "stderr",
          "text": [
            "100%|██████████| 200/200 [00:45<00:00,  4.35it/s]\n"
          ]
        },
        {
          "output_type": "stream",
          "name": "stdout",
          "text": [
            "Train Loss : 0.051013902155682446 ;   Accuracy : 99.9%\n"
          ]
        },
        {
          "output_type": "stream",
          "name": "stderr",
          "text": [
            "100%|██████████| 200/200 [00:45<00:00,  4.40it/s]\n"
          ]
        },
        {
          "output_type": "stream",
          "name": "stdout",
          "text": [
            "Train Loss : 0.04627931229770184 ;   Accuracy : 99.93%\n"
          ]
        },
        {
          "output_type": "stream",
          "name": "stderr",
          "text": [
            "100%|██████████| 200/200 [00:44<00:00,  4.46it/s]\n"
          ]
        },
        {
          "output_type": "stream",
          "name": "stdout",
          "text": [
            "Train Loss : 0.040746631771326064 ;   Accuracy : 99.97%\n"
          ]
        },
        {
          "output_type": "stream",
          "name": "stderr",
          "text": [
            "100%|██████████| 200/200 [00:45<00:00,  4.36it/s]\n"
          ]
        },
        {
          "output_type": "stream",
          "name": "stdout",
          "text": [
            "Train Loss : 0.03748746000695974 ;   Accuracy : 99.92%\n"
          ]
        },
        {
          "output_type": "stream",
          "name": "stderr",
          "text": [
            "100%|██████████| 200/200 [00:46<00:00,  4.29it/s]\n"
          ]
        },
        {
          "output_type": "stream",
          "name": "stdout",
          "text": [
            "Train Loss : 0.03451794036664069 ;   Accuracy : 100.0%\n"
          ]
        },
        {
          "output_type": "stream",
          "name": "stderr",
          "text": [
            "100%|██████████| 200/200 [00:45<00:00,  4.41it/s]\n"
          ]
        },
        {
          "output_type": "stream",
          "name": "stdout",
          "text": [
            "Train Loss : 0.03701739058829844 ;   Accuracy : 99.93%\n"
          ]
        },
        {
          "output_type": "stream",
          "name": "stderr",
          "text": [
            "100%|██████████| 200/200 [00:44<00:00,  4.45it/s]\n"
          ]
        },
        {
          "output_type": "stream",
          "name": "stdout",
          "text": [
            "Train Loss : 0.032160832532681524 ;   Accuracy : 99.98%\n"
          ]
        },
        {
          "output_type": "stream",
          "name": "stderr",
          "text": [
            "100%|██████████| 200/200 [00:45<00:00,  4.40it/s]\n"
          ]
        },
        {
          "output_type": "stream",
          "name": "stdout",
          "text": [
            "Train Loss : 0.03898369074333459 ;   Accuracy : 99.79%\n"
          ]
        },
        {
          "output_type": "stream",
          "name": "stderr",
          "text": [
            "100%|██████████| 200/200 [00:45<00:00,  4.41it/s]\n"
          ]
        },
        {
          "output_type": "stream",
          "name": "stdout",
          "text": [
            "Train Loss : 0.03174175525084138 ;   Accuracy : 99.96%\n"
          ]
        },
        {
          "output_type": "stream",
          "name": "stderr",
          "text": [
            "100%|██████████| 200/200 [00:44<00:00,  4.47it/s]\n"
          ]
        },
        {
          "output_type": "stream",
          "name": "stdout",
          "text": [
            "Train Loss : 0.030030150124803187 ;   Accuracy : 99.96%\n"
          ]
        },
        {
          "output_type": "stream",
          "name": "stderr",
          "text": [
            "100%|██████████| 200/200 [00:45<00:00,  4.36it/s]\n"
          ]
        },
        {
          "output_type": "stream",
          "name": "stdout",
          "text": [
            "Train Loss : 0.029019331918098034 ;   Accuracy : 99.92%\n"
          ]
        },
        {
          "output_type": "stream",
          "name": "stderr",
          "text": [
            "100%|██████████| 200/200 [00:46<00:00,  4.34it/s]\n"
          ]
        },
        {
          "output_type": "stream",
          "name": "stdout",
          "text": [
            "Train Loss : 0.028246457576751708 ;   Accuracy : 99.95%\n"
          ]
        },
        {
          "output_type": "stream",
          "name": "stderr",
          "text": [
            "100%|██████████| 200/200 [00:45<00:00,  4.41it/s]\n"
          ]
        },
        {
          "output_type": "stream",
          "name": "stdout",
          "text": [
            "Train Loss : 0.027387703633867205 ;   Accuracy : 99.96%\n"
          ]
        },
        {
          "output_type": "stream",
          "name": "stderr",
          "text": [
            "100%|██████████| 200/200 [00:45<00:00,  4.44it/s]\n"
          ]
        },
        {
          "output_type": "stream",
          "name": "stdout",
          "text": [
            "Train Loss : 0.023370305644348263 ;   Accuracy : 99.99%\n"
          ]
        },
        {
          "output_type": "stream",
          "name": "stderr",
          "text": [
            "100%|██████████| 200/200 [00:45<00:00,  4.36it/s]\n"
          ]
        },
        {
          "output_type": "stream",
          "name": "stdout",
          "text": [
            "Train Loss : 0.025377163947559893 ;   Accuracy : 99.97%\n"
          ]
        },
        {
          "output_type": "stream",
          "name": "stderr",
          "text": [
            "100%|██████████| 200/200 [00:47<00:00,  4.24it/s]\n"
          ]
        },
        {
          "output_type": "stream",
          "name": "stdout",
          "text": [
            "Train Loss : 0.022516840226016938 ;   Accuracy : 99.98%\n"
          ]
        },
        {
          "output_type": "stream",
          "name": "stderr",
          "text": [
            "100%|██████████| 200/200 [00:45<00:00,  4.43it/s]\n"
          ]
        },
        {
          "output_type": "stream",
          "name": "stdout",
          "text": [
            "Train Loss : 0.023259796584025026 ;   Accuracy : 99.97%\n"
          ]
        },
        {
          "output_type": "stream",
          "name": "stderr",
          "text": [
            "100%|██████████| 200/200 [00:45<00:00,  4.37it/s]\n"
          ]
        },
        {
          "output_type": "stream",
          "name": "stdout",
          "text": [
            "Train Loss : 0.020914054666645823 ;   Accuracy : 99.99%\n"
          ]
        },
        {
          "output_type": "stream",
          "name": "stderr",
          "text": [
            "100%|██████████| 200/200 [00:46<00:00,  4.30it/s]\n"
          ]
        },
        {
          "output_type": "stream",
          "name": "stdout",
          "text": [
            "Train Loss : 0.01940759913995862 ;   Accuracy : 100.0%\n"
          ]
        },
        {
          "output_type": "stream",
          "name": "stderr",
          "text": [
            "100%|██████████| 200/200 [00:45<00:00,  4.40it/s]\n"
          ]
        },
        {
          "output_type": "stream",
          "name": "stdout",
          "text": [
            "Train Loss : 0.020674433920066803 ;   Accuracy : 99.97%\n"
          ]
        },
        {
          "output_type": "stream",
          "name": "stderr",
          "text": [
            "100%|██████████| 200/200 [00:45<00:00,  4.43it/s]\n"
          ]
        },
        {
          "output_type": "stream",
          "name": "stdout",
          "text": [
            "Train Loss : 0.019140242671128363 ;   Accuracy : 99.95%\n"
          ]
        },
        {
          "output_type": "stream",
          "name": "stderr",
          "text": [
            "100%|██████████| 200/200 [00:45<00:00,  4.38it/s]\n"
          ]
        },
        {
          "output_type": "stream",
          "name": "stdout",
          "text": [
            "Train Loss : 0.01843086738139391 ;   Accuracy : 99.99%\n"
          ]
        },
        {
          "output_type": "stream",
          "name": "stderr",
          "text": [
            "100%|██████████| 200/200 [00:45<00:00,  4.38it/s]\n"
          ]
        },
        {
          "output_type": "stream",
          "name": "stdout",
          "text": [
            "Train Loss : 0.01973305326886475 ;   Accuracy : 99.97%\n"
          ]
        },
        {
          "output_type": "stream",
          "name": "stderr",
          "text": [
            "100%|██████████| 200/200 [00:45<00:00,  4.43it/s]\n"
          ]
        },
        {
          "output_type": "stream",
          "name": "stdout",
          "text": [
            "Train Loss : 0.017599464256782084 ;   Accuracy : 99.98%\n"
          ]
        },
        {
          "output_type": "stream",
          "name": "stderr",
          "text": [
            "100%|██████████| 200/200 [00:46<00:00,  4.33it/s]\n"
          ]
        },
        {
          "output_type": "stream",
          "name": "stdout",
          "text": [
            "Train Loss : 0.017496057096868755 ;   Accuracy : 100.0%\n"
          ]
        },
        {
          "output_type": "stream",
          "name": "stderr",
          "text": [
            "100%|██████████| 200/200 [00:45<00:00,  4.37it/s]\n"
          ]
        },
        {
          "output_type": "stream",
          "name": "stdout",
          "text": [
            "Train Loss : 0.017490311574656515 ;   Accuracy : 99.97%\n"
          ]
        },
        {
          "output_type": "stream",
          "name": "stderr",
          "text": [
            "100%|██████████| 200/200 [00:45<00:00,  4.36it/s]\n"
          ]
        },
        {
          "output_type": "stream",
          "name": "stdout",
          "text": [
            "Train Loss : 0.015737499988172202 ;   Accuracy : 100.0%\n"
          ]
        },
        {
          "output_type": "stream",
          "name": "stderr",
          "text": [
            "100%|██████████| 200/200 [00:45<00:00,  4.44it/s]\n"
          ]
        },
        {
          "output_type": "stream",
          "name": "stdout",
          "text": [
            "Train Loss : 0.014559479849413037 ;   Accuracy : 99.98%\n"
          ]
        },
        {
          "output_type": "stream",
          "name": "stderr",
          "text": [
            "100%|██████████| 200/200 [00:45<00:00,  4.39it/s]\n"
          ]
        },
        {
          "output_type": "stream",
          "name": "stdout",
          "text": [
            "Train Loss : 0.01885909166187048 ;   Accuracy : 99.94%\n"
          ]
        },
        {
          "output_type": "stream",
          "name": "stderr",
          "text": [
            "100%|██████████| 200/200 [00:45<00:00,  4.35it/s]\n"
          ]
        },
        {
          "output_type": "stream",
          "name": "stdout",
          "text": [
            "Train Loss : 0.0159799653547816 ;   Accuracy : 99.99%\n"
          ]
        },
        {
          "output_type": "stream",
          "name": "stderr",
          "text": [
            "100%|██████████| 200/200 [00:45<00:00,  4.37it/s]\n"
          ]
        },
        {
          "output_type": "stream",
          "name": "stdout",
          "text": [
            "Train Loss : 0.014124988454859704 ;   Accuracy : 99.99%\n"
          ]
        },
        {
          "output_type": "stream",
          "name": "stderr",
          "text": [
            "100%|██████████| 200/200 [00:45<00:00,  4.40it/s]\n"
          ]
        },
        {
          "output_type": "stream",
          "name": "stdout",
          "text": [
            "Train Loss : 0.0158992180461064 ;   Accuracy : 99.99%\n"
          ]
        },
        {
          "output_type": "stream",
          "name": "stderr",
          "text": [
            "100%|██████████| 200/200 [00:46<00:00,  4.31it/s]\n"
          ]
        },
        {
          "output_type": "stream",
          "name": "stdout",
          "text": [
            "Train Loss : 0.014237205926328898 ;   Accuracy : 99.99%\n"
          ]
        },
        {
          "output_type": "stream",
          "name": "stderr",
          "text": [
            "100%|██████████| 200/200 [00:46<00:00,  4.29it/s]\n"
          ]
        },
        {
          "output_type": "stream",
          "name": "stdout",
          "text": [
            "Train Loss : 0.013130675500724465 ;   Accuracy : 99.98%\n"
          ]
        },
        {
          "output_type": "stream",
          "name": "stderr",
          "text": [
            "100%|██████████| 200/200 [00:46<00:00,  4.32it/s]\n"
          ]
        },
        {
          "output_type": "stream",
          "name": "stdout",
          "text": [
            "Train Loss : 0.013241032375954092 ;   Accuracy : 99.99%\n"
          ]
        },
        {
          "output_type": "stream",
          "name": "stderr",
          "text": [
            "100%|██████████| 200/200 [00:46<00:00,  4.34it/s]\n"
          ]
        },
        {
          "output_type": "stream",
          "name": "stdout",
          "text": [
            "Train Loss : 0.014156003098469228 ;   Accuracy : 99.98%\n"
          ]
        },
        {
          "output_type": "stream",
          "name": "stderr",
          "text": [
            "100%|██████████| 200/200 [00:45<00:00,  4.39it/s]\n"
          ]
        },
        {
          "output_type": "stream",
          "name": "stdout",
          "text": [
            "Train Loss : 0.013181797708384693 ;   Accuracy : 100.0%\n"
          ]
        },
        {
          "output_type": "stream",
          "name": "stderr",
          "text": [
            "100%|██████████| 200/200 [00:45<00:00,  4.36it/s]\n"
          ]
        },
        {
          "output_type": "stream",
          "name": "stdout",
          "text": [
            "Train Loss : 0.012662501728627831 ;   Accuracy : 99.99%\n"
          ]
        },
        {
          "output_type": "stream",
          "name": "stderr",
          "text": [
            "100%|██████████| 200/200 [00:45<00:00,  4.43it/s]"
          ]
        },
        {
          "output_type": "stream",
          "name": "stdout",
          "text": [
            "Train Loss : 0.012669467732775956 ;   Accuracy : 99.99%\n"
          ]
        },
        {
          "output_type": "stream",
          "name": "stderr",
          "text": [
            "\n"
          ]
        }
      ]
    },
    {
      "cell_type": "markdown",
      "source": [
        "The values of C to use should be 7, 6, 5, 4, 3, 2, 1, running_loss"
      ],
      "metadata": {
        "id": "FstPxomIOA4f"
      }
    },
    {
      "cell_type": "code",
      "source": [
        "MDL = torch.load(f'{dataset_name}_{optimizer_name}_C=running_loss_f={fname}_{model_ident}_best_train_acc.pt', map_location=torch.device('cpu')).eval()\n",
        "MDL = MDL.to('cuda')"
      ],
      "metadata": {
        "id": "C70MZImCBKA-"
      },
      "execution_count": null,
      "outputs": []
    },
    {
      "cell_type": "code",
      "source": [
        "# EVALUATE THE ACCURACY OF THE SAVED MODEL\n",
        "correct = 0\n",
        "total = 0\n",
        "for inputs, labels in tqdm(train_loader):\n",
        "  inputs, labels = inputs.to('cuda'), labels.to('cuda')\n",
        "  outputs = MDL(inputs)\n",
        "  correct += (outputs.argmax(axis=1)==labels).sum().item()\n",
        "  total += labels.size(0)\n",
        "  # del MDL, inputs, labels\n",
        "  torch.cuda.empty_cache()\n",
        "  \n",
        "accuracy = 100. * correct / total\n",
        "print('Train Accuracy: %.2f \\n'%accuracy)"
      ],
      "metadata": {
        "colab": {
          "base_uri": "https://localhost:8080/"
        },
        "id": "opyNb3GPBKDu",
        "outputId": "b8dddae7-5cca-4aa8-f746-db2701a5a917"
      },
      "execution_count": null,
      "outputs": [
        {
          "output_type": "stream",
          "name": "stderr",
          "text": [
            "100%|██████████| 200/200 [00:42<00:00,  4.73it/s]"
          ]
        },
        {
          "output_type": "stream",
          "name": "stdout",
          "text": [
            "Train Accuracy: 100.00 \n",
            "\n"
          ]
        },
        {
          "output_type": "stream",
          "name": "stderr",
          "text": [
            "\n"
          ]
        }
      ]
    },
    {
      "cell_type": "code",
      "source": [
        "def init_directions(model):\n",
        "    noises = []\n",
        "\n",
        "    n_params = 0\n",
        "    for name, param in model.named_parameters():\n",
        "        delta = torch.normal(.0, 1., size=param.size())\n",
        "        nu = torch.normal(.0, 1., size=param.size())\n",
        "\n",
        "        param_norm = torch.norm(param)\n",
        "        delta_norm = torch.norm(delta)\n",
        "        nu_norm = torch.norm(nu)\n",
        "\n",
        "        delta /= delta_norm\n",
        "        delta *= param_norm\n",
        "\n",
        "        nu /= nu_norm\n",
        "        nu *= param_norm\n",
        "\n",
        "        noises.append((delta, nu))\n",
        "\n",
        "        n_params += np.prod(param.size())\n",
        "\n",
        "    print(f'A total of {n_params:,} parameters.')\n",
        "\n",
        "    return noises\n",
        "\n",
        "\n",
        "def init_network(model, all_noises, alpha, beta):\n",
        "    with torch.no_grad():\n",
        "        for param, noises in zip(model.parameters(), all_noises):\n",
        "            delta, nu = noises\n",
        "            new_value = param + alpha * delta + beta * nu\n",
        "            param.copy_(new_value)\n",
        "    return model\n"
      ],
      "metadata": {
        "id": "PG3_9_F2DdYW"
      },
      "execution_count": null,
      "outputs": []
    },
    {
      "cell_type": "code",
      "source": [
        "def load_model(model_identifier):\n",
        "    return torch.hub.load('pytorch/vision:v0.6.0', model_identifier, pretrained=True, verbose=False).eval()\n",
        "\n",
        "model_id = 'mobilenet_v2'\n",
        "\n",
        "def load_model_new (model_identifier):\n",
        "  optimizer_name = 'SGD_IKSA'\n",
        "  dataset_name = 'imagenetv2'\n",
        "  return torch.load(f'{dataset_name}_{optimizer_name}_C=running_loss_f={fname}_{model_ident}_best_train_acc.pt', map_location=torch.device('cpu')).eval()"
      ],
      "metadata": {
        "id": "TZVKJyov0PP8"
      },
      "execution_count": null,
      "outputs": []
    },
    {
      "cell_type": "code",
      "source": [
        "def run_landscape_gen(batch_size, resolution, path_to_dataset):\n",
        "    BATCH_SIZE = batch_size\n",
        "    RESOLUTION = resolution\n",
        "\n",
        "    dataset = torchvision.datasets.ImageFolder(root=path_to_dataset,\n",
        "                                            transform=T.Compose([T.Resize(256),\n",
        "                                                                 T.CenterCrop(224),\n",
        "                                                                 T.ToTensor(),\n",
        "                                                                 T.Normalize(mean=[0.485, 0.456, 0.406],\n",
        "                                                                            std=[0.229, 0.224, 0.225])]))\n",
        "    \n",
        "    torch.manual_seed(1234)\n",
        "    dataloader = torch.utils.data.DataLoader(dataset, batch_size=BATCH_SIZE, shuffle=True, num_workers=4)\n",
        "\n",
        "    print(f'Testing {model_id}')\n",
        "\n",
        "    noises = init_directions(load_model_new(model_id))\n",
        "\n",
        "    crit = torch.nn.CrossEntropyLoss()\n",
        "\n",
        "    A, B = np.meshgrid(np.linspace(-1, 1, RESOLUTION),\n",
        "                        np.linspace(-1, 1, RESOLUTION), indexing='ij')\n",
        "    # SAVE X AND Y VALUES\n",
        "    np.save(f'{model_id}_xx_{dataset_name}_{optimizer_name}_C=running_loss_f={fname}.npy', A)\n",
        "    np.save(f'{model_id}_yy_{dataset_name}_{optimizer_name}_C=running_loss_f={fname}.npy', B)\n",
        "    \n",
        "    # CHECK IF FILE ALREADY EXISTS AND START FROM THERE\n",
        "    if os.path.exists(f'{model_id}_zz_{dataset_name}_{optimizer_name}_C=running_loss_f={fname}.npy'):\n",
        "      partial_array = np.load(f'{model_id}_zz_{dataset_name}_{optimizer_name}_C=running_loss_f={fname}.npy')\n",
        "      resume_index = int(np.where(~partial_array.any(axis=1))[0][0])\n",
        "      loss_surface = partial_array\n",
        "    else:\n",
        "      resume_index = 0\n",
        "      loss_surface = np.zeros_like(A)\n",
        "\n",
        "    \n",
        "    print(f\"Resuming Computation from Index {resume_index}\\n\")\n",
        "    for i in range(resume_index, RESOLUTION):\n",
        "        for j in range(RESOLUTION):\n",
        "            total_loss = 0.\n",
        "            n_batch = 0\n",
        "            alpha = A[i, j]\n",
        "            beta = B[i, j]\n",
        "            net = init_network(load_model_new(model_id), noises, alpha, beta).to('cuda')\n",
        "            for batch, labels in dataloader:\n",
        "                batch = batch.to('cuda')\n",
        "                labels = labels.to('cuda')\n",
        "                with torch.no_grad():\n",
        "                    preds = net(batch)\n",
        "                    loss = crit(preds, labels)\n",
        "                    total_loss += loss.item()\n",
        "                    n_batch += 1\n",
        "            loss_surface[i, j] = total_loss / n_batch\n",
        "            del net, batch, labels\n",
        "            print(f'alpha : {alpha:.2f}, beta : {beta:.2f}, loss : {loss_surface[i, j]:.2f}')\n",
        "            torch.cuda.empty_cache()\n",
        "        # save computed losses so far\n",
        "        np.save(f'{model_id}_zz_{dataset_name}_{optimizer_name}_C=running_loss_f={fname}.npy', loss_surface)"
      ],
      "metadata": {
        "id": "olVpgdq9Dsw_"
      },
      "execution_count": null,
      "outputs": []
    },
    {
      "cell_type": "code",
      "source": [
        "# os.environ['WANDB_CONSOLE'] = 'off'\n",
        "# THE NUMBER OF WORKERS MIGHT BE TOO BIG FOR THIS GPU"
      ],
      "metadata": {
        "id": "DkuekXrs-k9W"
      },
      "execution_count": null,
      "outputs": []
    },
    {
      "cell_type": "code",
      "source": [
        "run_landscape_gen(50, 20, \"imagenetv2-threshold0.7-format-val\")"
      ],
      "metadata": {
        "colab": {
          "base_uri": "https://localhost:8080/"
        },
        "id": "hq4S2D0ohcFU",
        "outputId": "5abb1b3d-0a5d-4dd5-f2a2-a4227e0ece43"
      },
      "execution_count": null,
      "outputs": [
        {
          "output_type": "stream",
          "name": "stdout",
          "text": [
            "Testing mobilenet_v2\n",
            "A total of 3,504,872 parameters.\n",
            "Resuming Computation from Index 0\n",
            "\n",
            "alpha : -1.00, beta : -1.00, loss : 26.23\n",
            "alpha : -1.00, beta : -0.89, loss : 26.45\n",
            "alpha : -1.00, beta : -0.79, loss : 26.37\n",
            "alpha : -1.00, beta : -0.68, loss : 25.41\n",
            "alpha : -1.00, beta : -0.58, loss : 25.54\n",
            "alpha : -1.00, beta : -0.47, loss : 24.12\n",
            "alpha : -1.00, beta : -0.37, loss : 21.64\n",
            "alpha : -1.00, beta : -0.26, loss : 21.20\n",
            "alpha : -1.00, beta : -0.16, loss : 18.56\n",
            "alpha : -1.00, beta : -0.05, loss : 17.88\n",
            "alpha : -1.00, beta : 0.05, loss : 17.60\n",
            "alpha : -1.00, beta : 0.16, loss : 18.08\n",
            "alpha : -1.00, beta : 0.26, loss : 18.48\n",
            "alpha : -1.00, beta : 0.37, loss : 18.44\n",
            "alpha : -1.00, beta : 0.47, loss : 19.26\n",
            "alpha : -1.00, beta : 0.58, loss : 20.13\n",
            "alpha : -1.00, beta : 0.68, loss : 21.06\n",
            "alpha : -1.00, beta : 0.79, loss : 21.82\n",
            "alpha : -1.00, beta : 0.89, loss : 22.11\n",
            "alpha : -1.00, beta : 1.00, loss : 22.62\n",
            "alpha : -0.89, beta : -1.00, loss : 24.67\n",
            "alpha : -0.89, beta : -0.89, loss : 24.98\n",
            "alpha : -0.89, beta : -0.79, loss : 24.32\n",
            "alpha : -0.89, beta : -0.68, loss : 23.14\n",
            "alpha : -0.89, beta : -0.58, loss : 23.09\n",
            "alpha : -0.89, beta : -0.47, loss : 22.31\n",
            "alpha : -0.89, beta : -0.37, loss : 21.24\n",
            "alpha : -0.89, beta : -0.26, loss : 20.75\n",
            "alpha : -0.89, beta : -0.16, loss : 19.46\n",
            "alpha : -0.89, beta : -0.05, loss : 17.47\n",
            "alpha : -0.89, beta : 0.05, loss : 16.69\n",
            "alpha : -0.89, beta : 0.16, loss : 17.02\n",
            "alpha : -0.89, beta : 0.26, loss : 17.32\n",
            "alpha : -0.89, beta : 0.37, loss : 17.31\n",
            "alpha : -0.89, beta : 0.47, loss : 18.44\n",
            "alpha : -0.89, beta : 0.58, loss : 18.70\n",
            "alpha : -0.89, beta : 0.68, loss : 19.48\n",
            "alpha : -0.89, beta : 0.79, loss : 20.48\n",
            "alpha : -0.89, beta : 0.89, loss : 20.19\n",
            "alpha : -0.89, beta : 1.00, loss : 21.29\n",
            "alpha : -0.79, beta : -1.00, loss : 23.57\n",
            "alpha : -0.79, beta : -0.89, loss : 22.81\n",
            "alpha : -0.79, beta : -0.79, loss : 21.98\n",
            "alpha : -0.79, beta : -0.68, loss : 21.63\n",
            "alpha : -0.79, beta : -0.58, loss : 22.58\n",
            "alpha : -0.79, beta : -0.47, loss : 22.04\n",
            "alpha : -0.79, beta : -0.37, loss : 20.43\n",
            "alpha : -0.79, beta : -0.26, loss : 19.69\n",
            "alpha : -0.79, beta : -0.16, loss : 19.22\n",
            "alpha : -0.79, beta : -0.05, loss : 18.06\n",
            "alpha : -0.79, beta : 0.05, loss : 16.69\n",
            "alpha : -0.79, beta : 0.16, loss : 16.43\n",
            "alpha : -0.79, beta : 0.26, loss : 16.52\n",
            "alpha : -0.79, beta : 0.37, loss : 16.17\n",
            "alpha : -0.79, beta : 0.47, loss : 16.76\n",
            "alpha : -0.79, beta : 0.58, loss : 17.66\n",
            "alpha : -0.79, beta : 0.68, loss : 18.67\n",
            "alpha : -0.79, beta : 0.79, loss : 19.44\n",
            "alpha : -0.79, beta : 0.89, loss : 19.95\n",
            "alpha : -0.79, beta : 1.00, loss : 20.91\n",
            "alpha : -0.68, beta : -1.00, loss : 23.67\n",
            "alpha : -0.68, beta : -0.89, loss : 22.57\n",
            "alpha : -0.68, beta : -0.79, loss : 20.73\n",
            "alpha : -0.68, beta : -0.68, loss : 20.01\n",
            "alpha : -0.68, beta : -0.58, loss : 21.57\n",
            "alpha : -0.68, beta : -0.47, loss : 21.18\n",
            "alpha : -0.68, beta : -0.37, loss : 21.00\n",
            "alpha : -0.68, beta : -0.26, loss : 21.05\n",
            "alpha : -0.68, beta : -0.16, loss : 19.60\n",
            "alpha : -0.68, beta : -0.05, loss : 17.74\n",
            "alpha : -0.68, beta : 0.05, loss : 16.79\n",
            "alpha : -0.68, beta : 0.16, loss : 16.42\n",
            "alpha : -0.68, beta : 0.26, loss : 15.75\n",
            "alpha : -0.68, beta : 0.37, loss : 16.05\n",
            "alpha : -0.68, beta : 0.47, loss : 16.50\n",
            "alpha : -0.68, beta : 0.58, loss : 18.23\n",
            "alpha : -0.68, beta : 0.68, loss : 19.23\n",
            "alpha : -0.68, beta : 0.79, loss : 18.69\n",
            "alpha : -0.68, beta : 0.89, loss : 19.60\n",
            "alpha : -0.68, beta : 1.00, loss : 20.17\n",
            "alpha : -0.58, beta : -1.00, loss : 21.53\n",
            "alpha : -0.58, beta : -0.89, loss : 20.38\n",
            "alpha : -0.58, beta : -0.79, loss : 19.06\n",
            "alpha : -0.58, beta : -0.68, loss : 18.13\n",
            "alpha : -0.58, beta : -0.58, loss : 18.30\n",
            "alpha : -0.58, beta : -0.47, loss : 18.88\n",
            "alpha : -0.58, beta : -0.37, loss : 21.53\n",
            "alpha : -0.58, beta : -0.26, loss : 21.09\n",
            "alpha : -0.58, beta : -0.16, loss : 17.82\n",
            "alpha : -0.58, beta : -0.05, loss : 16.06\n",
            "alpha : -0.58, beta : 0.05, loss : 16.69\n",
            "alpha : -0.58, beta : 0.16, loss : 17.20\n",
            "alpha : -0.58, beta : 0.26, loss : 16.48\n",
            "alpha : -0.58, beta : 0.37, loss : 16.58\n",
            "alpha : -0.58, beta : 0.47, loss : 17.77\n",
            "alpha : -0.58, beta : 0.58, loss : 18.89\n",
            "alpha : -0.58, beta : 0.68, loss : 20.31\n",
            "alpha : -0.58, beta : 0.79, loss : 19.74\n",
            "alpha : -0.58, beta : 0.89, loss : 19.30\n",
            "alpha : -0.58, beta : 1.00, loss : 19.67\n",
            "alpha : -0.47, beta : -1.00, loss : 19.16\n",
            "alpha : -0.47, beta : -0.89, loss : 18.61\n",
            "alpha : -0.47, beta : -0.79, loss : 18.15\n",
            "alpha : -0.47, beta : -0.68, loss : 16.85\n",
            "alpha : -0.47, beta : -0.58, loss : 17.21\n",
            "alpha : -0.47, beta : -0.47, loss : 17.73\n",
            "alpha : -0.47, beta : -0.37, loss : 20.06\n",
            "alpha : -0.47, beta : -0.26, loss : 18.25\n",
            "alpha : -0.47, beta : -0.16, loss : 17.34\n",
            "alpha : -0.47, beta : -0.05, loss : 16.52\n",
            "alpha : -0.47, beta : 0.05, loss : 16.94\n",
            "alpha : -0.47, beta : 0.16, loss : 17.22\n",
            "alpha : -0.47, beta : 0.26, loss : 17.37\n",
            "alpha : -0.47, beta : 0.37, loss : 19.07\n",
            "alpha : -0.47, beta : 0.47, loss : 18.19\n",
            "alpha : -0.47, beta : 0.58, loss : 17.49\n",
            "alpha : -0.47, beta : 0.68, loss : 18.71\n",
            "alpha : -0.47, beta : 0.79, loss : 19.55\n",
            "alpha : -0.47, beta : 0.89, loss : 18.27\n",
            "alpha : -0.47, beta : 1.00, loss : 19.51\n",
            "alpha : -0.37, beta : -1.00, loss : 19.31\n",
            "alpha : -0.37, beta : -0.89, loss : 17.94\n",
            "alpha : -0.37, beta : -0.79, loss : 17.03\n",
            "alpha : -0.37, beta : -0.68, loss : 16.49\n",
            "alpha : -0.37, beta : -0.58, loss : 17.14\n",
            "alpha : -0.37, beta : -0.47, loss : 15.79\n",
            "alpha : -0.37, beta : -0.37, loss : 16.25\n",
            "alpha : -0.37, beta : -0.26, loss : 16.20\n",
            "alpha : -0.37, beta : -0.16, loss : 16.71\n",
            "alpha : -0.37, beta : -0.05, loss : 17.66\n",
            "alpha : -0.37, beta : 0.05, loss : 17.55\n",
            "alpha : -0.37, beta : 0.16, loss : 17.46\n",
            "alpha : -0.37, beta : 0.26, loss : 18.65\n",
            "alpha : -0.37, beta : 0.37, loss : 19.52\n",
            "alpha : -0.37, beta : 0.47, loss : 19.06\n",
            "alpha : -0.37, beta : 0.58, loss : 17.04\n",
            "alpha : -0.37, beta : 0.68, loss : 17.69\n",
            "alpha : -0.37, beta : 0.79, loss : 18.86\n",
            "alpha : -0.37, beta : 0.89, loss : 19.21\n",
            "alpha : -0.37, beta : 1.00, loss : 19.73\n",
            "alpha : -0.26, beta : -1.00, loss : 19.26\n",
            "alpha : -0.26, beta : -0.89, loss : 17.68\n",
            "alpha : -0.26, beta : -0.79, loss : 17.02\n",
            "alpha : -0.26, beta : -0.68, loss : 17.92\n",
            "alpha : -0.26, beta : -0.58, loss : 18.36\n",
            "alpha : -0.26, beta : -0.47, loss : 17.99\n",
            "alpha : -0.26, beta : -0.37, loss : 16.34\n",
            "alpha : -0.26, beta : -0.26, loss : 15.98\n",
            "alpha : -0.26, beta : -0.16, loss : 15.16\n",
            "alpha : -0.26, beta : -0.05, loss : 15.82\n",
            "alpha : -0.26, beta : 0.05, loss : 15.58\n",
            "alpha : -0.26, beta : 0.16, loss : 16.05\n",
            "alpha : -0.26, beta : 0.26, loss : 17.59\n",
            "alpha : -0.26, beta : 0.37, loss : 18.55\n",
            "alpha : -0.26, beta : 0.47, loss : 16.84\n",
            "alpha : -0.26, beta : 0.58, loss : 17.88\n",
            "alpha : -0.26, beta : 0.68, loss : 17.45\n",
            "alpha : -0.26, beta : 0.79, loss : 18.24\n",
            "alpha : -0.26, beta : 0.89, loss : 19.36\n",
            "alpha : -0.26, beta : 1.00, loss : 19.58\n",
            "alpha : -0.16, beta : -1.00, loss : 19.49\n",
            "alpha : -0.16, beta : -0.89, loss : 18.51\n",
            "alpha : -0.16, beta : -0.79, loss : 17.05\n",
            "alpha : -0.16, beta : -0.68, loss : 17.58\n",
            "alpha : -0.16, beta : -0.58, loss : 19.61\n",
            "alpha : -0.16, beta : -0.47, loss : 19.11\n",
            "alpha : -0.16, beta : -0.37, loss : 17.24\n",
            "alpha : -0.16, beta : -0.26, loss : 15.12\n",
            "alpha : -0.16, beta : -0.16, loss : 12.29\n",
            "alpha : -0.16, beta : -0.05, loss : 9.51\n",
            "alpha : -0.16, beta : 0.05, loss : 10.54\n",
            "alpha : -0.16, beta : 0.16, loss : 12.95\n",
            "alpha : -0.16, beta : 0.26, loss : 14.96\n",
            "alpha : -0.16, beta : 0.37, loss : 16.33\n",
            "alpha : -0.16, beta : 0.47, loss : 16.57\n",
            "alpha : -0.16, beta : 0.58, loss : 17.79\n",
            "alpha : -0.16, beta : 0.68, loss : 18.23\n",
            "alpha : -0.16, beta : 0.79, loss : 18.94\n",
            "alpha : -0.16, beta : 0.89, loss : 19.03\n",
            "alpha : -0.16, beta : 1.00, loss : 19.31\n",
            "alpha : -0.05, beta : -1.00, loss : 19.14\n",
            "alpha : -0.05, beta : -0.89, loss : 19.09\n",
            "alpha : -0.05, beta : -0.79, loss : 17.54\n",
            "alpha : -0.05, beta : -0.68, loss : 17.47\n",
            "alpha : -0.05, beta : -0.58, loss : 19.01\n",
            "alpha : -0.05, beta : -0.47, loss : 19.65\n",
            "alpha : -0.05, beta : -0.37, loss : 19.43\n",
            "alpha : -0.05, beta : -0.26, loss : 15.73\n",
            "alpha : -0.05, beta : -0.16, loss : 8.39\n",
            "alpha : -0.05, beta : -0.05, loss : 0.70\n",
            "alpha : -0.05, beta : 0.05, loss : 1.35\n",
            "alpha : -0.05, beta : 0.16, loss : 9.94\n",
            "alpha : -0.05, beta : 0.26, loss : 14.46\n",
            "alpha : -0.05, beta : 0.37, loss : 16.58\n",
            "alpha : -0.05, beta : 0.47, loss : 17.19\n",
            "alpha : -0.05, beta : 0.58, loss : 16.85\n",
            "alpha : -0.05, beta : 0.68, loss : 17.85\n",
            "alpha : -0.05, beta : 0.79, loss : 19.13\n",
            "alpha : -0.05, beta : 0.89, loss : 20.14\n",
            "alpha : -0.05, beta : 1.00, loss : 20.78\n",
            "alpha : 0.05, beta : -1.00, loss : 18.97\n",
            "alpha : 0.05, beta : -0.89, loss : 19.36\n",
            "alpha : 0.05, beta : -0.79, loss : 18.29\n",
            "alpha : 0.05, beta : -0.68, loss : 18.55\n",
            "alpha : 0.05, beta : -0.58, loss : 19.87\n",
            "alpha : 0.05, beta : -0.47, loss : 20.39\n",
            "alpha : 0.05, beta : -0.37, loss : 21.10\n",
            "alpha : 0.05, beta : -0.26, loss : 16.19\n",
            "alpha : 0.05, beta : -0.16, loss : 8.51\n",
            "alpha : 0.05, beta : -0.05, loss : 0.99\n",
            "alpha : 0.05, beta : 0.05, loss : 0.76\n",
            "alpha : 0.05, beta : 0.16, loss : 9.67\n",
            "alpha : 0.05, beta : 0.26, loss : 14.64\n",
            "alpha : 0.05, beta : 0.37, loss : 16.90\n",
            "alpha : 0.05, beta : 0.47, loss : 18.25\n",
            "alpha : 0.05, beta : 0.58, loss : 17.79\n",
            "alpha : 0.05, beta : 0.68, loss : 16.91\n",
            "alpha : 0.05, beta : 0.79, loss : 18.44\n",
            "alpha : 0.05, beta : 0.89, loss : 20.77\n",
            "alpha : 0.05, beta : 1.00, loss : 21.50\n",
            "alpha : 0.16, beta : -1.00, loss : 20.25\n",
            "alpha : 0.16, beta : -0.89, loss : 20.05\n",
            "alpha : 0.16, beta : -0.79, loss : 20.16\n",
            "alpha : 0.16, beta : -0.68, loss : 21.96\n",
            "alpha : 0.16, beta : -0.58, loss : 22.46\n",
            "alpha : 0.16, beta : -0.47, loss : 20.65\n",
            "alpha : 0.16, beta : -0.37, loss : 19.30\n",
            "alpha : 0.16, beta : -0.26, loss : 16.15\n",
            "alpha : 0.16, beta : -0.16, loss : 11.66\n",
            "alpha : 0.16, beta : -0.05, loss : 8.24\n",
            "alpha : 0.16, beta : 0.05, loss : 7.96\n",
            "alpha : 0.16, beta : 0.16, loss : 12.49\n",
            "alpha : 0.16, beta : 0.26, loss : 15.83\n",
            "alpha : 0.16, beta : 0.37, loss : 17.16\n",
            "alpha : 0.16, beta : 0.47, loss : 19.52\n",
            "alpha : 0.16, beta : 0.58, loss : 18.24\n",
            "alpha : 0.16, beta : 0.68, loss : 17.15\n",
            "alpha : 0.16, beta : 0.79, loss : 18.83\n",
            "alpha : 0.16, beta : 0.89, loss : 20.59\n",
            "alpha : 0.16, beta : 1.00, loss : 21.23\n",
            "alpha : 0.26, beta : -1.00, loss : 20.74\n",
            "alpha : 0.26, beta : -0.89, loss : 19.66\n",
            "alpha : 0.26, beta : -0.79, loss : 20.26\n",
            "alpha : 0.26, beta : -0.68, loss : 21.99\n",
            "alpha : 0.26, beta : -0.58, loss : 21.93\n",
            "alpha : 0.26, beta : -0.47, loss : 21.14\n",
            "alpha : 0.26, beta : -0.37, loss : 19.05\n",
            "alpha : 0.26, beta : -0.26, loss : 17.13\n",
            "alpha : 0.26, beta : -0.16, loss : 14.89\n",
            "alpha : 0.26, beta : -0.05, loss : 13.52\n",
            "alpha : 0.26, beta : 0.05, loss : 12.84\n",
            "alpha : 0.26, beta : 0.16, loss : 13.49\n",
            "alpha : 0.26, beta : 0.26, loss : 16.99\n",
            "alpha : 0.26, beta : 0.37, loss : 18.27\n",
            "alpha : 0.26, beta : 0.47, loss : 19.62\n",
            "alpha : 0.26, beta : 0.58, loss : 17.80\n",
            "alpha : 0.26, beta : 0.68, loss : 17.74\n",
            "alpha : 0.26, beta : 0.79, loss : 19.47\n",
            "alpha : 0.26, beta : 0.89, loss : 21.76\n",
            "alpha : 0.26, beta : 1.00, loss : 22.03\n",
            "alpha : 0.37, beta : -1.00, loss : 19.06\n",
            "alpha : 0.37, beta : -0.89, loss : 18.39\n",
            "alpha : 0.37, beta : -0.79, loss : 18.72\n",
            "alpha : 0.37, beta : -0.68, loss : 19.77\n",
            "alpha : 0.37, beta : -0.58, loss : 20.53\n",
            "alpha : 0.37, beta : -0.47, loss : 19.34\n",
            "alpha : 0.37, beta : -0.37, loss : 18.61\n",
            "alpha : 0.37, beta : -0.26, loss : 17.71\n",
            "alpha : 0.37, beta : -0.16, loss : 18.19\n",
            "alpha : 0.37, beta : -0.05, loss : 16.30\n",
            "alpha : 0.37, beta : 0.05, loss : 15.09\n",
            "alpha : 0.37, beta : 0.16, loss : 14.89\n",
            "alpha : 0.37, beta : 0.26, loss : 17.22\n",
            "alpha : 0.37, beta : 0.37, loss : 18.12\n",
            "alpha : 0.37, beta : 0.47, loss : 18.55\n",
            "alpha : 0.37, beta : 0.58, loss : 18.17\n",
            "alpha : 0.37, beta : 0.68, loss : 18.33\n",
            "alpha : 0.37, beta : 0.79, loss : 18.93\n",
            "alpha : 0.37, beta : 0.89, loss : 20.89\n",
            "alpha : 0.37, beta : 1.00, loss : 22.01\n",
            "alpha : 0.47, beta : -1.00, loss : 19.36\n",
            "alpha : 0.47, beta : -0.89, loss : 18.51\n",
            "alpha : 0.47, beta : -0.79, loss : 18.13\n",
            "alpha : 0.47, beta : -0.68, loss : 19.10\n",
            "alpha : 0.47, beta : -0.58, loss : 20.59\n",
            "alpha : 0.47, beta : -0.47, loss : 19.86\n",
            "alpha : 0.47, beta : -0.37, loss : 17.84\n",
            "alpha : 0.47, beta : -0.26, loss : 17.72\n",
            "alpha : 0.47, beta : -0.16, loss : 18.28\n",
            "alpha : 0.47, beta : -0.05, loss : 19.09\n",
            "alpha : 0.47, beta : 0.05, loss : 18.15\n",
            "alpha : 0.47, beta : 0.16, loss : 16.82\n",
            "alpha : 0.47, beta : 0.26, loss : 17.29\n",
            "alpha : 0.47, beta : 0.37, loss : 17.52\n",
            "alpha : 0.47, beta : 0.47, loss : 18.75\n",
            "alpha : 0.47, beta : 0.58, loss : 19.53\n",
            "alpha : 0.47, beta : 0.68, loss : 18.50\n",
            "alpha : 0.47, beta : 0.79, loss : 17.81\n",
            "alpha : 0.47, beta : 0.89, loss : 20.11\n",
            "alpha : 0.47, beta : 1.00, loss : 22.45\n",
            "alpha : 0.58, beta : -1.00, loss : 19.67\n",
            "alpha : 0.58, beta : -0.89, loss : 18.53\n",
            "alpha : 0.58, beta : -0.79, loss : 18.24\n",
            "alpha : 0.58, beta : -0.68, loss : 19.31\n",
            "alpha : 0.58, beta : -0.58, loss : 20.58\n",
            "alpha : 0.58, beta : -0.47, loss : 20.92\n",
            "alpha : 0.58, beta : -0.37, loss : 19.03\n",
            "alpha : 0.58, beta : -0.26, loss : 18.16\n",
            "alpha : 0.58, beta : -0.16, loss : 18.93\n",
            "alpha : 0.58, beta : -0.05, loss : 20.85\n",
            "alpha : 0.58, beta : 0.05, loss : 21.02\n",
            "alpha : 0.58, beta : 0.16, loss : 19.82\n",
            "alpha : 0.58, beta : 0.26, loss : 18.82\n",
            "alpha : 0.58, beta : 0.37, loss : 18.88\n",
            "alpha : 0.58, beta : 0.47, loss : 18.16\n",
            "alpha : 0.58, beta : 0.58, loss : 18.34\n",
            "alpha : 0.58, beta : 0.68, loss : 19.16\n",
            "alpha : 0.58, beta : 0.79, loss : 19.49\n",
            "alpha : 0.58, beta : 0.89, loss : 20.70\n",
            "alpha : 0.58, beta : 1.00, loss : 22.53\n",
            "alpha : 0.68, beta : -1.00, loss : 20.54\n",
            "alpha : 0.68, beta : -0.89, loss : 19.49\n",
            "alpha : 0.68, beta : -0.79, loss : 19.14\n",
            "alpha : 0.68, beta : -0.68, loss : 18.63\n",
            "alpha : 0.68, beta : -0.58, loss : 18.96\n",
            "alpha : 0.68, beta : -0.47, loss : 19.09\n",
            "alpha : 0.68, beta : -0.37, loss : 18.06\n",
            "alpha : 0.68, beta : -0.26, loss : 18.26\n",
            "alpha : 0.68, beta : -0.16, loss : 18.73\n",
            "alpha : 0.68, beta : -0.05, loss : 19.60\n",
            "alpha : 0.68, beta : 0.05, loss : 19.72\n",
            "alpha : 0.68, beta : 0.16, loss : 20.35\n",
            "alpha : 0.68, beta : 0.26, loss : 21.73\n",
            "alpha : 0.68, beta : 0.37, loss : 22.27\n",
            "alpha : 0.68, beta : 0.47, loss : 20.19\n",
            "alpha : 0.68, beta : 0.58, loss : 18.81\n",
            "alpha : 0.68, beta : 0.68, loss : 20.88\n",
            "alpha : 0.68, beta : 0.79, loss : 21.72\n",
            "alpha : 0.68, beta : 0.89, loss : 21.27\n",
            "alpha : 0.68, beta : 1.00, loss : 22.10\n",
            "alpha : 0.79, beta : -1.00, loss : 22.79\n",
            "alpha : 0.79, beta : -0.89, loss : 21.19\n",
            "alpha : 0.79, beta : -0.79, loss : 20.80\n",
            "alpha : 0.79, beta : -0.68, loss : 19.80\n",
            "alpha : 0.79, beta : -0.58, loss : 18.45\n",
            "alpha : 0.79, beta : -0.47, loss : 17.52\n",
            "alpha : 0.79, beta : -0.37, loss : 17.18\n",
            "alpha : 0.79, beta : -0.26, loss : 16.85\n",
            "alpha : 0.79, beta : -0.16, loss : 16.72\n",
            "alpha : 0.79, beta : -0.05, loss : 16.95\n",
            "alpha : 0.79, beta : 0.05, loss : 18.85\n",
            "alpha : 0.79, beta : 0.16, loss : 20.77\n",
            "alpha : 0.79, beta : 0.26, loss : 22.71\n",
            "alpha : 0.79, beta : 0.37, loss : 23.25\n",
            "alpha : 0.79, beta : 0.47, loss : 21.16\n",
            "alpha : 0.79, beta : 0.58, loss : 19.35\n",
            "alpha : 0.79, beta : 0.68, loss : 20.86\n",
            "alpha : 0.79, beta : 0.79, loss : 21.93\n",
            "alpha : 0.79, beta : 0.89, loss : 22.00\n",
            "alpha : 0.79, beta : 1.00, loss : 22.51\n",
            "alpha : 0.89, beta : -1.00, loss : 22.86\n",
            "alpha : 0.89, beta : -0.89, loss : 21.73\n",
            "alpha : 0.89, beta : -0.79, loss : 21.89\n",
            "alpha : 0.89, beta : -0.68, loss : 20.75\n",
            "alpha : 0.89, beta : -0.58, loss : 19.61\n",
            "alpha : 0.89, beta : -0.47, loss : 18.18\n",
            "alpha : 0.89, beta : -0.37, loss : 17.50\n",
            "alpha : 0.89, beta : -0.26, loss : 17.10\n",
            "alpha : 0.89, beta : -0.16, loss : 16.99\n",
            "alpha : 0.89, beta : -0.05, loss : 16.68\n",
            "alpha : 0.89, beta : 0.05, loss : 18.03\n",
            "alpha : 0.89, beta : 0.16, loss : 19.86\n",
            "alpha : 0.89, beta : 0.26, loss : 22.33\n",
            "alpha : 0.89, beta : 0.37, loss : 23.47\n",
            "alpha : 0.89, beta : 0.47, loss : 21.01\n",
            "alpha : 0.89, beta : 0.58, loss : 20.03\n",
            "alpha : 0.89, beta : 0.68, loss : 22.15\n",
            "alpha : 0.89, beta : 0.79, loss : 22.83\n",
            "alpha : 0.89, beta : 0.89, loss : 23.18\n",
            "alpha : 0.89, beta : 1.00, loss : 23.92\n",
            "alpha : 1.00, beta : -1.00, loss : 24.54\n",
            "alpha : 1.00, beta : -0.89, loss : 22.66\n",
            "alpha : 1.00, beta : -0.79, loss : 22.21\n",
            "alpha : 1.00, beta : -0.68, loss : 21.88\n",
            "alpha : 1.00, beta : -0.58, loss : 22.56\n",
            "alpha : 1.00, beta : -0.47, loss : 21.83\n",
            "alpha : 1.00, beta : -0.37, loss : 20.17\n",
            "alpha : 1.00, beta : -0.26, loss : 18.73\n",
            "alpha : 1.00, beta : -0.16, loss : 17.50\n",
            "alpha : 1.00, beta : -0.05, loss : 18.36\n",
            "alpha : 1.00, beta : 0.05, loss : 20.38\n",
            "alpha : 1.00, beta : 0.16, loss : 20.58\n",
            "alpha : 1.00, beta : 0.26, loss : 20.70\n",
            "alpha : 1.00, beta : 0.37, loss : 21.26\n",
            "alpha : 1.00, beta : 0.47, loss : 20.16\n",
            "alpha : 1.00, beta : 0.58, loss : 20.54\n",
            "alpha : 1.00, beta : 0.68, loss : 22.50\n",
            "alpha : 1.00, beta : 0.79, loss : 23.11\n",
            "alpha : 1.00, beta : 0.89, loss : 23.54\n",
            "alpha : 1.00, beta : 1.00, loss : 24.47\n"
          ]
        }
      ]
    },
    {
      "cell_type": "code",
      "source": [
        "# parser = argparse.ArgumentParser(description='Arguments to generate loss landscape.')\n",
        "# parser.add_argument('--path_to_imagenetv2', default='/mnt/storage/datasets/imagenetv2-top-images-format-val/', type=str)\n",
        "# parser.add_argument('--batch_size', default=8, type=int)\n",
        "# parser.add_argument('--resolution', default=25, type=int)\n",
        "\n",
        "# plt.figure(figsize=(18, 12))\n",
        "# plt.contour(A, B, loss_surface)\n",
        "# plt.savefig(f'{model_id}_contour_optim_{optimizer_name}_bs_{BATCH_SIZE}_res_{RESOLUTION}_{dataset_name}.png', dpi=100)\n",
        "# plt.close()"
      ],
      "metadata": {
        "id": "wJFCRhxwFXvJ"
      },
      "execution_count": null,
      "outputs": []
    },
    {
      "cell_type": "code",
      "source": [
        "%matplotlib inline\n",
        "import numpy as np\n",
        "import matplotlib.pyplot as plt\n",
        "from matplotlib import cm\n",
        "from matplotlib import animation\n",
        "from mpl_toolkits.mplot3d import Axes3D\n",
        "from matplotlib.animation import FuncAnimation, PillowWriter\n",
        "import networkx\n",
        "plt.rcParams[\"figure.figsize\"] = (20,20)\n",
        "\n",
        "def generate_plots(model, dataset, optimizer_name, c_value):\n",
        "\n",
        "    xx = np.load(model + \"_xx_\"+ dataset + \"_\" + optimizer_name + \"_C=\" + str(c_value) + \"_f=\" + fname + \".npy\")\n",
        "    yy = np.load(model + \"_yy_\"+ dataset + \"_\" + optimizer_name + \"_C=\" + str(c_value) + \"_f=\" + fname + \".npy\")\n",
        "    zz = np.load(model + \"_zz_\"+ dataset + \"_\" + optimizer_name + \"_C=\" + str(c_value) + \"_f=\" + fname + \".npy\")\n",
        "\n",
        "    plt.figure(figsize=(20, 20))\n",
        "    plt.contour(xx, yy, zz)\n",
        "    plt.savefig(f'{model}_contour_{dataset}_{optimizer_name}_C={c_value}.png', dpi=150)\n",
        "    plt.close()\n",
        "\n",
        "    ## 3D plot\n",
        "    fig, ax = plt.subplots(subplot_kw={'projection' : '3d'})\n",
        "    #ax.set_axis_off()\n",
        "    surf = ax.plot_surface(xx, yy, zz, cmap=cm.coolwarm, linewidth=0, antialiased=False)\n",
        "    ax.set_xlim(-1, 1)\n",
        "    ax.set_ylim(-1, 1)\n",
        "    ax.set_zlim(0, 30)\n",
        "    # print(ax.azim, ax.elev)\n",
        "    #ax.elev = 20\n",
        "    #ax.azim = -20\n",
        "    #c_plane = np.array(np.full((20, 20), 10))\n",
        "    #ax.plot_surface(xx, yy, c_plane, cmap = \"viridis\", zorder = 1)\n",
        "\n",
        "    plt.savefig(f'{model}_surface_{dataset}_{optimizer_name}_C={c_value}_f={fname}.png', dpi=300,format='png', bbox_inches = \"tight\")\n",
        "    plt.show()\n"
      ],
      "metadata": {
        "id": "sSIamqngLrSf"
      },
      "execution_count": null,
      "outputs": []
    },
    {
      "cell_type": "code",
      "source": [
        "generate_plots(model_ident, dataset_name, optimizer_name, \"running_loss\")"
      ],
      "metadata": {
        "colab": {
          "base_uri": "https://localhost:8080/",
          "height": 1000
        },
        "id": "1j8ZtWjlL--u",
        "outputId": "efea7887-460e-42cd-bca9-d05129a4d8b7"
      },
      "execution_count": null,
      "outputs": [
        {
          "output_type": "display_data",
          "data": {
            "text/plain": [
              "<Figure size 1440x1440 with 1 Axes>"
            ],
            "image/png": "[encoded data removed]"
          },
          "metadata": {
            "needs_background": "light"
          }
        }
      ]
    },
    {
      "cell_type": "code",
      "source": [
        "X, Y = np.meshgrid(range(-3, 3), range(-3, 3))\n",
        "X,Y"
      ],
      "metadata": {
        "colab": {
          "base_uri": "https://localhost:8080/"
        },
        "id": "YOunCqlSauwz",
        "outputId": "25549bd1-0667-4bc5-cc9a-d0e6c58853d3"
      },
      "execution_count": null,
      "outputs": [
        {
          "output_type": "execute_result",
          "data": {
            "text/plain": [
              "(array([[-3, -2, -1,  0,  1,  2],\n",
              "        [-3, -2, -1,  0,  1,  2],\n",
              "        [-3, -2, -1,  0,  1,  2],\n",
              "        [-3, -2, -1,  0,  1,  2],\n",
              "        [-3, -2, -1,  0,  1,  2],\n",
              "        [-3, -2, -1,  0,  1,  2]]), array([[-3, -3, -3, -3, -3, -3],\n",
              "        [-2, -2, -2, -2, -2, -2],\n",
              "        [-1, -1, -1, -1, -1, -1],\n",
              "        [ 0,  0,  0,  0,  0,  0],\n",
              "        [ 1,  1,  1,  1,  1,  1],\n",
              "        [ 2,  2,  2,  2,  2,  2]]))"
            ]
          },
          "metadata": {},
          "execution_count": 69
        }
      ]
    }
  ]
}