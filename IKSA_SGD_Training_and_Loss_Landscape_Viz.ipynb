{
  "cells": [
    {
      "cell_type": "code",
      "execution_count": null,
      "metadata": {
        "id": "mTdNSjDGCkD7"
      },
      "outputs": [],
      "source": [
        "import torch\n",
        "import copy\n",
        "import torchvision\n",
        "import numpy as np\n",
        "import random\n",
        "import os\n",
        "from tqdm import tqdm\n",
        "from torchvision import transforms as T\n",
        "from torchvision import models\n",
        "from torch.utils.data.dataloader import DataLoader\n",
        "import matplotlib.pyplot as plt\n",
        "from torchvision.datasets import CIFAR10\n",
        "import torch.optim as optim\n",
        "from google.colab import drive"
      ]
    },
    {
      "cell_type": "code",
      "execution_count": null,
      "metadata": {
        "colab": {
          "base_uri": "https://localhost:8080/"
        },
        "id": "sUQ_59hRJoiM",
        "outputId": "fb128d6c-7cd1-4c7b-d898-cbe89ce93c7c"
      },
      "outputs": [
        {
          "name": "stdout",
          "output_type": "stream",
          "text": [
            "Mounted at /content/gdrive\n"
          ]
        }
      ],
      "source": [
        "# ONLY AVAILABLE IF WORKING INSIDE GOOGLE COLAB\n",
        "# IF NOT WORKING INSIDE GOOGLE COLAB, PLEASE IGNORE THIS CELL\n",
        "drive.mount('/content/gdrive')\n",
        "os.chdir('/content/gdrive/MyDrive/CAPSTONE/')"
      ]
    },
    {
      "cell_type": "code",
      "execution_count": null,
      "metadata": {
        "id": "P8Hey68mvXVN"
      },
      "outputs": [],
      "source": [
        "from IKSA_optimizers.SGD_IKSA import SGD_IKSA\n",
        "from IKSA_optimizers.Adam_IKSA import Adam_IKSA"
      ]
    },
    {
      "cell_type": "code",
      "execution_count": null,
      "metadata": {
        "colab": {
          "base_uri": "https://localhost:8080/"
        },
        "id": "hVaWWqy6wdNW",
        "outputId": "f95ed027-e362-4e62-d0a8-b6abda28e74e"
      },
      "outputs": [
        {
          "name": "stdout",
          "output_type": "stream",
          "text": [
            "GPU 0: Tesla T4 (UUID: GPU-6848b470-6a0d-2530-e9b5-28945418151a)\n"
          ]
        }
      ],
      "source": [
        "!nvidia-smi -L "
      ]
    },
    {
      "cell_type": "code",
      "execution_count": null,
      "metadata": {
        "id": "EZrBFHPM9i0s"
      },
      "outputs": [],
      "source": [
        "# dir(models)\n",
        "# tried previously: mobilenet_v2, vgg16\n",
        "MODEL_IDENTIFIER = 'resnet110_noshort'\n",
        "# previous optimizer names: SGD_IKSA, Adam_IKSA\n",
        "OPTIMIZER_NAME= 'SGD_IKSA'\n",
        "DATASET_NAME = 'cifar10'\n"
      ]
    },
    {
      "cell_type": "code",
      "execution_count": null,
      "metadata": {
        "colab": {
          "base_uri": "https://localhost:8080/"
        },
        "id": "za7hsKvfB9cM",
        "outputId": "3b615ed0-7be5-4e1c-d77d-33b8ce5687ff"
      },
      "outputs": [
        {
          "name": "stdout",
          "output_type": "stream",
          "text": [
            "cuda\n"
          ]
        }
      ],
      "source": [
        "device = torch.device('cuda' if torch.cuda.is_available() else 'cpu')\n",
        "print(device)"
      ]
    },
    {
      "cell_type": "code",
      "execution_count": null,
      "metadata": {
        "id": "TglvDXQg9wFu"
      },
      "outputs": [],
      "source": [
        "# LOAD MODEL FROM TORCH: model = torch.hub.load('pytorch/vision:v0.6.0', MODEL_IDENTIFIER, weights = None, verbose=False)\n",
        "# from cifar10_models.vgg import VGG\n",
        "from cifar10_models.resnet import ResNet56_noshort\n",
        "from cifar10_models.resnet import ResNet110_noshort"
      ]
    },
    {
      "cell_type": "code",
      "execution_count": null,
      "metadata": {
        "id": "WBHA61z6tDPH"
      },
      "outputs": [],
      "source": [
        "# model = VGG()\n",
        "model = ResNet110_noshort()"
      ]
    },
    {
      "cell_type": "code",
      "execution_count": null,
      "metadata": {
        "colab": {
          "base_uri": "https://localhost:8080/"
        },
        "id": "XTzyeQ2koIk7",
        "outputId": "110b851a-97a6-4144-eaed-34ae34020d9e"
      },
      "outputs": [
        {
          "data": {
            "text/plain": [
              "ResNet_cifar(\n",
              "  (conv1): Conv2d(3, 16, kernel_size=(3, 3), stride=(1, 1), padding=(1, 1), bias=False)\n",
              "  (bn1): BatchNorm2d(16, eps=1e-05, momentum=0.1, affine=True, track_running_stats=True)\n",
              "  (layer1): Sequential(\n",
              "    (0): BasicBlock_noshortcut(\n",
              "      (conv1): Conv2d(16, 16, kernel_size=(3, 3), stride=(1, 1), padding=(1, 1), bias=False)\n",
              "      (bn1): BatchNorm2d(16, eps=1e-05, momentum=0.1, affine=True, track_running_stats=True)\n",
              "      (conv2): Conv2d(16, 16, kernel_size=(3, 3), stride=(1, 1), padding=(1, 1), bias=False)\n",
              "      (bn2): BatchNorm2d(16, eps=1e-05, momentum=0.1, affine=True, track_running_stats=True)\n",
              "    )\n",
              "    (1): BasicBlock_noshortcut(\n",
              "      (conv1): Conv2d(16, 16, kernel_size=(3, 3), stride=(1, 1), padding=(1, 1), bias=False)\n",
              "      (bn1): BatchNorm2d(16, eps=1e-05, momentum=0.1, affine=True, track_running_stats=True)\n",
              "      (conv2): Conv2d(16, 16, kernel_size=(3, 3), stride=(1, 1), padding=(1, 1), bias=False)\n",
              "      (bn2): BatchNorm2d(16, eps=1e-05, momentum=0.1, affine=True, track_running_stats=True)\n",
              "    )\n",
              "    (2): BasicBlock_noshortcut(\n",
              "      (conv1): Conv2d(16, 16, kernel_size=(3, 3), stride=(1, 1), padding=(1, 1), bias=False)\n",
              "      (bn1): BatchNorm2d(16, eps=1e-05, momentum=0.1, affine=True, track_running_stats=True)\n",
              "      (conv2): Conv2d(16, 16, kernel_size=(3, 3), stride=(1, 1), padding=(1, 1), bias=False)\n",
              "      (bn2): BatchNorm2d(16, eps=1e-05, momentum=0.1, affine=True, track_running_stats=True)\n",
              "    )\n",
              "    (3): BasicBlock_noshortcut(\n",
              "      (conv1): Conv2d(16, 16, kernel_size=(3, 3), stride=(1, 1), padding=(1, 1), bias=False)\n",
              "      (bn1): BatchNorm2d(16, eps=1e-05, momentum=0.1, affine=True, track_running_stats=True)\n",
              "      (conv2): Conv2d(16, 16, kernel_size=(3, 3), stride=(1, 1), padding=(1, 1), bias=False)\n",
              "      (bn2): BatchNorm2d(16, eps=1e-05, momentum=0.1, affine=True, track_running_stats=True)\n",
              "    )\n",
              "    (4): BasicBlock_noshortcut(\n",
              "      (conv1): Conv2d(16, 16, kernel_size=(3, 3), stride=(1, 1), padding=(1, 1), bias=False)\n",
              "      (bn1): BatchNorm2d(16, eps=1e-05, momentum=0.1, affine=True, track_running_stats=True)\n",
              "      (conv2): Conv2d(16, 16, kernel_size=(3, 3), stride=(1, 1), padding=(1, 1), bias=False)\n",
              "      (bn2): BatchNorm2d(16, eps=1e-05, momentum=0.1, affine=True, track_running_stats=True)\n",
              "    )\n",
              "    (5): BasicBlock_noshortcut(\n",
              "      (conv1): Conv2d(16, 16, kernel_size=(3, 3), stride=(1, 1), padding=(1, 1), bias=False)\n",
              "      (bn1): BatchNorm2d(16, eps=1e-05, momentum=0.1, affine=True, track_running_stats=True)\n",
              "      (conv2): Conv2d(16, 16, kernel_size=(3, 3), stride=(1, 1), padding=(1, 1), bias=False)\n",
              "      (bn2): BatchNorm2d(16, eps=1e-05, momentum=0.1, affine=True, track_running_stats=True)\n",
              "    )\n",
              "    (6): BasicBlock_noshortcut(\n",
              "      (conv1): Conv2d(16, 16, kernel_size=(3, 3), stride=(1, 1), padding=(1, 1), bias=False)\n",
              "      (bn1): BatchNorm2d(16, eps=1e-05, momentum=0.1, affine=True, track_running_stats=True)\n",
              "      (conv2): Conv2d(16, 16, kernel_size=(3, 3), stride=(1, 1), padding=(1, 1), bias=False)\n",
              "      (bn2): BatchNorm2d(16, eps=1e-05, momentum=0.1, affine=True, track_running_stats=True)\n",
              "    )\n",
              "    (7): BasicBlock_noshortcut(\n",
              "      (conv1): Conv2d(16, 16, kernel_size=(3, 3), stride=(1, 1), padding=(1, 1), bias=False)\n",
              "      (bn1): BatchNorm2d(16, eps=1e-05, momentum=0.1, affine=True, track_running_stats=True)\n",
              "      (conv2): Conv2d(16, 16, kernel_size=(3, 3), stride=(1, 1), padding=(1, 1), bias=False)\n",
              "      (bn2): BatchNorm2d(16, eps=1e-05, momentum=0.1, affine=True, track_running_stats=True)\n",
              "    )\n",
              "    (8): BasicBlock_noshortcut(\n",
              "      (conv1): Conv2d(16, 16, kernel_size=(3, 3), stride=(1, 1), padding=(1, 1), bias=False)\n",
              "      (bn1): BatchNorm2d(16, eps=1e-05, momentum=0.1, affine=True, track_running_stats=True)\n",
              "      (conv2): Conv2d(16, 16, kernel_size=(3, 3), stride=(1, 1), padding=(1, 1), bias=False)\n",
              "      (bn2): BatchNorm2d(16, eps=1e-05, momentum=0.1, affine=True, track_running_stats=True)\n",
              "    )\n",
              "    (9): BasicBlock_noshortcut(\n",
              "      (conv1): Conv2d(16, 16, kernel_size=(3, 3), stride=(1, 1), padding=(1, 1), bias=False)\n",
              "      (bn1): BatchNorm2d(16, eps=1e-05, momentum=0.1, affine=True, track_running_stats=True)\n",
              "      (conv2): Conv2d(16, 16, kernel_size=(3, 3), stride=(1, 1), padding=(1, 1), bias=False)\n",
              "      (bn2): BatchNorm2d(16, eps=1e-05, momentum=0.1, affine=True, track_running_stats=True)\n",
              "    )\n",
              "    (10): BasicBlock_noshortcut(\n",
              "      (conv1): Conv2d(16, 16, kernel_size=(3, 3), stride=(1, 1), padding=(1, 1), bias=False)\n",
              "      (bn1): BatchNorm2d(16, eps=1e-05, momentum=0.1, affine=True, track_running_stats=True)\n",
              "      (conv2): Conv2d(16, 16, kernel_size=(3, 3), stride=(1, 1), padding=(1, 1), bias=False)\n",
              "      (bn2): BatchNorm2d(16, eps=1e-05, momentum=0.1, affine=True, track_running_stats=True)\n",
              "    )\n",
              "    (11): BasicBlock_noshortcut(\n",
              "      (conv1): Conv2d(16, 16, kernel_size=(3, 3), stride=(1, 1), padding=(1, 1), bias=False)\n",
              "      (bn1): BatchNorm2d(16, eps=1e-05, momentum=0.1, affine=True, track_running_stats=True)\n",
              "      (conv2): Conv2d(16, 16, kernel_size=(3, 3), stride=(1, 1), padding=(1, 1), bias=False)\n",
              "      (bn2): BatchNorm2d(16, eps=1e-05, momentum=0.1, affine=True, track_running_stats=True)\n",
              "    )\n",
              "    (12): BasicBlock_noshortcut(\n",
              "      (conv1): Conv2d(16, 16, kernel_size=(3, 3), stride=(1, 1), padding=(1, 1), bias=False)\n",
              "      (bn1): BatchNorm2d(16, eps=1e-05, momentum=0.1, affine=True, track_running_stats=True)\n",
              "      (conv2): Conv2d(16, 16, kernel_size=(3, 3), stride=(1, 1), padding=(1, 1), bias=False)\n",
              "      (bn2): BatchNorm2d(16, eps=1e-05, momentum=0.1, affine=True, track_running_stats=True)\n",
              "    )\n",
              "    (13): BasicBlock_noshortcut(\n",
              "      (conv1): Conv2d(16, 16, kernel_size=(3, 3), stride=(1, 1), padding=(1, 1), bias=False)\n",
              "      (bn1): BatchNorm2d(16, eps=1e-05, momentum=0.1, affine=True, track_running_stats=True)\n",
              "      (conv2): Conv2d(16, 16, kernel_size=(3, 3), stride=(1, 1), padding=(1, 1), bias=False)\n",
              "      (bn2): BatchNorm2d(16, eps=1e-05, momentum=0.1, affine=True, track_running_stats=True)\n",
              "    )\n",
              "    (14): BasicBlock_noshortcut(\n",
              "      (conv1): Conv2d(16, 16, kernel_size=(3, 3), stride=(1, 1), padding=(1, 1), bias=False)\n",
              "      (bn1): BatchNorm2d(16, eps=1e-05, momentum=0.1, affine=True, track_running_stats=True)\n",
              "      (conv2): Conv2d(16, 16, kernel_size=(3, 3), stride=(1, 1), padding=(1, 1), bias=False)\n",
              "      (bn2): BatchNorm2d(16, eps=1e-05, momentum=0.1, affine=True, track_running_stats=True)\n",
              "    )\n",
              "    (15): BasicBlock_noshortcut(\n",
              "      (conv1): Conv2d(16, 16, kernel_size=(3, 3), stride=(1, 1), padding=(1, 1), bias=False)\n",
              "      (bn1): BatchNorm2d(16, eps=1e-05, momentum=0.1, affine=True, track_running_stats=True)\n",
              "      (conv2): Conv2d(16, 16, kernel_size=(3, 3), stride=(1, 1), padding=(1, 1), bias=False)\n",
              "      (bn2): BatchNorm2d(16, eps=1e-05, momentum=0.1, affine=True, track_running_stats=True)\n",
              "    )\n",
              "    (16): BasicBlock_noshortcut(\n",
              "      (conv1): Conv2d(16, 16, kernel_size=(3, 3), stride=(1, 1), padding=(1, 1), bias=False)\n",
              "      (bn1): BatchNorm2d(16, eps=1e-05, momentum=0.1, affine=True, track_running_stats=True)\n",
              "      (conv2): Conv2d(16, 16, kernel_size=(3, 3), stride=(1, 1), padding=(1, 1), bias=False)\n",
              "      (bn2): BatchNorm2d(16, eps=1e-05, momentum=0.1, affine=True, track_running_stats=True)\n",
              "    )\n",
              "    (17): BasicBlock_noshortcut(\n",
              "      (conv1): Conv2d(16, 16, kernel_size=(3, 3), stride=(1, 1), padding=(1, 1), bias=False)\n",
              "      (bn1): BatchNorm2d(16, eps=1e-05, momentum=0.1, affine=True, track_running_stats=True)\n",
              "      (conv2): Conv2d(16, 16, kernel_size=(3, 3), stride=(1, 1), padding=(1, 1), bias=False)\n",
              "      (bn2): BatchNorm2d(16, eps=1e-05, momentum=0.1, affine=True, track_running_stats=True)\n",
              "    )\n",
              "  )\n",
              "  (layer2): Sequential(\n",
              "    (0): BasicBlock_noshortcut(\n",
              "      (conv1): Conv2d(16, 32, kernel_size=(3, 3), stride=(2, 2), padding=(1, 1), bias=False)\n",
              "      (bn1): BatchNorm2d(32, eps=1e-05, momentum=0.1, affine=True, track_running_stats=True)\n",
              "      (conv2): Conv2d(32, 32, kernel_size=(3, 3), stride=(1, 1), padding=(1, 1), bias=False)\n",
              "      (bn2): BatchNorm2d(32, eps=1e-05, momentum=0.1, affine=True, track_running_stats=True)\n",
              "    )\n",
              "    (1): BasicBlock_noshortcut(\n",
              "      (conv1): Conv2d(32, 32, kernel_size=(3, 3), stride=(1, 1), padding=(1, 1), bias=False)\n",
              "      (bn1): BatchNorm2d(32, eps=1e-05, momentum=0.1, affine=True, track_running_stats=True)\n",
              "      (conv2): Conv2d(32, 32, kernel_size=(3, 3), stride=(1, 1), padding=(1, 1), bias=False)\n",
              "      (bn2): BatchNorm2d(32, eps=1e-05, momentum=0.1, affine=True, track_running_stats=True)\n",
              "    )\n",
              "    (2): BasicBlock_noshortcut(\n",
              "      (conv1): Conv2d(32, 32, kernel_size=(3, 3), stride=(1, 1), padding=(1, 1), bias=False)\n",
              "      (bn1): BatchNorm2d(32, eps=1e-05, momentum=0.1, affine=True, track_running_stats=True)\n",
              "      (conv2): Conv2d(32, 32, kernel_size=(3, 3), stride=(1, 1), padding=(1, 1), bias=False)\n",
              "      (bn2): BatchNorm2d(32, eps=1e-05, momentum=0.1, affine=True, track_running_stats=True)\n",
              "    )\n",
              "    (3): BasicBlock_noshortcut(\n",
              "      (conv1): Conv2d(32, 32, kernel_size=(3, 3), stride=(1, 1), padding=(1, 1), bias=False)\n",
              "      (bn1): BatchNorm2d(32, eps=1e-05, momentum=0.1, affine=True, track_running_stats=True)\n",
              "      (conv2): Conv2d(32, 32, kernel_size=(3, 3), stride=(1, 1), padding=(1, 1), bias=False)\n",
              "      (bn2): BatchNorm2d(32, eps=1e-05, momentum=0.1, affine=True, track_running_stats=True)\n",
              "    )\n",
              "    (4): BasicBlock_noshortcut(\n",
              "      (conv1): Conv2d(32, 32, kernel_size=(3, 3), stride=(1, 1), padding=(1, 1), bias=False)\n",
              "      (bn1): BatchNorm2d(32, eps=1e-05, momentum=0.1, affine=True, track_running_stats=True)\n",
              "      (conv2): Conv2d(32, 32, kernel_size=(3, 3), stride=(1, 1), padding=(1, 1), bias=False)\n",
              "      (bn2): BatchNorm2d(32, eps=1e-05, momentum=0.1, affine=True, track_running_stats=True)\n",
              "    )\n",
              "    (5): BasicBlock_noshortcut(\n",
              "      (conv1): Conv2d(32, 32, kernel_size=(3, 3), stride=(1, 1), padding=(1, 1), bias=False)\n",
              "      (bn1): BatchNorm2d(32, eps=1e-05, momentum=0.1, affine=True, track_running_stats=True)\n",
              "      (conv2): Conv2d(32, 32, kernel_size=(3, 3), stride=(1, 1), padding=(1, 1), bias=False)\n",
              "      (bn2): BatchNorm2d(32, eps=1e-05, momentum=0.1, affine=True, track_running_stats=True)\n",
              "    )\n",
              "    (6): BasicBlock_noshortcut(\n",
              "      (conv1): Conv2d(32, 32, kernel_size=(3, 3), stride=(1, 1), padding=(1, 1), bias=False)\n",
              "      (bn1): BatchNorm2d(32, eps=1e-05, momentum=0.1, affine=True, track_running_stats=True)\n",
              "      (conv2): Conv2d(32, 32, kernel_size=(3, 3), stride=(1, 1), padding=(1, 1), bias=False)\n",
              "      (bn2): BatchNorm2d(32, eps=1e-05, momentum=0.1, affine=True, track_running_stats=True)\n",
              "    )\n",
              "    (7): BasicBlock_noshortcut(\n",
              "      (conv1): Conv2d(32, 32, kernel_size=(3, 3), stride=(1, 1), padding=(1, 1), bias=False)\n",
              "      (bn1): BatchNorm2d(32, eps=1e-05, momentum=0.1, affine=True, track_running_stats=True)\n",
              "      (conv2): Conv2d(32, 32, kernel_size=(3, 3), stride=(1, 1), padding=(1, 1), bias=False)\n",
              "      (bn2): BatchNorm2d(32, eps=1e-05, momentum=0.1, affine=True, track_running_stats=True)\n",
              "    )\n",
              "    (8): BasicBlock_noshortcut(\n",
              "      (conv1): Conv2d(32, 32, kernel_size=(3, 3), stride=(1, 1), padding=(1, 1), bias=False)\n",
              "      (bn1): BatchNorm2d(32, eps=1e-05, momentum=0.1, affine=True, track_running_stats=True)\n",
              "      (conv2): Conv2d(32, 32, kernel_size=(3, 3), stride=(1, 1), padding=(1, 1), bias=False)\n",
              "      (bn2): BatchNorm2d(32, eps=1e-05, momentum=0.1, affine=True, track_running_stats=True)\n",
              "    )\n",
              "    (9): BasicBlock_noshortcut(\n",
              "      (conv1): Conv2d(32, 32, kernel_size=(3, 3), stride=(1, 1), padding=(1, 1), bias=False)\n",
              "      (bn1): BatchNorm2d(32, eps=1e-05, momentum=0.1, affine=True, track_running_stats=True)\n",
              "      (conv2): Conv2d(32, 32, kernel_size=(3, 3), stride=(1, 1), padding=(1, 1), bias=False)\n",
              "      (bn2): BatchNorm2d(32, eps=1e-05, momentum=0.1, affine=True, track_running_stats=True)\n",
              "    )\n",
              "    (10): BasicBlock_noshortcut(\n",
              "      (conv1): Conv2d(32, 32, kernel_size=(3, 3), stride=(1, 1), padding=(1, 1), bias=False)\n",
              "      (bn1): BatchNorm2d(32, eps=1e-05, momentum=0.1, affine=True, track_running_stats=True)\n",
              "      (conv2): Conv2d(32, 32, kernel_size=(3, 3), stride=(1, 1), padding=(1, 1), bias=False)\n",
              "      (bn2): BatchNorm2d(32, eps=1e-05, momentum=0.1, affine=True, track_running_stats=True)\n",
              "    )\n",
              "    (11): BasicBlock_noshortcut(\n",
              "      (conv1): Conv2d(32, 32, kernel_size=(3, 3), stride=(1, 1), padding=(1, 1), bias=False)\n",
              "      (bn1): BatchNorm2d(32, eps=1e-05, momentum=0.1, affine=True, track_running_stats=True)\n",
              "      (conv2): Conv2d(32, 32, kernel_size=(3, 3), stride=(1, 1), padding=(1, 1), bias=False)\n",
              "      (bn2): BatchNorm2d(32, eps=1e-05, momentum=0.1, affine=True, track_running_stats=True)\n",
              "    )\n",
              "    (12): BasicBlock_noshortcut(\n",
              "      (conv1): Conv2d(32, 32, kernel_size=(3, 3), stride=(1, 1), padding=(1, 1), bias=False)\n",
              "      (bn1): BatchNorm2d(32, eps=1e-05, momentum=0.1, affine=True, track_running_stats=True)\n",
              "      (conv2): Conv2d(32, 32, kernel_size=(3, 3), stride=(1, 1), padding=(1, 1), bias=False)\n",
              "      (bn2): BatchNorm2d(32, eps=1e-05, momentum=0.1, affine=True, track_running_stats=True)\n",
              "    )\n",
              "    (13): BasicBlock_noshortcut(\n",
              "      (conv1): Conv2d(32, 32, kernel_size=(3, 3), stride=(1, 1), padding=(1, 1), bias=False)\n",
              "      (bn1): BatchNorm2d(32, eps=1e-05, momentum=0.1, affine=True, track_running_stats=True)\n",
              "      (conv2): Conv2d(32, 32, kernel_size=(3, 3), stride=(1, 1), padding=(1, 1), bias=False)\n",
              "      (bn2): BatchNorm2d(32, eps=1e-05, momentum=0.1, affine=True, track_running_stats=True)\n",
              "    )\n",
              "    (14): BasicBlock_noshortcut(\n",
              "      (conv1): Conv2d(32, 32, kernel_size=(3, 3), stride=(1, 1), padding=(1, 1), bias=False)\n",
              "      (bn1): BatchNorm2d(32, eps=1e-05, momentum=0.1, affine=True, track_running_stats=True)\n",
              "      (conv2): Conv2d(32, 32, kernel_size=(3, 3), stride=(1, 1), padding=(1, 1), bias=False)\n",
              "      (bn2): BatchNorm2d(32, eps=1e-05, momentum=0.1, affine=True, track_running_stats=True)\n",
              "    )\n",
              "    (15): BasicBlock_noshortcut(\n",
              "      (conv1): Conv2d(32, 32, kernel_size=(3, 3), stride=(1, 1), padding=(1, 1), bias=False)\n",
              "      (bn1): BatchNorm2d(32, eps=1e-05, momentum=0.1, affine=True, track_running_stats=True)\n",
              "      (conv2): Conv2d(32, 32, kernel_size=(3, 3), stride=(1, 1), padding=(1, 1), bias=False)\n",
              "      (bn2): BatchNorm2d(32, eps=1e-05, momentum=0.1, affine=True, track_running_stats=True)\n",
              "    )\n",
              "    (16): BasicBlock_noshortcut(\n",
              "      (conv1): Conv2d(32, 32, kernel_size=(3, 3), stride=(1, 1), padding=(1, 1), bias=False)\n",
              "      (bn1): BatchNorm2d(32, eps=1e-05, momentum=0.1, affine=True, track_running_stats=True)\n",
              "      (conv2): Conv2d(32, 32, kernel_size=(3, 3), stride=(1, 1), padding=(1, 1), bias=False)\n",
              "      (bn2): BatchNorm2d(32, eps=1e-05, momentum=0.1, affine=True, track_running_stats=True)\n",
              "    )\n",
              "    (17): BasicBlock_noshortcut(\n",
              "      (conv1): Conv2d(32, 32, kernel_size=(3, 3), stride=(1, 1), padding=(1, 1), bias=False)\n",
              "      (bn1): BatchNorm2d(32, eps=1e-05, momentum=0.1, affine=True, track_running_stats=True)\n",
              "      (conv2): Conv2d(32, 32, kernel_size=(3, 3), stride=(1, 1), padding=(1, 1), bias=False)\n",
              "      (bn2): BatchNorm2d(32, eps=1e-05, momentum=0.1, affine=True, track_running_stats=True)\n",
              "    )\n",
              "  )\n",
              "  (layer3): Sequential(\n",
              "    (0): BasicBlock_noshortcut(\n",
              "      (conv1): Conv2d(32, 64, kernel_size=(3, 3), stride=(2, 2), padding=(1, 1), bias=False)\n",
              "      (bn1): BatchNorm2d(64, eps=1e-05, momentum=0.1, affine=True, track_running_stats=True)\n",
              "      (conv2): Conv2d(64, 64, kernel_size=(3, 3), stride=(1, 1), padding=(1, 1), bias=False)\n",
              "      (bn2): BatchNorm2d(64, eps=1e-05, momentum=0.1, affine=True, track_running_stats=True)\n",
              "    )\n",
              "    (1): BasicBlock_noshortcut(\n",
              "      (conv1): Conv2d(64, 64, kernel_size=(3, 3), stride=(1, 1), padding=(1, 1), bias=False)\n",
              "      (bn1): BatchNorm2d(64, eps=1e-05, momentum=0.1, affine=True, track_running_stats=True)\n",
              "      (conv2): Conv2d(64, 64, kernel_size=(3, 3), stride=(1, 1), padding=(1, 1), bias=False)\n",
              "      (bn2): BatchNorm2d(64, eps=1e-05, momentum=0.1, affine=True, track_running_stats=True)\n",
              "    )\n",
              "    (2): BasicBlock_noshortcut(\n",
              "      (conv1): Conv2d(64, 64, kernel_size=(3, 3), stride=(1, 1), padding=(1, 1), bias=False)\n",
              "      (bn1): BatchNorm2d(64, eps=1e-05, momentum=0.1, affine=True, track_running_stats=True)\n",
              "      (conv2): Conv2d(64, 64, kernel_size=(3, 3), stride=(1, 1), padding=(1, 1), bias=False)\n",
              "      (bn2): BatchNorm2d(64, eps=1e-05, momentum=0.1, affine=True, track_running_stats=True)\n",
              "    )\n",
              "    (3): BasicBlock_noshortcut(\n",
              "      (conv1): Conv2d(64, 64, kernel_size=(3, 3), stride=(1, 1), padding=(1, 1), bias=False)\n",
              "      (bn1): BatchNorm2d(64, eps=1e-05, momentum=0.1, affine=True, track_running_stats=True)\n",
              "      (conv2): Conv2d(64, 64, kernel_size=(3, 3), stride=(1, 1), padding=(1, 1), bias=False)\n",
              "      (bn2): BatchNorm2d(64, eps=1e-05, momentum=0.1, affine=True, track_running_stats=True)\n",
              "    )\n",
              "    (4): BasicBlock_noshortcut(\n",
              "      (conv1): Conv2d(64, 64, kernel_size=(3, 3), stride=(1, 1), padding=(1, 1), bias=False)\n",
              "      (bn1): BatchNorm2d(64, eps=1e-05, momentum=0.1, affine=True, track_running_stats=True)\n",
              "      (conv2): Conv2d(64, 64, kernel_size=(3, 3), stride=(1, 1), padding=(1, 1), bias=False)\n",
              "      (bn2): BatchNorm2d(64, eps=1e-05, momentum=0.1, affine=True, track_running_stats=True)\n",
              "    )\n",
              "    (5): BasicBlock_noshortcut(\n",
              "      (conv1): Conv2d(64, 64, kernel_size=(3, 3), stride=(1, 1), padding=(1, 1), bias=False)\n",
              "      (bn1): BatchNorm2d(64, eps=1e-05, momentum=0.1, affine=True, track_running_stats=True)\n",
              "      (conv2): Conv2d(64, 64, kernel_size=(3, 3), stride=(1, 1), padding=(1, 1), bias=False)\n",
              "      (bn2): BatchNorm2d(64, eps=1e-05, momentum=0.1, affine=True, track_running_stats=True)\n",
              "    )\n",
              "    (6): BasicBlock_noshortcut(\n",
              "      (conv1): Conv2d(64, 64, kernel_size=(3, 3), stride=(1, 1), padding=(1, 1), bias=False)\n",
              "      (bn1): BatchNorm2d(64, eps=1e-05, momentum=0.1, affine=True, track_running_stats=True)\n",
              "      (conv2): Conv2d(64, 64, kernel_size=(3, 3), stride=(1, 1), padding=(1, 1), bias=False)\n",
              "      (bn2): BatchNorm2d(64, eps=1e-05, momentum=0.1, affine=True, track_running_stats=True)\n",
              "    )\n",
              "    (7): BasicBlock_noshortcut(\n",
              "      (conv1): Conv2d(64, 64, kernel_size=(3, 3), stride=(1, 1), padding=(1, 1), bias=False)\n",
              "      (bn1): BatchNorm2d(64, eps=1e-05, momentum=0.1, affine=True, track_running_stats=True)\n",
              "      (conv2): Conv2d(64, 64, kernel_size=(3, 3), stride=(1, 1), padding=(1, 1), bias=False)\n",
              "      (bn2): BatchNorm2d(64, eps=1e-05, momentum=0.1, affine=True, track_running_stats=True)\n",
              "    )\n",
              "    (8): BasicBlock_noshortcut(\n",
              "      (conv1): Conv2d(64, 64, kernel_size=(3, 3), stride=(1, 1), padding=(1, 1), bias=False)\n",
              "      (bn1): BatchNorm2d(64, eps=1e-05, momentum=0.1, affine=True, track_running_stats=True)\n",
              "      (conv2): Conv2d(64, 64, kernel_size=(3, 3), stride=(1, 1), padding=(1, 1), bias=False)\n",
              "      (bn2): BatchNorm2d(64, eps=1e-05, momentum=0.1, affine=True, track_running_stats=True)\n",
              "    )\n",
              "    (9): BasicBlock_noshortcut(\n",
              "      (conv1): Conv2d(64, 64, kernel_size=(3, 3), stride=(1, 1), padding=(1, 1), bias=False)\n",
              "      (bn1): BatchNorm2d(64, eps=1e-05, momentum=0.1, affine=True, track_running_stats=True)\n",
              "      (conv2): Conv2d(64, 64, kernel_size=(3, 3), stride=(1, 1), padding=(1, 1), bias=False)\n",
              "      (bn2): BatchNorm2d(64, eps=1e-05, momentum=0.1, affine=True, track_running_stats=True)\n",
              "    )\n",
              "    (10): BasicBlock_noshortcut(\n",
              "      (conv1): Conv2d(64, 64, kernel_size=(3, 3), stride=(1, 1), padding=(1, 1), bias=False)\n",
              "      (bn1): BatchNorm2d(64, eps=1e-05, momentum=0.1, affine=True, track_running_stats=True)\n",
              "      (conv2): Conv2d(64, 64, kernel_size=(3, 3), stride=(1, 1), padding=(1, 1), bias=False)\n",
              "      (bn2): BatchNorm2d(64, eps=1e-05, momentum=0.1, affine=True, track_running_stats=True)\n",
              "    )\n",
              "    (11): BasicBlock_noshortcut(\n",
              "      (conv1): Conv2d(64, 64, kernel_size=(3, 3), stride=(1, 1), padding=(1, 1), bias=False)\n",
              "      (bn1): BatchNorm2d(64, eps=1e-05, momentum=0.1, affine=True, track_running_stats=True)\n",
              "      (conv2): Conv2d(64, 64, kernel_size=(3, 3), stride=(1, 1), padding=(1, 1), bias=False)\n",
              "      (bn2): BatchNorm2d(64, eps=1e-05, momentum=0.1, affine=True, track_running_stats=True)\n",
              "    )\n",
              "    (12): BasicBlock_noshortcut(\n",
              "      (conv1): Conv2d(64, 64, kernel_size=(3, 3), stride=(1, 1), padding=(1, 1), bias=False)\n",
              "      (bn1): BatchNorm2d(64, eps=1e-05, momentum=0.1, affine=True, track_running_stats=True)\n",
              "      (conv2): Conv2d(64, 64, kernel_size=(3, 3), stride=(1, 1), padding=(1, 1), bias=False)\n",
              "      (bn2): BatchNorm2d(64, eps=1e-05, momentum=0.1, affine=True, track_running_stats=True)\n",
              "    )\n",
              "    (13): BasicBlock_noshortcut(\n",
              "      (conv1): Conv2d(64, 64, kernel_size=(3, 3), stride=(1, 1), padding=(1, 1), bias=False)\n",
              "      (bn1): BatchNorm2d(64, eps=1e-05, momentum=0.1, affine=True, track_running_stats=True)\n",
              "      (conv2): Conv2d(64, 64, kernel_size=(3, 3), stride=(1, 1), padding=(1, 1), bias=False)\n",
              "      (bn2): BatchNorm2d(64, eps=1e-05, momentum=0.1, affine=True, track_running_stats=True)\n",
              "    )\n",
              "    (14): BasicBlock_noshortcut(\n",
              "      (conv1): Conv2d(64, 64, kernel_size=(3, 3), stride=(1, 1), padding=(1, 1), bias=False)\n",
              "      (bn1): BatchNorm2d(64, eps=1e-05, momentum=0.1, affine=True, track_running_stats=True)\n",
              "      (conv2): Conv2d(64, 64, kernel_size=(3, 3), stride=(1, 1), padding=(1, 1), bias=False)\n",
              "      (bn2): BatchNorm2d(64, eps=1e-05, momentum=0.1, affine=True, track_running_stats=True)\n",
              "    )\n",
              "    (15): BasicBlock_noshortcut(\n",
              "      (conv1): Conv2d(64, 64, kernel_size=(3, 3), stride=(1, 1), padding=(1, 1), bias=False)\n",
              "      (bn1): BatchNorm2d(64, eps=1e-05, momentum=0.1, affine=True, track_running_stats=True)\n",
              "      (conv2): Conv2d(64, 64, kernel_size=(3, 3), stride=(1, 1), padding=(1, 1), bias=False)\n",
              "      (bn2): BatchNorm2d(64, eps=1e-05, momentum=0.1, affine=True, track_running_stats=True)\n",
              "    )\n",
              "    (16): BasicBlock_noshortcut(\n",
              "      (conv1): Conv2d(64, 64, kernel_size=(3, 3), stride=(1, 1), padding=(1, 1), bias=False)\n",
              "      (bn1): BatchNorm2d(64, eps=1e-05, momentum=0.1, affine=True, track_running_stats=True)\n",
              "      (conv2): Conv2d(64, 64, kernel_size=(3, 3), stride=(1, 1), padding=(1, 1), bias=False)\n",
              "      (bn2): BatchNorm2d(64, eps=1e-05, momentum=0.1, affine=True, track_running_stats=True)\n",
              "    )\n",
              "    (17): BasicBlock_noshortcut(\n",
              "      (conv1): Conv2d(64, 64, kernel_size=(3, 3), stride=(1, 1), padding=(1, 1), bias=False)\n",
              "      (bn1): BatchNorm2d(64, eps=1e-05, momentum=0.1, affine=True, track_running_stats=True)\n",
              "      (conv2): Conv2d(64, 64, kernel_size=(3, 3), stride=(1, 1), padding=(1, 1), bias=False)\n",
              "      (bn2): BatchNorm2d(64, eps=1e-05, momentum=0.1, affine=True, track_running_stats=True)\n",
              "    )\n",
              "  )\n",
              "  (linear): Linear(in_features=64, out_features=10, bias=True)\n",
              ")"
            ]
          },
          "execution_count": 9,
          "metadata": {},
          "output_type": "execute_result"
        }
      ],
      "source": [
        "model.to(device)"
      ]
    },
    {
      "cell_type": "code",
      "execution_count": null,
      "metadata": {
        "colab": {
          "base_uri": "https://localhost:8080/"
        },
        "id": "FbrvkmeqDYY2",
        "outputId": "b2d6072d-7b4a-48d7-bbc2-79973b89052d"
      },
      "outputs": [
        {
          "name": "stdout",
          "output_type": "stream",
          "text": [
            "Files already downloaded and verified\n",
            "Files already downloaded and verified\n"
          ]
        }
      ],
      "source": [
        "PATH_TO_DATASET = \"./data\"\n",
        "\n",
        "transform_train = T.Compose([\n",
        "    T.RandomCrop(32, padding=4),\n",
        "    T.RandomHorizontalFlip(),\n",
        "    T.ToTensor(),\n",
        "    T.Normalize((0.4914, 0.4822, 0.4465), (0.2023, 0.1994, 0.2010)),\n",
        "])\n",
        "transform_test = T.Compose([\n",
        "    T.ToTensor(),\n",
        "    T.Normalize((0.4914, 0.4822, 0.4465), (0.2023, 0.1994, 0.2010)),\n",
        "])\n",
        "\n",
        "dataset = CIFAR10(root='./data', \n",
        "                   train=True,\n",
        "                   download=True, \n",
        "                   transform=transform_train)\n",
        "\n",
        "testset = CIFAR10(root='./data', \n",
        "                  train=False,\n",
        "                  download=True, \n",
        "                  transform=transform_test)"
      ]
    },
    {
      "cell_type": "code",
      "execution_count": null,
      "metadata": {
        "colab": {
          "base_uri": "https://localhost:8080/"
        },
        "id": "8xbf9i2N-qmQ",
        "outputId": "2d300b7b-60aa-42be-ddb7-4f1f48f9894f"
      },
      "outputs": [
        {
          "name": "stdout",
          "output_type": "stream",
          "text": [
            "Dateset Size:  50000\n",
            "Classes:  ['airplane', 'automobile', 'bird', 'cat', 'deer', 'dog', 'frog', 'horse', 'ship', 'truck']\n"
          ]
        }
      ],
      "source": [
        "dataset_size = len(dataset)\n",
        "print(\"Dateset Size: \", dataset_size)\n",
        "classes = dataset.classes\n",
        "print(\"Classes: \", classes[0:10])"
      ]
    },
    {
      "cell_type": "code",
      "execution_count": null,
      "metadata": {
        "colab": {
          "base_uri": "https://localhost:8080/"
        },
        "id": "bN6Cpl2n_R6j",
        "outputId": "9face8f8-2fba-4a7d-ffc5-641f796721b6"
      },
      "outputs": [
        {
          "data": {
            "text/plain": [
              "torch.Size([3, 32, 32])"
            ]
          },
          "execution_count": 13,
          "metadata": {},
          "output_type": "execute_result"
        }
      ],
      "source": [
        "img, label = dataset[1]\n",
        "img_shape = img.shape\n",
        "img_shape"
      ]
    },
    {
      "cell_type": "code",
      "execution_count": null,
      "metadata": {
        "colab": {
          "base_uri": "https://localhost:8080/",
          "height": 358
        },
        "id": "hkjDPeLS_SsA",
        "outputId": "bc0bbacd-b42e-449d-cfc2-e251dcd7ebaa"
      },
      "outputs": [
        {
          "name": "stderr",
          "output_type": "stream",
          "text": [
            "WARNING:matplotlib.image:Clipping input data to the valid range for imshow with RGB data ([0..1] for floats or [0..255] for integers).\n"
          ]
        },
        {
          "name": "stdout",
          "output_type": "stream",
          "text": [
            "Label (numeric): 6\n",
            "Label (textual): frog\n",
            "<class 'torch.Tensor'>\n",
            "torch.Size([3, 32, 32])\n"
          ]
        },
        {
          "data": {
            "image/png": "[encoded data removed]",
            "text/plain": [
              "<Figure size 432x288 with 1 Axes>"
            ]
          },
          "metadata": {},
          "output_type": "display_data"
        }
      ],
      "source": [
        "img, label = dataset[0]\n",
        "plt.imshow(img.permute((1, 2, 0)))\n",
        "print('Label (numeric):', label)\n",
        "print('Label (textual):', classes[label])\n",
        "print(type(img))\n",
        "print(img.size())"
      ]
    },
    {
      "cell_type": "code",
      "execution_count": null,
      "metadata": {
        "id": "Ar-9BN3IbRm2"
      },
      "outputs": [],
      "source": [
        "# We set the seed at the beginning of each experiment to ensure reproducibility.\n",
        "# We also make sure no non-deterministic methods are used.\n",
        "\n",
        "def setup_seed(s):\n",
        "  torch.manual_seed(s)\n",
        "  random.seed(s)\n",
        "  np.random.seed(s)\n",
        "  torch.backends.cudnn.deterministic = True\n",
        "  torch.backends.cudnn.benchmark = False"
      ]
    },
    {
      "cell_type": "code",
      "execution_count": null,
      "metadata": {
        "id": "VVd4QLNZbR1_"
      },
      "outputs": [],
      "source": [
        "SEED = 1234"
      ]
    },
    {
      "cell_type": "code",
      "execution_count": null,
      "metadata": {
        "id": "nvVyjLBlbWb7"
      },
      "outputs": [],
      "source": [
        "setup_seed(SEED)"
      ]
    },
    {
      "cell_type": "code",
      "execution_count": null,
      "metadata": {
        "id": "iiZsn-AzbWkx"
      },
      "outputs": [],
      "source": [
        "# We preserve reproducibility in data loading:\n",
        "def seed_worker(worker_id):\n",
        "  worker_seed = torch.initial_seed() % 2**32"
      ]
    },
    {
      "cell_type": "code",
      "execution_count": null,
      "metadata": {
        "colab": {
          "base_uri": "https://localhost:8080/"
        },
        "id": "vL16sSqgbR_3",
        "outputId": "4b7c9c99-884d-463e-c0c8-64cefb7bbfe1"
      },
      "outputs": [
        {
          "data": {
            "text/plain": [
              "<torch._C.Generator at 0x7f4c478ced50>"
            ]
          },
          "execution_count": 15,
          "metadata": {},
          "output_type": "execute_result"
        }
      ],
      "source": [
        "g = torch.Generator()\n",
        "g.manual_seed(SEED)"
      ]
    },
    {
      "cell_type": "code",
      "execution_count": null,
      "metadata": {
        "id": "tgWXE5Iz_kcL"
      },
      "outputs": [],
      "source": [
        "BATCH_SIZE = 128\n",
        "train_loader = torch.utils.data.DataLoader(dataset, \n",
        "                                           batch_size=BATCH_SIZE, \n",
        "                                           shuffle=True, \n",
        "                                           num_workers=4, \n",
        "                                           worker_init_fn=seed_worker, \n",
        "                                           generator=g)"
      ]
    },
    {
      "cell_type": "code",
      "execution_count": null,
      "metadata": {
        "id": "_FOSlsw2timo"
      },
      "outputs": [],
      "source": [
        "# FUNCTIONS FOR IKSA OPTIMIZER\n",
        "identity_function = lambda x: x\n",
        "square_function = lambda x: x**2\n",
        "cube_function = lambda x: x**3\n",
        "arctan_x_sq_function = lambda x: torch.atan(x**2)\n",
        "FNAME = \"x^2\""
      ]
    },
    {
      "cell_type": "code",
      "execution_count": null,
      "metadata": {
        "id": "K2j4wyXm_9gv"
      },
      "outputs": [],
      "source": [
        "N_EPOCHS = 100\n",
        "LR = 0.05 # 0.005, 0.001\n",
        "MOMENTUM = 0.9\n",
        "WEIGHT_DECAY = 0 # previously 0.0005\n",
        "LM_c = 1\n",
        "LM_c_run_min = False\n",
        "EPS_IAKSA = 1\n",
        "BETAS = (0.9, 0.999) # default beta values for the Adam Optimizer\n",
        "# different values of c: 2, 1, adaptive\n",
        "# --------------------------------------------\n",
        "criterion = torch.nn.CrossEntropyLoss()\n",
        "# choose different optimizers: RMSProp, Adam\n",
        "optimizer = SGD_IKSA(model.parameters(), lr=LR, momentum=MOMENTUM, weight_decay=WEIGHT_DECAY, function=square_function, eps_IAKSA=EPS_IAKSA)\n",
        "# optimizer = Adam_IKSA(model.parameters(), lr=LR, betas=BETAS, weight_decay=WEIGHT_DECAY, function=square_function, eps=EPS_IAKSA)"
      ]
    },
    {
      "cell_type": "code",
      "execution_count": null,
      "metadata": {
        "colab": {
          "base_uri": "https://localhost:8080/"
        },
        "id": "02mCq2xWcQHd",
        "outputId": "06499d91-d57e-4373-e6fd-10bfacb1784a"
      },
      "outputs": [
        {
          "name": "stdout",
          "output_type": "stream",
          "text": [
            "cifar10_resnet110_noshort_SGD_IKSA_epochs=100_BS=128_SEED=1234_LR=0.05_MOM=0.9_WD=0_C=1_f=x^2.pt\n"
          ]
        }
      ],
      "source": [
        "if not LM_c_run_min:\n",
        "  SAVED_MODEL_NAME = f'{DATASET_NAME}_{MODEL_IDENTIFIER}_{OPTIMIZER_NAME}_epochs={N_EPOCHS}_BS={BATCH_SIZE}_SEED={SEED}_LR={LR}_MOM={MOMENTUM}_WD={WEIGHT_DECAY}_C={LM_c}_f={FNAME}.pt'\n",
        "  #SAVED_MODEL_NAME = f'{DATASET_NAME}_{MODEL_IDENTIFIER}_{OPTIMIZER_NAME}_epochs={N_EPOCHS}_BS={BATCH_SIZE}_SEED={SEED}_LR={LR}_BETA1={BETAS[0]}_BETA2={BETAS[1]}_WD={WEIGHT_DECAY}_C={LM_c}_f={FNAME}.pt'\n",
        "else:\n",
        "  SAVED_MODEL_NAME = f'{DATASET_NAME}_{MODEL_IDENTIFIER}_{OPTIMIZER_NAME}_epochs={N_EPOCHS}_BS={BATCH_SIZE}_SEED={SEED}_LR={LR}_MOM={MOMENTUM}_WD={WEIGHT_DECAY}_C=adaptive_f={FNAME}.pt'\n",
        "  #SAVED_MODEL_NAME = f'{DATASET_NAME}_{MODEL_IDENTIFIER}_{OPTIMIZER_NAME}_epochs={N_EPOCHS}_BS={BATCH_SIZE}_SEED={SEED}_LR={LR}_BETA1={BETAS[0]}_BETA2={BETAS[1]}_WD={WEIGHT_DECAY}_C=adaptive_f={FNAME}.pt'\n",
        "print(SAVED_MODEL_NAME)"
      ]
    },
    {
      "cell_type": "code",
      "execution_count": null,
      "metadata": {
        "colab": {
          "base_uri": "https://localhost:8080/"
        },
        "id": "ybtInIlcuwxj",
        "outputId": "b33fa965-3023-462b-bc04-9c81254cb97c"
      },
      "outputs": [
        {
          "name": "stdout",
          "output_type": "stream",
          "text": [
            "cifar10_resnet110_noshort_SGD_IKSA_epochs=100_BS=128_SEED=1234_LR=0.05_MOM=0.9_WD=0_C=1_f=x^2\n"
          ]
        }
      ],
      "source": [
        "if not LM_c_run_min:\n",
        "  PARTIAL_NAME = f'{DATASET_NAME}_{MODEL_IDENTIFIER}_{OPTIMIZER_NAME}_epochs={N_EPOCHS}_BS={BATCH_SIZE}_SEED={SEED}_LR={LR}_MOM={MOMENTUM}_WD={WEIGHT_DECAY}_C={LM_c}_f={FNAME}'\n",
        "  #PARTIAL_NAME = f'{DATASET_NAME}_{MODEL_IDENTIFIER}_{OPTIMIZER_NAME}_epochs={N_EPOCHS}_BS={BATCH_SIZE}_SEED={SEED}_LR={LR}_BETA1={BETAS[0]}_BETA2={BETAS[1]}_WD={WEIGHT_DECAY}_C={LM_c}_f={FNAME}'\n",
        "else:\n",
        "  PARTIAL_NAME = f'{DATASET_NAME}_{MODEL_IDENTIFIER}_{OPTIMIZER_NAME}_epochs={N_EPOCHS}_BS={BATCH_SIZE}_SEED={SEED}_LR={LR}_MOM={MOMENTUM}_WD={WEIGHT_DECAY}_C=adaptive_f={FNAME}'\n",
        "  #PARTIAL_NAME = f'{DATASET_NAME}_{MODEL_IDENTIFIER}_{OPTIMIZER_NAME}_epochs={N_EPOCHS}_BS={BATCH_SIZE}_SEED={SEED}_LR={LR}_BETA1={BETAS[0]}_BETA2={BETAS[1]}_WD={WEIGHT_DECAY}_C=adaptive_f={FNAME}'\n",
        "print(PARTIAL_NAME)"
      ]
    },
    {
      "cell_type": "code",
      "execution_count": null,
      "metadata": {
        "colab": {
          "base_uri": "https://localhost:8080/"
        },
        "id": "Ca7iDpGmBJ-S",
        "outputId": "a645928f-1e7c-4992-d419-2b286fd84195"
      },
      "outputs": [
        {
          "name": "stderr",
          "output_type": "stream",
          "text": [
            "100%|██████████| 391/391 [01:15<00:00,  5.18it/s]\n"
          ]
        },
        {
          "name": "stdout",
          "output_type": "stream",
          "text": [
            "Train Loss : 2.3041213723399756 ;   Accuracy : 10.382%\n"
          ]
        },
        {
          "name": "stderr",
          "output_type": "stream",
          "text": [
            "100%|██████████| 391/391 [01:10<00:00,  5.58it/s]\n"
          ]
        },
        {
          "name": "stdout",
          "output_type": "stream",
          "text": [
            "Train Loss : 2.301760017414532 ;   Accuracy : 10.028%\n"
          ]
        },
        {
          "name": "stderr",
          "output_type": "stream",
          "text": [
            "100%|██████████| 391/391 [01:09<00:00,  5.62it/s]\n"
          ]
        },
        {
          "name": "stdout",
          "output_type": "stream",
          "text": [
            "Train Loss : 2.3009906144398253 ;   Accuracy : 9.996%\n"
          ]
        },
        {
          "name": "stderr",
          "output_type": "stream",
          "text": [
            "100%|██████████| 391/391 [01:09<00:00,  5.66it/s]\n"
          ]
        },
        {
          "name": "stdout",
          "output_type": "stream",
          "text": [
            "Train Loss : 2.301351626510815 ;   Accuracy : 10.118%\n"
          ]
        },
        {
          "name": "stderr",
          "output_type": "stream",
          "text": [
            "100%|██████████| 391/391 [01:09<00:00,  5.66it/s]\n"
          ]
        },
        {
          "name": "stdout",
          "output_type": "stream",
          "text": [
            "Train Loss : 2.301460585630763 ;   Accuracy : 10.084%\n"
          ]
        },
        {
          "name": "stderr",
          "output_type": "stream",
          "text": [
            "100%|██████████| 391/391 [01:09<00:00,  5.64it/s]\n"
          ]
        },
        {
          "name": "stdout",
          "output_type": "stream",
          "text": [
            "Train Loss : 2.3009463143165765 ;   Accuracy : 10.154%\n"
          ]
        },
        {
          "name": "stderr",
          "output_type": "stream",
          "text": [
            "100%|██████████| 391/391 [01:08<00:00,  5.67it/s]\n"
          ]
        },
        {
          "name": "stdout",
          "output_type": "stream",
          "text": [
            "Train Loss : 2.300723912465908 ;   Accuracy : 10.124%\n"
          ]
        },
        {
          "name": "stderr",
          "output_type": "stream",
          "text": [
            "100%|██████████| 391/391 [01:08<00:00,  5.67it/s]\n"
          ]
        },
        {
          "name": "stdout",
          "output_type": "stream",
          "text": [
            "Train Loss : 2.3007577124154173 ;   Accuracy : 10.318%\n"
          ]
        },
        {
          "name": "stderr",
          "output_type": "stream",
          "text": [
            "100%|██████████| 391/391 [01:09<00:00,  5.62it/s]\n"
          ]
        },
        {
          "name": "stdout",
          "output_type": "stream",
          "text": [
            "Train Loss : 2.300939695304617 ;   Accuracy : 9.988%\n"
          ]
        },
        {
          "name": "stderr",
          "output_type": "stream",
          "text": [
            "100%|██████████| 391/391 [01:09<00:00,  5.64it/s]\n"
          ]
        },
        {
          "name": "stdout",
          "output_type": "stream",
          "text": [
            "Train Loss : 2.300759265489895 ;   Accuracy : 10.036%\n"
          ]
        },
        {
          "name": "stderr",
          "output_type": "stream",
          "text": [
            "100%|██████████| 391/391 [01:09<00:00,  5.63it/s]\n"
          ]
        },
        {
          "name": "stdout",
          "output_type": "stream",
          "text": [
            "Train Loss : 2.300781005483759 ;   Accuracy : 10.082%\n"
          ]
        },
        {
          "name": "stderr",
          "output_type": "stream",
          "text": [
            "100%|██████████| 391/391 [01:09<00:00,  5.63it/s]\n"
          ]
        },
        {
          "name": "stdout",
          "output_type": "stream",
          "text": [
            "Train Loss : 2.300919416310537 ;   Accuracy : 10.056%\n"
          ]
        },
        {
          "name": "stderr",
          "output_type": "stream",
          "text": [
            "100%|██████████| 391/391 [01:09<00:00,  5.62it/s]\n"
          ]
        },
        {
          "name": "stdout",
          "output_type": "stream",
          "text": [
            "Train Loss : 2.300530019013778 ;   Accuracy : 10.264%\n"
          ]
        },
        {
          "name": "stderr",
          "output_type": "stream",
          "text": [
            "100%|██████████| 391/391 [01:09<00:00,  5.60it/s]\n"
          ]
        },
        {
          "name": "stdout",
          "output_type": "stream",
          "text": [
            "Train Loss : 2.300251022933999 ;   Accuracy : 10.15%\n"
          ]
        },
        {
          "name": "stderr",
          "output_type": "stream",
          "text": [
            "100%|██████████| 391/391 [01:09<00:00,  5.61it/s]\n"
          ]
        },
        {
          "name": "stdout",
          "output_type": "stream",
          "text": [
            "Train Loss : 2.3009816234373983 ;   Accuracy : 10.096%\n"
          ]
        },
        {
          "name": "stderr",
          "output_type": "stream",
          "text": [
            "100%|██████████| 391/391 [01:09<00:00,  5.60it/s]\n"
          ]
        },
        {
          "name": "stdout",
          "output_type": "stream",
          "text": [
            "Train Loss : 2.3003176472071187 ;   Accuracy : 10.288%\n"
          ]
        },
        {
          "name": "stderr",
          "output_type": "stream",
          "text": [
            "100%|██████████| 391/391 [01:09<00:00,  5.61it/s]\n"
          ]
        },
        {
          "name": "stdout",
          "output_type": "stream",
          "text": [
            "Train Loss : 2.3002010775953914 ;   Accuracy : 10.054%\n"
          ]
        },
        {
          "name": "stderr",
          "output_type": "stream",
          "text": [
            "100%|██████████| 391/391 [01:09<00:00,  5.60it/s]\n"
          ]
        },
        {
          "name": "stdout",
          "output_type": "stream",
          "text": [
            "Train Loss : 2.3004921781437475 ;   Accuracy : 10.086%\n"
          ]
        },
        {
          "name": "stderr",
          "output_type": "stream",
          "text": [
            "100%|██████████| 391/391 [01:10<00:00,  5.58it/s]\n"
          ]
        },
        {
          "name": "stdout",
          "output_type": "stream",
          "text": [
            "Train Loss : 2.3005566286004107 ;   Accuracy : 10.194%\n"
          ]
        },
        {
          "name": "stderr",
          "output_type": "stream",
          "text": [
            "100%|██████████| 391/391 [01:10<00:00,  5.57it/s]\n"
          ]
        },
        {
          "name": "stdout",
          "output_type": "stream",
          "text": [
            "Train Loss : 2.3002287823220957 ;   Accuracy : 10.186%\n"
          ]
        },
        {
          "name": "stderr",
          "output_type": "stream",
          "text": [
            "100%|██████████| 391/391 [01:09<00:00,  5.59it/s]\n"
          ]
        },
        {
          "name": "stdout",
          "output_type": "stream",
          "text": [
            "Train Loss : 2.3001927445306802 ;   Accuracy : 10.142%\n"
          ]
        },
        {
          "name": "stderr",
          "output_type": "stream",
          "text": [
            "100%|██████████| 391/391 [01:09<00:00,  5.60it/s]\n"
          ]
        },
        {
          "name": "stdout",
          "output_type": "stream",
          "text": [
            "Train Loss : 2.300239021515907 ;   Accuracy : 10.142%\n"
          ]
        },
        {
          "name": "stderr",
          "output_type": "stream",
          "text": [
            "100%|██████████| 391/391 [01:09<00:00,  5.59it/s]\n"
          ]
        },
        {
          "name": "stdout",
          "output_type": "stream",
          "text": [
            "Train Loss : 2.299833848348359 ;   Accuracy : 10.234%\n"
          ]
        },
        {
          "name": "stderr",
          "output_type": "stream",
          "text": [
            "100%|██████████| 391/391 [01:09<00:00,  5.63it/s]\n"
          ]
        },
        {
          "name": "stdout",
          "output_type": "stream",
          "text": [
            "Train Loss : 2.2999233321460615 ;   Accuracy : 10.222%\n"
          ]
        },
        {
          "name": "stderr",
          "output_type": "stream",
          "text": [
            "100%|██████████| 391/391 [01:09<00:00,  5.64it/s]\n"
          ]
        },
        {
          "name": "stdout",
          "output_type": "stream",
          "text": [
            "Train Loss : 2.2997850707119993 ;   Accuracy : 10.134%\n"
          ]
        },
        {
          "name": "stderr",
          "output_type": "stream",
          "text": [
            "100%|██████████| 391/391 [01:09<00:00,  5.65it/s]\n"
          ]
        },
        {
          "name": "stdout",
          "output_type": "stream",
          "text": [
            "Train Loss : 2.299738434574488 ;   Accuracy : 10.3%\n"
          ]
        },
        {
          "name": "stderr",
          "output_type": "stream",
          "text": [
            "100%|██████████| 391/391 [01:09<00:00,  5.65it/s]\n"
          ]
        },
        {
          "name": "stdout",
          "output_type": "stream",
          "text": [
            "Train Loss : 2.2995060295095224 ;   Accuracy : 10.112%\n"
          ]
        },
        {
          "name": "stderr",
          "output_type": "stream",
          "text": [
            "100%|██████████| 391/391 [01:09<00:00,  5.66it/s]\n"
          ]
        },
        {
          "name": "stdout",
          "output_type": "stream",
          "text": [
            "Train Loss : 2.2996597009546615 ;   Accuracy : 10.188%\n"
          ]
        },
        {
          "name": "stderr",
          "output_type": "stream",
          "text": [
            "100%|██████████| 391/391 [01:09<00:00,  5.66it/s]\n"
          ]
        },
        {
          "name": "stdout",
          "output_type": "stream",
          "text": [
            "Train Loss : 2.2988312152950354 ;   Accuracy : 10.07%\n"
          ]
        },
        {
          "name": "stderr",
          "output_type": "stream",
          "text": [
            "100%|██████████| 391/391 [01:08<00:00,  5.67it/s]\n"
          ]
        },
        {
          "name": "stdout",
          "output_type": "stream",
          "text": [
            "Train Loss : 2.2929750037620136 ;   Accuracy : 11.036%\n"
          ]
        },
        {
          "name": "stderr",
          "output_type": "stream",
          "text": [
            "100%|██████████| 391/391 [01:08<00:00,  5.67it/s]\n"
          ]
        },
        {
          "name": "stdout",
          "output_type": "stream",
          "text": [
            "Train Loss : 2.292101388087358 ;   Accuracy : 11.01%\n"
          ]
        },
        {
          "name": "stderr",
          "output_type": "stream",
          "text": [
            "100%|██████████| 391/391 [01:09<00:00,  5.66it/s]\n"
          ]
        },
        {
          "name": "stdout",
          "output_type": "stream",
          "text": [
            "Train Loss : 2.2922908820764487 ;   Accuracy : 11.038%\n"
          ]
        },
        {
          "name": "stderr",
          "output_type": "stream",
          "text": [
            "100%|██████████| 391/391 [01:08<00:00,  5.67it/s]\n"
          ]
        },
        {
          "name": "stdout",
          "output_type": "stream",
          "text": [
            "Train Loss : 2.2898828062559944 ;   Accuracy : 11.888%\n"
          ]
        },
        {
          "name": "stderr",
          "output_type": "stream",
          "text": [
            "100%|██████████| 391/391 [01:08<00:00,  5.68it/s]\n"
          ]
        },
        {
          "name": "stdout",
          "output_type": "stream",
          "text": [
            "Train Loss : 2.2875481889680827 ;   Accuracy : 12.11%\n"
          ]
        },
        {
          "name": "stderr",
          "output_type": "stream",
          "text": [
            "100%|██████████| 391/391 [01:09<00:00,  5.64it/s]\n"
          ]
        },
        {
          "name": "stdout",
          "output_type": "stream",
          "text": [
            "Train Loss : 2.2850122909106867 ;   Accuracy : 12.31%\n"
          ]
        },
        {
          "name": "stderr",
          "output_type": "stream",
          "text": [
            "100%|██████████| 391/391 [01:09<00:00,  5.66it/s]\n"
          ]
        },
        {
          "name": "stdout",
          "output_type": "stream",
          "text": [
            "Train Loss : 2.2821894253001496 ;   Accuracy : 12.746%\n"
          ]
        },
        {
          "name": "stderr",
          "output_type": "stream",
          "text": [
            "100%|██████████| 391/391 [01:08<00:00,  5.67it/s]\n"
          ]
        },
        {
          "name": "stdout",
          "output_type": "stream",
          "text": [
            "Train Loss : 2.2808718364257032 ;   Accuracy : 12.894%\n"
          ]
        },
        {
          "name": "stderr",
          "output_type": "stream",
          "text": [
            "100%|██████████| 391/391 [01:09<00:00,  5.63it/s]\n"
          ]
        },
        {
          "name": "stdout",
          "output_type": "stream",
          "text": [
            "Train Loss : 2.280222593975799 ;   Accuracy : 13.008%\n"
          ]
        },
        {
          "name": "stderr",
          "output_type": "stream",
          "text": [
            "100%|██████████| 391/391 [01:09<00:00,  5.64it/s]\n"
          ]
        },
        {
          "name": "stdout",
          "output_type": "stream",
          "text": [
            "Train Loss : 2.279149818298457 ;   Accuracy : 12.748%\n"
          ]
        },
        {
          "name": "stderr",
          "output_type": "stream",
          "text": [
            "100%|██████████| 391/391 [01:08<00:00,  5.68it/s]\n"
          ]
        },
        {
          "name": "stdout",
          "output_type": "stream",
          "text": [
            "Train Loss : 2.2776339541920616 ;   Accuracy : 12.94%\n"
          ]
        },
        {
          "name": "stderr",
          "output_type": "stream",
          "text": [
            "100%|██████████| 391/391 [01:08<00:00,  5.67it/s]\n"
          ]
        },
        {
          "name": "stdout",
          "output_type": "stream",
          "text": [
            "Train Loss : 2.277570800098312 ;   Accuracy : 12.928%\n"
          ]
        },
        {
          "name": "stderr",
          "output_type": "stream",
          "text": [
            "100%|██████████| 391/391 [01:08<00:00,  5.68it/s]\n"
          ]
        },
        {
          "name": "stdout",
          "output_type": "stream",
          "text": [
            "Train Loss : 2.2743507858432466 ;   Accuracy : 13.458%\n"
          ]
        },
        {
          "name": "stderr",
          "output_type": "stream",
          "text": [
            "100%|██████████| 391/391 [01:08<00:00,  5.68it/s]\n"
          ]
        },
        {
          "name": "stdout",
          "output_type": "stream",
          "text": [
            "Train Loss : 2.274502988971408 ;   Accuracy : 13.254%\n"
          ]
        },
        {
          "name": "stderr",
          "output_type": "stream",
          "text": [
            "100%|██████████| 391/391 [01:08<00:00,  5.68it/s]\n"
          ]
        },
        {
          "name": "stdout",
          "output_type": "stream",
          "text": [
            "Train Loss : 2.2751516558020315 ;   Accuracy : 13.24%\n"
          ]
        },
        {
          "name": "stderr",
          "output_type": "stream",
          "text": [
            "100%|██████████| 391/391 [01:08<00:00,  5.67it/s]\n"
          ]
        },
        {
          "name": "stdout",
          "output_type": "stream",
          "text": [
            "Train Loss : 2.2728897006920232 ;   Accuracy : 13.522%\n"
          ]
        },
        {
          "name": "stderr",
          "output_type": "stream",
          "text": [
            "100%|██████████| 391/391 [01:08<00:00,  5.67it/s]\n"
          ]
        },
        {
          "name": "stdout",
          "output_type": "stream",
          "text": [
            "Train Loss : 2.272034160926214 ;   Accuracy : 13.39%\n"
          ]
        },
        {
          "name": "stderr",
          "output_type": "stream",
          "text": [
            "100%|██████████| 391/391 [01:08<00:00,  5.67it/s]\n"
          ]
        },
        {
          "name": "stdout",
          "output_type": "stream",
          "text": [
            "Train Loss : 2.270932031714398 ;   Accuracy : 13.476%\n"
          ]
        },
        {
          "name": "stderr",
          "output_type": "stream",
          "text": [
            "100%|██████████| 391/391 [01:08<00:00,  5.67it/s]\n"
          ]
        },
        {
          "name": "stdout",
          "output_type": "stream",
          "text": [
            "Train Loss : 2.2686881451960415 ;   Accuracy : 13.61%\n"
          ]
        },
        {
          "name": "stderr",
          "output_type": "stream",
          "text": [
            "100%|██████████| 391/391 [01:08<00:00,  5.68it/s]\n"
          ]
        },
        {
          "name": "stdout",
          "output_type": "stream",
          "text": [
            "Train Loss : 2.267574813969605 ;   Accuracy : 13.308%\n"
          ]
        },
        {
          "name": "stderr",
          "output_type": "stream",
          "text": [
            "100%|██████████| 391/391 [01:08<00:00,  5.67it/s]\n"
          ]
        },
        {
          "name": "stdout",
          "output_type": "stream",
          "text": [
            "Train Loss : 2.2673944176920235 ;   Accuracy : 13.814%\n"
          ]
        },
        {
          "name": "stderr",
          "output_type": "stream",
          "text": [
            "100%|██████████| 391/391 [01:09<00:00,  5.66it/s]\n"
          ]
        },
        {
          "name": "stdout",
          "output_type": "stream",
          "text": [
            "Train Loss : 2.266058006554918 ;   Accuracy : 13.686%\n"
          ]
        },
        {
          "name": "stderr",
          "output_type": "stream",
          "text": [
            "100%|██████████| 391/391 [01:09<00:00,  5.64it/s]\n"
          ]
        },
        {
          "name": "stdout",
          "output_type": "stream",
          "text": [
            "Train Loss : 2.263948581407747 ;   Accuracy : 13.794%\n"
          ]
        },
        {
          "name": "stderr",
          "output_type": "stream",
          "text": [
            "100%|██████████| 391/391 [01:09<00:00,  5.64it/s]\n"
          ]
        },
        {
          "name": "stdout",
          "output_type": "stream",
          "text": [
            "Train Loss : 2.265555002500334 ;   Accuracy : 13.944%\n"
          ]
        },
        {
          "name": "stderr",
          "output_type": "stream",
          "text": [
            "100%|██████████| 391/391 [01:09<00:00,  5.65it/s]\n"
          ]
        },
        {
          "name": "stdout",
          "output_type": "stream",
          "text": [
            "Train Loss : 2.262479620516453 ;   Accuracy : 14.164%\n"
          ]
        },
        {
          "name": "stderr",
          "output_type": "stream",
          "text": [
            "100%|██████████| 391/391 [01:08<00:00,  5.68it/s]\n"
          ]
        },
        {
          "name": "stdout",
          "output_type": "stream",
          "text": [
            "Train Loss : 2.2599634660784242 ;   Accuracy : 14.068%\n"
          ]
        },
        {
          "name": "stderr",
          "output_type": "stream",
          "text": [
            "100%|██████████| 391/391 [01:08<00:00,  5.68it/s]\n"
          ]
        },
        {
          "name": "stdout",
          "output_type": "stream",
          "text": [
            "Train Loss : 2.2631605305635105 ;   Accuracy : 14.25%\n"
          ]
        },
        {
          "name": "stderr",
          "output_type": "stream",
          "text": [
            "100%|██████████| 391/391 [01:08<00:00,  5.67it/s]\n"
          ]
        },
        {
          "name": "stdout",
          "output_type": "stream",
          "text": [
            "Train Loss : 2.260011164428633 ;   Accuracy : 14.442%\n"
          ]
        },
        {
          "name": "stderr",
          "output_type": "stream",
          "text": [
            "100%|██████████| 391/391 [01:08<00:00,  5.69it/s]\n"
          ]
        },
        {
          "name": "stdout",
          "output_type": "stream",
          "text": [
            "Train Loss : 2.2599176409299417 ;   Accuracy : 14.676%\n"
          ]
        },
        {
          "name": "stderr",
          "output_type": "stream",
          "text": [
            "100%|██████████| 391/391 [01:08<00:00,  5.68it/s]\n"
          ]
        },
        {
          "name": "stdout",
          "output_type": "stream",
          "text": [
            "Train Loss : 2.258711090478141 ;   Accuracy : 14.46%\n"
          ]
        },
        {
          "name": "stderr",
          "output_type": "stream",
          "text": [
            "100%|██████████| 391/391 [01:08<00:00,  5.68it/s]\n"
          ]
        },
        {
          "name": "stdout",
          "output_type": "stream",
          "text": [
            "Train Loss : 2.258691266369637 ;   Accuracy : 14.728%\n"
          ]
        },
        {
          "name": "stderr",
          "output_type": "stream",
          "text": [
            "100%|██████████| 391/391 [01:09<00:00,  5.67it/s]\n"
          ]
        },
        {
          "name": "stdout",
          "output_type": "stream",
          "text": [
            "Train Loss : 2.2597209181627043 ;   Accuracy : 14.476%\n"
          ]
        },
        {
          "name": "stderr",
          "output_type": "stream",
          "text": [
            "100%|██████████| 391/391 [01:08<00:00,  5.68it/s]\n"
          ]
        },
        {
          "name": "stdout",
          "output_type": "stream",
          "text": [
            "Train Loss : 2.2579536523355546 ;   Accuracy : 14.854%\n"
          ]
        },
        {
          "name": "stderr",
          "output_type": "stream",
          "text": [
            "100%|██████████| 391/391 [01:08<00:00,  5.67it/s]\n"
          ]
        },
        {
          "name": "stdout",
          "output_type": "stream",
          "text": [
            "Train Loss : 2.2576167839567374 ;   Accuracy : 14.622%\n"
          ]
        },
        {
          "name": "stderr",
          "output_type": "stream",
          "text": [
            "100%|██████████| 391/391 [01:08<00:00,  5.69it/s]\n"
          ]
        },
        {
          "name": "stdout",
          "output_type": "stream",
          "text": [
            "Train Loss : 2.2548233029787497 ;   Accuracy : 14.984%\n"
          ]
        },
        {
          "name": "stderr",
          "output_type": "stream",
          "text": [
            "100%|██████████| 391/391 [01:08<00:00,  5.68it/s]\n"
          ]
        },
        {
          "name": "stdout",
          "output_type": "stream",
          "text": [
            "Train Loss : 2.25498593432824 ;   Accuracy : 14.746%\n"
          ]
        },
        {
          "name": "stderr",
          "output_type": "stream",
          "text": [
            "100%|██████████| 391/391 [01:08<00:00,  5.67it/s]\n"
          ]
        },
        {
          "name": "stdout",
          "output_type": "stream",
          "text": [
            "Train Loss : 2.2563980991578165 ;   Accuracy : 14.396%\n"
          ]
        },
        {
          "name": "stderr",
          "output_type": "stream",
          "text": [
            "100%|██████████| 391/391 [01:09<00:00,  5.67it/s]\n"
          ]
        },
        {
          "name": "stdout",
          "output_type": "stream",
          "text": [
            "Train Loss : 2.256597514042769 ;   Accuracy : 14.432%\n"
          ]
        },
        {
          "name": "stderr",
          "output_type": "stream",
          "text": [
            "100%|██████████| 391/391 [01:09<00:00,  5.64it/s]\n"
          ]
        },
        {
          "name": "stdout",
          "output_type": "stream",
          "text": [
            "Train Loss : 2.252603586372512 ;   Accuracy : 15.122%\n"
          ]
        },
        {
          "name": "stderr",
          "output_type": "stream",
          "text": [
            "100%|██████████| 391/391 [01:09<00:00,  5.66it/s]\n"
          ]
        },
        {
          "name": "stdout",
          "output_type": "stream",
          "text": [
            "Train Loss : 2.2542590540083474 ;   Accuracy : 15.01%\n"
          ]
        },
        {
          "name": "stderr",
          "output_type": "stream",
          "text": [
            "100%|██████████| 391/391 [01:08<00:00,  5.69it/s]\n"
          ]
        },
        {
          "name": "stdout",
          "output_type": "stream",
          "text": [
            "Train Loss : 2.254663002765392 ;   Accuracy : 15.02%\n"
          ]
        },
        {
          "name": "stderr",
          "output_type": "stream",
          "text": [
            "100%|██████████| 391/391 [01:08<00:00,  5.68it/s]\n"
          ]
        },
        {
          "name": "stdout",
          "output_type": "stream",
          "text": [
            "Train Loss : 2.2548108070402804 ;   Accuracy : 14.814%\n"
          ]
        },
        {
          "name": "stderr",
          "output_type": "stream",
          "text": [
            "100%|██████████| 391/391 [01:08<00:00,  5.68it/s]\n"
          ]
        },
        {
          "name": "stdout",
          "output_type": "stream",
          "text": [
            "Train Loss : 2.251468562713974 ;   Accuracy : 15.066%\n"
          ]
        },
        {
          "name": "stderr",
          "output_type": "stream",
          "text": [
            "100%|██████████| 391/391 [01:08<00:00,  5.68it/s]\n"
          ]
        },
        {
          "name": "stdout",
          "output_type": "stream",
          "text": [
            "Train Loss : 2.252824041849512 ;   Accuracy : 14.906%\n"
          ]
        },
        {
          "name": "stderr",
          "output_type": "stream",
          "text": [
            "100%|██████████| 391/391 [01:08<00:00,  5.68it/s]\n"
          ]
        },
        {
          "name": "stdout",
          "output_type": "stream",
          "text": [
            "Train Loss : 2.2532779487502546 ;   Accuracy : 14.91%\n"
          ]
        },
        {
          "name": "stderr",
          "output_type": "stream",
          "text": [
            "100%|██████████| 391/391 [01:08<00:00,  5.69it/s]\n"
          ]
        },
        {
          "name": "stdout",
          "output_type": "stream",
          "text": [
            "Train Loss : 2.252074344688669 ;   Accuracy : 15.29%\n"
          ]
        },
        {
          "name": "stderr",
          "output_type": "stream",
          "text": [
            "100%|██████████| 391/391 [01:08<00:00,  5.67it/s]\n"
          ]
        },
        {
          "name": "stdout",
          "output_type": "stream",
          "text": [
            "Train Loss : 2.250965626343437 ;   Accuracy : 15.08%\n"
          ]
        },
        {
          "name": "stderr",
          "output_type": "stream",
          "text": [
            "100%|██████████| 391/391 [01:08<00:00,  5.68it/s]\n"
          ]
        },
        {
          "name": "stdout",
          "output_type": "stream",
          "text": [
            "Train Loss : 2.2503718311524454 ;   Accuracy : 15.158%\n"
          ]
        },
        {
          "name": "stderr",
          "output_type": "stream",
          "text": [
            "100%|██████████| 391/391 [01:08<00:00,  5.67it/s]\n"
          ]
        },
        {
          "name": "stdout",
          "output_type": "stream",
          "text": [
            "Train Loss : 2.251109668970718 ;   Accuracy : 15.04%\n"
          ]
        },
        {
          "name": "stderr",
          "output_type": "stream",
          "text": [
            "100%|██████████| 391/391 [01:08<00:00,  5.68it/s]\n"
          ]
        },
        {
          "name": "stdout",
          "output_type": "stream",
          "text": [
            "Train Loss : 2.2501490280756253 ;   Accuracy : 15.046%\n"
          ]
        },
        {
          "name": "stderr",
          "output_type": "stream",
          "text": [
            "100%|██████████| 391/391 [01:09<00:00,  5.67it/s]\n"
          ]
        },
        {
          "name": "stdout",
          "output_type": "stream",
          "text": [
            "Train Loss : 2.250272017305769 ;   Accuracy : 15.11%\n"
          ]
        },
        {
          "name": "stderr",
          "output_type": "stream",
          "text": [
            "100%|██████████| 391/391 [01:09<00:00,  5.62it/s]\n"
          ]
        },
        {
          "name": "stdout",
          "output_type": "stream",
          "text": [
            "Train Loss : 2.249466628979539 ;   Accuracy : 14.958%\n"
          ]
        },
        {
          "name": "stderr",
          "output_type": "stream",
          "text": [
            "100%|██████████| 391/391 [01:08<00:00,  5.69it/s]\n"
          ]
        },
        {
          "name": "stdout",
          "output_type": "stream",
          "text": [
            "Train Loss : 2.249788822725301 ;   Accuracy : 15.274%\n"
          ]
        },
        {
          "name": "stderr",
          "output_type": "stream",
          "text": [
            "100%|██████████| 391/391 [01:09<00:00,  5.64it/s]\n"
          ]
        },
        {
          "name": "stdout",
          "output_type": "stream",
          "text": [
            "Train Loss : 2.2483073640662385 ;   Accuracy : 15.2%\n"
          ]
        },
        {
          "name": "stderr",
          "output_type": "stream",
          "text": [
            "100%|██████████| 391/391 [01:09<00:00,  5.64it/s]\n"
          ]
        },
        {
          "name": "stdout",
          "output_type": "stream",
          "text": [
            "Train Loss : 2.2496544741608604 ;   Accuracy : 15.238%\n"
          ]
        },
        {
          "name": "stderr",
          "output_type": "stream",
          "text": [
            "100%|██████████| 391/391 [01:08<00:00,  5.68it/s]\n"
          ]
        },
        {
          "name": "stdout",
          "output_type": "stream",
          "text": [
            "Train Loss : 2.249397760157085 ;   Accuracy : 15.292%\n"
          ]
        },
        {
          "name": "stderr",
          "output_type": "stream",
          "text": [
            "100%|██████████| 391/391 [01:08<00:00,  5.68it/s]\n"
          ]
        },
        {
          "name": "stdout",
          "output_type": "stream",
          "text": [
            "Train Loss : 2.246352581111976 ;   Accuracy : 15.26%\n"
          ]
        },
        {
          "name": "stderr",
          "output_type": "stream",
          "text": [
            "100%|██████████| 391/391 [01:09<00:00,  5.64it/s]\n"
          ]
        },
        {
          "name": "stdout",
          "output_type": "stream",
          "text": [
            "Train Loss : 2.248528542725936 ;   Accuracy : 15.002%\n"
          ]
        },
        {
          "name": "stderr",
          "output_type": "stream",
          "text": [
            "100%|██████████| 391/391 [01:09<00:00,  5.63it/s]\n"
          ]
        },
        {
          "name": "stdout",
          "output_type": "stream",
          "text": [
            "Train Loss : 2.2435139006056137 ;   Accuracy : 15.58%\n"
          ]
        },
        {
          "name": "stderr",
          "output_type": "stream",
          "text": [
            "100%|██████████| 391/391 [01:09<00:00,  5.67it/s]\n"
          ]
        },
        {
          "name": "stdout",
          "output_type": "stream",
          "text": [
            "Train Loss : 2.2460858327958286 ;   Accuracy : 15.468%\n"
          ]
        },
        {
          "name": "stderr",
          "output_type": "stream",
          "text": [
            "100%|██████████| 391/391 [01:08<00:00,  5.67it/s]\n"
          ]
        },
        {
          "name": "stdout",
          "output_type": "stream",
          "text": [
            "Train Loss : 2.246009437629329 ;   Accuracy : 15.254%\n"
          ]
        },
        {
          "name": "stderr",
          "output_type": "stream",
          "text": [
            "100%|██████████| 391/391 [01:08<00:00,  5.68it/s]\n"
          ]
        },
        {
          "name": "stdout",
          "output_type": "stream",
          "text": [
            "Train Loss : 2.246279794541771 ;   Accuracy : 15.398%\n"
          ]
        },
        {
          "name": "stderr",
          "output_type": "stream",
          "text": [
            "100%|██████████| 391/391 [01:09<00:00,  5.63it/s]\n"
          ]
        },
        {
          "name": "stdout",
          "output_type": "stream",
          "text": [
            "Train Loss : 2.2443432381086033 ;   Accuracy : 15.544%\n"
          ]
        },
        {
          "name": "stderr",
          "output_type": "stream",
          "text": [
            "100%|██████████| 391/391 [01:08<00:00,  5.67it/s]\n"
          ]
        },
        {
          "name": "stdout",
          "output_type": "stream",
          "text": [
            "Train Loss : 2.241904936788027 ;   Accuracy : 15.55%\n"
          ]
        },
        {
          "name": "stderr",
          "output_type": "stream",
          "text": [
            "100%|██████████| 391/391 [01:08<00:00,  5.68it/s]\n"
          ]
        },
        {
          "name": "stdout",
          "output_type": "stream",
          "text": [
            "Train Loss : 2.2474316581130944 ;   Accuracy : 15.362%\n"
          ]
        },
        {
          "name": "stderr",
          "output_type": "stream",
          "text": [
            "100%|██████████| 391/391 [01:08<00:00,  5.69it/s]\n"
          ]
        },
        {
          "name": "stdout",
          "output_type": "stream",
          "text": [
            "Train Loss : 2.2439263062099055 ;   Accuracy : 15.37%\n"
          ]
        },
        {
          "name": "stderr",
          "output_type": "stream",
          "text": [
            "100%|██████████| 391/391 [01:08<00:00,  5.68it/s]\n"
          ]
        },
        {
          "name": "stdout",
          "output_type": "stream",
          "text": [
            "Train Loss : 2.243527394121565 ;   Accuracy : 15.552%\n"
          ]
        },
        {
          "name": "stderr",
          "output_type": "stream",
          "text": [
            "100%|██████████| 391/391 [01:08<00:00,  5.69it/s]\n"
          ]
        },
        {
          "name": "stdout",
          "output_type": "stream",
          "text": [
            "Train Loss : 2.241845577879025 ;   Accuracy : 15.636%\n"
          ]
        },
        {
          "name": "stderr",
          "output_type": "stream",
          "text": [
            "100%|██████████| 391/391 [01:08<00:00,  5.68it/s]\n"
          ]
        },
        {
          "name": "stdout",
          "output_type": "stream",
          "text": [
            "Train Loss : 2.242584789500517 ;   Accuracy : 15.518%\n"
          ]
        },
        {
          "name": "stderr",
          "output_type": "stream",
          "text": [
            "100%|██████████| 391/391 [01:08<00:00,  5.69it/s]\n"
          ]
        },
        {
          "name": "stdout",
          "output_type": "stream",
          "text": [
            "Train Loss : 2.2420067896928324 ;   Accuracy : 15.794%\n"
          ]
        },
        {
          "name": "stderr",
          "output_type": "stream",
          "text": [
            "100%|██████████| 391/391 [01:09<00:00,  5.60it/s]\n"
          ]
        },
        {
          "name": "stdout",
          "output_type": "stream",
          "text": [
            "Train Loss : 2.240619717961382 ;   Accuracy : 15.652%\n"
          ]
        }
      ],
      "source": [
        "# TRAINING THE DEEP LEARNING MODEL\n",
        "train_losses, accuracies = [], []\n",
        "for epoch in range(N_EPOCHS):\n",
        "  running_loss = 0\n",
        "  correct = 0\n",
        "  total = 0\n",
        "  for inputs, labels in tqdm(train_loader):\n",
        "    inputs, labels = inputs.to(device), labels.to(device)\n",
        "    optimizer.zero_grad()\n",
        "    outputs = model(inputs)\n",
        "    _, predicted = torch.max(outputs.data, 1)\n",
        "    correct += (predicted == labels).sum().item()\n",
        "    total += labels.size(0)\n",
        "    loss = criterion(outputs, labels)\n",
        "    loss.backward()\n",
        "    # ADAPTIVE\n",
        "    if LM_c_run_min:\n",
        "      if loss < LM_c:\n",
        "        LM_c = loss.item()\n",
        "    optimizer.step(LM_c, loss)\n",
        "    running_loss += loss.item()\n",
        "  \n",
        "  train_loss = running_loss / len(train_loader)\n",
        "  train_losses.append(train_loss)\n",
        "  accuracy = 100 * correct / total\n",
        "  accuracies.append(accuracy)\n",
        "  print(f'Train Loss : {train_loss} ;   Accuracy : {accuracy}%')\n",
        "\n",
        "torch.save(model, SAVED_MODEL_NAME)"
      ]
    },
    {
      "cell_type": "code",
      "execution_count": null,
      "metadata": {
        "id": "xcFv0Y1MG8MG"
      },
      "outputs": [],
      "source": [
        "train_losses = np.array(train_losses)\n",
        "accuracies = np.array(accuracies)\n",
        "np.save(\"TRAIN_LOSSES_\" + PARTIAL_NAME, train_losses)\n",
        "np.save(\"TRAIN_ACCURACIES_\" + PARTIAL_NAME, accuracies)"
      ]
    },
    {
      "cell_type": "code",
      "execution_count": null,
      "metadata": {
        "id": "C70MZImCBKA-"
      },
      "outputs": [],
      "source": [
        "MDL = torch.load(SAVED_MODEL_NAME).eval()\n",
        "MDL = MDL.to(device)"
      ]
    },
    {
      "cell_type": "code",
      "execution_count": null,
      "metadata": {
        "colab": {
          "base_uri": "https://localhost:8080/"
        },
        "id": "opyNb3GPBKDu",
        "outputId": "39bc3ccc-d5ce-49b7-c8df-878f8f19b320"
      },
      "outputs": [
        {
          "name": "stderr",
          "output_type": "stream",
          "text": [
            "100%|██████████| 391/391 [00:26<00:00, 15.02it/s]"
          ]
        },
        {
          "name": "stdout",
          "output_type": "stream",
          "text": [
            "Train Accuracy: 11.46 \n",
            "\n"
          ]
        },
        {
          "name": "stderr",
          "output_type": "stream",
          "text": [
            "\n"
          ]
        }
      ],
      "source": [
        "# EVALUATE THE ACCURACY OF THE SAVED MODEL\n",
        "correct = 0\n",
        "total = 0\n",
        "for inputs, labels in tqdm(train_loader):\n",
        "  inputs, labels = inputs.to('cuda'), labels.to('cuda')\n",
        "  outputs = MDL(inputs)\n",
        "  correct += (outputs.argmax(axis=1)==labels).sum().item()\n",
        "  total += labels.size(0)\n",
        "  # del MDL, inputs, labels\n",
        "  torch.cuda.empty_cache()\n",
        "  \n",
        "accuracy = 100. * correct / total\n",
        "print('Train Accuracy: %.2f \\n'%accuracy)"
      ]
    },
    {
      "cell_type": "code",
      "execution_count": null,
      "metadata": {
        "id": "PG3_9_F2DdYW"
      },
      "outputs": [],
      "source": [
        "def init_directions(model, seed):\n",
        "  torch.manual_seed(seed)\n",
        "  noises = []\n",
        "  n_params = 0\n",
        "  for name, param in model.named_parameters():\n",
        "      delta = torch.normal(.0, 1., size=param.size())\n",
        "      nu = torch.normal(.0, 1., size=param.size())\n",
        "\n",
        "      param_norm = torch.norm(param)\n",
        "      delta_norm = torch.norm(delta)\n",
        "      nu_norm = torch.norm(nu)\n",
        "\n",
        "      delta /= delta_norm\n",
        "      delta *= param_norm\n",
        "\n",
        "      nu /= nu_norm\n",
        "      nu *= param_norm\n",
        "\n",
        "      noises.append((delta, nu))\n",
        "\n",
        "      n_params += np.prod(param.size())\n",
        "\n",
        "  print(f'A total of {n_params:,} parameters.')\n",
        "\n",
        "  return noises\n",
        "\n",
        "\n",
        "def init_network(model, all_noises, alpha, beta):\n",
        "  with torch.no_grad():\n",
        "    for param, noises in zip(model.parameters(), all_noises):\n",
        "      delta, nu = noises\n",
        "      new_value = param + alpha * delta + beta * nu\n",
        "      param.copy_(new_value)\n",
        "  return model\n"
      ]
    },
    {
      "cell_type": "code",
      "execution_count": null,
      "metadata": {
        "id": "TZVKJyov0PP8"
      },
      "outputs": [],
      "source": [
        "def load_model (model_name):\n",
        "  return torch.load(model_name, map_location=torch.device('cpu')) #.eval()"
      ]
    },
    {
      "cell_type": "code",
      "execution_count": null,
      "metadata": {
        "id": "olVpgdq9Dsw_"
      },
      "outputs": [],
      "source": [
        "def run_landscape_gen(model_name, dataloader, resolution, seed):\n",
        "\n",
        "    print(f'Testing {model_name}')\n",
        "\n",
        "    noises = init_directions(load_model(model_name), seed)\n",
        "\n",
        "    crit = torch.nn.CrossEntropyLoss()\n",
        "\n",
        "    A, B = np.meshgrid(np.linspace(-1, 1, resolution),\n",
        "                       np.linspace(-1, 1, resolution), \n",
        "                       indexing='ij')\n",
        "    \n",
        "    # SAVE X AND Y VALUES\n",
        "    np.save(\"XX_\" + PARTIAL_NAME + \".npy\", A)\n",
        "    np.save(\"YY_\" + PARTIAL_NAME + \".npy\", B)\n",
        "    \n",
        "    ZZ_filename = \"ZZ_\" + PARTIAL_NAME + \".npy\"\n",
        "    # CHECK IF FILE ALREADY EXISTS AND START FROM THERE\n",
        "    if os.path.exists(ZZ_filename):\n",
        "      partial_array = np.load(ZZ_filename)\n",
        "      resume_index = int(np.where(~partial_array.any(axis=1))[0][0])\n",
        "      loss_surface = partial_array\n",
        "    else:\n",
        "      resume_index = 0\n",
        "      loss_surface = np.zeros_like(A)\n",
        "\n",
        "    \n",
        "    print(f\"Resuming Computation from Index {resume_index}\\n\")\n",
        "    for i in range(resume_index, resolution):\n",
        "        for j in range(resolution):\n",
        "            total_loss = 0.\n",
        "            n_batch = 0\n",
        "            alpha = A[i, j]\n",
        "            beta = B[i, j]\n",
        "            net = init_network(load_model(model_name), noises, alpha, beta).to('cuda')\n",
        "            for batch, labels in dataloader:\n",
        "                batch = batch.to('cuda')\n",
        "                labels = labels.to('cuda')\n",
        "                with torch.no_grad():\n",
        "                    preds = net(batch)\n",
        "                    loss = crit(preds, labels)\n",
        "                    total_loss += loss.item()\n",
        "                    n_batch += 1\n",
        "            loss_surface[i, j] = total_loss / n_batch\n",
        "            del net, batch, labels\n",
        "            print(f'alpha : {alpha:.2f}, beta : {beta:.2f}, loss : {loss_surface[i, j]:.2f}')\n",
        "            torch.cuda.empty_cache()\n",
        "        # save computed losses so far\n",
        "        np.save(ZZ_filename, loss_surface)"
      ]
    },
    {
      "cell_type": "code",
      "execution_count": null,
      "metadata": {
        "colab": {
          "background_save": true,
          "base_uri": "https://localhost:8080/"
        },
        "id": "hq4S2D0ohcFU",
        "outputId": "f52b6068-f055-4ad5-f82d-82b3ca7c7415"
      },
      "outputs": [
        {
          "name": "stdout",
          "output_type": "stream",
          "text": [
            "Testing cifar10_resnet110_noshort_SGD_IKSA_epochs=100_BS=128_SEED=1234_LR=0.05_MOM=0.9_WD=0_C=1_f=x^2.pt\n",
            "A total of 1,727,962 parameters.\n",
            "Resuming Computation from Index 0\n",
            "\n",
            "alpha : -1.00, beta : -1.00, loss : 2.51\n",
            "alpha : -1.00, beta : -0.93, loss : 2.49\n",
            "alpha : -1.00, beta : -0.86, loss : 2.46\n",
            "alpha : -1.00, beta : -0.79, loss : 2.46\n",
            "alpha : -1.00, beta : -0.72, loss : 2.48\n",
            "alpha : -1.00, beta : -0.66, loss : 2.48\n",
            "alpha : -1.00, beta : -0.59, loss : 2.48\n",
            "alpha : -1.00, beta : -0.52, loss : 2.46\n",
            "alpha : -1.00, beta : -0.45, loss : 2.45\n",
            "alpha : -1.00, beta : -0.38, loss : 2.43\n",
            "alpha : -1.00, beta : -0.31, loss : 2.43\n",
            "alpha : -1.00, beta : -0.24, loss : 2.42\n",
            "alpha : -1.00, beta : -0.17, loss : 2.42\n",
            "alpha : -1.00, beta : -0.10, loss : 2.43\n",
            "alpha : -1.00, beta : -0.03, loss : 2.42\n",
            "alpha : -1.00, beta : 0.03, loss : 2.43\n",
            "alpha : -1.00, beta : 0.10, loss : 2.47\n",
            "alpha : -1.00, beta : 0.17, loss : 2.49\n",
            "alpha : -1.00, beta : 0.24, loss : 2.50\n",
            "alpha : -1.00, beta : 0.31, loss : 2.50\n",
            "alpha : -1.00, beta : 0.38, loss : 2.51\n",
            "alpha : -1.00, beta : 0.45, loss : 2.50\n",
            "alpha : -1.00, beta : 0.52, loss : 2.48\n",
            "alpha : -1.00, beta : 0.59, loss : 2.49\n",
            "alpha : -1.00, beta : 0.66, loss : 2.48\n",
            "alpha : -1.00, beta : 0.72, loss : 2.48\n",
            "alpha : -1.00, beta : 0.79, loss : 2.47\n",
            "alpha : -1.00, beta : 0.86, loss : 2.49\n",
            "alpha : -1.00, beta : 0.93, loss : 2.51\n",
            "alpha : -1.00, beta : 1.00, loss : 2.51\n",
            "alpha : -0.93, beta : -1.00, loss : 2.47\n",
            "alpha : -0.93, beta : -0.93, loss : 2.45\n",
            "alpha : -0.93, beta : -0.86, loss : 2.42\n",
            "alpha : -0.93, beta : -0.79, loss : 2.42\n",
            "alpha : -0.93, beta : -0.72, loss : 2.43\n",
            "alpha : -0.93, beta : -0.66, loss : 2.44\n",
            "alpha : -0.93, beta : -0.59, loss : 2.44\n",
            "alpha : -0.93, beta : -0.52, loss : 2.42\n",
            "alpha : -0.93, beta : -0.45, loss : 2.41\n",
            "alpha : -0.93, beta : -0.38, loss : 2.40\n",
            "alpha : -0.93, beta : -0.31, loss : 2.40\n",
            "alpha : -0.93, beta : -0.24, loss : 2.40\n",
            "alpha : -0.93, beta : -0.17, loss : 2.40\n",
            "alpha : -0.93, beta : -0.10, loss : 2.40\n",
            "alpha : -0.93, beta : -0.03, loss : 2.40\n",
            "alpha : -0.93, beta : 0.03, loss : 2.42\n",
            "alpha : -0.93, beta : 0.10, loss : 2.43\n",
            "alpha : -0.93, beta : 0.17, loss : 2.45\n",
            "alpha : -0.93, beta : 0.24, loss : 2.46\n",
            "alpha : -0.93, beta : 0.31, loss : 2.48\n",
            "alpha : -0.93, beta : 0.38, loss : 2.48\n",
            "alpha : -0.93, beta : 0.45, loss : 2.49\n",
            "alpha : -0.93, beta : 0.52, loss : 2.49\n",
            "alpha : -0.93, beta : 0.59, loss : 2.48\n",
            "alpha : -0.93, beta : 0.66, loss : 2.45\n",
            "alpha : -0.93, beta : 0.72, loss : 2.46\n",
            "alpha : -0.93, beta : 0.79, loss : 2.46\n",
            "alpha : -0.93, beta : 0.86, loss : 2.48\n",
            "alpha : -0.93, beta : 0.93, loss : 2.49\n",
            "alpha : -0.93, beta : 1.00, loss : 2.51\n",
            "alpha : -0.86, beta : -1.00, loss : 2.47\n",
            "alpha : -0.86, beta : -0.93, loss : 2.46\n",
            "alpha : -0.86, beta : -0.86, loss : 2.42\n",
            "alpha : -0.86, beta : -0.79, loss : 2.40\n",
            "alpha : -0.86, beta : -0.72, loss : 2.40\n",
            "alpha : -0.86, beta : -0.66, loss : 2.40\n",
            "alpha : -0.86, beta : -0.59, loss : 2.39\n",
            "alpha : -0.86, beta : -0.52, loss : 2.38\n",
            "alpha : -0.86, beta : -0.45, loss : 2.38\n",
            "alpha : -0.86, beta : -0.38, loss : 2.38\n",
            "alpha : -0.86, beta : -0.31, loss : 2.37\n",
            "alpha : -0.86, beta : -0.24, loss : 2.38\n",
            "alpha : -0.86, beta : -0.17, loss : 2.38\n",
            "alpha : -0.86, beta : -0.10, loss : 2.39\n",
            "alpha : -0.86, beta : -0.03, loss : 2.40\n",
            "alpha : -0.86, beta : 0.03, loss : 2.41\n",
            "alpha : -0.86, beta : 0.10, loss : 2.41\n",
            "alpha : -0.86, beta : 0.17, loss : 2.42\n",
            "alpha : -0.86, beta : 0.24, loss : 2.43\n",
            "alpha : -0.86, beta : 0.31, loss : 2.46\n",
            "alpha : -0.86, beta : 0.38, loss : 2.47\n",
            "alpha : -0.86, beta : 0.45, loss : 2.47\n",
            "alpha : -0.86, beta : 0.52, loss : 2.47\n",
            "alpha : -0.86, beta : 0.59, loss : 2.46\n",
            "alpha : -0.86, beta : 0.66, loss : 2.46\n",
            "alpha : -0.86, beta : 0.72, loss : 2.45\n",
            "alpha : -0.86, beta : 0.79, loss : 2.47\n",
            "alpha : -0.86, beta : 0.86, loss : 2.47\n",
            "alpha : -0.86, beta : 0.93, loss : 2.48\n",
            "alpha : -0.86, beta : 1.00, loss : 2.50\n",
            "alpha : -0.79, beta : -1.00, loss : 2.48\n",
            "alpha : -0.79, beta : -0.93, loss : 2.45\n",
            "alpha : -0.79, beta : -0.86, loss : 2.43\n",
            "alpha : -0.79, beta : -0.79, loss : 2.40\n",
            "alpha : -0.79, beta : -0.72, loss : 2.38\n",
            "alpha : -0.79, beta : -0.66, loss : 2.37\n",
            "alpha : -0.79, beta : -0.59, loss : 2.36\n",
            "alpha : -0.79, beta : -0.52, loss : 2.35\n",
            "alpha : -0.79, beta : -0.45, loss : 2.35\n",
            "alpha : -0.79, beta : -0.38, loss : 2.36\n",
            "alpha : -0.79, beta : -0.31, loss : 2.36\n",
            "alpha : -0.79, beta : -0.24, loss : 2.37\n",
            "alpha : -0.79, beta : -0.17, loss : 2.37\n",
            "alpha : -0.79, beta : -0.10, loss : 2.38\n",
            "alpha : -0.79, beta : -0.03, loss : 2.39\n",
            "alpha : -0.79, beta : 0.03, loss : 2.40\n",
            "alpha : -0.79, beta : 0.10, loss : 2.41\n",
            "alpha : -0.79, beta : 0.17, loss : 2.42\n",
            "alpha : -0.79, beta : 0.24, loss : 2.44\n",
            "alpha : -0.79, beta : 0.31, loss : 2.47\n",
            "alpha : -0.79, beta : 0.38, loss : 2.46\n",
            "alpha : -0.79, beta : 0.45, loss : 2.47\n",
            "alpha : -0.79, beta : 0.52, loss : 2.47\n",
            "alpha : -0.79, beta : 0.59, loss : 2.45\n",
            "alpha : -0.79, beta : 0.66, loss : 2.45\n",
            "alpha : -0.79, beta : 0.72, loss : 2.44\n",
            "alpha : -0.79, beta : 0.79, loss : 2.45\n",
            "alpha : -0.79, beta : 0.86, loss : 2.47\n",
            "alpha : -0.79, beta : 0.93, loss : 2.46\n",
            "alpha : -0.79, beta : 1.00, loss : 2.50\n",
            "alpha : -0.72, beta : -1.00, loss : 2.46\n",
            "alpha : -0.72, beta : -0.93, loss : 2.45\n",
            "alpha : -0.72, beta : -0.86, loss : 2.43\n",
            "alpha : -0.72, beta : -0.79, loss : 2.40\n",
            "alpha : -0.72, beta : -0.72, loss : 2.37\n",
            "alpha : -0.72, beta : -0.66, loss : 2.36\n",
            "alpha : -0.72, beta : -0.59, loss : 2.35\n",
            "alpha : -0.72, beta : -0.52, loss : 2.34\n",
            "alpha : -0.72, beta : -0.45, loss : 2.33\n",
            "alpha : -0.72, beta : -0.38, loss : 2.35\n",
            "alpha : -0.72, beta : -0.31, loss : 2.34\n",
            "alpha : -0.72, beta : -0.24, loss : 2.34\n",
            "alpha : -0.72, beta : -0.17, loss : 2.35\n",
            "alpha : -0.72, beta : -0.10, loss : 2.36\n",
            "alpha : -0.72, beta : -0.03, loss : 2.37\n",
            "alpha : -0.72, beta : 0.03, loss : 2.39\n",
            "alpha : -0.72, beta : 0.10, loss : 2.41\n",
            "alpha : -0.72, beta : 0.17, loss : 2.41\n",
            "alpha : -0.72, beta : 0.24, loss : 2.43\n",
            "alpha : -0.72, beta : 0.31, loss : 2.44\n",
            "alpha : -0.72, beta : 0.38, loss : 2.43\n",
            "alpha : -0.72, beta : 0.45, loss : 2.46\n",
            "alpha : -0.72, beta : 0.52, loss : 2.46\n",
            "alpha : -0.72, beta : 0.59, loss : 2.46\n",
            "alpha : -0.72, beta : 0.66, loss : 2.44\n",
            "alpha : -0.72, beta : 0.72, loss : 2.44\n",
            "alpha : -0.72, beta : 0.79, loss : 2.44\n",
            "alpha : -0.72, beta : 0.86, loss : 2.44\n",
            "alpha : -0.72, beta : 0.93, loss : 2.47\n",
            "alpha : -0.72, beta : 1.00, loss : 2.49\n",
            "alpha : -0.66, beta : -1.00, loss : 2.45\n",
            "alpha : -0.66, beta : -0.93, loss : 2.45\n",
            "alpha : -0.66, beta : -0.86, loss : 2.43\n",
            "alpha : -0.66, beta : -0.79, loss : 2.41\n",
            "alpha : -0.66, beta : -0.72, loss : 2.37\n",
            "alpha : -0.66, beta : -0.66, loss : 2.35\n",
            "alpha : -0.66, beta : -0.59, loss : 2.35\n",
            "alpha : -0.66, beta : -0.52, loss : 2.35\n",
            "alpha : -0.66, beta : -0.45, loss : 2.33\n",
            "alpha : -0.66, beta : -0.38, loss : 2.33\n",
            "alpha : -0.66, beta : -0.31, loss : 2.33\n",
            "alpha : -0.66, beta : -0.24, loss : 2.33\n",
            "alpha : -0.66, beta : -0.17, loss : 2.34\n",
            "alpha : -0.66, beta : -0.10, loss : 2.34\n",
            "alpha : -0.66, beta : -0.03, loss : 2.35\n",
            "alpha : -0.66, beta : 0.03, loss : 2.37\n",
            "alpha : -0.66, beta : 0.10, loss : 2.39\n",
            "alpha : -0.66, beta : 0.17, loss : 2.39\n",
            "alpha : -0.66, beta : 0.24, loss : 2.39\n",
            "alpha : -0.66, beta : 0.31, loss : 2.40\n",
            "alpha : -0.66, beta : 0.38, loss : 2.41\n",
            "alpha : -0.66, beta : 0.45, loss : 2.44\n",
            "alpha : -0.66, beta : 0.52, loss : 2.45\n",
            "alpha : -0.66, beta : 0.59, loss : 2.46\n",
            "alpha : -0.66, beta : 0.66, loss : 2.45\n",
            "alpha : -0.66, beta : 0.72, loss : 2.44\n",
            "alpha : -0.66, beta : 0.79, loss : 2.45\n",
            "alpha : -0.66, beta : 0.86, loss : 2.44\n",
            "alpha : -0.66, beta : 0.93, loss : 2.45\n",
            "alpha : -0.66, beta : 1.00, loss : 2.46\n",
            "alpha : -0.59, beta : -1.00, loss : 2.44\n",
            "alpha : -0.59, beta : -0.93, loss : 2.44\n",
            "alpha : -0.59, beta : -0.86, loss : 2.44\n",
            "alpha : -0.59, beta : -0.79, loss : 2.41\n",
            "alpha : -0.59, beta : -0.72, loss : 2.39\n",
            "alpha : -0.59, beta : -0.66, loss : 2.35\n",
            "alpha : -0.59, beta : -0.59, loss : 2.35\n",
            "alpha : -0.59, beta : -0.52, loss : 2.34\n",
            "alpha : -0.59, beta : -0.45, loss : 2.33\n",
            "alpha : -0.59, beta : -0.38, loss : 2.33\n",
            "alpha : -0.59, beta : -0.31, loss : 2.34\n",
            "alpha : -0.59, beta : -0.24, loss : 2.34\n",
            "alpha : -0.59, beta : -0.17, loss : 2.34\n",
            "alpha : -0.59, beta : -0.10, loss : 2.34\n",
            "alpha : -0.59, beta : -0.03, loss : 2.35\n",
            "alpha : -0.59, beta : 0.03, loss : 2.38\n",
            "alpha : -0.59, beta : 0.10, loss : 2.39\n",
            "alpha : -0.59, beta : 0.17, loss : 2.39\n",
            "alpha : -0.59, beta : 0.24, loss : 2.38\n",
            "alpha : -0.59, beta : 0.31, loss : 2.38\n",
            "alpha : -0.59, beta : 0.38, loss : 2.38\n",
            "alpha : -0.59, beta : 0.45, loss : 2.43\n",
            "alpha : -0.59, beta : 0.52, loss : 2.45\n",
            "alpha : -0.59, beta : 0.59, loss : 2.46\n",
            "alpha : -0.59, beta : 0.66, loss : 2.43\n",
            "alpha : -0.59, beta : 0.72, loss : 2.44\n",
            "alpha : -0.59, beta : 0.79, loss : 2.45\n",
            "alpha : -0.59, beta : 0.86, loss : 2.46\n",
            "alpha : -0.59, beta : 0.93, loss : 2.44\n",
            "alpha : -0.59, beta : 1.00, loss : 2.44\n",
            "alpha : -0.52, beta : -1.00, loss : 2.44\n",
            "alpha : -0.52, beta : -0.93, loss : 2.44\n",
            "alpha : -0.52, beta : -0.86, loss : 2.43\n",
            "alpha : -0.52, beta : -0.79, loss : 2.42\n",
            "alpha : -0.52, beta : -0.72, loss : 2.38\n",
            "alpha : -0.52, beta : -0.66, loss : 2.34\n",
            "alpha : -0.52, beta : -0.59, loss : 2.34\n",
            "alpha : -0.52, beta : -0.52, loss : 2.37\n",
            "alpha : -0.52, beta : -0.45, loss : 2.39\n",
            "alpha : -0.52, beta : -0.38, loss : 2.36\n",
            "alpha : -0.52, beta : -0.31, loss : 2.34\n",
            "alpha : -0.52, beta : -0.24, loss : 2.33\n",
            "alpha : -0.52, beta : -0.17, loss : 2.32\n",
            "alpha : -0.52, beta : -0.10, loss : 2.32\n",
            "alpha : -0.52, beta : -0.03, loss : 2.32\n",
            "alpha : -0.52, beta : 0.03, loss : 2.34\n",
            "alpha : -0.52, beta : 0.10, loss : 2.36\n",
            "alpha : -0.52, beta : 0.17, loss : 2.37\n",
            "alpha : -0.52, beta : 0.24, loss : 2.37\n",
            "alpha : -0.52, beta : 0.31, loss : 2.36\n",
            "alpha : -0.52, beta : 0.38, loss : 2.38\n",
            "alpha : -0.52, beta : 0.45, loss : 2.41\n",
            "alpha : -0.52, beta : 0.52, loss : 2.44\n",
            "alpha : -0.52, beta : 0.59, loss : 2.44\n",
            "alpha : -0.52, beta : 0.66, loss : 2.44\n",
            "alpha : -0.52, beta : 0.72, loss : 2.44\n",
            "alpha : -0.52, beta : 0.79, loss : 2.44\n",
            "alpha : -0.52, beta : 0.86, loss : 2.44\n",
            "alpha : -0.52, beta : 0.93, loss : 2.45\n",
            "alpha : -0.52, beta : 1.00, loss : 2.44\n",
            "alpha : -0.45, beta : -1.00, loss : 2.43\n",
            "alpha : -0.45, beta : -0.93, loss : 2.43\n",
            "alpha : -0.45, beta : -0.86, loss : 2.43\n",
            "alpha : -0.45, beta : -0.79, loss : 2.40\n",
            "alpha : -0.45, beta : -0.72, loss : 2.36\n",
            "alpha : -0.45, beta : -0.66, loss : 2.34\n",
            "alpha : -0.45, beta : -0.59, loss : 2.34\n",
            "alpha : -0.45, beta : -0.52, loss : 2.36\n",
            "alpha : -0.45, beta : -0.45, loss : 2.37\n",
            "alpha : -0.45, beta : -0.38, loss : 2.34\n",
            "alpha : -0.45, beta : -0.31, loss : 2.34\n",
            "alpha : -0.45, beta : -0.24, loss : 2.34\n",
            "alpha : -0.45, beta : -0.17, loss : 2.33\n",
            "alpha : -0.45, beta : -0.10, loss : 2.31\n",
            "alpha : -0.45, beta : -0.03, loss : 2.32\n",
            "alpha : -0.45, beta : 0.03, loss : 2.32\n",
            "alpha : -0.45, beta : 0.10, loss : 2.33\n",
            "alpha : -0.45, beta : 0.17, loss : 2.35\n",
            "alpha : -0.45, beta : 0.24, loss : 2.36\n",
            "alpha : -0.45, beta : 0.31, loss : 2.36\n",
            "alpha : -0.45, beta : 0.38, loss : 2.38\n",
            "alpha : -0.45, beta : 0.45, loss : 2.40\n",
            "alpha : -0.45, beta : 0.52, loss : 2.42\n",
            "alpha : -0.45, beta : 0.59, loss : 2.43\n",
            "alpha : -0.45, beta : 0.66, loss : 2.44\n",
            "alpha : -0.45, beta : 0.72, loss : 2.44\n",
            "alpha : -0.45, beta : 0.79, loss : 2.44\n",
            "alpha : -0.45, beta : 0.86, loss : 2.44\n",
            "alpha : -0.45, beta : 0.93, loss : 2.44\n",
            "alpha : -0.45, beta : 1.00, loss : 2.44\n",
            "alpha : -0.38, beta : -1.00, loss : 2.43\n",
            "alpha : -0.38, beta : -0.93, loss : 2.43\n",
            "alpha : -0.38, beta : -0.86, loss : 2.42\n",
            "alpha : -0.38, beta : -0.79, loss : 2.39\n",
            "alpha : -0.38, beta : -0.72, loss : 2.36\n",
            "alpha : -0.38, beta : -0.66, loss : 2.35\n",
            "alpha : -0.38, beta : -0.59, loss : 2.33\n",
            "alpha : -0.38, beta : -0.52, loss : 2.35\n",
            "alpha : -0.38, beta : -0.45, loss : 2.33\n",
            "alpha : -0.38, beta : -0.38, loss : 2.32\n",
            "alpha : -0.38, beta : -0.31, loss : 2.33\n",
            "alpha : -0.38, beta : -0.24, loss : 2.34\n",
            "alpha : -0.38, beta : -0.17, loss : 2.34\n",
            "alpha : -0.38, beta : -0.10, loss : 2.32\n",
            "alpha : -0.38, beta : -0.03, loss : 2.31\n",
            "alpha : -0.38, beta : 0.03, loss : 2.31\n",
            "alpha : -0.38, beta : 0.10, loss : 2.31\n",
            "alpha : -0.38, beta : 0.17, loss : 2.35\n",
            "alpha : -0.38, beta : 0.24, loss : 2.37\n",
            "alpha : -0.38, beta : 0.31, loss : 2.37\n",
            "alpha : -0.38, beta : 0.38, loss : 2.37\n",
            "alpha : -0.38, beta : 0.45, loss : 2.38\n",
            "alpha : -0.38, beta : 0.52, loss : 2.43\n",
            "alpha : -0.38, beta : 0.59, loss : 2.42\n",
            "alpha : -0.38, beta : 0.66, loss : 2.45\n",
            "alpha : -0.38, beta : 0.72, loss : 2.43\n",
            "alpha : -0.38, beta : 0.79, loss : 2.44\n",
            "alpha : -0.38, beta : 0.86, loss : 2.43\n",
            "alpha : -0.38, beta : 0.93, loss : 2.44\n",
            "alpha : -0.38, beta : 1.00, loss : 2.44\n",
            "alpha : -0.31, beta : -1.00, loss : 2.41\n",
            "alpha : -0.31, beta : -0.93, loss : 2.42\n",
            "alpha : -0.31, beta : -0.86, loss : 2.42\n",
            "alpha : -0.31, beta : -0.79, loss : 2.38\n",
            "alpha : -0.31, beta : -0.72, loss : 2.38\n",
            "alpha : -0.31, beta : -0.66, loss : 2.35\n",
            "alpha : -0.31, beta : -0.59, loss : 2.34\n",
            "alpha : -0.31, beta : -0.52, loss : 2.34\n",
            "alpha : -0.31, beta : -0.45, loss : 2.34\n",
            "alpha : -0.31, beta : -0.38, loss : 2.34\n",
            "alpha : -0.31, beta : -0.31, loss : 2.34\n",
            "alpha : -0.31, beta : -0.24, loss : 2.34\n",
            "alpha : -0.31, beta : -0.17, loss : 2.33\n",
            "alpha : -0.31, beta : -0.10, loss : 2.32\n",
            "alpha : -0.31, beta : -0.03, loss : 2.31\n",
            "alpha : -0.31, beta : 0.03, loss : 2.31\n",
            "alpha : -0.31, beta : 0.10, loss : 2.31\n",
            "alpha : -0.31, beta : 0.17, loss : 2.34\n",
            "alpha : -0.31, beta : 0.24, loss : 2.34\n",
            "alpha : -0.31, beta : 0.31, loss : 2.35\n",
            "alpha : -0.31, beta : 0.38, loss : 2.35\n",
            "alpha : -0.31, beta : 0.45, loss : 2.40\n",
            "alpha : -0.31, beta : 0.52, loss : 2.42\n",
            "alpha : -0.31, beta : 0.59, loss : 2.42\n",
            "alpha : -0.31, beta : 0.66, loss : 2.45\n",
            "alpha : -0.31, beta : 0.72, loss : 2.42\n",
            "alpha : -0.31, beta : 0.79, loss : 2.43\n",
            "alpha : -0.31, beta : 0.86, loss : 2.44\n",
            "alpha : -0.31, beta : 0.93, loss : 2.43\n",
            "alpha : -0.31, beta : 1.00, loss : 2.44\n",
            "alpha : -0.24, beta : -1.00, loss : 2.42\n",
            "alpha : -0.24, beta : -0.93, loss : 2.43\n",
            "alpha : -0.24, beta : -0.86, loss : 2.41\n",
            "alpha : -0.24, beta : -0.79, loss : 2.38\n",
            "alpha : -0.24, beta : -0.72, loss : 2.38\n",
            "alpha : -0.24, beta : -0.66, loss : 2.35\n",
            "alpha : -0.24, beta : -0.59, loss : 2.34\n",
            "alpha : -0.24, beta : -0.52, loss : 2.35\n",
            "alpha : -0.24, beta : -0.45, loss : 2.35\n",
            "alpha : -0.24, beta : -0.38, loss : 2.34\n",
            "alpha : -0.24, beta : -0.31, loss : 2.35\n",
            "alpha : -0.24, beta : -0.24, loss : 2.34\n",
            "alpha : -0.24, beta : -0.17, loss : 2.32\n",
            "alpha : -0.24, beta : -0.10, loss : 2.31\n",
            "alpha : -0.24, beta : -0.03, loss : 2.31\n",
            "alpha : -0.24, beta : 0.03, loss : 2.30\n",
            "alpha : -0.24, beta : 0.10, loss : 2.30\n",
            "alpha : -0.24, beta : 0.17, loss : 2.30\n",
            "alpha : -0.24, beta : 0.24, loss : 2.31\n",
            "alpha : -0.24, beta : 0.31, loss : 2.33\n",
            "alpha : -0.24, beta : 0.38, loss : 2.34\n",
            "alpha : -0.24, beta : 0.45, loss : 2.36\n",
            "alpha : -0.24, beta : 0.52, loss : 2.40\n",
            "alpha : -0.24, beta : 0.59, loss : 2.41\n",
            "alpha : -0.24, beta : 0.66, loss : 2.44\n",
            "alpha : -0.24, beta : 0.72, loss : 2.47\n",
            "alpha : -0.24, beta : 0.79, loss : 2.44\n",
            "alpha : -0.24, beta : 0.86, loss : 2.44\n",
            "alpha : -0.24, beta : 0.93, loss : 2.43\n",
            "alpha : -0.24, beta : 1.00, loss : 2.44\n",
            "alpha : -0.17, beta : -1.00, loss : 2.43\n",
            "alpha : -0.17, beta : -0.93, loss : 2.43\n",
            "alpha : -0.17, beta : -0.86, loss : 2.41\n",
            "alpha : -0.17, beta : -0.79, loss : 2.37\n",
            "alpha : -0.17, beta : -0.72, loss : 2.38\n",
            "alpha : -0.17, beta : -0.66, loss : 2.36\n",
            "alpha : -0.17, beta : -0.59, loss : 2.35\n",
            "alpha : -0.17, beta : -0.52, loss : 2.35\n",
            "alpha : -0.17, beta : -0.45, loss : 2.33\n",
            "alpha : -0.17, beta : -0.38, loss : 2.34\n",
            "alpha : -0.17, beta : -0.31, loss : 2.33\n",
            "alpha : -0.17, beta : -0.24, loss : 2.33\n",
            "alpha : -0.17, beta : -0.17, loss : 2.31\n",
            "alpha : -0.17, beta : -0.10, loss : 2.30\n",
            "alpha : -0.17, beta : -0.03, loss : 2.29\n",
            "alpha : -0.17, beta : 0.03, loss : 2.30\n",
            "alpha : -0.17, beta : 0.10, loss : 2.30\n",
            "alpha : -0.17, beta : 0.17, loss : 2.29\n",
            "alpha : -0.17, beta : 0.24, loss : 2.30\n",
            "alpha : -0.17, beta : 0.31, loss : 2.30\n",
            "alpha : -0.17, beta : 0.38, loss : 2.31\n",
            "alpha : -0.17, beta : 0.45, loss : 2.33\n",
            "alpha : -0.17, beta : 0.52, loss : 2.38\n",
            "alpha : -0.17, beta : 0.59, loss : 2.41\n",
            "alpha : -0.17, beta : 0.66, loss : 2.44\n",
            "alpha : -0.17, beta : 0.72, loss : 2.45\n",
            "alpha : -0.17, beta : 0.79, loss : 2.43\n",
            "alpha : -0.17, beta : 0.86, loss : 2.44\n",
            "alpha : -0.17, beta : 0.93, loss : 2.43\n",
            "alpha : -0.17, beta : 1.00, loss : 2.43\n",
            "alpha : -0.10, beta : -1.00, loss : 2.44\n",
            "alpha : -0.10, beta : -0.93, loss : 2.42\n",
            "alpha : -0.10, beta : -0.86, loss : 2.40\n",
            "alpha : -0.10, beta : -0.79, loss : 2.39\n",
            "alpha : -0.10, beta : -0.72, loss : 2.39\n",
            "alpha : -0.10, beta : -0.66, loss : 2.36\n",
            "alpha : -0.10, beta : -0.59, loss : 2.38\n",
            "alpha : -0.10, beta : -0.52, loss : 2.35\n",
            "alpha : -0.10, beta : -0.45, loss : 2.36\n",
            "alpha : -0.10, beta : -0.38, loss : 2.35\n",
            "alpha : -0.10, beta : -0.31, loss : 2.32\n",
            "alpha : -0.10, beta : -0.24, loss : 2.30\n",
            "alpha : -0.10, beta : -0.17, loss : 2.30\n",
            "alpha : -0.10, beta : -0.10, loss : 2.29\n",
            "alpha : -0.10, beta : -0.03, loss : 2.28\n",
            "alpha : -0.10, beta : 0.03, loss : 2.29\n",
            "alpha : -0.10, beta : 0.10, loss : 2.30\n",
            "alpha : -0.10, beta : 0.17, loss : 2.29\n",
            "alpha : -0.10, beta : 0.24, loss : 2.30\n",
            "alpha : -0.10, beta : 0.31, loss : 2.30\n",
            "alpha : -0.10, beta : 0.38, loss : 2.32\n",
            "alpha : -0.10, beta : 0.45, loss : 2.35\n",
            "alpha : -0.10, beta : 0.52, loss : 2.38\n",
            "alpha : -0.10, beta : 0.59, loss : 2.40\n",
            "alpha : -0.10, beta : 0.66, loss : 2.42\n",
            "alpha : -0.10, beta : 0.72, loss : 2.44\n",
            "alpha : -0.10, beta : 0.79, loss : 2.42\n",
            "alpha : -0.10, beta : 0.86, loss : 2.42\n",
            "alpha : -0.10, beta : 0.93, loss : 2.42\n",
            "alpha : -0.10, beta : 1.00, loss : 2.43\n",
            "alpha : -0.03, beta : -1.00, loss : 2.44\n",
            "alpha : -0.03, beta : -0.93, loss : 2.42\n",
            "alpha : -0.03, beta : -0.86, loss : 2.40\n",
            "alpha : -0.03, beta : -0.79, loss : 2.39\n",
            "alpha : -0.03, beta : -0.72, loss : 2.38\n",
            "alpha : -0.03, beta : -0.66, loss : 2.39\n",
            "alpha : -0.03, beta : -0.59, loss : 2.37\n",
            "alpha : -0.03, beta : -0.52, loss : 2.33\n",
            "alpha : -0.03, beta : -0.45, loss : 2.37\n",
            "alpha : -0.03, beta : -0.38, loss : 2.35\n",
            "alpha : -0.03, beta : -0.31, loss : 2.32\n",
            "alpha : -0.03, beta : -0.24, loss : 2.29\n",
            "alpha : -0.03, beta : -0.17, loss : 2.30\n",
            "alpha : -0.03, beta : -0.10, loss : 2.31\n",
            "alpha : -0.03, beta : -0.03, loss : 2.25\n",
            "alpha : -0.03, beta : 0.03, loss : 2.26\n",
            "alpha : -0.03, beta : 0.10, loss : 2.28\n",
            "alpha : -0.03, beta : 0.17, loss : 2.29\n",
            "alpha : -0.03, beta : 0.24, loss : 2.31\n",
            "alpha : -0.03, beta : 0.31, loss : 2.31\n",
            "alpha : -0.03, beta : 0.38, loss : 2.32\n",
            "alpha : -0.03, beta : 0.45, loss : 2.36\n",
            "alpha : -0.03, beta : 0.52, loss : 2.38\n",
            "alpha : -0.03, beta : 0.59, loss : 2.39\n",
            "alpha : -0.03, beta : 0.66, loss : 2.44\n",
            "alpha : -0.03, beta : 0.72, loss : 2.44\n",
            "alpha : -0.03, beta : 0.79, loss : 2.41\n",
            "alpha : -0.03, beta : 0.86, loss : 2.41\n",
            "alpha : -0.03, beta : 0.93, loss : 2.42\n",
            "alpha : -0.03, beta : 1.00, loss : 2.43\n",
            "alpha : 0.03, beta : -1.00, loss : 2.43\n",
            "alpha : 0.03, beta : -0.93, loss : 2.40\n",
            "alpha : 0.03, beta : -0.86, loss : 2.37\n",
            "alpha : 0.03, beta : -0.79, loss : 2.35\n",
            "alpha : 0.03, beta : -0.72, loss : 2.38\n",
            "alpha : 0.03, beta : -0.66, loss : 2.41\n",
            "alpha : 0.03, beta : -0.59, loss : 2.41\n",
            "alpha : 0.03, beta : -0.52, loss : 2.35\n",
            "alpha : 0.03, beta : -0.45, loss : 2.35\n",
            "alpha : 0.03, beta : -0.38, loss : 2.35\n",
            "alpha : 0.03, beta : -0.31, loss : 2.33\n",
            "alpha : 0.03, beta : -0.24, loss : 2.27\n",
            "alpha : 0.03, beta : -0.17, loss : 2.31\n",
            "alpha : 0.03, beta : -0.10, loss : 2.32\n",
            "alpha : 0.03, beta : -0.03, loss : 2.26\n",
            "alpha : 0.03, beta : 0.03, loss : 2.28\n",
            "alpha : 0.03, beta : 0.10, loss : 2.29\n",
            "alpha : 0.03, beta : 0.17, loss : 2.30\n",
            "alpha : 0.03, beta : 0.24, loss : 2.33\n",
            "alpha : 0.03, beta : 0.31, loss : 2.33\n",
            "alpha : 0.03, beta : 0.38, loss : 2.34\n",
            "alpha : 0.03, beta : 0.45, loss : 2.36\n",
            "alpha : 0.03, beta : 0.52, loss : 2.33\n",
            "alpha : 0.03, beta : 0.59, loss : 2.36\n",
            "alpha : 0.03, beta : 0.66, loss : 2.42\n",
            "alpha : 0.03, beta : 0.72, loss : 2.43\n",
            "alpha : 0.03, beta : 0.79, loss : 2.40\n",
            "alpha : 0.03, beta : 0.86, loss : 2.42\n",
            "alpha : 0.03, beta : 0.93, loss : 2.42\n",
            "alpha : 0.03, beta : 1.00, loss : 2.43\n",
            "alpha : 0.10, beta : -1.00, loss : 2.39\n",
            "alpha : 0.10, beta : -0.93, loss : 2.38\n",
            "alpha : 0.10, beta : -0.86, loss : 2.36\n",
            "alpha : 0.10, beta : -0.79, loss : 2.35\n",
            "alpha : 0.10, beta : -0.72, loss : 2.35\n",
            "alpha : 0.10, beta : -0.66, loss : 2.41\n",
            "alpha : 0.10, beta : -0.59, loss : 2.43\n",
            "alpha : 0.10, beta : -0.52, loss : 2.34\n",
            "alpha : 0.10, beta : -0.45, loss : 2.32\n",
            "alpha : 0.10, beta : -0.38, loss : 2.35\n",
            "alpha : 0.10, beta : -0.31, loss : 2.39\n",
            "alpha : 0.10, beta : -0.24, loss : 2.36\n",
            "alpha : 0.10, beta : -0.17, loss : 2.33\n",
            "alpha : 0.10, beta : -0.10, loss : 2.33\n",
            "alpha : 0.10, beta : -0.03, loss : 2.32\n",
            "alpha : 0.10, beta : 0.03, loss : 2.34\n",
            "alpha : 0.10, beta : 0.10, loss : 2.33\n",
            "alpha : 0.10, beta : 0.17, loss : 2.32\n",
            "alpha : 0.10, beta : 0.24, loss : 2.33\n",
            "alpha : 0.10, beta : 0.31, loss : 2.32\n",
            "alpha : 0.10, beta : 0.38, loss : 2.33\n",
            "alpha : 0.10, beta : 0.45, loss : 2.33\n",
            "alpha : 0.10, beta : 0.52, loss : 2.32\n",
            "alpha : 0.10, beta : 0.59, loss : 2.35\n",
            "alpha : 0.10, beta : 0.66, loss : 2.39\n",
            "alpha : 0.10, beta : 0.72, loss : 2.41\n",
            "alpha : 0.10, beta : 0.79, loss : 2.42\n",
            "alpha : 0.10, beta : 0.86, loss : 2.41\n",
            "alpha : 0.10, beta : 0.93, loss : 2.41\n",
            "alpha : 0.10, beta : 1.00, loss : 2.43\n",
            "alpha : 0.17, beta : -1.00, loss : 2.40\n",
            "alpha : 0.17, beta : -0.93, loss : 2.38\n",
            "alpha : 0.17, beta : -0.86, loss : 2.35\n",
            "alpha : 0.17, beta : -0.79, loss : 2.35\n",
            "alpha : 0.17, beta : -0.72, loss : 2.35\n",
            "alpha : 0.17, beta : -0.66, loss : 2.38\n",
            "alpha : 0.17, beta : -0.59, loss : 2.38\n",
            "alpha : 0.17, beta : -0.52, loss : 2.33\n",
            "alpha : 0.17, beta : -0.45, loss : 2.30\n",
            "alpha : 0.17, beta : -0.38, loss : 2.31\n",
            "alpha : 0.17, beta : -0.31, loss : 2.33\n",
            "alpha : 0.17, beta : -0.24, loss : 2.38\n",
            "alpha : 0.17, beta : -0.17, loss : 2.38\n",
            "alpha : 0.17, beta : -0.10, loss : 2.33\n",
            "alpha : 0.17, beta : -0.03, loss : 2.35\n",
            "alpha : 0.17, beta : 0.03, loss : 2.37\n",
            "alpha : 0.17, beta : 0.10, loss : 2.34\n",
            "alpha : 0.17, beta : 0.17, loss : 2.31\n",
            "alpha : 0.17, beta : 0.24, loss : 2.31\n",
            "alpha : 0.17, beta : 0.31, loss : 2.31\n",
            "alpha : 0.17, beta : 0.38, loss : 2.32\n",
            "alpha : 0.17, beta : 0.45, loss : 2.32\n",
            "alpha : 0.17, beta : 0.52, loss : 2.33\n",
            "alpha : 0.17, beta : 0.59, loss : 2.35\n",
            "alpha : 0.17, beta : 0.66, loss : 2.37\n",
            "alpha : 0.17, beta : 0.72, loss : 2.36\n",
            "alpha : 0.17, beta : 0.79, loss : 2.40\n",
            "alpha : 0.17, beta : 0.86, loss : 2.41\n",
            "alpha : 0.17, beta : 0.93, loss : 2.41\n",
            "alpha : 0.17, beta : 1.00, loss : 2.42\n",
            "alpha : 0.24, beta : -1.00, loss : 2.40\n",
            "alpha : 0.24, beta : -0.93, loss : 2.37\n",
            "alpha : 0.24, beta : -0.86, loss : 2.35\n",
            "alpha : 0.24, beta : -0.79, loss : 2.34\n",
            "alpha : 0.24, beta : -0.72, loss : 2.34\n",
            "alpha : 0.24, beta : -0.66, loss : 2.34\n",
            "alpha : 0.24, beta : -0.59, loss : 2.36\n",
            "alpha : 0.24, beta : -0.52, loss : 2.33\n",
            "alpha : 0.24, beta : -0.45, loss : 2.33\n",
            "alpha : 0.24, beta : -0.38, loss : 2.33\n",
            "alpha : 0.24, beta : -0.31, loss : 2.30\n",
            "alpha : 0.24, beta : -0.24, loss : 2.31\n",
            "alpha : 0.24, beta : -0.17, loss : 2.38\n",
            "alpha : 0.24, beta : -0.10, loss : 2.36\n",
            "alpha : 0.24, beta : -0.03, loss : 2.36\n",
            "alpha : 0.24, beta : 0.03, loss : 2.40\n",
            "alpha : 0.24, beta : 0.10, loss : 2.35\n",
            "alpha : 0.24, beta : 0.17, loss : 2.32\n",
            "alpha : 0.24, beta : 0.24, loss : 2.31\n",
            "alpha : 0.24, beta : 0.31, loss : 2.31\n",
            "alpha : 0.24, beta : 0.38, loss : 2.32\n",
            "alpha : 0.24, beta : 0.45, loss : 2.32\n",
            "alpha : 0.24, beta : 0.52, loss : 2.33\n",
            "alpha : 0.24, beta : 0.59, loss : 2.35\n",
            "alpha : 0.24, beta : 0.66, loss : 2.36\n",
            "alpha : 0.24, beta : 0.72, loss : 2.38\n",
            "alpha : 0.24, beta : 0.79, loss : 2.41\n",
            "alpha : 0.24, beta : 0.86, loss : 2.40\n",
            "alpha : 0.24, beta : 0.93, loss : 2.41\n",
            "alpha : 0.24, beta : 1.00, loss : 2.42\n",
            "alpha : 0.31, beta : -1.00, loss : 2.42\n",
            "alpha : 0.31, beta : -0.93, loss : 2.39\n",
            "alpha : 0.31, beta : -0.86, loss : 2.36\n",
            "alpha : 0.31, beta : -0.79, loss : 2.35\n",
            "alpha : 0.31, beta : -0.72, loss : 2.34\n",
            "alpha : 0.31, beta : -0.66, loss : 2.34\n",
            "alpha : 0.31, beta : -0.59, loss : 2.35\n",
            "alpha : 0.31, beta : -0.52, loss : 2.35\n",
            "alpha : 0.31, beta : -0.45, loss : 2.37\n",
            "alpha : 0.31, beta : -0.38, loss : 2.37\n",
            "alpha : 0.31, beta : -0.31, loss : 2.35\n",
            "alpha : 0.31, beta : -0.24, loss : 2.34\n",
            "alpha : 0.31, beta : -0.17, loss : 2.37\n",
            "alpha : 0.31, beta : -0.10, loss : 2.36\n",
            "alpha : 0.31, beta : -0.03, loss : 2.36\n",
            "alpha : 0.31, beta : 0.03, loss : 2.38\n",
            "alpha : 0.31, beta : 0.10, loss : 2.34\n",
            "alpha : 0.31, beta : 0.17, loss : 2.33\n",
            "alpha : 0.31, beta : 0.24, loss : 2.31\n",
            "alpha : 0.31, beta : 0.31, loss : 2.32\n",
            "alpha : 0.31, beta : 0.38, loss : 2.32\n",
            "alpha : 0.31, beta : 0.45, loss : 2.33\n",
            "alpha : 0.31, beta : 0.52, loss : 2.33\n",
            "alpha : 0.31, beta : 0.59, loss : 2.34\n",
            "alpha : 0.31, beta : 0.66, loss : 2.35\n",
            "alpha : 0.31, beta : 0.72, loss : 2.37\n",
            "alpha : 0.31, beta : 0.79, loss : 2.39\n",
            "alpha : 0.31, beta : 0.86, loss : 2.39\n",
            "alpha : 0.31, beta : 0.93, loss : 2.40\n",
            "alpha : 0.31, beta : 1.00, loss : 2.41\n",
            "alpha : 0.38, beta : -1.00, loss : 2.45\n",
            "alpha : 0.38, beta : -0.93, loss : 2.43\n",
            "alpha : 0.38, beta : -0.86, loss : 2.40\n",
            "alpha : 0.38, beta : -0.79, loss : 2.38\n",
            "alpha : 0.38, beta : -0.72, loss : 2.36\n",
            "alpha : 0.38, beta : -0.66, loss : 2.36\n",
            "alpha : 0.38, beta : -0.59, loss : 2.35\n",
            "alpha : 0.38, beta : -0.52, loss : 2.35\n",
            "alpha : 0.38, beta : -0.45, loss : 2.37\n",
            "alpha : 0.38, beta : -0.38, loss : 2.37\n",
            "alpha : 0.38, beta : -0.31, loss : 2.34\n",
            "alpha : 0.38, beta : -0.24, loss : 2.37\n",
            "alpha : 0.38, beta : -0.17, loss : 2.39\n",
            "alpha : 0.38, beta : -0.10, loss : 2.36\n",
            "alpha : 0.38, beta : -0.03, loss : 2.34\n",
            "alpha : 0.38, beta : 0.03, loss : 2.34\n",
            "alpha : 0.38, beta : 0.10, loss : 2.33\n",
            "alpha : 0.38, beta : 0.17, loss : 2.32\n",
            "alpha : 0.38, beta : 0.24, loss : 2.33\n",
            "alpha : 0.38, beta : 0.31, loss : 2.33\n",
            "alpha : 0.38, beta : 0.38, loss : 2.34\n",
            "alpha : 0.38, beta : 0.45, loss : 2.33\n",
            "alpha : 0.38, beta : 0.52, loss : 2.33\n",
            "alpha : 0.38, beta : 0.59, loss : 2.33\n",
            "alpha : 0.38, beta : 0.66, loss : 2.34\n",
            "alpha : 0.38, beta : 0.72, loss : 2.36\n",
            "alpha : 0.38, beta : 0.79, loss : 2.36\n",
            "alpha : 0.38, beta : 0.86, loss : 2.38\n",
            "alpha : 0.38, beta : 0.93, loss : 2.39\n",
            "alpha : 0.38, beta : 1.00, loss : 2.42\n",
            "alpha : 0.45, beta : -1.00, loss : 2.44\n",
            "alpha : 0.45, beta : -0.93, loss : 2.43\n",
            "alpha : 0.45, beta : -0.86, loss : 2.42\n",
            "alpha : 0.45, beta : -0.79, loss : 2.40\n",
            "alpha : 0.45, beta : -0.72, loss : 2.38\n",
            "alpha : 0.45, beta : -0.66, loss : 2.36\n",
            "alpha : 0.45, beta : -0.59, loss : 2.35\n",
            "alpha : 0.45, beta : -0.52, loss : 2.36\n",
            "alpha : 0.45, beta : -0.45, loss : 2.36\n",
            "alpha : 0.45, beta : -0.38, loss : 2.34\n",
            "alpha : 0.45, beta : -0.31, loss : 2.34\n",
            "alpha : 0.45, beta : -0.24, loss : 2.36\n",
            "alpha : 0.45, beta : -0.17, loss : 2.38\n",
            "alpha : 0.45, beta : -0.10, loss : 2.35\n",
            "alpha : 0.45, beta : -0.03, loss : 2.34\n",
            "alpha : 0.45, beta : 0.03, loss : 2.34\n",
            "alpha : 0.45, beta : 0.10, loss : 2.34\n",
            "alpha : 0.45, beta : 0.17, loss : 2.33\n",
            "alpha : 0.45, beta : 0.24, loss : 2.33\n",
            "alpha : 0.45, beta : 0.31, loss : 2.34\n",
            "alpha : 0.45, beta : 0.38, loss : 2.35\n",
            "alpha : 0.45, beta : 0.45, loss : 2.34\n",
            "alpha : 0.45, beta : 0.52, loss : 2.33\n",
            "alpha : 0.45, beta : 0.59, loss : 2.34\n",
            "alpha : 0.45, beta : 0.66, loss : 2.34\n",
            "alpha : 0.45, beta : 0.72, loss : 2.34\n",
            "alpha : 0.45, beta : 0.79, loss : 2.36\n",
            "alpha : 0.45, beta : 0.86, loss : 2.37\n",
            "alpha : 0.45, beta : 0.93, loss : 2.39\n",
            "alpha : 0.45, beta : 1.00, loss : 2.42\n",
            "alpha : 0.52, beta : -1.00, loss : 2.44\n",
            "alpha : 0.52, beta : -0.93, loss : 2.42\n",
            "alpha : 0.52, beta : -0.86, loss : 2.42\n",
            "alpha : 0.52, beta : -0.79, loss : 2.41\n",
            "alpha : 0.52, beta : -0.72, loss : 2.38\n",
            "alpha : 0.52, beta : -0.66, loss : 2.37\n",
            "alpha : 0.52, beta : -0.59, loss : 2.35\n",
            "alpha : 0.52, beta : -0.52, loss : 2.35\n",
            "alpha : 0.52, beta : -0.45, loss : 2.34\n",
            "alpha : 0.52, beta : -0.38, loss : 2.34\n",
            "alpha : 0.52, beta : -0.31, loss : 2.33\n",
            "alpha : 0.52, beta : -0.24, loss : 2.35\n",
            "alpha : 0.52, beta : -0.17, loss : 2.36\n",
            "alpha : 0.52, beta : -0.10, loss : 2.35\n",
            "alpha : 0.52, beta : -0.03, loss : 2.34\n",
            "alpha : 0.52, beta : 0.03, loss : 2.34\n",
            "alpha : 0.52, beta : 0.10, loss : 2.33\n",
            "alpha : 0.52, beta : 0.17, loss : 2.33\n",
            "alpha : 0.52, beta : 0.24, loss : 2.35\n",
            "alpha : 0.52, beta : 0.31, loss : 2.35\n",
            "alpha : 0.52, beta : 0.38, loss : 2.35\n",
            "alpha : 0.52, beta : 0.45, loss : 2.34\n",
            "alpha : 0.52, beta : 0.52, loss : 2.34\n",
            "alpha : 0.52, beta : 0.59, loss : 2.34\n",
            "alpha : 0.52, beta : 0.66, loss : 2.35\n",
            "alpha : 0.52, beta : 0.72, loss : 2.35\n",
            "alpha : 0.52, beta : 0.79, loss : 2.36\n",
            "alpha : 0.52, beta : 0.86, loss : 2.38\n",
            "alpha : 0.52, beta : 0.93, loss : 2.40\n",
            "alpha : 0.52, beta : 1.00, loss : 2.42\n",
            "alpha : 0.59, beta : -1.00, loss : 2.42\n",
            "alpha : 0.59, beta : -0.93, loss : 2.43\n",
            "alpha : 0.59, beta : -0.86, loss : 2.42\n",
            "alpha : 0.59, beta : -0.79, loss : 2.39\n",
            "alpha : 0.59, beta : -0.72, loss : 2.39\n",
            "alpha : 0.59, beta : -0.66, loss : 2.38\n",
            "alpha : 0.59, beta : -0.59, loss : 2.37\n",
            "alpha : 0.59, beta : -0.52, loss : 2.35\n",
            "alpha : 0.59, beta : -0.45, loss : 2.33\n",
            "alpha : 0.59, beta : -0.38, loss : 2.33\n",
            "alpha : 0.59, beta : -0.31, loss : 2.33\n",
            "alpha : 0.59, beta : -0.24, loss : 2.37\n",
            "alpha : 0.59, beta : -0.17, loss : 2.36\n",
            "alpha : 0.59, beta : -0.10, loss : 2.36\n",
            "alpha : 0.59, beta : -0.03, loss : 2.34\n",
            "alpha : 0.59, beta : 0.03, loss : 2.32\n",
            "alpha : 0.59, beta : 0.10, loss : 2.32\n",
            "alpha : 0.59, beta : 0.17, loss : 2.35\n",
            "alpha : 0.59, beta : 0.24, loss : 2.37\n",
            "alpha : 0.59, beta : 0.31, loss : 2.36\n",
            "alpha : 0.59, beta : 0.38, loss : 2.35\n",
            "alpha : 0.59, beta : 0.45, loss : 2.34\n",
            "alpha : 0.59, beta : 0.52, loss : 2.34\n",
            "alpha : 0.59, beta : 0.59, loss : 2.35\n",
            "alpha : 0.59, beta : 0.66, loss : 2.36\n",
            "alpha : 0.59, beta : 0.72, loss : 2.35\n",
            "alpha : 0.59, beta : 0.79, loss : 2.36\n",
            "alpha : 0.59, beta : 0.86, loss : 2.38\n",
            "alpha : 0.59, beta : 0.93, loss : 2.40\n",
            "alpha : 0.59, beta : 1.00, loss : 2.42\n",
            "alpha : 0.66, beta : -1.00, loss : 2.43\n",
            "alpha : 0.66, beta : -0.93, loss : 2.43\n",
            "alpha : 0.66, beta : -0.86, loss : 2.42\n",
            "alpha : 0.66, beta : -0.79, loss : 2.40\n",
            "alpha : 0.66, beta : -0.72, loss : 2.38\n",
            "alpha : 0.66, beta : -0.66, loss : 2.38\n",
            "alpha : 0.66, beta : -0.59, loss : 2.37\n",
            "alpha : 0.66, beta : -0.52, loss : 2.36\n",
            "alpha : 0.66, beta : -0.45, loss : 2.33\n",
            "alpha : 0.66, beta : -0.38, loss : 2.33\n",
            "alpha : 0.66, beta : -0.31, loss : 2.35\n",
            "alpha : 0.66, beta : -0.24, loss : 2.36\n",
            "alpha : 0.66, beta : -0.17, loss : 2.36\n",
            "alpha : 0.66, beta : -0.10, loss : 2.36\n",
            "alpha : 0.66, beta : -0.03, loss : 2.35\n",
            "alpha : 0.66, beta : 0.03, loss : 2.33\n",
            "alpha : 0.66, beta : 0.10, loss : 2.34\n",
            "alpha : 0.66, beta : 0.17, loss : 2.36\n",
            "alpha : 0.66, beta : 0.24, loss : 2.39\n",
            "alpha : 0.66, beta : 0.31, loss : 2.36\n",
            "alpha : 0.66, beta : 0.38, loss : 2.36\n",
            "alpha : 0.66, beta : 0.45, loss : 2.34\n",
            "alpha : 0.66, beta : 0.52, loss : 2.35\n",
            "alpha : 0.66, beta : 0.59, loss : 2.36\n",
            "alpha : 0.66, beta : 0.66, loss : 2.36\n",
            "alpha : 0.66, beta : 0.72, loss : 2.36\n",
            "alpha : 0.66, beta : 0.79, loss : 2.37\n",
            "alpha : 0.66, beta : 0.86, loss : 2.39\n",
            "alpha : 0.66, beta : 0.93, loss : 2.41\n",
            "alpha : 0.66, beta : 1.00, loss : 2.43\n",
            "alpha : 0.72, beta : -1.00, loss : 2.43\n",
            "alpha : 0.72, beta : -0.93, loss : 2.42\n",
            "alpha : 0.72, beta : -0.86, loss : 2.40\n",
            "alpha : 0.72, beta : -0.79, loss : 2.39\n",
            "alpha : 0.72, beta : -0.72, loss : 2.38\n",
            "alpha : 0.72, beta : -0.66, loss : 2.37\n",
            "alpha : 0.72, beta : -0.59, loss : 2.36\n",
            "alpha : 0.72, beta : -0.52, loss : 2.36\n",
            "alpha : 0.72, beta : -0.45, loss : 2.34\n",
            "alpha : 0.72, beta : -0.38, loss : 2.34\n",
            "alpha : 0.72, beta : -0.31, loss : 2.34\n",
            "alpha : 0.72, beta : -0.24, loss : 2.36\n",
            "alpha : 0.72, beta : -0.17, loss : 2.35\n",
            "alpha : 0.72, beta : -0.10, loss : 2.35\n",
            "alpha : 0.72, beta : -0.03, loss : 2.35\n",
            "alpha : 0.72, beta : 0.03, loss : 2.33\n",
            "alpha : 0.72, beta : 0.10, loss : 2.34\n",
            "alpha : 0.72, beta : 0.17, loss : 2.35\n",
            "alpha : 0.72, beta : 0.24, loss : 2.37\n",
            "alpha : 0.72, beta : 0.31, loss : 2.36\n",
            "alpha : 0.72, beta : 0.38, loss : 2.36\n",
            "alpha : 0.72, beta : 0.45, loss : 2.35\n",
            "alpha : 0.72, beta : 0.52, loss : 2.35\n",
            "alpha : 0.72, beta : 0.59, loss : 2.35\n",
            "alpha : 0.72, beta : 0.66, loss : 2.34\n",
            "alpha : 0.72, beta : 0.72, loss : 2.35\n",
            "alpha : 0.72, beta : 0.79, loss : 2.36\n",
            "alpha : 0.72, beta : 0.86, loss : 2.38\n",
            "alpha : 0.72, beta : 0.93, loss : 2.41\n",
            "alpha : 0.72, beta : 1.00, loss : 2.42\n",
            "alpha : 0.79, beta : -1.00, loss : 2.42\n",
            "alpha : 0.79, beta : -0.93, loss : 2.40\n",
            "alpha : 0.79, beta : -0.86, loss : 2.39\n",
            "alpha : 0.79, beta : -0.79, loss : 2.37\n",
            "alpha : 0.79, beta : -0.72, loss : 2.36\n",
            "alpha : 0.79, beta : -0.66, loss : 2.36\n",
            "alpha : 0.79, beta : -0.59, loss : 2.37\n",
            "alpha : 0.79, beta : -0.52, loss : 2.40\n",
            "alpha : 0.79, beta : -0.45, loss : 2.34\n",
            "alpha : 0.79, beta : -0.38, loss : 2.34\n",
            "alpha : 0.79, beta : -0.31, loss : 2.34\n",
            "alpha : 0.79, beta : -0.24, loss : 2.35\n",
            "alpha : 0.79, beta : -0.17, loss : 2.35\n",
            "alpha : 0.79, beta : -0.10, loss : 2.34\n",
            "alpha : 0.79, beta : -0.03, loss : 2.33\n",
            "alpha : 0.79, beta : 0.03, loss : 2.34\n",
            "alpha : 0.79, beta : 0.10, loss : 2.34\n",
            "alpha : 0.79, beta : 0.17, loss : 2.34\n",
            "alpha : 0.79, beta : 0.24, loss : 2.34\n",
            "alpha : 0.79, beta : 0.31, loss : 2.35\n",
            "alpha : 0.79, beta : 0.38, loss : 2.34\n",
            "alpha : 0.79, beta : 0.45, loss : 2.34\n",
            "alpha : 0.79, beta : 0.52, loss : 2.35\n",
            "alpha : 0.79, beta : 0.59, loss : 2.35\n",
            "alpha : 0.79, beta : 0.66, loss : 2.34\n",
            "alpha : 0.79, beta : 0.72, loss : 2.35\n",
            "alpha : 0.79, beta : 0.79, loss : 2.36\n",
            "alpha : 0.79, beta : 0.86, loss : 2.38\n",
            "alpha : 0.79, beta : 0.93, loss : 2.40\n",
            "alpha : 0.79, beta : 1.00, loss : 2.43\n",
            "alpha : 0.86, beta : -1.00, loss : 2.42\n",
            "alpha : 0.86, beta : -0.93, loss : 2.40\n",
            "alpha : 0.86, beta : -0.86, loss : 2.38\n",
            "alpha : 0.86, beta : -0.79, loss : 2.37\n",
            "alpha : 0.86, beta : -0.72, loss : 2.35\n",
            "alpha : 0.86, beta : -0.66, loss : 2.35\n",
            "alpha : 0.86, beta : -0.59, loss : 2.37\n",
            "alpha : 0.86, beta : -0.52, loss : 2.37\n",
            "alpha : 0.86, beta : -0.45, loss : 2.37\n",
            "alpha : 0.86, beta : -0.38, loss : 2.35\n",
            "alpha : 0.86, beta : -0.31, loss : 2.35\n",
            "alpha : 0.86, beta : -0.24, loss : 2.35\n",
            "alpha : 0.86, beta : -0.17, loss : 2.35\n",
            "alpha : 0.86, beta : -0.10, loss : 2.33\n",
            "alpha : 0.86, beta : -0.03, loss : 2.33\n",
            "alpha : 0.86, beta : 0.03, loss : 2.33\n",
            "alpha : 0.86, beta : 0.10, loss : 2.33\n",
            "alpha : 0.86, beta : 0.17, loss : 2.33\n",
            "alpha : 0.86, beta : 0.24, loss : 2.34\n",
            "alpha : 0.86, beta : 0.31, loss : 2.34\n",
            "alpha : 0.86, beta : 0.38, loss : 2.32\n",
            "alpha : 0.86, beta : 0.45, loss : 2.33\n",
            "alpha : 0.86, beta : 0.52, loss : 2.35\n",
            "alpha : 0.86, beta : 0.59, loss : 2.35\n",
            "alpha : 0.86, beta : 0.66, loss : 2.35\n",
            "alpha : 0.86, beta : 0.72, loss : 2.35\n",
            "alpha : 0.86, beta : 0.79, loss : 2.37\n",
            "alpha : 0.86, beta : 0.86, loss : 2.39\n",
            "alpha : 0.86, beta : 0.93, loss : 2.40\n",
            "alpha : 0.86, beta : 1.00, loss : 2.43\n",
            "alpha : 0.93, beta : -1.00, loss : 2.42\n",
            "alpha : 0.93, beta : -0.93, loss : 2.39\n",
            "alpha : 0.93, beta : -0.86, loss : 2.38\n",
            "alpha : 0.93, beta : -0.79, loss : 2.36\n",
            "alpha : 0.93, beta : -0.72, loss : 2.35\n",
            "alpha : 0.93, beta : -0.66, loss : 2.35\n",
            "alpha : 0.93, beta : -0.59, loss : 2.35\n",
            "alpha : 0.93, beta : -0.52, loss : 2.35\n",
            "alpha : 0.93, beta : -0.45, loss : 2.36\n",
            "alpha : 0.93, beta : -0.38, loss : 2.36\n",
            "alpha : 0.93, beta : -0.31, loss : 2.36\n",
            "alpha : 0.93, beta : -0.24, loss : 2.35\n",
            "alpha : 0.93, beta : -0.17, loss : 2.34\n",
            "alpha : 0.93, beta : -0.10, loss : 2.33\n",
            "alpha : 0.93, beta : -0.03, loss : 2.32\n",
            "alpha : 0.93, beta : 0.03, loss : 2.32\n",
            "alpha : 0.93, beta : 0.10, loss : 2.33\n",
            "alpha : 0.93, beta : 0.17, loss : 2.33\n",
            "alpha : 0.93, beta : 0.24, loss : 2.33\n",
            "alpha : 0.93, beta : 0.31, loss : 2.33\n",
            "alpha : 0.93, beta : 0.38, loss : 2.32\n",
            "alpha : 0.93, beta : 0.45, loss : 2.33\n",
            "alpha : 0.93, beta : 0.52, loss : 2.35\n",
            "alpha : 0.93, beta : 0.59, loss : 2.35\n",
            "alpha : 0.93, beta : 0.66, loss : 2.34\n",
            "alpha : 0.93, beta : 0.72, loss : 2.35\n",
            "alpha : 0.93, beta : 0.79, loss : 2.37\n",
            "alpha : 0.93, beta : 0.86, loss : 2.38\n",
            "alpha : 0.93, beta : 0.93, loss : 2.41\n",
            "alpha : 0.93, beta : 1.00, loss : 2.42\n",
            "alpha : 1.00, beta : -1.00, loss : 2.43\n",
            "alpha : 1.00, beta : -0.93, loss : 2.41\n",
            "alpha : 1.00, beta : -0.86, loss : 2.38\n",
            "alpha : 1.00, beta : -0.79, loss : 2.37\n",
            "alpha : 1.00, beta : -0.72, loss : 2.36\n",
            "alpha : 1.00, beta : -0.66, loss : 2.35\n",
            "alpha : 1.00, beta : -0.59, loss : 2.35\n",
            "alpha : 1.00, beta : -0.52, loss : 2.34\n",
            "alpha : 1.00, beta : -0.45, loss : 2.34\n",
            "alpha : 1.00, beta : -0.38, loss : 2.35\n",
            "alpha : 1.00, beta : -0.31, loss : 2.35\n",
            "alpha : 1.00, beta : -0.24, loss : 2.35\n",
            "alpha : 1.00, beta : -0.17, loss : 2.34\n",
            "alpha : 1.00, beta : -0.10, loss : 2.32\n",
            "alpha : 1.00, beta : -0.03, loss : 2.32\n",
            "alpha : 1.00, beta : 0.03, loss : 2.32\n",
            "alpha : 1.00, beta : 0.10, loss : 2.33\n",
            "alpha : 1.00, beta : 0.17, loss : 2.32\n",
            "alpha : 1.00, beta : 0.24, loss : 2.33\n",
            "alpha : 1.00, beta : 0.31, loss : 2.32\n",
            "alpha : 1.00, beta : 0.38, loss : 2.32\n",
            "alpha : 1.00, beta : 0.45, loss : 2.33\n",
            "alpha : 1.00, beta : 0.52, loss : 2.34\n",
            "alpha : 1.00, beta : 0.59, loss : 2.35\n",
            "alpha : 1.00, beta : 0.66, loss : 2.36\n",
            "alpha : 1.00, beta : 0.72, loss : 2.36\n",
            "alpha : 1.00, beta : 0.79, loss : 2.37\n",
            "alpha : 1.00, beta : 0.86, loss : 2.38\n",
            "alpha : 1.00, beta : 0.93, loss : 2.41\n",
            "alpha : 1.00, beta : 1.00, loss : 2.42\n"
          ]
        }
      ],
      "source": [
        "run_landscape_gen(model_name=SAVED_MODEL_NAME, \n",
        "                  dataloader=train_loader,\n",
        "                  resolution=30,\n",
        "                  seed=1234)"
      ]
    },
    {
      "cell_type": "code",
      "execution_count": null,
      "metadata": {
        "colab": {
          "background_save": true
        },
        "id": "wJFCRhxwFXvJ"
      },
      "outputs": [],
      "source": [
        "# parser = argparse.ArgumentParser(description='Arguments to generate loss landscape.')\n",
        "# parser.add_argument('--path_to_imagenetv2', default='/mnt/storage/datasets/imagenetv2-top-images-format-val/', type=str)\n",
        "# parser.add_argument('--batch_size', default=8, type=int)\n",
        "# parser.add_argument('--resolution', default=25, type=int)\n",
        "\n",
        "# plt.figure(figsize=(18, 12))\n",
        "# plt.contour(A, B, loss_surface)\n",
        "# plt.savefig(f'{model_id}_contour_optim_{optimizer_name}_bs_{BATCH_SIZE}_res_{RESOLUTION}_{dataset_name}.png', dpi=100)\n",
        "# plt.close()"
      ]
    },
    {
      "cell_type": "code",
      "execution_count": null,
      "metadata": {
        "colab": {
          "background_save": true
        },
        "id": "sSIamqngLrSf"
      },
      "outputs": [],
      "source": [
        "%matplotlib inline\n",
        "import numpy as np\n",
        "import matplotlib.pyplot as plt\n",
        "from matplotlib import cm\n",
        "from matplotlib import animation\n",
        "from mpl_toolkits.mplot3d import Axes3D\n",
        "from matplotlib.animation import FuncAnimation, PillowWriter\n",
        "import networkx\n",
        "plt.rcParams[\"figure.figsize\"] = (20,20)\n",
        "\n",
        "def generate_plots(file_name, with_axes, log):\n",
        "\n",
        "    xx = np.load(\"XX_\" + file_name + \".npy\")\n",
        "    yy = np.load(\"YY_\" + file_name + \".npy\")\n",
        "    zz = np.load(\"ZZ_\" + file_name + \".npy\")\n",
        "\n",
        "    if log:\n",
        "      zz = np.log(zz)\n",
        "      log_label = \"ON\"\n",
        "    else:\n",
        "      log_label = \"OFF\"\n",
        "\n",
        "    plt.figure(figsize=(20, 20))\n",
        "\n",
        "    ## 3D loss plot\n",
        "    fig, ax = plt.subplots(subplot_kw={'projection' : '3d'})\n",
        "    if not with_axes:\n",
        "      ax.set_axis_off()\n",
        "      label_axes = \"OFF\"\n",
        "    else:\n",
        "      label_axes = \"ON\"\n",
        "\n",
        "    surf = ax.plot_surface(xx, yy, zz, \n",
        "                           cmap=cm.coolwarm,\n",
        "                           linewidth=0, \n",
        "                           antialiased=False)\n",
        "    ax.set_xlim(-1, 1)\n",
        "    ax.set_ylim(-1, 1)\n",
        "    # print(ax.azim, ax.elev)\n",
        "\n",
        "    plt.savefig(f'loss_surface_{file_name}_axes={label_axes}_log={log_label}.png', \n",
        "                dpi=300,\n",
        "                format='png', \n",
        "                bbox_inches = \"tight\")\n",
        "    plt.show()\n"
      ]
    },
    {
      "cell_type": "code",
      "execution_count": null,
      "metadata": {
        "colab": {
          "background_save": true
        },
        "id": "1j8ZtWjlL--u",
        "outputId": "bb1f5a4b-b54a-41d8-8604-d601e49089c3"
      },
      "outputs": [
        {
          "data": {
            "text/plain": [
              "<Figure size 1440x1440 with 0 Axes>"
            ]
          },
          "metadata": {},
          "output_type": "display_data"
        },
        {
          "data": {
            "image/png": "[encoded data removed]",
            "text/plain": [
              "<Figure size 1440x1440 with 1 Axes>"
            ]
          },
          "metadata": {},
          "output_type": "display_data"
        }
      ],
      "source": [
        "generate_plots(file_name=PARTIAL_NAME, \n",
        "               with_axes=True,\n",
        "               log=True)"
      ]
    },
    {
      "cell_type": "code",
      "execution_count": null,
      "metadata": {
        "colab": {
          "background_save": true
        },
        "id": "u9OgN6MZcGZQ",
        "outputId": "b6089da7-5083-403b-b0c6-254ad8c194a9"
      },
      "outputs": [
        {
          "data": {
            "text/plain": [
              "<Figure size 1440x1440 with 0 Axes>"
            ]
          },
          "metadata": {},
          "output_type": "display_data"
        },
        {
          "data": {
            "image/png": "[encoded data removed]",
            "text/plain": [
              "<Figure size 1440x1440 with 1 Axes>"
            ]
          },
          "metadata": {},
          "output_type": "display_data"
        }
      ],
      "source": [
        "generate_plots(file_name=PARTIAL_NAME, \n",
        "               with_axes=True,\n",
        "               log=False)"
      ]
    }
  ],
  "metadata": {
    "accelerator": "GPU",
    "colab": {
      "machine_shape": "hm",
      "provenance": []
    },
    "gpuClass": "standard",
    "kernelspec": {
      "display_name": "Python 3",
      "name": "python3"
    },
    "language_info": {
      "name": "python"
    }
  },
  "nbformat": 4,
  "nbformat_minor": 0
}