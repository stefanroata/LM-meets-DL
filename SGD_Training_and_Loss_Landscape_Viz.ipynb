{
  "nbformat": 4,
  "nbformat_minor": 0,
  "metadata": {
    "colab": {
      "provenance": [],
      "collapsed_sections": [],
      "machine_shape": "hm",
      "authorship_tag": "ABX9TyPt0Gwih9zDyDvzf3Doenew",
      "include_colab_link": true
    },
    "kernelspec": {
      "name": "python3",
      "display_name": "Python 3"
    },
    "language_info": {
      "name": "python"
    },
    "gpuClass": "standard",
    "accelerator": "GPU"
  },
  "cells": [
    {
      "cell_type": "markdown",
      "metadata": {
        "id": "view-in-github",
        "colab_type": "text"
      },
      "source": [
        "<a href=\"https://colab.research.google.com/github/stefanroata/LM-meets-DL/blob/main/SGD_Training_and_Loss_Landscape_Viz.ipynb\" target=\"_parent\"><img src=\"https://colab.research.google.com/assets/colab-badge.svg\" alt=\"Open In Colab\"/></a>"
      ]
    },
    {
      "cell_type": "code",
      "execution_count": null,
      "metadata": {
        "id": "mTdNSjDGCkD7"
      },
      "outputs": [],
      "source": [
        "import torch\n",
        "import copy\n",
        "import torchvision\n",
        "import numpy as np\n",
        "import os\n",
        "from tqdm import tqdm\n",
        "from torchvision import transforms as T\n",
        "from torchvision import models\n",
        "from torch.utils.data.dataloader import DataLoader\n",
        "import matplotlib.pyplot as plt\n",
        "from torchvision.datasets import CIFAR10\n",
        "import torch.optim as optim\n",
        "from google.colab import drive"
      ]
    },
    {
      "cell_type": "code",
      "source": [
        "# ONLY AVAILABLE IF WORKING INSIDE GOOGLE COLAB\n",
        "# IF NOT WORKING INSIDE GOOGLE COLAB, PLEASE IGNORE THIS CELL\n",
        "drive.mount('/content/gdrive')\n",
        "os.chdir('/content/gdrive/MyDrive/CAPSTONE/')"
      ],
      "metadata": {
        "colab": {
          "base_uri": "https://localhost:8080/"
        },
        "id": "dmNkZB3YE5O7",
        "outputId": "dc700349-53a1-4a71-af20-1c437ab7aca4"
      },
      "execution_count": null,
      "outputs": [
        {
          "output_type": "stream",
          "name": "stdout",
          "text": [
            "Mounted at /content/gdrive\n"
          ]
        }
      ]
    },
    {
      "cell_type": "code",
      "source": [
        "!nvidia-smi -L "
      ],
      "metadata": {
        "colab": {
          "base_uri": "https://localhost:8080/"
        },
        "id": "hVaWWqy6wdNW",
        "outputId": "7e84dc29-27a9-456e-fa7d-842d99620a6f"
      },
      "execution_count": null,
      "outputs": [
        {
          "output_type": "stream",
          "name": "stdout",
          "text": [
            "GPU 0: Tesla T4 (UUID: GPU-fff23c0d-b9c1-37aa-39f1-9117e20bcbcd)\n"
          ]
        }
      ]
    },
    {
      "cell_type": "code",
      "source": [
        "# dir(models)\n",
        "model_ident = 'mobilenet_v2'\n",
        "optimizer_name = 'SGD'\n",
        "dataset_name = 'imagenetv2'\n"
      ],
      "metadata": {
        "id": "EZrBFHPM9i0s"
      },
      "execution_count": null,
      "outputs": []
    },
    {
      "cell_type": "code",
      "source": [
        "device = torch.device('cuda' if torch.cuda.is_available() else 'cpu')\n",
        "print(device)"
      ],
      "metadata": {
        "colab": {
          "base_uri": "https://localhost:8080/"
        },
        "id": "za7hsKvfB9cM",
        "outputId": "0784c5ac-8822-432d-cba4-89e432176df7"
      },
      "execution_count": null,
      "outputs": [
        {
          "output_type": "stream",
          "name": "stdout",
          "text": [
            "cuda\n"
          ]
        }
      ]
    },
    {
      "cell_type": "code",
      "source": [
        "model = torch.hub.load('pytorch/vision:v0.6.0', model_ident, weights = None, verbose=False)"
      ],
      "metadata": {
        "colab": {
          "base_uri": "https://localhost:8080/"
        },
        "id": "TglvDXQg9wFu",
        "outputId": "b1a85f0d-5696-433c-a726-64ce9bd6840c"
      },
      "execution_count": null,
      "outputs": [
        {
          "output_type": "stream",
          "name": "stderr",
          "text": [
            "Downloading: \"https://github.com/pytorch/vision/zipball/v0.6.0\" to /root/.cache/torch/hub/v0.6.0.zip\n"
          ]
        }
      ]
    },
    {
      "cell_type": "code",
      "source": [
        "model.to(device)"
      ],
      "metadata": {
        "colab": {
          "base_uri": "https://localhost:8080/"
        },
        "id": "XTzyeQ2koIk7",
        "outputId": "7944f892-f325-4193-a276-c2acaa7be9e4"
      },
      "execution_count": null,
      "outputs": [
        {
          "output_type": "execute_result",
          "data": {
            "text/plain": [
              "MobileNetV2(\n",
              "  (features): Sequential(\n",
              "    (0): Conv2dNormActivation(\n",
              "      (0): Conv2d(3, 32, kernel_size=(3, 3), stride=(2, 2), padding=(1, 1), bias=False)\n",
              "      (1): BatchNorm2d(32, eps=1e-05, momentum=0.1, affine=True, track_running_stats=True)\n",
              "      (2): ReLU6(inplace=True)\n",
              "    )\n",
              "    (1): InvertedResidual(\n",
              "      (conv): Sequential(\n",
              "        (0): Conv2dNormActivation(\n",
              "          (0): Conv2d(32, 32, kernel_size=(3, 3), stride=(1, 1), padding=(1, 1), groups=32, bias=False)\n",
              "          (1): BatchNorm2d(32, eps=1e-05, momentum=0.1, affine=True, track_running_stats=True)\n",
              "          (2): ReLU6(inplace=True)\n",
              "        )\n",
              "        (1): Conv2d(32, 16, kernel_size=(1, 1), stride=(1, 1), bias=False)\n",
              "        (2): BatchNorm2d(16, eps=1e-05, momentum=0.1, affine=True, track_running_stats=True)\n",
              "      )\n",
              "    )\n",
              "    (2): InvertedResidual(\n",
              "      (conv): Sequential(\n",
              "        (0): Conv2dNormActivation(\n",
              "          (0): Conv2d(16, 96, kernel_size=(1, 1), stride=(1, 1), bias=False)\n",
              "          (1): BatchNorm2d(96, eps=1e-05, momentum=0.1, affine=True, track_running_stats=True)\n",
              "          (2): ReLU6(inplace=True)\n",
              "        )\n",
              "        (1): Conv2dNormActivation(\n",
              "          (0): Conv2d(96, 96, kernel_size=(3, 3), stride=(2, 2), padding=(1, 1), groups=96, bias=False)\n",
              "          (1): BatchNorm2d(96, eps=1e-05, momentum=0.1, affine=True, track_running_stats=True)\n",
              "          (2): ReLU6(inplace=True)\n",
              "        )\n",
              "        (2): Conv2d(96, 24, kernel_size=(1, 1), stride=(1, 1), bias=False)\n",
              "        (3): BatchNorm2d(24, eps=1e-05, momentum=0.1, affine=True, track_running_stats=True)\n",
              "      )\n",
              "    )\n",
              "    (3): InvertedResidual(\n",
              "      (conv): Sequential(\n",
              "        (0): Conv2dNormActivation(\n",
              "          (0): Conv2d(24, 144, kernel_size=(1, 1), stride=(1, 1), bias=False)\n",
              "          (1): BatchNorm2d(144, eps=1e-05, momentum=0.1, affine=True, track_running_stats=True)\n",
              "          (2): ReLU6(inplace=True)\n",
              "        )\n",
              "        (1): Conv2dNormActivation(\n",
              "          (0): Conv2d(144, 144, kernel_size=(3, 3), stride=(1, 1), padding=(1, 1), groups=144, bias=False)\n",
              "          (1): BatchNorm2d(144, eps=1e-05, momentum=0.1, affine=True, track_running_stats=True)\n",
              "          (2): ReLU6(inplace=True)\n",
              "        )\n",
              "        (2): Conv2d(144, 24, kernel_size=(1, 1), stride=(1, 1), bias=False)\n",
              "        (3): BatchNorm2d(24, eps=1e-05, momentum=0.1, affine=True, track_running_stats=True)\n",
              "      )\n",
              "    )\n",
              "    (4): InvertedResidual(\n",
              "      (conv): Sequential(\n",
              "        (0): Conv2dNormActivation(\n",
              "          (0): Conv2d(24, 144, kernel_size=(1, 1), stride=(1, 1), bias=False)\n",
              "          (1): BatchNorm2d(144, eps=1e-05, momentum=0.1, affine=True, track_running_stats=True)\n",
              "          (2): ReLU6(inplace=True)\n",
              "        )\n",
              "        (1): Conv2dNormActivation(\n",
              "          (0): Conv2d(144, 144, kernel_size=(3, 3), stride=(2, 2), padding=(1, 1), groups=144, bias=False)\n",
              "          (1): BatchNorm2d(144, eps=1e-05, momentum=0.1, affine=True, track_running_stats=True)\n",
              "          (2): ReLU6(inplace=True)\n",
              "        )\n",
              "        (2): Conv2d(144, 32, kernel_size=(1, 1), stride=(1, 1), bias=False)\n",
              "        (3): BatchNorm2d(32, eps=1e-05, momentum=0.1, affine=True, track_running_stats=True)\n",
              "      )\n",
              "    )\n",
              "    (5): InvertedResidual(\n",
              "      (conv): Sequential(\n",
              "        (0): Conv2dNormActivation(\n",
              "          (0): Conv2d(32, 192, kernel_size=(1, 1), stride=(1, 1), bias=False)\n",
              "          (1): BatchNorm2d(192, eps=1e-05, momentum=0.1, affine=True, track_running_stats=True)\n",
              "          (2): ReLU6(inplace=True)\n",
              "        )\n",
              "        (1): Conv2dNormActivation(\n",
              "          (0): Conv2d(192, 192, kernel_size=(3, 3), stride=(1, 1), padding=(1, 1), groups=192, bias=False)\n",
              "          (1): BatchNorm2d(192, eps=1e-05, momentum=0.1, affine=True, track_running_stats=True)\n",
              "          (2): ReLU6(inplace=True)\n",
              "        )\n",
              "        (2): Conv2d(192, 32, kernel_size=(1, 1), stride=(1, 1), bias=False)\n",
              "        (3): BatchNorm2d(32, eps=1e-05, momentum=0.1, affine=True, track_running_stats=True)\n",
              "      )\n",
              "    )\n",
              "    (6): InvertedResidual(\n",
              "      (conv): Sequential(\n",
              "        (0): Conv2dNormActivation(\n",
              "          (0): Conv2d(32, 192, kernel_size=(1, 1), stride=(1, 1), bias=False)\n",
              "          (1): BatchNorm2d(192, eps=1e-05, momentum=0.1, affine=True, track_running_stats=True)\n",
              "          (2): ReLU6(inplace=True)\n",
              "        )\n",
              "        (1): Conv2dNormActivation(\n",
              "          (0): Conv2d(192, 192, kernel_size=(3, 3), stride=(1, 1), padding=(1, 1), groups=192, bias=False)\n",
              "          (1): BatchNorm2d(192, eps=1e-05, momentum=0.1, affine=True, track_running_stats=True)\n",
              "          (2): ReLU6(inplace=True)\n",
              "        )\n",
              "        (2): Conv2d(192, 32, kernel_size=(1, 1), stride=(1, 1), bias=False)\n",
              "        (3): BatchNorm2d(32, eps=1e-05, momentum=0.1, affine=True, track_running_stats=True)\n",
              "      )\n",
              "    )\n",
              "    (7): InvertedResidual(\n",
              "      (conv): Sequential(\n",
              "        (0): Conv2dNormActivation(\n",
              "          (0): Conv2d(32, 192, kernel_size=(1, 1), stride=(1, 1), bias=False)\n",
              "          (1): BatchNorm2d(192, eps=1e-05, momentum=0.1, affine=True, track_running_stats=True)\n",
              "          (2): ReLU6(inplace=True)\n",
              "        )\n",
              "        (1): Conv2dNormActivation(\n",
              "          (0): Conv2d(192, 192, kernel_size=(3, 3), stride=(2, 2), padding=(1, 1), groups=192, bias=False)\n",
              "          (1): BatchNorm2d(192, eps=1e-05, momentum=0.1, affine=True, track_running_stats=True)\n",
              "          (2): ReLU6(inplace=True)\n",
              "        )\n",
              "        (2): Conv2d(192, 64, kernel_size=(1, 1), stride=(1, 1), bias=False)\n",
              "        (3): BatchNorm2d(64, eps=1e-05, momentum=0.1, affine=True, track_running_stats=True)\n",
              "      )\n",
              "    )\n",
              "    (8): InvertedResidual(\n",
              "      (conv): Sequential(\n",
              "        (0): Conv2dNormActivation(\n",
              "          (0): Conv2d(64, 384, kernel_size=(1, 1), stride=(1, 1), bias=False)\n",
              "          (1): BatchNorm2d(384, eps=1e-05, momentum=0.1, affine=True, track_running_stats=True)\n",
              "          (2): ReLU6(inplace=True)\n",
              "        )\n",
              "        (1): Conv2dNormActivation(\n",
              "          (0): Conv2d(384, 384, kernel_size=(3, 3), stride=(1, 1), padding=(1, 1), groups=384, bias=False)\n",
              "          (1): BatchNorm2d(384, eps=1e-05, momentum=0.1, affine=True, track_running_stats=True)\n",
              "          (2): ReLU6(inplace=True)\n",
              "        )\n",
              "        (2): Conv2d(384, 64, kernel_size=(1, 1), stride=(1, 1), bias=False)\n",
              "        (3): BatchNorm2d(64, eps=1e-05, momentum=0.1, affine=True, track_running_stats=True)\n",
              "      )\n",
              "    )\n",
              "    (9): InvertedResidual(\n",
              "      (conv): Sequential(\n",
              "        (0): Conv2dNormActivation(\n",
              "          (0): Conv2d(64, 384, kernel_size=(1, 1), stride=(1, 1), bias=False)\n",
              "          (1): BatchNorm2d(384, eps=1e-05, momentum=0.1, affine=True, track_running_stats=True)\n",
              "          (2): ReLU6(inplace=True)\n",
              "        )\n",
              "        (1): Conv2dNormActivation(\n",
              "          (0): Conv2d(384, 384, kernel_size=(3, 3), stride=(1, 1), padding=(1, 1), groups=384, bias=False)\n",
              "          (1): BatchNorm2d(384, eps=1e-05, momentum=0.1, affine=True, track_running_stats=True)\n",
              "          (2): ReLU6(inplace=True)\n",
              "        )\n",
              "        (2): Conv2d(384, 64, kernel_size=(1, 1), stride=(1, 1), bias=False)\n",
              "        (3): BatchNorm2d(64, eps=1e-05, momentum=0.1, affine=True, track_running_stats=True)\n",
              "      )\n",
              "    )\n",
              "    (10): InvertedResidual(\n",
              "      (conv): Sequential(\n",
              "        (0): Conv2dNormActivation(\n",
              "          (0): Conv2d(64, 384, kernel_size=(1, 1), stride=(1, 1), bias=False)\n",
              "          (1): BatchNorm2d(384, eps=1e-05, momentum=0.1, affine=True, track_running_stats=True)\n",
              "          (2): ReLU6(inplace=True)\n",
              "        )\n",
              "        (1): Conv2dNormActivation(\n",
              "          (0): Conv2d(384, 384, kernel_size=(3, 3), stride=(1, 1), padding=(1, 1), groups=384, bias=False)\n",
              "          (1): BatchNorm2d(384, eps=1e-05, momentum=0.1, affine=True, track_running_stats=True)\n",
              "          (2): ReLU6(inplace=True)\n",
              "        )\n",
              "        (2): Conv2d(384, 64, kernel_size=(1, 1), stride=(1, 1), bias=False)\n",
              "        (3): BatchNorm2d(64, eps=1e-05, momentum=0.1, affine=True, track_running_stats=True)\n",
              "      )\n",
              "    )\n",
              "    (11): InvertedResidual(\n",
              "      (conv): Sequential(\n",
              "        (0): Conv2dNormActivation(\n",
              "          (0): Conv2d(64, 384, kernel_size=(1, 1), stride=(1, 1), bias=False)\n",
              "          (1): BatchNorm2d(384, eps=1e-05, momentum=0.1, affine=True, track_running_stats=True)\n",
              "          (2): ReLU6(inplace=True)\n",
              "        )\n",
              "        (1): Conv2dNormActivation(\n",
              "          (0): Conv2d(384, 384, kernel_size=(3, 3), stride=(1, 1), padding=(1, 1), groups=384, bias=False)\n",
              "          (1): BatchNorm2d(384, eps=1e-05, momentum=0.1, affine=True, track_running_stats=True)\n",
              "          (2): ReLU6(inplace=True)\n",
              "        )\n",
              "        (2): Conv2d(384, 96, kernel_size=(1, 1), stride=(1, 1), bias=False)\n",
              "        (3): BatchNorm2d(96, eps=1e-05, momentum=0.1, affine=True, track_running_stats=True)\n",
              "      )\n",
              "    )\n",
              "    (12): InvertedResidual(\n",
              "      (conv): Sequential(\n",
              "        (0): Conv2dNormActivation(\n",
              "          (0): Conv2d(96, 576, kernel_size=(1, 1), stride=(1, 1), bias=False)\n",
              "          (1): BatchNorm2d(576, eps=1e-05, momentum=0.1, affine=True, track_running_stats=True)\n",
              "          (2): ReLU6(inplace=True)\n",
              "        )\n",
              "        (1): Conv2dNormActivation(\n",
              "          (0): Conv2d(576, 576, kernel_size=(3, 3), stride=(1, 1), padding=(1, 1), groups=576, bias=False)\n",
              "          (1): BatchNorm2d(576, eps=1e-05, momentum=0.1, affine=True, track_running_stats=True)\n",
              "          (2): ReLU6(inplace=True)\n",
              "        )\n",
              "        (2): Conv2d(576, 96, kernel_size=(1, 1), stride=(1, 1), bias=False)\n",
              "        (3): BatchNorm2d(96, eps=1e-05, momentum=0.1, affine=True, track_running_stats=True)\n",
              "      )\n",
              "    )\n",
              "    (13): InvertedResidual(\n",
              "      (conv): Sequential(\n",
              "        (0): Conv2dNormActivation(\n",
              "          (0): Conv2d(96, 576, kernel_size=(1, 1), stride=(1, 1), bias=False)\n",
              "          (1): BatchNorm2d(576, eps=1e-05, momentum=0.1, affine=True, track_running_stats=True)\n",
              "          (2): ReLU6(inplace=True)\n",
              "        )\n",
              "        (1): Conv2dNormActivation(\n",
              "          (0): Conv2d(576, 576, kernel_size=(3, 3), stride=(1, 1), padding=(1, 1), groups=576, bias=False)\n",
              "          (1): BatchNorm2d(576, eps=1e-05, momentum=0.1, affine=True, track_running_stats=True)\n",
              "          (2): ReLU6(inplace=True)\n",
              "        )\n",
              "        (2): Conv2d(576, 96, kernel_size=(1, 1), stride=(1, 1), bias=False)\n",
              "        (3): BatchNorm2d(96, eps=1e-05, momentum=0.1, affine=True, track_running_stats=True)\n",
              "      )\n",
              "    )\n",
              "    (14): InvertedResidual(\n",
              "      (conv): Sequential(\n",
              "        (0): Conv2dNormActivation(\n",
              "          (0): Conv2d(96, 576, kernel_size=(1, 1), stride=(1, 1), bias=False)\n",
              "          (1): BatchNorm2d(576, eps=1e-05, momentum=0.1, affine=True, track_running_stats=True)\n",
              "          (2): ReLU6(inplace=True)\n",
              "        )\n",
              "        (1): Conv2dNormActivation(\n",
              "          (0): Conv2d(576, 576, kernel_size=(3, 3), stride=(2, 2), padding=(1, 1), groups=576, bias=False)\n",
              "          (1): BatchNorm2d(576, eps=1e-05, momentum=0.1, affine=True, track_running_stats=True)\n",
              "          (2): ReLU6(inplace=True)\n",
              "        )\n",
              "        (2): Conv2d(576, 160, kernel_size=(1, 1), stride=(1, 1), bias=False)\n",
              "        (3): BatchNorm2d(160, eps=1e-05, momentum=0.1, affine=True, track_running_stats=True)\n",
              "      )\n",
              "    )\n",
              "    (15): InvertedResidual(\n",
              "      (conv): Sequential(\n",
              "        (0): Conv2dNormActivation(\n",
              "          (0): Conv2d(160, 960, kernel_size=(1, 1), stride=(1, 1), bias=False)\n",
              "          (1): BatchNorm2d(960, eps=1e-05, momentum=0.1, affine=True, track_running_stats=True)\n",
              "          (2): ReLU6(inplace=True)\n",
              "        )\n",
              "        (1): Conv2dNormActivation(\n",
              "          (0): Conv2d(960, 960, kernel_size=(3, 3), stride=(1, 1), padding=(1, 1), groups=960, bias=False)\n",
              "          (1): BatchNorm2d(960, eps=1e-05, momentum=0.1, affine=True, track_running_stats=True)\n",
              "          (2): ReLU6(inplace=True)\n",
              "        )\n",
              "        (2): Conv2d(960, 160, kernel_size=(1, 1), stride=(1, 1), bias=False)\n",
              "        (3): BatchNorm2d(160, eps=1e-05, momentum=0.1, affine=True, track_running_stats=True)\n",
              "      )\n",
              "    )\n",
              "    (16): InvertedResidual(\n",
              "      (conv): Sequential(\n",
              "        (0): Conv2dNormActivation(\n",
              "          (0): Conv2d(160, 960, kernel_size=(1, 1), stride=(1, 1), bias=False)\n",
              "          (1): BatchNorm2d(960, eps=1e-05, momentum=0.1, affine=True, track_running_stats=True)\n",
              "          (2): ReLU6(inplace=True)\n",
              "        )\n",
              "        (1): Conv2dNormActivation(\n",
              "          (0): Conv2d(960, 960, kernel_size=(3, 3), stride=(1, 1), padding=(1, 1), groups=960, bias=False)\n",
              "          (1): BatchNorm2d(960, eps=1e-05, momentum=0.1, affine=True, track_running_stats=True)\n",
              "          (2): ReLU6(inplace=True)\n",
              "        )\n",
              "        (2): Conv2d(960, 160, kernel_size=(1, 1), stride=(1, 1), bias=False)\n",
              "        (3): BatchNorm2d(160, eps=1e-05, momentum=0.1, affine=True, track_running_stats=True)\n",
              "      )\n",
              "    )\n",
              "    (17): InvertedResidual(\n",
              "      (conv): Sequential(\n",
              "        (0): Conv2dNormActivation(\n",
              "          (0): Conv2d(160, 960, kernel_size=(1, 1), stride=(1, 1), bias=False)\n",
              "          (1): BatchNorm2d(960, eps=1e-05, momentum=0.1, affine=True, track_running_stats=True)\n",
              "          (2): ReLU6(inplace=True)\n",
              "        )\n",
              "        (1): Conv2dNormActivation(\n",
              "          (0): Conv2d(960, 960, kernel_size=(3, 3), stride=(1, 1), padding=(1, 1), groups=960, bias=False)\n",
              "          (1): BatchNorm2d(960, eps=1e-05, momentum=0.1, affine=True, track_running_stats=True)\n",
              "          (2): ReLU6(inplace=True)\n",
              "        )\n",
              "        (2): Conv2d(960, 320, kernel_size=(1, 1), stride=(1, 1), bias=False)\n",
              "        (3): BatchNorm2d(320, eps=1e-05, momentum=0.1, affine=True, track_running_stats=True)\n",
              "      )\n",
              "    )\n",
              "    (18): Conv2dNormActivation(\n",
              "      (0): Conv2d(320, 1280, kernel_size=(1, 1), stride=(1, 1), bias=False)\n",
              "      (1): BatchNorm2d(1280, eps=1e-05, momentum=0.1, affine=True, track_running_stats=True)\n",
              "      (2): ReLU6(inplace=True)\n",
              "    )\n",
              "  )\n",
              "  (classifier): Sequential(\n",
              "    (0): Dropout(p=0.2, inplace=False)\n",
              "    (1): Linear(in_features=1280, out_features=1000, bias=True)\n",
              "  )\n",
              ")"
            ]
          },
          "metadata": {},
          "execution_count": 7
        }
      ]
    },
    {
      "cell_type": "code",
      "source": [
        "path_to_dataset = \"imagenetv2-threshold0.7-format-val\"\n",
        "\n",
        "dataset = torchvision.datasets.ImageFolder(root=path_to_dataset,\n",
        "                                            transform=T.Compose([T.Resize(256),\n",
        "                                                                 T.CenterCrop(224),\n",
        "                                                                 T.ToTensor(),\n",
        "                                                                 T.Normalize(mean=[0.485, 0.456, 0.406],\n",
        "                                                                            std=[0.229, 0.224, 0.225])]))"
      ],
      "metadata": {
        "id": "FbrvkmeqDYY2"
      },
      "execution_count": null,
      "outputs": []
    },
    {
      "cell_type": "code",
      "source": [
        "dataset_size = len(dataset)\n",
        "print(\"Dateset Size: \", dataset_size)\n",
        "classes = dataset.classes\n",
        "print(\"Classes: \", classes[0:10])"
      ],
      "metadata": {
        "colab": {
          "base_uri": "https://localhost:8080/"
        },
        "id": "8xbf9i2N-qmQ",
        "outputId": "7ae5c2f6-47cd-4346-ed5e-03fa0343dabd"
      },
      "execution_count": null,
      "outputs": [
        {
          "output_type": "stream",
          "name": "stdout",
          "text": [
            "Dateset Size:  10000\n",
            "Classes:  ['0', '1', '10', '100', '101', '102', '103', '104', '105', '106']\n"
          ]
        }
      ]
    },
    {
      "cell_type": "code",
      "source": [
        "img, label = dataset[1]\n",
        "img_shape = img.shape\n",
        "img_shape"
      ],
      "metadata": {
        "colab": {
          "base_uri": "https://localhost:8080/"
        },
        "id": "bN6Cpl2n_R6j",
        "outputId": "42d87f7d-b1fd-439b-f9f1-949aca08b8ed"
      },
      "execution_count": null,
      "outputs": [
        {
          "output_type": "execute_result",
          "data": {
            "text/plain": [
              "torch.Size([3, 224, 224])"
            ]
          },
          "metadata": {},
          "execution_count": 10
        }
      ]
    },
    {
      "cell_type": "code",
      "source": [
        "img, label = dataset[0]\n",
        "plt.imshow(img.permute((1, 2, 0)))\n",
        "print('Label (numeric):', label)\n",
        "print('Label (textual):', classes[label])\n",
        "print(type(img))\n",
        "print(img.size())"
      ],
      "metadata": {
        "colab": {
          "base_uri": "https://localhost:8080/",
          "height": 356
        },
        "id": "hkjDPeLS_SsA",
        "outputId": "dfd16567-2eeb-490e-ca54-ef5de056dce9"
      },
      "execution_count": null,
      "outputs": [
        {
          "output_type": "stream",
          "name": "stderr",
          "text": [
            "WARNING:matplotlib.image:Clipping input data to the valid range for imshow with RGB data ([0..1] for floats or [0..255] for integers).\n"
          ]
        },
        {
          "output_type": "stream",
          "name": "stdout",
          "text": [
            "Label (numeric): 0\n",
            "Label (textual): 0\n",
            "<class 'torch.Tensor'>\n",
            "torch.Size([3, 224, 224])\n"
          ]
        },
        {
          "output_type": "display_data",
          "data": {
            "text/plain": [
              "<Figure size 432x288 with 1 Axes>"
            ],
            "image/png": "[encoded data removed]"
          },
          "metadata": {
            "needs_background": "light"
          }
        }
      ]
    },
    {
      "cell_type": "code",
      "source": [
        "torch.manual_seed(1234)\n",
        "BATCH_SIZE= 50\n",
        "train_loader = torch.utils.data.DataLoader(dataset, batch_size=BATCH_SIZE, shuffle=True, num_workers=4)"
      ],
      "metadata": {
        "id": "tgWXE5Iz_kcL"
      },
      "execution_count": null,
      "outputs": []
    },
    {
      "cell_type": "code",
      "source": [
        "N_EPOCHS = 100\n",
        "LR = 0.05\n",
        "criterion = torch.nn.CrossEntropyLoss()\n",
        "optimizer = optim.SGD(model.parameters(), lr=LR)"
      ],
      "metadata": {
        "id": "K2j4wyXm_9gv"
      },
      "execution_count": null,
      "outputs": []
    },
    {
      "cell_type": "code",
      "source": [
        "# GOOD TRAINING CODE\n",
        "\n",
        "MAX_ACC = 0\n",
        "\n",
        "for epoch in range(N_EPOCHS):\n",
        "  running_loss = 0\n",
        "  correct = 0\n",
        "  total = 0\n",
        "  for inputs, labels in tqdm(train_loader):\n",
        "    inputs, labels = inputs.to(device), labels.to(device)\n",
        "    outputs = model(inputs)\n",
        "    _, predicted = torch.max(outputs.data, 1)\n",
        "    correct += (predicted == labels).sum().item()\n",
        "    total += labels.size(0)\n",
        "    loss = criterion(outputs, labels)\n",
        "    loss.backward()\n",
        "    optimizer.step()\n",
        "    optimizer.zero_grad()\n",
        "    running_loss += loss.item()\n",
        "  \n",
        "  train_loss = running_loss / len(train_loader)\n",
        "  accuracy = 100 * correct / total\n",
        "  print(f'Train Loss : {train_loss} ;   Accuracy : {accuracy}%')\n",
        "\n",
        "  if accuracy > MAX_ACC:\n",
        "    torch.save(model, f'{dataset_name}_{optimizer_name}_{model_ident}_best_train_acc.pt')\n",
        "    MAX_ACC = accuracy"
      ],
      "metadata": {
        "colab": {
          "base_uri": "https://localhost:8080/"
        },
        "id": "Ca7iDpGmBJ-S",
        "outputId": "3050e41f-c16a-4ab9-e405-8709af5b586d"
      },
      "execution_count": null,
      "outputs": [
        {
          "output_type": "stream",
          "name": "stderr",
          "text": [
            "100%|██████████| 200/200 [14:44<00:00,  4.42s/it]\n"
          ]
        },
        {
          "output_type": "stream",
          "name": "stdout",
          "text": [
            "Train Loss : 6.976889367103577 ;   Accuracy : 0.04%\n"
          ]
        },
        {
          "output_type": "stream",
          "name": "stderr",
          "text": [
            "100%|██████████| 200/200 [00:43<00:00,  4.61it/s]\n"
          ]
        },
        {
          "output_type": "stream",
          "name": "stdout",
          "text": [
            "Train Loss : 6.932859501838684 ;   Accuracy : 0.13%\n"
          ]
        },
        {
          "output_type": "stream",
          "name": "stderr",
          "text": [
            "100%|██████████| 200/200 [00:43<00:00,  4.59it/s]\n"
          ]
        },
        {
          "output_type": "stream",
          "name": "stdout",
          "text": [
            "Train Loss : 6.824347364902496 ;   Accuracy : 0.26%\n"
          ]
        },
        {
          "output_type": "stream",
          "name": "stderr",
          "text": [
            "100%|██████████| 200/200 [00:43<00:00,  4.55it/s]\n"
          ]
        },
        {
          "output_type": "stream",
          "name": "stdout",
          "text": [
            "Train Loss : 6.677908687591553 ;   Accuracy : 0.48%\n"
          ]
        },
        {
          "output_type": "stream",
          "name": "stderr",
          "text": [
            "100%|██████████| 200/200 [00:44<00:00,  4.46it/s]\n"
          ]
        },
        {
          "output_type": "stream",
          "name": "stdout",
          "text": [
            "Train Loss : 6.523899257183075 ;   Accuracy : 0.65%\n"
          ]
        },
        {
          "output_type": "stream",
          "name": "stderr",
          "text": [
            "100%|██████████| 200/200 [00:44<00:00,  4.54it/s]\n"
          ]
        },
        {
          "output_type": "stream",
          "name": "stdout",
          "text": [
            "Train Loss : 6.373212921619415 ;   Accuracy : 0.79%\n"
          ]
        },
        {
          "output_type": "stream",
          "name": "stderr",
          "text": [
            "100%|██████████| 200/200 [00:44<00:00,  4.48it/s]\n"
          ]
        },
        {
          "output_type": "stream",
          "name": "stdout",
          "text": [
            "Train Loss : 6.231484262943268 ;   Accuracy : 1.09%\n"
          ]
        },
        {
          "output_type": "stream",
          "name": "stderr",
          "text": [
            "100%|██████████| 200/200 [00:45<00:00,  4.43it/s]\n"
          ]
        },
        {
          "output_type": "stream",
          "name": "stdout",
          "text": [
            "Train Loss : 6.090399649143219 ;   Accuracy : 1.53%\n"
          ]
        },
        {
          "output_type": "stream",
          "name": "stderr",
          "text": [
            "100%|██████████| 200/200 [00:44<00:00,  4.47it/s]\n"
          ]
        },
        {
          "output_type": "stream",
          "name": "stdout",
          "text": [
            "Train Loss : 5.951613903045654 ;   Accuracy : 2.06%\n"
          ]
        },
        {
          "output_type": "stream",
          "name": "stderr",
          "text": [
            "100%|██████████| 200/200 [00:44<00:00,  4.47it/s]\n"
          ]
        },
        {
          "output_type": "stream",
          "name": "stdout",
          "text": [
            "Train Loss : 5.827754080295563 ;   Accuracy : 2.45%\n"
          ]
        },
        {
          "output_type": "stream",
          "name": "stderr",
          "text": [
            "100%|██████████| 200/200 [00:44<00:00,  4.53it/s]\n"
          ]
        },
        {
          "output_type": "stream",
          "name": "stdout",
          "text": [
            "Train Loss : 5.704802007675171 ;   Accuracy : 2.96%\n"
          ]
        },
        {
          "output_type": "stream",
          "name": "stderr",
          "text": [
            "100%|██████████| 200/200 [00:44<00:00,  4.47it/s]\n"
          ]
        },
        {
          "output_type": "stream",
          "name": "stdout",
          "text": [
            "Train Loss : 5.575707061290741 ;   Accuracy : 3.62%\n"
          ]
        },
        {
          "output_type": "stream",
          "name": "stderr",
          "text": [
            "100%|██████████| 200/200 [00:46<00:00,  4.35it/s]\n"
          ]
        },
        {
          "output_type": "stream",
          "name": "stdout",
          "text": [
            "Train Loss : 5.455780997276306 ;   Accuracy : 4.28%\n"
          ]
        },
        {
          "output_type": "stream",
          "name": "stderr",
          "text": [
            "100%|██████████| 200/200 [00:44<00:00,  4.48it/s]\n"
          ]
        },
        {
          "output_type": "stream",
          "name": "stdout",
          "text": [
            "Train Loss : 5.343261137008667 ;   Accuracy : 5.12%\n"
          ]
        },
        {
          "output_type": "stream",
          "name": "stderr",
          "text": [
            "100%|██████████| 200/200 [00:45<00:00,  4.41it/s]\n"
          ]
        },
        {
          "output_type": "stream",
          "name": "stdout",
          "text": [
            "Train Loss : 5.222786841392517 ;   Accuracy : 6.07%\n"
          ]
        },
        {
          "output_type": "stream",
          "name": "stderr",
          "text": [
            "100%|██████████| 200/200 [00:45<00:00,  4.40it/s]\n"
          ]
        },
        {
          "output_type": "stream",
          "name": "stdout",
          "text": [
            "Train Loss : 5.098780753612519 ;   Accuracy : 6.7%\n"
          ]
        },
        {
          "output_type": "stream",
          "name": "stderr",
          "text": [
            "100%|██████████| 200/200 [00:44<00:00,  4.45it/s]\n"
          ]
        },
        {
          "output_type": "stream",
          "name": "stdout",
          "text": [
            "Train Loss : 4.987688586711884 ;   Accuracy : 8.02%\n"
          ]
        },
        {
          "output_type": "stream",
          "name": "stderr",
          "text": [
            "100%|██████████| 200/200 [00:44<00:00,  4.52it/s]\n"
          ]
        },
        {
          "output_type": "stream",
          "name": "stdout",
          "text": [
            "Train Loss : 4.854291846752167 ;   Accuracy : 9.28%\n"
          ]
        },
        {
          "output_type": "stream",
          "name": "stderr",
          "text": [
            "100%|██████████| 200/200 [00:44<00:00,  4.45it/s]\n"
          ]
        },
        {
          "output_type": "stream",
          "name": "stdout",
          "text": [
            "Train Loss : 4.742088096141815 ;   Accuracy : 9.48%\n"
          ]
        },
        {
          "output_type": "stream",
          "name": "stderr",
          "text": [
            "100%|██████████| 200/200 [00:45<00:00,  4.38it/s]\n"
          ]
        },
        {
          "output_type": "stream",
          "name": "stdout",
          "text": [
            "Train Loss : 4.620053924322129 ;   Accuracy : 11.3%\n"
          ]
        },
        {
          "output_type": "stream",
          "name": "stderr",
          "text": [
            "100%|██████████| 200/200 [00:45<00:00,  4.42it/s]\n"
          ]
        },
        {
          "output_type": "stream",
          "name": "stdout",
          "text": [
            "Train Loss : 4.497961964607239 ;   Accuracy : 12.28%\n"
          ]
        },
        {
          "output_type": "stream",
          "name": "stderr",
          "text": [
            "100%|██████████| 200/200 [00:44<00:00,  4.48it/s]\n"
          ]
        },
        {
          "output_type": "stream",
          "name": "stdout",
          "text": [
            "Train Loss : 4.370395330190658 ;   Accuracy : 14.09%\n"
          ]
        },
        {
          "output_type": "stream",
          "name": "stderr",
          "text": [
            "100%|██████████| 200/200 [00:45<00:00,  4.43it/s]\n"
          ]
        },
        {
          "output_type": "stream",
          "name": "stdout",
          "text": [
            "Train Loss : 4.237103056907654 ;   Accuracy : 15.09%\n"
          ]
        },
        {
          "output_type": "stream",
          "name": "stderr",
          "text": [
            "100%|██████████| 200/200 [00:46<00:00,  4.34it/s]\n"
          ]
        },
        {
          "output_type": "stream",
          "name": "stdout",
          "text": [
            "Train Loss : 4.092339310646057 ;   Accuracy : 17.9%\n"
          ]
        },
        {
          "output_type": "stream",
          "name": "stderr",
          "text": [
            "100%|██████████| 200/200 [00:43<00:00,  4.56it/s]\n"
          ]
        },
        {
          "output_type": "stream",
          "name": "stdout",
          "text": [
            "Train Loss : 3.9655479156970976 ;   Accuracy : 19.55%\n"
          ]
        },
        {
          "output_type": "stream",
          "name": "stderr",
          "text": [
            "100%|██████████| 200/200 [00:44<00:00,  4.51it/s]\n"
          ]
        },
        {
          "output_type": "stream",
          "name": "stdout",
          "text": [
            "Train Loss : 3.836249487400055 ;   Accuracy : 21.13%\n"
          ]
        },
        {
          "output_type": "stream",
          "name": "stderr",
          "text": [
            "100%|██████████| 200/200 [00:45<00:00,  4.38it/s]\n"
          ]
        },
        {
          "output_type": "stream",
          "name": "stdout",
          "text": [
            "Train Loss : 3.683328300714493 ;   Accuracy : 23.14%\n"
          ]
        },
        {
          "output_type": "stream",
          "name": "stderr",
          "text": [
            "100%|██████████| 200/200 [00:46<00:00,  4.30it/s]\n"
          ]
        },
        {
          "output_type": "stream",
          "name": "stdout",
          "text": [
            "Train Loss : 3.5409346377849578 ;   Accuracy : 25.18%\n"
          ]
        },
        {
          "output_type": "stream",
          "name": "stderr",
          "text": [
            "100%|██████████| 200/200 [00:45<00:00,  4.44it/s]\n"
          ]
        },
        {
          "output_type": "stream",
          "name": "stdout",
          "text": [
            "Train Loss : 3.4016245830059053 ;   Accuracy : 28.19%\n"
          ]
        },
        {
          "output_type": "stream",
          "name": "stderr",
          "text": [
            "100%|██████████| 200/200 [00:44<00:00,  4.53it/s]\n"
          ]
        },
        {
          "output_type": "stream",
          "name": "stdout",
          "text": [
            "Train Loss : 3.2485159599781035 ;   Accuracy : 30.3%\n"
          ]
        },
        {
          "output_type": "stream",
          "name": "stderr",
          "text": [
            "100%|██████████| 200/200 [00:44<00:00,  4.45it/s]\n"
          ]
        },
        {
          "output_type": "stream",
          "name": "stdout",
          "text": [
            "Train Loss : 3.0835189485549925 ;   Accuracy : 33.43%\n"
          ]
        },
        {
          "output_type": "stream",
          "name": "stderr",
          "text": [
            "100%|██████████| 200/200 [00:45<00:00,  4.42it/s]\n"
          ]
        },
        {
          "output_type": "stream",
          "name": "stdout",
          "text": [
            "Train Loss : 2.932207112312317 ;   Accuracy : 36.1%\n"
          ]
        },
        {
          "output_type": "stream",
          "name": "stderr",
          "text": [
            "100%|██████████| 200/200 [00:43<00:00,  4.60it/s]\n"
          ]
        },
        {
          "output_type": "stream",
          "name": "stdout",
          "text": [
            "Train Loss : 2.789638636112213 ;   Accuracy : 39.15%\n"
          ]
        },
        {
          "output_type": "stream",
          "name": "stderr",
          "text": [
            "100%|██████████| 200/200 [00:44<00:00,  4.46it/s]\n"
          ]
        },
        {
          "output_type": "stream",
          "name": "stdout",
          "text": [
            "Train Loss : 2.606714168190956 ;   Accuracy : 43.27%\n"
          ]
        },
        {
          "output_type": "stream",
          "name": "stderr",
          "text": [
            "100%|██████████| 200/200 [00:44<00:00,  4.49it/s]\n"
          ]
        },
        {
          "output_type": "stream",
          "name": "stdout",
          "text": [
            "Train Loss : 2.4793846940994264 ;   Accuracy : 45.43%\n"
          ]
        },
        {
          "output_type": "stream",
          "name": "stderr",
          "text": [
            "100%|██████████| 200/200 [00:45<00:00,  4.37it/s]\n"
          ]
        },
        {
          "output_type": "stream",
          "name": "stdout",
          "text": [
            "Train Loss : 2.2753683680295946 ;   Accuracy : 50.22%\n"
          ]
        },
        {
          "output_type": "stream",
          "name": "stderr",
          "text": [
            "100%|██████████| 200/200 [00:44<00:00,  4.46it/s]\n"
          ]
        },
        {
          "output_type": "stream",
          "name": "stdout",
          "text": [
            "Train Loss : 2.1022455281019212 ;   Accuracy : 53.97%\n"
          ]
        },
        {
          "output_type": "stream",
          "name": "stderr",
          "text": [
            "100%|██████████| 200/200 [00:44<00:00,  4.47it/s]\n"
          ]
        },
        {
          "output_type": "stream",
          "name": "stdout",
          "text": [
            "Train Loss : 1.9532493698596953 ;   Accuracy : 56.93%\n"
          ]
        },
        {
          "output_type": "stream",
          "name": "stderr",
          "text": [
            "100%|██████████| 200/200 [00:44<00:00,  4.52it/s]\n"
          ]
        },
        {
          "output_type": "stream",
          "name": "stdout",
          "text": [
            "Train Loss : 1.779426046013832 ;   Accuracy : 61.76%\n"
          ]
        },
        {
          "output_type": "stream",
          "name": "stderr",
          "text": [
            "100%|██████████| 200/200 [00:45<00:00,  4.40it/s]\n"
          ]
        },
        {
          "output_type": "stream",
          "name": "stdout",
          "text": [
            "Train Loss : 1.5932175046205521 ;   Accuracy : 66.14%\n"
          ]
        },
        {
          "output_type": "stream",
          "name": "stderr",
          "text": [
            "100%|██████████| 200/200 [00:44<00:00,  4.55it/s]\n"
          ]
        },
        {
          "output_type": "stream",
          "name": "stdout",
          "text": [
            "Train Loss : 1.4361091470718383 ;   Accuracy : 70.13%\n"
          ]
        },
        {
          "output_type": "stream",
          "name": "stderr",
          "text": [
            "100%|██████████| 200/200 [00:45<00:00,  4.43it/s]\n"
          ]
        },
        {
          "output_type": "stream",
          "name": "stdout",
          "text": [
            "Train Loss : 1.3166158652305604 ;   Accuracy : 73.09%\n"
          ]
        },
        {
          "output_type": "stream",
          "name": "stderr",
          "text": [
            "100%|██████████| 200/200 [00:43<00:00,  4.60it/s]\n"
          ]
        },
        {
          "output_type": "stream",
          "name": "stdout",
          "text": [
            "Train Loss : 1.1536605295538902 ;   Accuracy : 77.2%\n"
          ]
        },
        {
          "output_type": "stream",
          "name": "stderr",
          "text": [
            "100%|██████████| 200/200 [00:45<00:00,  4.42it/s]\n"
          ]
        },
        {
          "output_type": "stream",
          "name": "stdout",
          "text": [
            "Train Loss : 1.0324049104750157 ;   Accuracy : 79.76%\n"
          ]
        },
        {
          "output_type": "stream",
          "name": "stderr",
          "text": [
            "100%|██████████| 200/200 [00:45<00:00,  4.44it/s]\n"
          ]
        },
        {
          "output_type": "stream",
          "name": "stdout",
          "text": [
            "Train Loss : 0.8881501841545105 ;   Accuracy : 83.78%\n"
          ]
        },
        {
          "output_type": "stream",
          "name": "stderr",
          "text": [
            "100%|██████████| 200/200 [00:44<00:00,  4.52it/s]\n"
          ]
        },
        {
          "output_type": "stream",
          "name": "stdout",
          "text": [
            "Train Loss : 0.742368793040514 ;   Accuracy : 87.64%\n"
          ]
        },
        {
          "output_type": "stream",
          "name": "stderr",
          "text": [
            "100%|██████████| 200/200 [00:44<00:00,  4.53it/s]\n"
          ]
        },
        {
          "output_type": "stream",
          "name": "stdout",
          "text": [
            "Train Loss : 0.6640207284688949 ;   Accuracy : 89.48%\n"
          ]
        },
        {
          "output_type": "stream",
          "name": "stderr",
          "text": [
            "100%|██████████| 200/200 [00:44<00:00,  4.47it/s]\n"
          ]
        },
        {
          "output_type": "stream",
          "name": "stdout",
          "text": [
            "Train Loss : 0.5511335018277168 ;   Accuracy : 91.77%\n"
          ]
        },
        {
          "output_type": "stream",
          "name": "stderr",
          "text": [
            "100%|██████████| 200/200 [00:44<00:00,  4.49it/s]\n"
          ]
        },
        {
          "output_type": "stream",
          "name": "stdout",
          "text": [
            "Train Loss : 0.4507754795253277 ;   Accuracy : 93.81%\n"
          ]
        },
        {
          "output_type": "stream",
          "name": "stderr",
          "text": [
            "100%|██████████| 200/200 [00:43<00:00,  4.56it/s]\n"
          ]
        },
        {
          "output_type": "stream",
          "name": "stdout",
          "text": [
            "Train Loss : 0.3934524263441563 ;   Accuracy : 95.17%\n"
          ]
        },
        {
          "output_type": "stream",
          "name": "stderr",
          "text": [
            "100%|██████████| 200/200 [00:44<00:00,  4.51it/s]\n"
          ]
        },
        {
          "output_type": "stream",
          "name": "stdout",
          "text": [
            "Train Loss : 0.305534118488431 ;   Accuracy : 96.87%\n"
          ]
        },
        {
          "output_type": "stream",
          "name": "stderr",
          "text": [
            "100%|██████████| 200/200 [00:45<00:00,  4.39it/s]\n"
          ]
        },
        {
          "output_type": "stream",
          "name": "stdout",
          "text": [
            "Train Loss : 0.248963539339602 ;   Accuracy : 97.66%\n"
          ]
        },
        {
          "output_type": "stream",
          "name": "stderr",
          "text": [
            "100%|██████████| 200/200 [00:43<00:00,  4.57it/s]\n"
          ]
        },
        {
          "output_type": "stream",
          "name": "stdout",
          "text": [
            "Train Loss : 0.20444543838500975 ;   Accuracy : 98.46%\n"
          ]
        },
        {
          "output_type": "stream",
          "name": "stderr",
          "text": [
            "100%|██████████| 200/200 [00:44<00:00,  4.49it/s]\n"
          ]
        },
        {
          "output_type": "stream",
          "name": "stdout",
          "text": [
            "Train Loss : 0.1828634137660265 ;   Accuracy : 98.54%\n"
          ]
        },
        {
          "output_type": "stream",
          "name": "stderr",
          "text": [
            "100%|██████████| 200/200 [00:44<00:00,  4.46it/s]\n"
          ]
        },
        {
          "output_type": "stream",
          "name": "stdout",
          "text": [
            "Train Loss : 0.15141245311126114 ;   Accuracy : 98.9%\n"
          ]
        },
        {
          "output_type": "stream",
          "name": "stderr",
          "text": [
            "100%|██████████| 200/200 [00:45<00:00,  4.42it/s]\n"
          ]
        },
        {
          "output_type": "stream",
          "name": "stdout",
          "text": [
            "Train Loss : 0.11822489228099585 ;   Accuracy : 99.51%\n"
          ]
        },
        {
          "output_type": "stream",
          "name": "stderr",
          "text": [
            "100%|██████████| 200/200 [00:43<00:00,  4.58it/s]\n"
          ]
        },
        {
          "output_type": "stream",
          "name": "stdout",
          "text": [
            "Train Loss : 0.10284526139497757 ;   Accuracy : 99.59%\n"
          ]
        },
        {
          "output_type": "stream",
          "name": "stderr",
          "text": [
            "100%|██████████| 200/200 [00:44<00:00,  4.50it/s]\n"
          ]
        },
        {
          "output_type": "stream",
          "name": "stdout",
          "text": [
            "Train Loss : 0.1030744699947536 ;   Accuracy : 99.47%\n"
          ]
        },
        {
          "output_type": "stream",
          "name": "stderr",
          "text": [
            "100%|██████████| 200/200 [00:44<00:00,  4.50it/s]\n"
          ]
        },
        {
          "output_type": "stream",
          "name": "stdout",
          "text": [
            "Train Loss : 0.09819883668795228 ;   Accuracy : 99.5%\n"
          ]
        },
        {
          "output_type": "stream",
          "name": "stderr",
          "text": [
            "100%|██████████| 200/200 [00:44<00:00,  4.53it/s]\n"
          ]
        },
        {
          "output_type": "stream",
          "name": "stdout",
          "text": [
            "Train Loss : 0.07946870889514684 ;   Accuracy : 99.69%\n"
          ]
        },
        {
          "output_type": "stream",
          "name": "stderr",
          "text": [
            "100%|██████████| 200/200 [00:46<00:00,  4.33it/s]\n"
          ]
        },
        {
          "output_type": "stream",
          "name": "stdout",
          "text": [
            "Train Loss : 0.0684181788098067 ;   Accuracy : 99.76%\n"
          ]
        },
        {
          "output_type": "stream",
          "name": "stderr",
          "text": [
            "100%|██████████| 200/200 [00:44<00:00,  4.49it/s]\n"
          ]
        },
        {
          "output_type": "stream",
          "name": "stdout",
          "text": [
            "Train Loss : 0.061095845494419335 ;   Accuracy : 99.84%\n"
          ]
        },
        {
          "output_type": "stream",
          "name": "stderr",
          "text": [
            "100%|██████████| 200/200 [00:44<00:00,  4.51it/s]\n"
          ]
        },
        {
          "output_type": "stream",
          "name": "stdout",
          "text": [
            "Train Loss : 0.061949911722913385 ;   Accuracy : 99.73%\n"
          ]
        },
        {
          "output_type": "stream",
          "name": "stderr",
          "text": [
            "100%|██████████| 200/200 [00:44<00:00,  4.46it/s]\n"
          ]
        },
        {
          "output_type": "stream",
          "name": "stdout",
          "text": [
            "Train Loss : 0.05827811854891479 ;   Accuracy : 99.77%\n"
          ]
        },
        {
          "output_type": "stream",
          "name": "stderr",
          "text": [
            "100%|██████████| 200/200 [00:44<00:00,  4.53it/s]\n"
          ]
        },
        {
          "output_type": "stream",
          "name": "stdout",
          "text": [
            "Train Loss : 0.05061139827594161 ;   Accuracy : 99.9%\n"
          ]
        },
        {
          "output_type": "stream",
          "name": "stderr",
          "text": [
            "100%|██████████| 200/200 [00:44<00:00,  4.54it/s]\n"
          ]
        },
        {
          "output_type": "stream",
          "name": "stdout",
          "text": [
            "Train Loss : 0.04576305862516165 ;   Accuracy : 99.85%\n"
          ]
        },
        {
          "output_type": "stream",
          "name": "stderr",
          "text": [
            "100%|██████████| 200/200 [00:44<00:00,  4.47it/s]\n"
          ]
        },
        {
          "output_type": "stream",
          "name": "stdout",
          "text": [
            "Train Loss : 0.04611356908921152 ;   Accuracy : 99.84%\n"
          ]
        },
        {
          "output_type": "stream",
          "name": "stderr",
          "text": [
            "100%|██████████| 200/200 [00:43<00:00,  4.55it/s]\n"
          ]
        },
        {
          "output_type": "stream",
          "name": "stdout",
          "text": [
            "Train Loss : 0.041809498355723916 ;   Accuracy : 99.9%\n"
          ]
        },
        {
          "output_type": "stream",
          "name": "stderr",
          "text": [
            "100%|██████████| 200/200 [00:45<00:00,  4.41it/s]\n"
          ]
        },
        {
          "output_type": "stream",
          "name": "stdout",
          "text": [
            "Train Loss : 0.039053983497433366 ;   Accuracy : 99.92%\n"
          ]
        },
        {
          "output_type": "stream",
          "name": "stderr",
          "text": [
            "100%|██████████| 200/200 [00:44<00:00,  4.50it/s]\n"
          ]
        },
        {
          "output_type": "stream",
          "name": "stdout",
          "text": [
            "Train Loss : 0.043083559619262815 ;   Accuracy : 99.84%\n"
          ]
        },
        {
          "output_type": "stream",
          "name": "stderr",
          "text": [
            "100%|██████████| 200/200 [00:44<00:00,  4.51it/s]\n"
          ]
        },
        {
          "output_type": "stream",
          "name": "stdout",
          "text": [
            "Train Loss : 0.03616580246947706 ;   Accuracy : 99.91%\n"
          ]
        },
        {
          "output_type": "stream",
          "name": "stderr",
          "text": [
            "100%|██████████| 200/200 [00:44<00:00,  4.52it/s]\n"
          ]
        },
        {
          "output_type": "stream",
          "name": "stdout",
          "text": [
            "Train Loss : 0.033099478594958785 ;   Accuracy : 99.92%\n"
          ]
        },
        {
          "output_type": "stream",
          "name": "stderr",
          "text": [
            "100%|██████████| 200/200 [00:44<00:00,  4.46it/s]\n"
          ]
        },
        {
          "output_type": "stream",
          "name": "stdout",
          "text": [
            "Train Loss : 0.030117496363818646 ;   Accuracy : 99.97%\n"
          ]
        },
        {
          "output_type": "stream",
          "name": "stderr",
          "text": [
            "100%|██████████| 200/200 [00:44<00:00,  4.49it/s]\n"
          ]
        },
        {
          "output_type": "stream",
          "name": "stdout",
          "text": [
            "Train Loss : 0.031966339303180574 ;   Accuracy : 99.94%\n"
          ]
        },
        {
          "output_type": "stream",
          "name": "stderr",
          "text": [
            "100%|██████████| 200/200 [00:44<00:00,  4.47it/s]\n"
          ]
        },
        {
          "output_type": "stream",
          "name": "stdout",
          "text": [
            "Train Loss : 0.03074113732436672 ;   Accuracy : 99.94%\n"
          ]
        },
        {
          "output_type": "stream",
          "name": "stderr",
          "text": [
            "100%|██████████| 200/200 [00:43<00:00,  4.58it/s]\n"
          ]
        },
        {
          "output_type": "stream",
          "name": "stdout",
          "text": [
            "Train Loss : 0.0269268344854936 ;   Accuracy : 99.97%\n"
          ]
        },
        {
          "output_type": "stream",
          "name": "stderr",
          "text": [
            "100%|██████████| 200/200 [00:44<00:00,  4.47it/s]\n"
          ]
        },
        {
          "output_type": "stream",
          "name": "stdout",
          "text": [
            "Train Loss : 0.024844156452454625 ;   Accuracy : 99.99%\n"
          ]
        },
        {
          "output_type": "stream",
          "name": "stderr",
          "text": [
            "100%|██████████| 200/200 [00:45<00:00,  4.42it/s]\n"
          ]
        },
        {
          "output_type": "stream",
          "name": "stdout",
          "text": [
            "Train Loss : 0.024226248837076126 ;   Accuracy : 99.98%\n"
          ]
        },
        {
          "output_type": "stream",
          "name": "stderr",
          "text": [
            "100%|██████████| 200/200 [00:44<00:00,  4.46it/s]\n"
          ]
        },
        {
          "output_type": "stream",
          "name": "stdout",
          "text": [
            "Train Loss : 0.025888075209222733 ;   Accuracy : 99.95%\n"
          ]
        },
        {
          "output_type": "stream",
          "name": "stderr",
          "text": [
            "100%|██████████| 200/200 [00:44<00:00,  4.52it/s]\n"
          ]
        },
        {
          "output_type": "stream",
          "name": "stdout",
          "text": [
            "Train Loss : 0.026422671899199487 ;   Accuracy : 99.89%\n"
          ]
        },
        {
          "output_type": "stream",
          "name": "stderr",
          "text": [
            "100%|██████████| 200/200 [00:44<00:00,  4.51it/s]\n"
          ]
        },
        {
          "output_type": "stream",
          "name": "stdout",
          "text": [
            "Train Loss : 0.024634864567779004 ;   Accuracy : 99.95%\n"
          ]
        },
        {
          "output_type": "stream",
          "name": "stderr",
          "text": [
            "100%|██████████| 200/200 [00:45<00:00,  4.44it/s]\n"
          ]
        },
        {
          "output_type": "stream",
          "name": "stdout",
          "text": [
            "Train Loss : 0.023714987956918777 ;   Accuracy : 99.97%\n"
          ]
        },
        {
          "output_type": "stream",
          "name": "stderr",
          "text": [
            "100%|██████████| 200/200 [00:44<00:00,  4.49it/s]\n"
          ]
        },
        {
          "output_type": "stream",
          "name": "stdout",
          "text": [
            "Train Loss : 0.021102875745855273 ;   Accuracy : 100.0%\n"
          ]
        },
        {
          "output_type": "stream",
          "name": "stderr",
          "text": [
            "100%|██████████| 200/200 [00:44<00:00,  4.50it/s]\n"
          ]
        },
        {
          "output_type": "stream",
          "name": "stdout",
          "text": [
            "Train Loss : 0.02109849709784612 ;   Accuracy : 99.95%\n"
          ]
        },
        {
          "output_type": "stream",
          "name": "stderr",
          "text": [
            "100%|██████████| 200/200 [00:43<00:00,  4.62it/s]\n"
          ]
        },
        {
          "output_type": "stream",
          "name": "stdout",
          "text": [
            "Train Loss : 0.022913120107259603 ;   Accuracy : 99.95%\n"
          ]
        },
        {
          "output_type": "stream",
          "name": "stderr",
          "text": [
            "100%|██████████| 200/200 [00:44<00:00,  4.45it/s]\n"
          ]
        },
        {
          "output_type": "stream",
          "name": "stdout",
          "text": [
            "Train Loss : 0.019688554811291396 ;   Accuracy : 99.96%\n"
          ]
        },
        {
          "output_type": "stream",
          "name": "stderr",
          "text": [
            "100%|██████████| 200/200 [00:44<00:00,  4.54it/s]\n"
          ]
        },
        {
          "output_type": "stream",
          "name": "stdout",
          "text": [
            "Train Loss : 0.021403288894798606 ;   Accuracy : 99.98%\n"
          ]
        },
        {
          "output_type": "stream",
          "name": "stderr",
          "text": [
            "100%|██████████| 200/200 [00:44<00:00,  4.47it/s]\n"
          ]
        },
        {
          "output_type": "stream",
          "name": "stdout",
          "text": [
            "Train Loss : 0.01811861919006333 ;   Accuracy : 99.97%\n"
          ]
        },
        {
          "output_type": "stream",
          "name": "stderr",
          "text": [
            "100%|██████████| 200/200 [00:44<00:00,  4.52it/s]\n"
          ]
        },
        {
          "output_type": "stream",
          "name": "stdout",
          "text": [
            "Train Loss : 0.01840552005684003 ;   Accuracy : 99.99%\n"
          ]
        },
        {
          "output_type": "stream",
          "name": "stderr",
          "text": [
            "100%|██████████| 200/200 [00:43<00:00,  4.57it/s]\n"
          ]
        },
        {
          "output_type": "stream",
          "name": "stdout",
          "text": [
            "Train Loss : 0.01528311578091234 ;   Accuracy : 100.0%\n"
          ]
        },
        {
          "output_type": "stream",
          "name": "stderr",
          "text": [
            "100%|██████████| 200/200 [00:45<00:00,  4.37it/s]\n"
          ]
        },
        {
          "output_type": "stream",
          "name": "stdout",
          "text": [
            "Train Loss : 0.019730159542523325 ;   Accuracy : 99.96%\n"
          ]
        },
        {
          "output_type": "stream",
          "name": "stderr",
          "text": [
            "100%|██████████| 200/200 [00:44<00:00,  4.51it/s]\n"
          ]
        },
        {
          "output_type": "stream",
          "name": "stdout",
          "text": [
            "Train Loss : 0.01665008953306824 ;   Accuracy : 99.99%\n"
          ]
        },
        {
          "output_type": "stream",
          "name": "stderr",
          "text": [
            "100%|██████████| 200/200 [00:43<00:00,  4.57it/s]\n"
          ]
        },
        {
          "output_type": "stream",
          "name": "stdout",
          "text": [
            "Train Loss : 0.015418378631584346 ;   Accuracy : 99.99%\n"
          ]
        },
        {
          "output_type": "stream",
          "name": "stderr",
          "text": [
            "100%|██████████| 200/200 [00:44<00:00,  4.52it/s]\n"
          ]
        },
        {
          "output_type": "stream",
          "name": "stdout",
          "text": [
            "Train Loss : 0.01671914094593376 ;   Accuracy : 99.96%\n"
          ]
        },
        {
          "output_type": "stream",
          "name": "stderr",
          "text": [
            "100%|██████████| 200/200 [00:44<00:00,  4.45it/s]\n"
          ]
        },
        {
          "output_type": "stream",
          "name": "stdout",
          "text": [
            "Train Loss : 0.016290484860073774 ;   Accuracy : 99.95%\n"
          ]
        },
        {
          "output_type": "stream",
          "name": "stderr",
          "text": [
            "100%|██████████| 200/200 [00:44<00:00,  4.54it/s]\n"
          ]
        },
        {
          "output_type": "stream",
          "name": "stdout",
          "text": [
            "Train Loss : 0.014111869889311492 ;   Accuracy : 99.99%\n"
          ]
        },
        {
          "output_type": "stream",
          "name": "stderr",
          "text": [
            "100%|██████████| 200/200 [00:44<00:00,  4.54it/s]\n"
          ]
        },
        {
          "output_type": "stream",
          "name": "stdout",
          "text": [
            "Train Loss : 0.01520042397081852 ;   Accuracy : 99.97%\n"
          ]
        },
        {
          "output_type": "stream",
          "name": "stderr",
          "text": [
            "100%|██████████| 200/200 [00:45<00:00,  4.42it/s]\n"
          ]
        },
        {
          "output_type": "stream",
          "name": "stdout",
          "text": [
            "Train Loss : 0.014233423059340566 ;   Accuracy : 99.99%\n"
          ]
        },
        {
          "output_type": "stream",
          "name": "stderr",
          "text": [
            "100%|██████████| 200/200 [00:44<00:00,  4.47it/s]\n"
          ]
        },
        {
          "output_type": "stream",
          "name": "stdout",
          "text": [
            "Train Loss : 0.013319576568901538 ;   Accuracy : 99.98%\n"
          ]
        },
        {
          "output_type": "stream",
          "name": "stderr",
          "text": [
            "100%|██████████| 200/200 [00:45<00:00,  4.44it/s]"
          ]
        },
        {
          "output_type": "stream",
          "name": "stdout",
          "text": [
            "Train Loss : 0.012453132781665772 ;   Accuracy : 99.99%\n"
          ]
        },
        {
          "output_type": "stream",
          "name": "stderr",
          "text": [
            "\n"
          ]
        }
      ]
    },
    {
      "cell_type": "code",
      "source": [
        "MDL = torch.load(f'{dataset_name}_{optimizer_name}_{model_ident}_best_train_acc.pt').eval()\n",
        "MDL = MDL.to('cuda')"
      ],
      "metadata": {
        "id": "C70MZImCBKA-"
      },
      "execution_count": null,
      "outputs": []
    },
    {
      "cell_type": "code",
      "source": [
        "# torch.manual_seed(1234)\n",
        "# train_loader = DataLoader(dataset, 50, shuffle=True, num_workers=4, pin_memory=False)"
      ],
      "metadata": {
        "id": "AgEHt1LUzQP2"
      },
      "execution_count": null,
      "outputs": []
    },
    {
      "cell_type": "code",
      "source": [
        "# EVALUATE THE ACCURACY OF THE SAVED MODEL\n",
        "correct = 0\n",
        "total = 0\n",
        "for inputs, labels in tqdm(train_loader):\n",
        "  inputs, labels = inputs.to('cuda'), labels.to('cuda')\n",
        "  outputs = MDL(inputs)\n",
        "  correct += (outputs.argmax(axis=1)==labels).sum().item()\n",
        "  total += labels.size(0)\n",
        "  # del MDL, inputs, labels\n",
        "  torch.cuda.empty_cache()\n",
        "  \n",
        "accuracy = 100. * correct / total\n",
        "print('Train Accuracy: %.2f \\n'%accuracy)"
      ],
      "metadata": {
        "colab": {
          "base_uri": "https://localhost:8080/"
        },
        "id": "opyNb3GPBKDu",
        "outputId": "9e6342a3-7014-4a68-eea4-2c80f75ec19e"
      },
      "execution_count": null,
      "outputs": [
        {
          "output_type": "stream",
          "name": "stderr",
          "text": [
            "100%|██████████| 200/200 [00:43<00:00,  4.60it/s]"
          ]
        },
        {
          "output_type": "stream",
          "name": "stdout",
          "text": [
            "Train Accuracy: 100.00 \n",
            "\n"
          ]
        },
        {
          "output_type": "stream",
          "name": "stderr",
          "text": [
            "\n"
          ]
        }
      ]
    },
    {
      "cell_type": "code",
      "source": [
        "def init_directions(model):\n",
        "    noises = []\n",
        "\n",
        "    n_params = 0\n",
        "    for name, param in model.named_parameters():\n",
        "        delta = torch.normal(.0, 1., size=param.size())\n",
        "        nu = torch.normal(.0, 1., size=param.size())\n",
        "\n",
        "        param_norm = torch.norm(param)\n",
        "        delta_norm = torch.norm(delta)\n",
        "        nu_norm = torch.norm(nu)\n",
        "\n",
        "        delta /= delta_norm\n",
        "        delta *= param_norm\n",
        "\n",
        "        nu /= nu_norm\n",
        "        nu *= param_norm\n",
        "\n",
        "        noises.append((delta, nu))\n",
        "\n",
        "        n_params += np.prod(param.size())\n",
        "\n",
        "    print(f'A total of {n_params:,} parameters.')\n",
        "\n",
        "    return noises\n",
        "\n",
        "\n",
        "def init_network(model, all_noises, alpha, beta):\n",
        "    with torch.no_grad():\n",
        "        for param, noises in zip(model.parameters(), all_noises):\n",
        "            delta, nu = noises\n",
        "            new_value = param + alpha * delta + beta * nu\n",
        "            param.copy_(new_value)\n",
        "    return model\n"
      ],
      "metadata": {
        "id": "PG3_9_F2DdYW"
      },
      "execution_count": null,
      "outputs": []
    },
    {
      "cell_type": "code",
      "source": [
        "def load_model(model_identifier):\n",
        "    return torch.hub.load('pytorch/vision:v0.6.0', model_identifier, pretrained=True, verbose=False).eval()\n",
        "\n",
        "model_id = 'mobilenet_v2'\n",
        "\n",
        "def load_model_new (model_identifier):\n",
        "  optimizer_name = 'SGD'\n",
        "  dataset_name = 'imagenetv2'\n",
        "  return torch.load(f'{dataset_name}_{optimizer_name}_{model_identifier}_best_train_acc.pt', map_location=torch.device('cpu')).eval()"
      ],
      "metadata": {
        "id": "TZVKJyov0PP8"
      },
      "execution_count": null,
      "outputs": []
    },
    {
      "cell_type": "code",
      "source": [
        "def run_landscape_gen(batch_size, resolution, path_to_dataset):\n",
        "    BATCH_SIZE = batch_size\n",
        "    RESOLUTION = resolution\n",
        "\n",
        "    dataset = torchvision.datasets.ImageFolder(root=path_to_dataset,\n",
        "                                            transform=T.Compose([T.Resize(256),\n",
        "                                                                 T.CenterCrop(224),\n",
        "                                                                 T.ToTensor(),\n",
        "                                                                 T.Normalize(mean=[0.485, 0.456, 0.406],\n",
        "                                                                            std=[0.229, 0.224, 0.225])]))\n",
        "    \n",
        "    torch.manual_seed(1234)\n",
        "    dataloader = torch.utils.data.DataLoader(dataset, batch_size=BATCH_SIZE, shuffle=True, num_workers=4)\n",
        "\n",
        "    print(f'Testing {model_id}')\n",
        "\n",
        "    noises = init_directions(load_model_new(model_id))\n",
        "\n",
        "    crit = torch.nn.CrossEntropyLoss()\n",
        "\n",
        "    A, B = np.meshgrid(np.linspace(-1, 1, RESOLUTION),\n",
        "                        np.linspace(-1, 1, RESOLUTION), indexing='ij')\n",
        "    # SAVE X AND Y VALUES\n",
        "    np.save(f'{model_id}_xx_{dataset_name}_{optimizer_name}.npy', A)\n",
        "    np.save(f'{model_id}_yy_{dataset_name}_{optimizer_name}.npy', B)\n",
        "    \n",
        "    # CHECK IF FILE ALREADY EXISTS AND START FROM THERE\n",
        "    if os.path.exists(f'{model_id}_zz_{dataset_name}_{optimizer_name}.npy'):\n",
        "      partial_array = np.load(f'{model_id}_zz_{dataset_name}_{optimizer_name}.npy')\n",
        "      resume_index = int(np.where(~partial_array.any(axis=1))[0][0])\n",
        "      loss_surface = partial_array\n",
        "    else:\n",
        "      resume_index = 0\n",
        "      loss_surface = np.zeros_like(A)\n",
        "\n",
        "    \n",
        "    print(f\"Resuming Computation from Index {resume_index}\\n\")\n",
        "    for i in range(resume_index, RESOLUTION):\n",
        "        for j in range(RESOLUTION):\n",
        "            total_loss = 0.\n",
        "            n_batch = 0\n",
        "            alpha = A[i, j]\n",
        "            beta = B[i, j]\n",
        "            net = init_network(load_model_new(model_id), noises, alpha, beta).to('cuda')\n",
        "            for batch, labels in dataloader:\n",
        "                batch = batch.to('cuda')\n",
        "                labels = labels.to('cuda')\n",
        "                with torch.no_grad():\n",
        "                    preds = net(batch)\n",
        "                    loss = crit(preds, labels)\n",
        "                    total_loss += loss.item()\n",
        "                    n_batch += 1\n",
        "            loss_surface[i, j] = total_loss / n_batch\n",
        "            del net, batch, labels\n",
        "            print(f'alpha : {alpha:.2f}, beta : {beta:.2f}, loss : {loss_surface[i, j]:.2f}')\n",
        "            torch.cuda.empty_cache()\n",
        "        # save computed losses so far\n",
        "        np.save(f'{model_id}_zz_{dataset_name}_{optimizer_name}.npy', loss_surface)"
      ],
      "metadata": {
        "id": "olVpgdq9Dsw_"
      },
      "execution_count": null,
      "outputs": []
    },
    {
      "cell_type": "code",
      "source": [
        "# os.environ['WANDB_CONSOLE'] = 'off'\n",
        "# THE NUMBER OF WORKERS MIGHT BE TOO BIG FOR THIS GPU"
      ],
      "metadata": {
        "id": "DkuekXrs-k9W"
      },
      "execution_count": null,
      "outputs": []
    },
    {
      "cell_type": "code",
      "source": [
        "run_landscape_gen(50, 20, \"imagenetv2-threshold0.7-format-val\")"
      ],
      "metadata": {
        "colab": {
          "base_uri": "https://localhost:8080/"
        },
        "id": "hq4S2D0ohcFU",
        "outputId": "1a586d3a-ca9c-4869-c53d-9214ed446501"
      },
      "execution_count": null,
      "outputs": [
        {
          "output_type": "stream",
          "name": "stdout",
          "text": [
            "Testing mobilenet_v2\n",
            "A total of 3,504,872 parameters.\n",
            "Resuming Computation from Index 0\n",
            "\n",
            "alpha : -1.00, beta : -1.00, loss : 28.99\n",
            "alpha : -1.00, beta : -0.89, loss : 27.29\n",
            "alpha : -1.00, beta : -0.79, loss : 24.93\n",
            "alpha : -1.00, beta : -0.68, loss : 24.41\n",
            "alpha : -1.00, beta : -0.58, loss : 24.99\n",
            "alpha : -1.00, beta : -0.47, loss : 25.14\n",
            "alpha : -1.00, beta : -0.37, loss : 22.38\n",
            "alpha : -1.00, beta : -0.26, loss : 22.92\n",
            "alpha : -1.00, beta : -0.16, loss : 24.05\n",
            "alpha : -1.00, beta : -0.05, loss : 25.21\n",
            "alpha : -1.00, beta : 0.05, loss : 24.34\n",
            "alpha : -1.00, beta : 0.16, loss : 25.19\n",
            "alpha : -1.00, beta : 0.26, loss : 24.83\n",
            "alpha : -1.00, beta : 0.37, loss : 23.76\n",
            "alpha : -1.00, beta : 0.47, loss : 23.70\n",
            "alpha : -1.00, beta : 0.58, loss : 23.82\n",
            "alpha : -1.00, beta : 0.68, loss : 23.25\n",
            "alpha : -1.00, beta : 0.79, loss : 23.11\n",
            "alpha : -1.00, beta : 0.89, loss : 23.93\n",
            "alpha : -1.00, beta : 1.00, loss : 24.65\n",
            "alpha : -0.89, beta : -1.00, loss : 27.92\n",
            "alpha : -0.89, beta : -0.89, loss : 26.47\n",
            "alpha : -0.89, beta : -0.79, loss : 24.58\n",
            "alpha : -0.89, beta : -0.68, loss : 23.91\n",
            "alpha : -0.89, beta : -0.58, loss : 24.33\n",
            "alpha : -0.89, beta : -0.47, loss : 24.83\n",
            "alpha : -0.89, beta : -0.37, loss : 22.28\n",
            "alpha : -0.89, beta : -0.26, loss : 22.52\n",
            "alpha : -0.89, beta : -0.16, loss : 22.80\n",
            "alpha : -0.89, beta : -0.05, loss : 24.64\n",
            "alpha : -0.89, beta : 0.05, loss : 23.88\n",
            "alpha : -0.89, beta : 0.16, loss : 23.01\n",
            "alpha : -0.89, beta : 0.26, loss : 23.66\n",
            "alpha : -0.89, beta : 0.37, loss : 21.50\n",
            "alpha : -0.89, beta : 0.47, loss : 21.41\n",
            "alpha : -0.89, beta : 0.58, loss : 22.03\n",
            "alpha : -0.89, beta : 0.68, loss : 21.74\n",
            "alpha : -0.89, beta : 0.79, loss : 21.26\n",
            "alpha : -0.89, beta : 0.89, loss : 23.12\n",
            "alpha : -0.89, beta : 1.00, loss : 23.99\n",
            "alpha : -0.79, beta : -1.00, loss : 26.67\n",
            "alpha : -0.79, beta : -0.89, loss : 25.28\n",
            "alpha : -0.79, beta : -0.79, loss : 23.23\n",
            "alpha : -0.79, beta : -0.68, loss : 22.69\n",
            "alpha : -0.79, beta : -0.58, loss : 21.94\n",
            "alpha : -0.79, beta : -0.47, loss : 21.28\n",
            "alpha : -0.79, beta : -0.37, loss : 20.84\n",
            "alpha : -0.79, beta : -0.26, loss : 21.92\n",
            "alpha : -0.79, beta : -0.16, loss : 21.67\n",
            "alpha : -0.79, beta : -0.05, loss : 21.69\n",
            "alpha : -0.79, beta : 0.05, loss : 22.10\n",
            "alpha : -0.79, beta : 0.16, loss : 21.95\n",
            "alpha : -0.79, beta : 0.26, loss : 21.33\n",
            "alpha : -0.79, beta : 0.37, loss : 19.70\n",
            "alpha : -0.79, beta : 0.47, loss : 19.04\n",
            "alpha : -0.79, beta : 0.58, loss : 19.87\n",
            "alpha : -0.79, beta : 0.68, loss : 20.44\n",
            "alpha : -0.79, beta : 0.79, loss : 21.10\n",
            "alpha : -0.79, beta : 0.89, loss : 23.25\n",
            "alpha : -0.79, beta : 1.00, loss : 24.75\n",
            "alpha : -0.68, beta : -1.00, loss : 24.12\n",
            "alpha : -0.68, beta : -0.89, loss : 22.63\n",
            "alpha : -0.68, beta : -0.79, loss : 20.97\n",
            "alpha : -0.68, beta : -0.68, loss : 20.38\n",
            "alpha : -0.68, beta : -0.58, loss : 18.57\n",
            "alpha : -0.68, beta : -0.47, loss : 19.47\n",
            "alpha : -0.68, beta : -0.37, loss : 19.95\n",
            "alpha : -0.68, beta : -0.26, loss : 21.04\n",
            "alpha : -0.68, beta : -0.16, loss : 19.96\n",
            "alpha : -0.68, beta : -0.05, loss : 21.54\n",
            "alpha : -0.68, beta : 0.05, loss : 21.69\n",
            "alpha : -0.68, beta : 0.16, loss : 20.68\n",
            "alpha : -0.68, beta : 0.26, loss : 18.67\n",
            "alpha : -0.68, beta : 0.37, loss : 17.59\n",
            "alpha : -0.68, beta : 0.47, loss : 18.44\n",
            "alpha : -0.68, beta : 0.58, loss : 19.14\n",
            "alpha : -0.68, beta : 0.68, loss : 20.13\n",
            "alpha : -0.68, beta : 0.79, loss : 21.54\n",
            "alpha : -0.68, beta : 0.89, loss : 24.44\n",
            "alpha : -0.68, beta : 1.00, loss : 25.91\n",
            "alpha : -0.58, beta : -1.00, loss : 21.56\n",
            "alpha : -0.58, beta : -0.89, loss : 19.81\n",
            "alpha : -0.58, beta : -0.79, loss : 18.37\n",
            "alpha : -0.58, beta : -0.68, loss : 17.28\n",
            "alpha : -0.58, beta : -0.58, loss : 16.89\n",
            "alpha : -0.58, beta : -0.47, loss : 17.12\n",
            "alpha : -0.58, beta : -0.37, loss : 17.55\n",
            "alpha : -0.58, beta : -0.26, loss : 19.18\n",
            "alpha : -0.58, beta : -0.16, loss : 18.54\n",
            "alpha : -0.58, beta : -0.05, loss : 21.03\n",
            "alpha : -0.58, beta : 0.05, loss : 23.13\n",
            "alpha : -0.58, beta : 0.16, loss : 22.17\n",
            "alpha : -0.58, beta : 0.26, loss : 18.32\n",
            "alpha : -0.58, beta : 0.37, loss : 15.41\n",
            "alpha : -0.58, beta : 0.47, loss : 16.85\n",
            "alpha : -0.58, beta : 0.58, loss : 18.05\n",
            "alpha : -0.58, beta : 0.68, loss : 19.53\n",
            "alpha : -0.58, beta : 0.79, loss : 20.82\n",
            "alpha : -0.58, beta : 0.89, loss : 23.20\n",
            "alpha : -0.58, beta : 1.00, loss : 25.04\n",
            "alpha : -0.47, beta : -1.00, loss : 20.13\n",
            "alpha : -0.47, beta : -0.89, loss : 17.76\n",
            "alpha : -0.47, beta : -0.79, loss : 15.89\n",
            "alpha : -0.47, beta : -0.68, loss : 15.70\n",
            "alpha : -0.47, beta : -0.58, loss : 15.74\n",
            "alpha : -0.47, beta : -0.47, loss : 17.12\n",
            "alpha : -0.47, beta : -0.37, loss : 16.60\n",
            "alpha : -0.47, beta : -0.26, loss : 17.75\n",
            "alpha : -0.47, beta : -0.16, loss : 18.77\n",
            "alpha : -0.47, beta : -0.05, loss : 19.58\n",
            "alpha : -0.47, beta : 0.05, loss : 21.25\n",
            "alpha : -0.47, beta : 0.16, loss : 22.12\n",
            "alpha : -0.47, beta : 0.26, loss : 18.67\n",
            "alpha : -0.47, beta : 0.37, loss : 15.47\n",
            "alpha : -0.47, beta : 0.47, loss : 15.67\n",
            "alpha : -0.47, beta : 0.58, loss : 17.29\n",
            "alpha : -0.47, beta : 0.68, loss : 18.17\n",
            "alpha : -0.47, beta : 0.79, loss : 19.10\n",
            "alpha : -0.47, beta : 0.89, loss : 21.74\n",
            "alpha : -0.47, beta : 1.00, loss : 24.21\n",
            "alpha : -0.37, beta : -1.00, loss : 19.39\n",
            "alpha : -0.37, beta : -0.89, loss : 16.98\n",
            "alpha : -0.37, beta : -0.79, loss : 15.87\n",
            "alpha : -0.37, beta : -0.68, loss : 16.92\n",
            "alpha : -0.37, beta : -0.58, loss : 16.84\n",
            "alpha : -0.37, beta : -0.47, loss : 18.00\n",
            "alpha : -0.37, beta : -0.37, loss : 16.50\n",
            "alpha : -0.37, beta : -0.26, loss : 18.44\n",
            "alpha : -0.37, beta : -0.16, loss : 19.01\n",
            "alpha : -0.37, beta : -0.05, loss : 17.74\n",
            "alpha : -0.37, beta : 0.05, loss : 17.92\n",
            "alpha : -0.37, beta : 0.16, loss : 18.98\n",
            "alpha : -0.37, beta : 0.26, loss : 17.44\n",
            "alpha : -0.37, beta : 0.37, loss : 15.14\n",
            "alpha : -0.37, beta : 0.47, loss : 15.65\n",
            "alpha : -0.37, beta : 0.58, loss : 18.42\n",
            "alpha : -0.37, beta : 0.68, loss : 17.07\n",
            "alpha : -0.37, beta : 0.79, loss : 17.65\n",
            "alpha : -0.37, beta : 0.89, loss : 19.67\n",
            "alpha : -0.37, beta : 1.00, loss : 22.33\n",
            "alpha : -0.26, beta : -1.00, loss : 19.84\n",
            "alpha : -0.26, beta : -0.89, loss : 17.53\n",
            "alpha : -0.26, beta : -0.79, loss : 15.97\n",
            "alpha : -0.26, beta : -0.68, loss : 16.99\n",
            "alpha : -0.26, beta : -0.58, loss : 16.64\n",
            "alpha : -0.26, beta : -0.47, loss : 17.01\n",
            "alpha : -0.26, beta : -0.37, loss : 17.22\n",
            "alpha : -0.26, beta : -0.26, loss : 18.37\n",
            "alpha : -0.26, beta : -0.16, loss : 16.63\n",
            "alpha : -0.26, beta : -0.05, loss : 15.25\n",
            "alpha : -0.26, beta : 0.05, loss : 15.13\n",
            "alpha : -0.26, beta : 0.16, loss : 15.43\n",
            "alpha : -0.26, beta : 0.26, loss : 15.76\n",
            "alpha : -0.26, beta : 0.37, loss : 15.38\n",
            "alpha : -0.26, beta : 0.47, loss : 16.40\n",
            "alpha : -0.26, beta : 0.58, loss : 18.64\n",
            "alpha : -0.26, beta : 0.68, loss : 17.17\n",
            "alpha : -0.26, beta : 0.79, loss : 16.39\n",
            "alpha : -0.26, beta : 0.89, loss : 17.64\n",
            "alpha : -0.26, beta : 1.00, loss : 20.04\n",
            "alpha : -0.16, beta : -1.00, loss : 20.27\n",
            "alpha : -0.16, beta : -0.89, loss : 18.99\n",
            "alpha : -0.16, beta : -0.79, loss : 17.65\n",
            "alpha : -0.16, beta : -0.68, loss : 18.37\n",
            "alpha : -0.16, beta : -0.58, loss : 17.24\n",
            "alpha : -0.16, beta : -0.47, loss : 16.91\n",
            "alpha : -0.16, beta : -0.37, loss : 17.30\n",
            "alpha : -0.16, beta : -0.26, loss : 16.19\n",
            "alpha : -0.16, beta : -0.16, loss : 13.78\n",
            "alpha : -0.16, beta : -0.05, loss : 10.82\n",
            "alpha : -0.16, beta : 0.05, loss : 9.87\n",
            "alpha : -0.16, beta : 0.16, loss : 12.09\n",
            "alpha : -0.16, beta : 0.26, loss : 13.95\n",
            "alpha : -0.16, beta : 0.37, loss : 14.12\n",
            "alpha : -0.16, beta : 0.47, loss : 15.82\n",
            "alpha : -0.16, beta : 0.58, loss : 17.44\n",
            "alpha : -0.16, beta : 0.68, loss : 16.41\n",
            "alpha : -0.16, beta : 0.79, loss : 16.41\n",
            "alpha : -0.16, beta : 0.89, loss : 17.27\n",
            "alpha : -0.16, beta : 1.00, loss : 19.95\n",
            "alpha : -0.05, beta : -1.00, loss : 20.55\n",
            "alpha : -0.05, beta : -0.89, loss : 20.24\n",
            "alpha : -0.05, beta : -0.79, loss : 20.82\n",
            "alpha : -0.05, beta : -0.68, loss : 20.39\n",
            "alpha : -0.05, beta : -0.58, loss : 18.45\n",
            "alpha : -0.05, beta : -0.47, loss : 16.73\n",
            "alpha : -0.05, beta : -0.37, loss : 17.58\n",
            "alpha : -0.05, beta : -0.26, loss : 15.80\n",
            "alpha : -0.05, beta : -0.16, loss : 10.46\n",
            "alpha : -0.05, beta : -0.05, loss : 1.96\n",
            "alpha : -0.05, beta : 0.05, loss : 0.74\n",
            "alpha : -0.05, beta : 0.16, loss : 8.37\n",
            "alpha : -0.05, beta : 0.26, loss : 12.50\n",
            "alpha : -0.05, beta : 0.37, loss : 13.27\n",
            "alpha : -0.05, beta : 0.47, loss : 14.70\n",
            "alpha : -0.05, beta : 0.58, loss : 15.97\n",
            "alpha : -0.05, beta : 0.68, loss : 16.16\n",
            "alpha : -0.05, beta : 0.79, loss : 17.49\n",
            "alpha : -0.05, beta : 0.89, loss : 18.85\n",
            "alpha : -0.05, beta : 1.00, loss : 20.70\n",
            "alpha : 0.05, beta : -1.00, loss : 21.13\n",
            "alpha : 0.05, beta : -0.89, loss : 20.91\n",
            "alpha : 0.05, beta : -0.79, loss : 20.93\n",
            "alpha : 0.05, beta : -0.68, loss : 20.80\n",
            "alpha : 0.05, beta : -0.58, loss : 19.68\n",
            "alpha : 0.05, beta : -0.47, loss : 17.84\n",
            "alpha : 0.05, beta : -0.37, loss : 18.48\n",
            "alpha : 0.05, beta : -0.26, loss : 16.13\n",
            "alpha : 0.05, beta : -0.16, loss : 9.78\n",
            "alpha : 0.05, beta : -0.05, loss : 1.01\n",
            "alpha : 0.05, beta : 0.05, loss : 1.87\n",
            "alpha : 0.05, beta : 0.16, loss : 10.38\n",
            "alpha : 0.05, beta : 0.26, loss : 14.36\n",
            "alpha : 0.05, beta : 0.37, loss : 15.15\n",
            "alpha : 0.05, beta : 0.47, loss : 14.97\n",
            "alpha : 0.05, beta : 0.58, loss : 16.38\n",
            "alpha : 0.05, beta : 0.68, loss : 17.00\n",
            "alpha : 0.05, beta : 0.79, loss : 17.92\n",
            "alpha : 0.05, beta : 0.89, loss : 19.64\n",
            "alpha : 0.05, beta : 1.00, loss : 20.50\n",
            "alpha : 0.16, beta : -1.00, loss : 21.09\n",
            "alpha : 0.16, beta : -0.89, loss : 20.85\n",
            "alpha : 0.16, beta : -0.79, loss : 21.20\n",
            "alpha : 0.16, beta : -0.68, loss : 20.86\n",
            "alpha : 0.16, beta : -0.58, loss : 19.32\n",
            "alpha : 0.16, beta : -0.47, loss : 18.82\n",
            "alpha : 0.16, beta : -0.37, loss : 18.67\n",
            "alpha : 0.16, beta : -0.26, loss : 18.05\n",
            "alpha : 0.16, beta : -0.16, loss : 14.68\n",
            "alpha : 0.16, beta : -0.05, loss : 11.73\n",
            "alpha : 0.16, beta : 0.05, loss : 10.90\n",
            "alpha : 0.16, beta : 0.16, loss : 15.24\n",
            "alpha : 0.16, beta : 0.26, loss : 16.68\n",
            "alpha : 0.16, beta : 0.37, loss : 15.34\n",
            "alpha : 0.16, beta : 0.47, loss : 15.84\n",
            "alpha : 0.16, beta : 0.58, loss : 16.67\n",
            "alpha : 0.16, beta : 0.68, loss : 17.48\n",
            "alpha : 0.16, beta : 0.79, loss : 18.43\n",
            "alpha : 0.16, beta : 0.89, loss : 19.29\n",
            "alpha : 0.16, beta : 1.00, loss : 19.99\n",
            "alpha : 0.26, beta : -1.00, loss : 21.82\n",
            "alpha : 0.26, beta : -0.89, loss : 21.70\n",
            "alpha : 0.26, beta : -0.79, loss : 22.02\n",
            "alpha : 0.26, beta : -0.68, loss : 21.12\n",
            "alpha : 0.26, beta : -0.58, loss : 18.70\n",
            "alpha : 0.26, beta : -0.47, loss : 17.93\n",
            "alpha : 0.26, beta : -0.37, loss : 16.97\n",
            "alpha : 0.26, beta : -0.26, loss : 18.01\n",
            "alpha : 0.26, beta : -0.16, loss : 17.20\n",
            "alpha : 0.26, beta : -0.05, loss : 15.52\n",
            "alpha : 0.26, beta : 0.05, loss : 14.34\n",
            "alpha : 0.26, beta : 0.16, loss : 14.90\n",
            "alpha : 0.26, beta : 0.26, loss : 14.68\n",
            "alpha : 0.26, beta : 0.37, loss : 14.00\n",
            "alpha : 0.26, beta : 0.47, loss : 15.28\n",
            "alpha : 0.26, beta : 0.58, loss : 16.99\n",
            "alpha : 0.26, beta : 0.68, loss : 18.26\n",
            "alpha : 0.26, beta : 0.79, loss : 19.21\n",
            "alpha : 0.26, beta : 0.89, loss : 20.18\n",
            "alpha : 0.26, beta : 1.00, loss : 20.50\n",
            "alpha : 0.37, beta : -1.00, loss : 22.73\n",
            "alpha : 0.37, beta : -0.89, loss : 21.97\n",
            "alpha : 0.37, beta : -0.79, loss : 22.82\n",
            "alpha : 0.37, beta : -0.68, loss : 22.52\n",
            "alpha : 0.37, beta : -0.58, loss : 18.72\n",
            "alpha : 0.37, beta : -0.47, loss : 18.02\n",
            "alpha : 0.37, beta : -0.37, loss : 17.49\n",
            "alpha : 0.37, beta : -0.26, loss : 18.71\n",
            "alpha : 0.37, beta : -0.16, loss : 17.02\n",
            "alpha : 0.37, beta : -0.05, loss : 14.15\n",
            "alpha : 0.37, beta : 0.05, loss : 15.16\n",
            "alpha : 0.37, beta : 0.16, loss : 15.83\n",
            "alpha : 0.37, beta : 0.26, loss : 14.51\n",
            "alpha : 0.37, beta : 0.37, loss : 13.79\n",
            "alpha : 0.37, beta : 0.47, loss : 16.06\n",
            "alpha : 0.37, beta : 0.58, loss : 17.78\n",
            "alpha : 0.37, beta : 0.68, loss : 19.18\n",
            "alpha : 0.37, beta : 0.79, loss : 20.64\n",
            "alpha : 0.37, beta : 0.89, loss : 21.65\n",
            "alpha : 0.37, beta : 1.00, loss : 21.33\n",
            "alpha : 0.47, beta : -1.00, loss : 24.20\n",
            "alpha : 0.47, beta : -0.89, loss : 22.28\n",
            "alpha : 0.47, beta : -0.79, loss : 22.91\n",
            "alpha : 0.47, beta : -0.68, loss : 22.69\n",
            "alpha : 0.47, beta : -0.58, loss : 18.41\n",
            "alpha : 0.47, beta : -0.47, loss : 19.19\n",
            "alpha : 0.47, beta : -0.37, loss : 20.05\n",
            "alpha : 0.47, beta : -0.26, loss : 21.50\n",
            "alpha : 0.47, beta : -0.16, loss : 18.11\n",
            "alpha : 0.47, beta : -0.05, loss : 14.90\n",
            "alpha : 0.47, beta : 0.05, loss : 14.32\n",
            "alpha : 0.47, beta : 0.16, loss : 14.59\n",
            "alpha : 0.47, beta : 0.26, loss : 13.62\n",
            "alpha : 0.47, beta : 0.37, loss : 14.91\n",
            "alpha : 0.47, beta : 0.47, loss : 16.47\n",
            "alpha : 0.47, beta : 0.58, loss : 18.19\n",
            "alpha : 0.47, beta : 0.68, loss : 21.16\n",
            "alpha : 0.47, beta : 0.79, loss : 23.05\n",
            "alpha : 0.47, beta : 0.89, loss : 23.14\n",
            "alpha : 0.47, beta : 1.00, loss : 21.68\n",
            "alpha : 0.58, beta : -1.00, loss : 26.50\n",
            "alpha : 0.58, beta : -0.89, loss : 25.22\n",
            "alpha : 0.58, beta : -0.79, loss : 23.78\n",
            "alpha : 0.58, beta : -0.68, loss : 21.79\n",
            "alpha : 0.58, beta : -0.58, loss : 19.38\n",
            "alpha : 0.58, beta : -0.47, loss : 18.66\n",
            "alpha : 0.58, beta : -0.37, loss : 20.03\n",
            "alpha : 0.58, beta : -0.26, loss : 21.24\n",
            "alpha : 0.58, beta : -0.16, loss : 19.77\n",
            "alpha : 0.58, beta : -0.05, loss : 18.01\n",
            "alpha : 0.58, beta : 0.05, loss : 16.24\n",
            "alpha : 0.58, beta : 0.16, loss : 14.80\n",
            "alpha : 0.58, beta : 0.26, loss : 15.69\n",
            "alpha : 0.58, beta : 0.37, loss : 16.94\n",
            "alpha : 0.58, beta : 0.47, loss : 17.14\n",
            "alpha : 0.58, beta : 0.58, loss : 20.09\n",
            "alpha : 0.58, beta : 0.68, loss : 22.79\n",
            "alpha : 0.58, beta : 0.79, loss : 23.66\n",
            "alpha : 0.58, beta : 0.89, loss : 23.49\n",
            "alpha : 0.58, beta : 1.00, loss : 22.46\n",
            "alpha : 0.68, beta : -1.00, loss : 27.28\n",
            "alpha : 0.68, beta : -0.89, loss : 26.43\n",
            "alpha : 0.68, beta : -0.79, loss : 24.95\n",
            "alpha : 0.68, beta : -0.68, loss : 23.13\n",
            "alpha : 0.68, beta : -0.58, loss : 20.45\n",
            "alpha : 0.68, beta : -0.47, loss : 18.89\n",
            "alpha : 0.68, beta : -0.37, loss : 19.68\n",
            "alpha : 0.68, beta : -0.26, loss : 19.88\n",
            "alpha : 0.68, beta : -0.16, loss : 20.34\n",
            "alpha : 0.68, beta : -0.05, loss : 19.51\n",
            "alpha : 0.68, beta : 0.05, loss : 17.93\n",
            "alpha : 0.68, beta : 0.16, loss : 16.57\n",
            "alpha : 0.68, beta : 0.26, loss : 17.03\n",
            "alpha : 0.68, beta : 0.37, loss : 18.14\n",
            "alpha : 0.68, beta : 0.47, loss : 18.85\n",
            "alpha : 0.68, beta : 0.58, loss : 22.40\n",
            "alpha : 0.68, beta : 0.68, loss : 23.87\n",
            "alpha : 0.68, beta : 0.79, loss : 22.75\n",
            "alpha : 0.68, beta : 0.89, loss : 22.44\n",
            "alpha : 0.68, beta : 1.00, loss : 22.37\n",
            "alpha : 0.79, beta : -1.00, loss : 28.01\n",
            "alpha : 0.79, beta : -0.89, loss : 27.96\n",
            "alpha : 0.79, beta : -0.79, loss : 26.00\n",
            "alpha : 0.79, beta : -0.68, loss : 23.73\n",
            "alpha : 0.79, beta : -0.58, loss : 22.32\n",
            "alpha : 0.79, beta : -0.47, loss : 20.66\n",
            "alpha : 0.79, beta : -0.37, loss : 20.08\n",
            "alpha : 0.79, beta : -0.26, loss : 19.62\n",
            "alpha : 0.79, beta : -0.16, loss : 20.10\n",
            "alpha : 0.79, beta : -0.05, loss : 19.99\n",
            "alpha : 0.79, beta : 0.05, loss : 18.76\n",
            "alpha : 0.79, beta : 0.16, loss : 17.98\n",
            "alpha : 0.79, beta : 0.26, loss : 18.10\n",
            "alpha : 0.79, beta : 0.37, loss : 17.90\n",
            "alpha : 0.79, beta : 0.47, loss : 19.87\n",
            "alpha : 0.79, beta : 0.58, loss : 22.89\n",
            "alpha : 0.79, beta : 0.68, loss : 22.21\n",
            "alpha : 0.79, beta : 0.79, loss : 20.86\n",
            "alpha : 0.79, beta : 0.89, loss : 22.21\n",
            "alpha : 0.79, beta : 1.00, loss : 22.65\n",
            "alpha : 0.89, beta : -1.00, loss : 29.55\n",
            "alpha : 0.89, beta : -0.89, loss : 28.86\n",
            "alpha : 0.89, beta : -0.79, loss : 26.74\n",
            "alpha : 0.89, beta : -0.68, loss : 24.83\n",
            "alpha : 0.89, beta : -0.58, loss : 24.09\n",
            "alpha : 0.89, beta : -0.47, loss : 22.98\n",
            "alpha : 0.89, beta : -0.37, loss : 21.51\n",
            "alpha : 0.89, beta : -0.26, loss : 20.10\n",
            "alpha : 0.89, beta : -0.16, loss : 19.91\n",
            "alpha : 0.89, beta : -0.05, loss : 19.51\n",
            "alpha : 0.89, beta : 0.05, loss : 18.69\n",
            "alpha : 0.89, beta : 0.16, loss : 18.22\n",
            "alpha : 0.89, beta : 0.26, loss : 18.60\n",
            "alpha : 0.89, beta : 0.37, loss : 18.57\n",
            "alpha : 0.89, beta : 0.47, loss : 19.68\n",
            "alpha : 0.89, beta : 0.58, loss : 21.78\n",
            "alpha : 0.89, beta : 0.68, loss : 21.24\n",
            "alpha : 0.89, beta : 0.79, loss : 21.25\n",
            "alpha : 0.89, beta : 0.89, loss : 22.99\n",
            "alpha : 0.89, beta : 1.00, loss : 25.24\n",
            "alpha : 1.00, beta : -1.00, loss : 31.33\n",
            "alpha : 1.00, beta : -0.89, loss : 29.48\n",
            "alpha : 1.00, beta : -0.79, loss : 27.12\n",
            "alpha : 1.00, beta : -0.68, loss : 26.74\n",
            "alpha : 1.00, beta : -0.58, loss : 25.58\n",
            "alpha : 1.00, beta : -0.47, loss : 24.59\n",
            "alpha : 1.00, beta : -0.37, loss : 23.91\n",
            "alpha : 1.00, beta : -0.26, loss : 22.24\n",
            "alpha : 1.00, beta : -0.16, loss : 20.82\n",
            "alpha : 1.00, beta : -0.05, loss : 20.12\n",
            "alpha : 1.00, beta : 0.05, loss : 19.65\n",
            "alpha : 1.00, beta : 0.16, loss : 19.25\n",
            "alpha : 1.00, beta : 0.26, loss : 19.08\n",
            "alpha : 1.00, beta : 0.37, loss : 19.73\n",
            "alpha : 1.00, beta : 0.47, loss : 20.80\n",
            "alpha : 1.00, beta : 0.58, loss : 22.44\n",
            "alpha : 1.00, beta : 0.68, loss : 22.51\n",
            "alpha : 1.00, beta : 0.79, loss : 22.11\n",
            "alpha : 1.00, beta : 0.89, loss : 24.28\n",
            "alpha : 1.00, beta : 1.00, loss : 26.94\n"
          ]
        }
      ]
    },
    {
      "cell_type": "code",
      "source": [
        "# parser = argparse.ArgumentParser(description='Arguments to generate loss landscape.')\n",
        "# parser.add_argument('--path_to_imagenetv2', default='/mnt/storage/datasets/imagenetv2-top-images-format-val/', type=str)\n",
        "# parser.add_argument('--batch_size', default=8, type=int)\n",
        "# parser.add_argument('--resolution', default=25, type=int)\n",
        "\n",
        "# plt.figure(figsize=(18, 12))\n",
        "# plt.contour(A, B, loss_surface)\n",
        "# plt.savefig(f'{model_id}_contour_optim_{optimizer_name}_bs_{BATCH_SIZE}_res_{RESOLUTION}_{dataset_name}.png', dpi=100)\n",
        "# plt.close()"
      ],
      "metadata": {
        "id": "wJFCRhxwFXvJ"
      },
      "execution_count": null,
      "outputs": []
    },
    {
      "cell_type": "code",
      "source": [
        "%matplotlib inline\n",
        "import numpy as np\n",
        "import matplotlib.pyplot as plt\n",
        "from matplotlib import cm\n",
        "from matplotlib import animation\n",
        "from mpl_toolkits.mplot3d import Axes3D\n",
        "from matplotlib.animation import FuncAnimation, PillowWriter\n",
        "import networkx\n",
        "plt.rcParams[\"figure.figsize\"] = (20,20)\n",
        "\n",
        "def generate_plots(model, dataset, optimizer_name):\n",
        "\n",
        "    xx = np.load(model + \"_xx_\"+ dataset + \"_\" + optimizer_name + \".npy\")\n",
        "    yy = np.load(model + \"_yy_\"+ dataset + \"_\" + optimizer_name + \".npy\")\n",
        "    zz = np.load(model + \"_zz_\"+ dataset + \"_\" + optimizer_name + \".npy\")\n",
        "\n",
        "    # zz = np.log(zz)\n",
        "\n",
        "    plt.figure(figsize=(20, 20))\n",
        "    plt.contour(xx, yy, zz)\n",
        "    plt.savefig(fr'{model}_contour_{dataset}_{optimizer_name}.png', dpi=150)\n",
        "    plt.close()\n",
        "\n",
        "    ## 3D plot\n",
        "    fig, ax = plt.subplots(subplot_kw={'projection' : '3d'})\n",
        "    # ax.set_axis_off()\n",
        "    surf = ax.plot_surface(xx, yy, zz, cmap=cm.coolwarm,\n",
        "                           linewidth=0, antialiased=False)\n",
        "    ax.set_xlim(-1, 1)\n",
        "    ax.set_ylim(-1, 1)\n",
        "    print(ax.azim, ax.elev)\n",
        "\n",
        "    plt.savefig(fr'{model}_surface_{dataset}_{optimizer_name}.png', dpi=300,format='png', bbox_inches = \"tight\")\n",
        "    plt.show()\n"
      ],
      "metadata": {
        "id": "sSIamqngLrSf"
      },
      "execution_count": null,
      "outputs": []
    },
    {
      "cell_type": "code",
      "source": [
        "generate_plots(\"mobilenet_v2\", \"imagenetv2\", optimizer_name)"
      ],
      "metadata": {
        "colab": {
          "base_uri": "https://localhost:8080/",
          "height": 1000
        },
        "id": "1j8ZtWjlL--u",
        "outputId": "429711b3-a96d-4c4b-8257-96c52e39c3d7"
      },
      "execution_count": null,
      "outputs": [
        {
          "output_type": "stream",
          "name": "stdout",
          "text": [
            "-60 30\n"
          ]
        },
        {
          "output_type": "display_data",
          "data": {
            "text/plain": [
              "<Figure size 1440x1440 with 1 Axes>"
            ],
            "image/png": "[encoded data removed]"
          },
          "metadata": {
            "needs_background": "light"
          }
        }
      ]
    }
  ]
}