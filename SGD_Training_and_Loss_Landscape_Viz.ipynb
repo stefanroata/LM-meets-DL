{
  "nbformat": 4,
  "nbformat_minor": 0,
  "metadata": {
    "colab": {
      "provenance": [],
      "machine_shape": "hm"
    },
    "kernelspec": {
      "name": "python3",
      "display_name": "Python 3"
    },
    "language_info": {
      "name": "python"
    },
    "gpuClass": "premium",
    "accelerator": "GPU"
  },
  "cells": [
    {
      "cell_type": "code",
      "execution_count": null,
      "metadata": {
        "id": "mTdNSjDGCkD7"
      },
      "outputs": [],
      "source": [
        "import torch\n",
        "import copy\n",
        "import torchvision\n",
        "import numpy as np\n",
        "import random\n",
        "import os\n",
        "from tqdm import tqdm\n",
        "from torchvision import transforms as T\n",
        "from torchvision import models\n",
        "from torch.utils.data.dataloader import DataLoader\n",
        "import matplotlib.pyplot as plt\n",
        "from torchvision.datasets import CIFAR10\n",
        "import torch.optim as optim\n",
        "from google.colab import drive"
      ]
    },
    {
      "cell_type": "code",
      "source": [
        "# ONLY AVAILABLE IF WORKING INSIDE GOOGLE COLAB\n",
        "# IF NOT WORKING INSIDE GOOGLE COLAB, PLEASE IGNORE THIS CELL\n",
        "drive.mount('/content/gdrive')\n",
        "os.chdir('/content/gdrive/MyDrive/CAPSTONE/')"
      ],
      "metadata": {
        "colab": {
          "base_uri": "https://localhost:8080/"
        },
        "id": "dmNkZB3YE5O7",
        "outputId": "01fcaa3e-e142-4f3d-8c94-f8c87300f2ab"
      },
      "execution_count": null,
      "outputs": [
        {
          "output_type": "stream",
          "name": "stdout",
          "text": [
            "Drive already mounted at /content/gdrive; to attempt to forcibly remount, call drive.mount(\"/content/gdrive\", force_remount=True).\n"
          ]
        }
      ]
    },
    {
      "cell_type": "code",
      "source": [
        "!nvidia-smi -L "
      ],
      "metadata": {
        "colab": {
          "base_uri": "https://localhost:8080/"
        },
        "id": "hVaWWqy6wdNW",
        "outputId": "49ea9f3d-8e50-4fee-b062-8c381aa794d0"
      },
      "execution_count": null,
      "outputs": [
        {
          "output_type": "stream",
          "name": "stdout",
          "text": [
            "GPU 0: NVIDIA A100-SXM4-40GB (UUID: GPU-a54cbe57-29c2-4151-7179-f92af8756715)\n"
          ]
        }
      ]
    },
    {
      "cell_type": "code",
      "source": [
        "# dir(models)\n",
        "# tried previously: mobilenet_v2, vgg16, resnet56_noshort\n",
        "MODEL_IDENTIFIER = 'resnet110_noshort'\n",
        "# previous optimizer names: SGD, Adam\n",
        "OPTIMIZER_NAME= 'SGD'\n",
        "DATASET_NAME = 'cifar10'\n"
      ],
      "metadata": {
        "id": "EZrBFHPM9i0s"
      },
      "execution_count": null,
      "outputs": []
    },
    {
      "cell_type": "code",
      "source": [
        "device = torch.device('cuda' if torch.cuda.is_available() else 'cpu')\n",
        "print(device)"
      ],
      "metadata": {
        "colab": {
          "base_uri": "https://localhost:8080/"
        },
        "id": "za7hsKvfB9cM",
        "outputId": "864f373c-fbdf-45d4-c1cd-31b78453c712"
      },
      "execution_count": null,
      "outputs": [
        {
          "output_type": "stream",
          "name": "stdout",
          "text": [
            "cuda\n"
          ]
        }
      ]
    },
    {
      "cell_type": "code",
      "source": [
        "# LOAD MODEL FROM TORCH: model = torch.hub.load('pytorch/vision:v0.6.0', MODEL_IDENTIFIER, weights = None, verbose=False)\n",
        "# from cifar10_models.vgg import VGG\n",
        "from cifar10_models.resnet import ResNet56_noshort\n",
        "from cifar10_models.resnet import ResNet110_noshort"
      ],
      "metadata": {
        "id": "TglvDXQg9wFu"
      },
      "execution_count": null,
      "outputs": []
    },
    {
      "cell_type": "code",
      "source": [
        "# model = VGG()\n",
        "model = ResNet110_noshort()"
      ],
      "metadata": {
        "id": "aTqx78uIaxtb"
      },
      "execution_count": null,
      "outputs": []
    },
    {
      "cell_type": "code",
      "source": [
        "model.to(device)"
      ],
      "metadata": {
        "colab": {
          "base_uri": "https://localhost:8080/"
        },
        "id": "XTzyeQ2koIk7",
        "outputId": "68f91401-b01b-4661-b534-aa3ff42f00c9"
      },
      "execution_count": null,
      "outputs": [
        {
          "output_type": "execute_result",
          "data": {
            "text/plain": [
              "ResNet_cifar(\n",
              "  (conv1): Conv2d(3, 16, kernel_size=(3, 3), stride=(1, 1), padding=(1, 1), bias=False)\n",
              "  (bn1): BatchNorm2d(16, eps=1e-05, momentum=0.1, affine=True, track_running_stats=True)\n",
              "  (layer1): Sequential(\n",
              "    (0): BasicBlock_noshortcut(\n",
              "      (conv1): Conv2d(16, 16, kernel_size=(3, 3), stride=(1, 1), padding=(1, 1), bias=False)\n",
              "      (bn1): BatchNorm2d(16, eps=1e-05, momentum=0.1, affine=True, track_running_stats=True)\n",
              "      (conv2): Conv2d(16, 16, kernel_size=(3, 3), stride=(1, 1), padding=(1, 1), bias=False)\n",
              "      (bn2): BatchNorm2d(16, eps=1e-05, momentum=0.1, affine=True, track_running_stats=True)\n",
              "    )\n",
              "    (1): BasicBlock_noshortcut(\n",
              "      (conv1): Conv2d(16, 16, kernel_size=(3, 3), stride=(1, 1), padding=(1, 1), bias=False)\n",
              "      (bn1): BatchNorm2d(16, eps=1e-05, momentum=0.1, affine=True, track_running_stats=True)\n",
              "      (conv2): Conv2d(16, 16, kernel_size=(3, 3), stride=(1, 1), padding=(1, 1), bias=False)\n",
              "      (bn2): BatchNorm2d(16, eps=1e-05, momentum=0.1, affine=True, track_running_stats=True)\n",
              "    )\n",
              "    (2): BasicBlock_noshortcut(\n",
              "      (conv1): Conv2d(16, 16, kernel_size=(3, 3), stride=(1, 1), padding=(1, 1), bias=False)\n",
              "      (bn1): BatchNorm2d(16, eps=1e-05, momentum=0.1, affine=True, track_running_stats=True)\n",
              "      (conv2): Conv2d(16, 16, kernel_size=(3, 3), stride=(1, 1), padding=(1, 1), bias=False)\n",
              "      (bn2): BatchNorm2d(16, eps=1e-05, momentum=0.1, affine=True, track_running_stats=True)\n",
              "    )\n",
              "    (3): BasicBlock_noshortcut(\n",
              "      (conv1): Conv2d(16, 16, kernel_size=(3, 3), stride=(1, 1), padding=(1, 1), bias=False)\n",
              "      (bn1): BatchNorm2d(16, eps=1e-05, momentum=0.1, affine=True, track_running_stats=True)\n",
              "      (conv2): Conv2d(16, 16, kernel_size=(3, 3), stride=(1, 1), padding=(1, 1), bias=False)\n",
              "      (bn2): BatchNorm2d(16, eps=1e-05, momentum=0.1, affine=True, track_running_stats=True)\n",
              "    )\n",
              "    (4): BasicBlock_noshortcut(\n",
              "      (conv1): Conv2d(16, 16, kernel_size=(3, 3), stride=(1, 1), padding=(1, 1), bias=False)\n",
              "      (bn1): BatchNorm2d(16, eps=1e-05, momentum=0.1, affine=True, track_running_stats=True)\n",
              "      (conv2): Conv2d(16, 16, kernel_size=(3, 3), stride=(1, 1), padding=(1, 1), bias=False)\n",
              "      (bn2): BatchNorm2d(16, eps=1e-05, momentum=0.1, affine=True, track_running_stats=True)\n",
              "    )\n",
              "    (5): BasicBlock_noshortcut(\n",
              "      (conv1): Conv2d(16, 16, kernel_size=(3, 3), stride=(1, 1), padding=(1, 1), bias=False)\n",
              "      (bn1): BatchNorm2d(16, eps=1e-05, momentum=0.1, affine=True, track_running_stats=True)\n",
              "      (conv2): Conv2d(16, 16, kernel_size=(3, 3), stride=(1, 1), padding=(1, 1), bias=False)\n",
              "      (bn2): BatchNorm2d(16, eps=1e-05, momentum=0.1, affine=True, track_running_stats=True)\n",
              "    )\n",
              "    (6): BasicBlock_noshortcut(\n",
              "      (conv1): Conv2d(16, 16, kernel_size=(3, 3), stride=(1, 1), padding=(1, 1), bias=False)\n",
              "      (bn1): BatchNorm2d(16, eps=1e-05, momentum=0.1, affine=True, track_running_stats=True)\n",
              "      (conv2): Conv2d(16, 16, kernel_size=(3, 3), stride=(1, 1), padding=(1, 1), bias=False)\n",
              "      (bn2): BatchNorm2d(16, eps=1e-05, momentum=0.1, affine=True, track_running_stats=True)\n",
              "    )\n",
              "    (7): BasicBlock_noshortcut(\n",
              "      (conv1): Conv2d(16, 16, kernel_size=(3, 3), stride=(1, 1), padding=(1, 1), bias=False)\n",
              "      (bn1): BatchNorm2d(16, eps=1e-05, momentum=0.1, affine=True, track_running_stats=True)\n",
              "      (conv2): Conv2d(16, 16, kernel_size=(3, 3), stride=(1, 1), padding=(1, 1), bias=False)\n",
              "      (bn2): BatchNorm2d(16, eps=1e-05, momentum=0.1, affine=True, track_running_stats=True)\n",
              "    )\n",
              "    (8): BasicBlock_noshortcut(\n",
              "      (conv1): Conv2d(16, 16, kernel_size=(3, 3), stride=(1, 1), padding=(1, 1), bias=False)\n",
              "      (bn1): BatchNorm2d(16, eps=1e-05, momentum=0.1, affine=True, track_running_stats=True)\n",
              "      (conv2): Conv2d(16, 16, kernel_size=(3, 3), stride=(1, 1), padding=(1, 1), bias=False)\n",
              "      (bn2): BatchNorm2d(16, eps=1e-05, momentum=0.1, affine=True, track_running_stats=True)\n",
              "    )\n",
              "    (9): BasicBlock_noshortcut(\n",
              "      (conv1): Conv2d(16, 16, kernel_size=(3, 3), stride=(1, 1), padding=(1, 1), bias=False)\n",
              "      (bn1): BatchNorm2d(16, eps=1e-05, momentum=0.1, affine=True, track_running_stats=True)\n",
              "      (conv2): Conv2d(16, 16, kernel_size=(3, 3), stride=(1, 1), padding=(1, 1), bias=False)\n",
              "      (bn2): BatchNorm2d(16, eps=1e-05, momentum=0.1, affine=True, track_running_stats=True)\n",
              "    )\n",
              "    (10): BasicBlock_noshortcut(\n",
              "      (conv1): Conv2d(16, 16, kernel_size=(3, 3), stride=(1, 1), padding=(1, 1), bias=False)\n",
              "      (bn1): BatchNorm2d(16, eps=1e-05, momentum=0.1, affine=True, track_running_stats=True)\n",
              "      (conv2): Conv2d(16, 16, kernel_size=(3, 3), stride=(1, 1), padding=(1, 1), bias=False)\n",
              "      (bn2): BatchNorm2d(16, eps=1e-05, momentum=0.1, affine=True, track_running_stats=True)\n",
              "    )\n",
              "    (11): BasicBlock_noshortcut(\n",
              "      (conv1): Conv2d(16, 16, kernel_size=(3, 3), stride=(1, 1), padding=(1, 1), bias=False)\n",
              "      (bn1): BatchNorm2d(16, eps=1e-05, momentum=0.1, affine=True, track_running_stats=True)\n",
              "      (conv2): Conv2d(16, 16, kernel_size=(3, 3), stride=(1, 1), padding=(1, 1), bias=False)\n",
              "      (bn2): BatchNorm2d(16, eps=1e-05, momentum=0.1, affine=True, track_running_stats=True)\n",
              "    )\n",
              "    (12): BasicBlock_noshortcut(\n",
              "      (conv1): Conv2d(16, 16, kernel_size=(3, 3), stride=(1, 1), padding=(1, 1), bias=False)\n",
              "      (bn1): BatchNorm2d(16, eps=1e-05, momentum=0.1, affine=True, track_running_stats=True)\n",
              "      (conv2): Conv2d(16, 16, kernel_size=(3, 3), stride=(1, 1), padding=(1, 1), bias=False)\n",
              "      (bn2): BatchNorm2d(16, eps=1e-05, momentum=0.1, affine=True, track_running_stats=True)\n",
              "    )\n",
              "    (13): BasicBlock_noshortcut(\n",
              "      (conv1): Conv2d(16, 16, kernel_size=(3, 3), stride=(1, 1), padding=(1, 1), bias=False)\n",
              "      (bn1): BatchNorm2d(16, eps=1e-05, momentum=0.1, affine=True, track_running_stats=True)\n",
              "      (conv2): Conv2d(16, 16, kernel_size=(3, 3), stride=(1, 1), padding=(1, 1), bias=False)\n",
              "      (bn2): BatchNorm2d(16, eps=1e-05, momentum=0.1, affine=True, track_running_stats=True)\n",
              "    )\n",
              "    (14): BasicBlock_noshortcut(\n",
              "      (conv1): Conv2d(16, 16, kernel_size=(3, 3), stride=(1, 1), padding=(1, 1), bias=False)\n",
              "      (bn1): BatchNorm2d(16, eps=1e-05, momentum=0.1, affine=True, track_running_stats=True)\n",
              "      (conv2): Conv2d(16, 16, kernel_size=(3, 3), stride=(1, 1), padding=(1, 1), bias=False)\n",
              "      (bn2): BatchNorm2d(16, eps=1e-05, momentum=0.1, affine=True, track_running_stats=True)\n",
              "    )\n",
              "    (15): BasicBlock_noshortcut(\n",
              "      (conv1): Conv2d(16, 16, kernel_size=(3, 3), stride=(1, 1), padding=(1, 1), bias=False)\n",
              "      (bn1): BatchNorm2d(16, eps=1e-05, momentum=0.1, affine=True, track_running_stats=True)\n",
              "      (conv2): Conv2d(16, 16, kernel_size=(3, 3), stride=(1, 1), padding=(1, 1), bias=False)\n",
              "      (bn2): BatchNorm2d(16, eps=1e-05, momentum=0.1, affine=True, track_running_stats=True)\n",
              "    )\n",
              "    (16): BasicBlock_noshortcut(\n",
              "      (conv1): Conv2d(16, 16, kernel_size=(3, 3), stride=(1, 1), padding=(1, 1), bias=False)\n",
              "      (bn1): BatchNorm2d(16, eps=1e-05, momentum=0.1, affine=True, track_running_stats=True)\n",
              "      (conv2): Conv2d(16, 16, kernel_size=(3, 3), stride=(1, 1), padding=(1, 1), bias=False)\n",
              "      (bn2): BatchNorm2d(16, eps=1e-05, momentum=0.1, affine=True, track_running_stats=True)\n",
              "    )\n",
              "    (17): BasicBlock_noshortcut(\n",
              "      (conv1): Conv2d(16, 16, kernel_size=(3, 3), stride=(1, 1), padding=(1, 1), bias=False)\n",
              "      (bn1): BatchNorm2d(16, eps=1e-05, momentum=0.1, affine=True, track_running_stats=True)\n",
              "      (conv2): Conv2d(16, 16, kernel_size=(3, 3), stride=(1, 1), padding=(1, 1), bias=False)\n",
              "      (bn2): BatchNorm2d(16, eps=1e-05, momentum=0.1, affine=True, track_running_stats=True)\n",
              "    )\n",
              "  )\n",
              "  (layer2): Sequential(\n",
              "    (0): BasicBlock_noshortcut(\n",
              "      (conv1): Conv2d(16, 32, kernel_size=(3, 3), stride=(2, 2), padding=(1, 1), bias=False)\n",
              "      (bn1): BatchNorm2d(32, eps=1e-05, momentum=0.1, affine=True, track_running_stats=True)\n",
              "      (conv2): Conv2d(32, 32, kernel_size=(3, 3), stride=(1, 1), padding=(1, 1), bias=False)\n",
              "      (bn2): BatchNorm2d(32, eps=1e-05, momentum=0.1, affine=True, track_running_stats=True)\n",
              "    )\n",
              "    (1): BasicBlock_noshortcut(\n",
              "      (conv1): Conv2d(32, 32, kernel_size=(3, 3), stride=(1, 1), padding=(1, 1), bias=False)\n",
              "      (bn1): BatchNorm2d(32, eps=1e-05, momentum=0.1, affine=True, track_running_stats=True)\n",
              "      (conv2): Conv2d(32, 32, kernel_size=(3, 3), stride=(1, 1), padding=(1, 1), bias=False)\n",
              "      (bn2): BatchNorm2d(32, eps=1e-05, momentum=0.1, affine=True, track_running_stats=True)\n",
              "    )\n",
              "    (2): BasicBlock_noshortcut(\n",
              "      (conv1): Conv2d(32, 32, kernel_size=(3, 3), stride=(1, 1), padding=(1, 1), bias=False)\n",
              "      (bn1): BatchNorm2d(32, eps=1e-05, momentum=0.1, affine=True, track_running_stats=True)\n",
              "      (conv2): Conv2d(32, 32, kernel_size=(3, 3), stride=(1, 1), padding=(1, 1), bias=False)\n",
              "      (bn2): BatchNorm2d(32, eps=1e-05, momentum=0.1, affine=True, track_running_stats=True)\n",
              "    )\n",
              "    (3): BasicBlock_noshortcut(\n",
              "      (conv1): Conv2d(32, 32, kernel_size=(3, 3), stride=(1, 1), padding=(1, 1), bias=False)\n",
              "      (bn1): BatchNorm2d(32, eps=1e-05, momentum=0.1, affine=True, track_running_stats=True)\n",
              "      (conv2): Conv2d(32, 32, kernel_size=(3, 3), stride=(1, 1), padding=(1, 1), bias=False)\n",
              "      (bn2): BatchNorm2d(32, eps=1e-05, momentum=0.1, affine=True, track_running_stats=True)\n",
              "    )\n",
              "    (4): BasicBlock_noshortcut(\n",
              "      (conv1): Conv2d(32, 32, kernel_size=(3, 3), stride=(1, 1), padding=(1, 1), bias=False)\n",
              "      (bn1): BatchNorm2d(32, eps=1e-05, momentum=0.1, affine=True, track_running_stats=True)\n",
              "      (conv2): Conv2d(32, 32, kernel_size=(3, 3), stride=(1, 1), padding=(1, 1), bias=False)\n",
              "      (bn2): BatchNorm2d(32, eps=1e-05, momentum=0.1, affine=True, track_running_stats=True)\n",
              "    )\n",
              "    (5): BasicBlock_noshortcut(\n",
              "      (conv1): Conv2d(32, 32, kernel_size=(3, 3), stride=(1, 1), padding=(1, 1), bias=False)\n",
              "      (bn1): BatchNorm2d(32, eps=1e-05, momentum=0.1, affine=True, track_running_stats=True)\n",
              "      (conv2): Conv2d(32, 32, kernel_size=(3, 3), stride=(1, 1), padding=(1, 1), bias=False)\n",
              "      (bn2): BatchNorm2d(32, eps=1e-05, momentum=0.1, affine=True, track_running_stats=True)\n",
              "    )\n",
              "    (6): BasicBlock_noshortcut(\n",
              "      (conv1): Conv2d(32, 32, kernel_size=(3, 3), stride=(1, 1), padding=(1, 1), bias=False)\n",
              "      (bn1): BatchNorm2d(32, eps=1e-05, momentum=0.1, affine=True, track_running_stats=True)\n",
              "      (conv2): Conv2d(32, 32, kernel_size=(3, 3), stride=(1, 1), padding=(1, 1), bias=False)\n",
              "      (bn2): BatchNorm2d(32, eps=1e-05, momentum=0.1, affine=True, track_running_stats=True)\n",
              "    )\n",
              "    (7): BasicBlock_noshortcut(\n",
              "      (conv1): Conv2d(32, 32, kernel_size=(3, 3), stride=(1, 1), padding=(1, 1), bias=False)\n",
              "      (bn1): BatchNorm2d(32, eps=1e-05, momentum=0.1, affine=True, track_running_stats=True)\n",
              "      (conv2): Conv2d(32, 32, kernel_size=(3, 3), stride=(1, 1), padding=(1, 1), bias=False)\n",
              "      (bn2): BatchNorm2d(32, eps=1e-05, momentum=0.1, affine=True, track_running_stats=True)\n",
              "    )\n",
              "    (8): BasicBlock_noshortcut(\n",
              "      (conv1): Conv2d(32, 32, kernel_size=(3, 3), stride=(1, 1), padding=(1, 1), bias=False)\n",
              "      (bn1): BatchNorm2d(32, eps=1e-05, momentum=0.1, affine=True, track_running_stats=True)\n",
              "      (conv2): Conv2d(32, 32, kernel_size=(3, 3), stride=(1, 1), padding=(1, 1), bias=False)\n",
              "      (bn2): BatchNorm2d(32, eps=1e-05, momentum=0.1, affine=True, track_running_stats=True)\n",
              "    )\n",
              "    (9): BasicBlock_noshortcut(\n",
              "      (conv1): Conv2d(32, 32, kernel_size=(3, 3), stride=(1, 1), padding=(1, 1), bias=False)\n",
              "      (bn1): BatchNorm2d(32, eps=1e-05, momentum=0.1, affine=True, track_running_stats=True)\n",
              "      (conv2): Conv2d(32, 32, kernel_size=(3, 3), stride=(1, 1), padding=(1, 1), bias=False)\n",
              "      (bn2): BatchNorm2d(32, eps=1e-05, momentum=0.1, affine=True, track_running_stats=True)\n",
              "    )\n",
              "    (10): BasicBlock_noshortcut(\n",
              "      (conv1): Conv2d(32, 32, kernel_size=(3, 3), stride=(1, 1), padding=(1, 1), bias=False)\n",
              "      (bn1): BatchNorm2d(32, eps=1e-05, momentum=0.1, affine=True, track_running_stats=True)\n",
              "      (conv2): Conv2d(32, 32, kernel_size=(3, 3), stride=(1, 1), padding=(1, 1), bias=False)\n",
              "      (bn2): BatchNorm2d(32, eps=1e-05, momentum=0.1, affine=True, track_running_stats=True)\n",
              "    )\n",
              "    (11): BasicBlock_noshortcut(\n",
              "      (conv1): Conv2d(32, 32, kernel_size=(3, 3), stride=(1, 1), padding=(1, 1), bias=False)\n",
              "      (bn1): BatchNorm2d(32, eps=1e-05, momentum=0.1, affine=True, track_running_stats=True)\n",
              "      (conv2): Conv2d(32, 32, kernel_size=(3, 3), stride=(1, 1), padding=(1, 1), bias=False)\n",
              "      (bn2): BatchNorm2d(32, eps=1e-05, momentum=0.1, affine=True, track_running_stats=True)\n",
              "    )\n",
              "    (12): BasicBlock_noshortcut(\n",
              "      (conv1): Conv2d(32, 32, kernel_size=(3, 3), stride=(1, 1), padding=(1, 1), bias=False)\n",
              "      (bn1): BatchNorm2d(32, eps=1e-05, momentum=0.1, affine=True, track_running_stats=True)\n",
              "      (conv2): Conv2d(32, 32, kernel_size=(3, 3), stride=(1, 1), padding=(1, 1), bias=False)\n",
              "      (bn2): BatchNorm2d(32, eps=1e-05, momentum=0.1, affine=True, track_running_stats=True)\n",
              "    )\n",
              "    (13): BasicBlock_noshortcut(\n",
              "      (conv1): Conv2d(32, 32, kernel_size=(3, 3), stride=(1, 1), padding=(1, 1), bias=False)\n",
              "      (bn1): BatchNorm2d(32, eps=1e-05, momentum=0.1, affine=True, track_running_stats=True)\n",
              "      (conv2): Conv2d(32, 32, kernel_size=(3, 3), stride=(1, 1), padding=(1, 1), bias=False)\n",
              "      (bn2): BatchNorm2d(32, eps=1e-05, momentum=0.1, affine=True, track_running_stats=True)\n",
              "    )\n",
              "    (14): BasicBlock_noshortcut(\n",
              "      (conv1): Conv2d(32, 32, kernel_size=(3, 3), stride=(1, 1), padding=(1, 1), bias=False)\n",
              "      (bn1): BatchNorm2d(32, eps=1e-05, momentum=0.1, affine=True, track_running_stats=True)\n",
              "      (conv2): Conv2d(32, 32, kernel_size=(3, 3), stride=(1, 1), padding=(1, 1), bias=False)\n",
              "      (bn2): BatchNorm2d(32, eps=1e-05, momentum=0.1, affine=True, track_running_stats=True)\n",
              "    )\n",
              "    (15): BasicBlock_noshortcut(\n",
              "      (conv1): Conv2d(32, 32, kernel_size=(3, 3), stride=(1, 1), padding=(1, 1), bias=False)\n",
              "      (bn1): BatchNorm2d(32, eps=1e-05, momentum=0.1, affine=True, track_running_stats=True)\n",
              "      (conv2): Conv2d(32, 32, kernel_size=(3, 3), stride=(1, 1), padding=(1, 1), bias=False)\n",
              "      (bn2): BatchNorm2d(32, eps=1e-05, momentum=0.1, affine=True, track_running_stats=True)\n",
              "    )\n",
              "    (16): BasicBlock_noshortcut(\n",
              "      (conv1): Conv2d(32, 32, kernel_size=(3, 3), stride=(1, 1), padding=(1, 1), bias=False)\n",
              "      (bn1): BatchNorm2d(32, eps=1e-05, momentum=0.1, affine=True, track_running_stats=True)\n",
              "      (conv2): Conv2d(32, 32, kernel_size=(3, 3), stride=(1, 1), padding=(1, 1), bias=False)\n",
              "      (bn2): BatchNorm2d(32, eps=1e-05, momentum=0.1, affine=True, track_running_stats=True)\n",
              "    )\n",
              "    (17): BasicBlock_noshortcut(\n",
              "      (conv1): Conv2d(32, 32, kernel_size=(3, 3), stride=(1, 1), padding=(1, 1), bias=False)\n",
              "      (bn1): BatchNorm2d(32, eps=1e-05, momentum=0.1, affine=True, track_running_stats=True)\n",
              "      (conv2): Conv2d(32, 32, kernel_size=(3, 3), stride=(1, 1), padding=(1, 1), bias=False)\n",
              "      (bn2): BatchNorm2d(32, eps=1e-05, momentum=0.1, affine=True, track_running_stats=True)\n",
              "    )\n",
              "  )\n",
              "  (layer3): Sequential(\n",
              "    (0): BasicBlock_noshortcut(\n",
              "      (conv1): Conv2d(32, 64, kernel_size=(3, 3), stride=(2, 2), padding=(1, 1), bias=False)\n",
              "      (bn1): BatchNorm2d(64, eps=1e-05, momentum=0.1, affine=True, track_running_stats=True)\n",
              "      (conv2): Conv2d(64, 64, kernel_size=(3, 3), stride=(1, 1), padding=(1, 1), bias=False)\n",
              "      (bn2): BatchNorm2d(64, eps=1e-05, momentum=0.1, affine=True, track_running_stats=True)\n",
              "    )\n",
              "    (1): BasicBlock_noshortcut(\n",
              "      (conv1): Conv2d(64, 64, kernel_size=(3, 3), stride=(1, 1), padding=(1, 1), bias=False)\n",
              "      (bn1): BatchNorm2d(64, eps=1e-05, momentum=0.1, affine=True, track_running_stats=True)\n",
              "      (conv2): Conv2d(64, 64, kernel_size=(3, 3), stride=(1, 1), padding=(1, 1), bias=False)\n",
              "      (bn2): BatchNorm2d(64, eps=1e-05, momentum=0.1, affine=True, track_running_stats=True)\n",
              "    )\n",
              "    (2): BasicBlock_noshortcut(\n",
              "      (conv1): Conv2d(64, 64, kernel_size=(3, 3), stride=(1, 1), padding=(1, 1), bias=False)\n",
              "      (bn1): BatchNorm2d(64, eps=1e-05, momentum=0.1, affine=True, track_running_stats=True)\n",
              "      (conv2): Conv2d(64, 64, kernel_size=(3, 3), stride=(1, 1), padding=(1, 1), bias=False)\n",
              "      (bn2): BatchNorm2d(64, eps=1e-05, momentum=0.1, affine=True, track_running_stats=True)\n",
              "    )\n",
              "    (3): BasicBlock_noshortcut(\n",
              "      (conv1): Conv2d(64, 64, kernel_size=(3, 3), stride=(1, 1), padding=(1, 1), bias=False)\n",
              "      (bn1): BatchNorm2d(64, eps=1e-05, momentum=0.1, affine=True, track_running_stats=True)\n",
              "      (conv2): Conv2d(64, 64, kernel_size=(3, 3), stride=(1, 1), padding=(1, 1), bias=False)\n",
              "      (bn2): BatchNorm2d(64, eps=1e-05, momentum=0.1, affine=True, track_running_stats=True)\n",
              "    )\n",
              "    (4): BasicBlock_noshortcut(\n",
              "      (conv1): Conv2d(64, 64, kernel_size=(3, 3), stride=(1, 1), padding=(1, 1), bias=False)\n",
              "      (bn1): BatchNorm2d(64, eps=1e-05, momentum=0.1, affine=True, track_running_stats=True)\n",
              "      (conv2): Conv2d(64, 64, kernel_size=(3, 3), stride=(1, 1), padding=(1, 1), bias=False)\n",
              "      (bn2): BatchNorm2d(64, eps=1e-05, momentum=0.1, affine=True, track_running_stats=True)\n",
              "    )\n",
              "    (5): BasicBlock_noshortcut(\n",
              "      (conv1): Conv2d(64, 64, kernel_size=(3, 3), stride=(1, 1), padding=(1, 1), bias=False)\n",
              "      (bn1): BatchNorm2d(64, eps=1e-05, momentum=0.1, affine=True, track_running_stats=True)\n",
              "      (conv2): Conv2d(64, 64, kernel_size=(3, 3), stride=(1, 1), padding=(1, 1), bias=False)\n",
              "      (bn2): BatchNorm2d(64, eps=1e-05, momentum=0.1, affine=True, track_running_stats=True)\n",
              "    )\n",
              "    (6): BasicBlock_noshortcut(\n",
              "      (conv1): Conv2d(64, 64, kernel_size=(3, 3), stride=(1, 1), padding=(1, 1), bias=False)\n",
              "      (bn1): BatchNorm2d(64, eps=1e-05, momentum=0.1, affine=True, track_running_stats=True)\n",
              "      (conv2): Conv2d(64, 64, kernel_size=(3, 3), stride=(1, 1), padding=(1, 1), bias=False)\n",
              "      (bn2): BatchNorm2d(64, eps=1e-05, momentum=0.1, affine=True, track_running_stats=True)\n",
              "    )\n",
              "    (7): BasicBlock_noshortcut(\n",
              "      (conv1): Conv2d(64, 64, kernel_size=(3, 3), stride=(1, 1), padding=(1, 1), bias=False)\n",
              "      (bn1): BatchNorm2d(64, eps=1e-05, momentum=0.1, affine=True, track_running_stats=True)\n",
              "      (conv2): Conv2d(64, 64, kernel_size=(3, 3), stride=(1, 1), padding=(1, 1), bias=False)\n",
              "      (bn2): BatchNorm2d(64, eps=1e-05, momentum=0.1, affine=True, track_running_stats=True)\n",
              "    )\n",
              "    (8): BasicBlock_noshortcut(\n",
              "      (conv1): Conv2d(64, 64, kernel_size=(3, 3), stride=(1, 1), padding=(1, 1), bias=False)\n",
              "      (bn1): BatchNorm2d(64, eps=1e-05, momentum=0.1, affine=True, track_running_stats=True)\n",
              "      (conv2): Conv2d(64, 64, kernel_size=(3, 3), stride=(1, 1), padding=(1, 1), bias=False)\n",
              "      (bn2): BatchNorm2d(64, eps=1e-05, momentum=0.1, affine=True, track_running_stats=True)\n",
              "    )\n",
              "    (9): BasicBlock_noshortcut(\n",
              "      (conv1): Conv2d(64, 64, kernel_size=(3, 3), stride=(1, 1), padding=(1, 1), bias=False)\n",
              "      (bn1): BatchNorm2d(64, eps=1e-05, momentum=0.1, affine=True, track_running_stats=True)\n",
              "      (conv2): Conv2d(64, 64, kernel_size=(3, 3), stride=(1, 1), padding=(1, 1), bias=False)\n",
              "      (bn2): BatchNorm2d(64, eps=1e-05, momentum=0.1, affine=True, track_running_stats=True)\n",
              "    )\n",
              "    (10): BasicBlock_noshortcut(\n",
              "      (conv1): Conv2d(64, 64, kernel_size=(3, 3), stride=(1, 1), padding=(1, 1), bias=False)\n",
              "      (bn1): BatchNorm2d(64, eps=1e-05, momentum=0.1, affine=True, track_running_stats=True)\n",
              "      (conv2): Conv2d(64, 64, kernel_size=(3, 3), stride=(1, 1), padding=(1, 1), bias=False)\n",
              "      (bn2): BatchNorm2d(64, eps=1e-05, momentum=0.1, affine=True, track_running_stats=True)\n",
              "    )\n",
              "    (11): BasicBlock_noshortcut(\n",
              "      (conv1): Conv2d(64, 64, kernel_size=(3, 3), stride=(1, 1), padding=(1, 1), bias=False)\n",
              "      (bn1): BatchNorm2d(64, eps=1e-05, momentum=0.1, affine=True, track_running_stats=True)\n",
              "      (conv2): Conv2d(64, 64, kernel_size=(3, 3), stride=(1, 1), padding=(1, 1), bias=False)\n",
              "      (bn2): BatchNorm2d(64, eps=1e-05, momentum=0.1, affine=True, track_running_stats=True)\n",
              "    )\n",
              "    (12): BasicBlock_noshortcut(\n",
              "      (conv1): Conv2d(64, 64, kernel_size=(3, 3), stride=(1, 1), padding=(1, 1), bias=False)\n",
              "      (bn1): BatchNorm2d(64, eps=1e-05, momentum=0.1, affine=True, track_running_stats=True)\n",
              "      (conv2): Conv2d(64, 64, kernel_size=(3, 3), stride=(1, 1), padding=(1, 1), bias=False)\n",
              "      (bn2): BatchNorm2d(64, eps=1e-05, momentum=0.1, affine=True, track_running_stats=True)\n",
              "    )\n",
              "    (13): BasicBlock_noshortcut(\n",
              "      (conv1): Conv2d(64, 64, kernel_size=(3, 3), stride=(1, 1), padding=(1, 1), bias=False)\n",
              "      (bn1): BatchNorm2d(64, eps=1e-05, momentum=0.1, affine=True, track_running_stats=True)\n",
              "      (conv2): Conv2d(64, 64, kernel_size=(3, 3), stride=(1, 1), padding=(1, 1), bias=False)\n",
              "      (bn2): BatchNorm2d(64, eps=1e-05, momentum=0.1, affine=True, track_running_stats=True)\n",
              "    )\n",
              "    (14): BasicBlock_noshortcut(\n",
              "      (conv1): Conv2d(64, 64, kernel_size=(3, 3), stride=(1, 1), padding=(1, 1), bias=False)\n",
              "      (bn1): BatchNorm2d(64, eps=1e-05, momentum=0.1, affine=True, track_running_stats=True)\n",
              "      (conv2): Conv2d(64, 64, kernel_size=(3, 3), stride=(1, 1), padding=(1, 1), bias=False)\n",
              "      (bn2): BatchNorm2d(64, eps=1e-05, momentum=0.1, affine=True, track_running_stats=True)\n",
              "    )\n",
              "    (15): BasicBlock_noshortcut(\n",
              "      (conv1): Conv2d(64, 64, kernel_size=(3, 3), stride=(1, 1), padding=(1, 1), bias=False)\n",
              "      (bn1): BatchNorm2d(64, eps=1e-05, momentum=0.1, affine=True, track_running_stats=True)\n",
              "      (conv2): Conv2d(64, 64, kernel_size=(3, 3), stride=(1, 1), padding=(1, 1), bias=False)\n",
              "      (bn2): BatchNorm2d(64, eps=1e-05, momentum=0.1, affine=True, track_running_stats=True)\n",
              "    )\n",
              "    (16): BasicBlock_noshortcut(\n",
              "      (conv1): Conv2d(64, 64, kernel_size=(3, 3), stride=(1, 1), padding=(1, 1), bias=False)\n",
              "      (bn1): BatchNorm2d(64, eps=1e-05, momentum=0.1, affine=True, track_running_stats=True)\n",
              "      (conv2): Conv2d(64, 64, kernel_size=(3, 3), stride=(1, 1), padding=(1, 1), bias=False)\n",
              "      (bn2): BatchNorm2d(64, eps=1e-05, momentum=0.1, affine=True, track_running_stats=True)\n",
              "    )\n",
              "    (17): BasicBlock_noshortcut(\n",
              "      (conv1): Conv2d(64, 64, kernel_size=(3, 3), stride=(1, 1), padding=(1, 1), bias=False)\n",
              "      (bn1): BatchNorm2d(64, eps=1e-05, momentum=0.1, affine=True, track_running_stats=True)\n",
              "      (conv2): Conv2d(64, 64, kernel_size=(3, 3), stride=(1, 1), padding=(1, 1), bias=False)\n",
              "      (bn2): BatchNorm2d(64, eps=1e-05, momentum=0.1, affine=True, track_running_stats=True)\n",
              "    )\n",
              "  )\n",
              "  (linear): Linear(in_features=64, out_features=10, bias=True)\n",
              ")"
            ]
          },
          "metadata": {},
          "execution_count": 104
        }
      ]
    },
    {
      "cell_type": "code",
      "source": [
        "PATH_TO_DATASET = \"./data\"\n",
        "\n",
        "transform_train = T.Compose([\n",
        "    T.RandomCrop(32, padding=4),\n",
        "    T.RandomHorizontalFlip(),\n",
        "    T.ToTensor(),\n",
        "    T.Normalize((0.4914, 0.4822, 0.4465), (0.2023, 0.1994, 0.2010)),\n",
        "])\n",
        "transform_test = T.Compose([\n",
        "    T.ToTensor(),\n",
        "    T.Normalize((0.4914, 0.4822, 0.4465), (0.2023, 0.1994, 0.2010)),\n",
        "])\n",
        "\n",
        "dataset = CIFAR10(root='./data', \n",
        "                   train=True,\n",
        "                   download=True, \n",
        "                   transform=transform_train)\n",
        "\n",
        "testset = CIFAR10(root='./data', \n",
        "                  train=False,\n",
        "                  download=True, \n",
        "                  transform=transform_test)\n"
      ],
      "metadata": {
        "id": "FbrvkmeqDYY2",
        "colab": {
          "base_uri": "https://localhost:8080/"
        },
        "outputId": "5900e6a2-7573-4cf8-c3e8-852c080c8235"
      },
      "execution_count": null,
      "outputs": [
        {
          "output_type": "stream",
          "name": "stdout",
          "text": [
            "Files already downloaded and verified\n",
            "Files already downloaded and verified\n"
          ]
        }
      ]
    },
    {
      "cell_type": "code",
      "source": [
        "dataset_size = len(dataset)\n",
        "print(\"Dateset Size: \", dataset_size)\n",
        "classes = dataset.classes\n",
        "print(\"Classes: \", classes[0:10])"
      ],
      "metadata": {
        "colab": {
          "base_uri": "https://localhost:8080/"
        },
        "id": "8xbf9i2N-qmQ",
        "outputId": "511b260a-f21a-4808-d025-8281a596be5b"
      },
      "execution_count": null,
      "outputs": [
        {
          "output_type": "stream",
          "name": "stdout",
          "text": [
            "Dateset Size:  50000\n",
            "Classes:  ['airplane', 'automobile', 'bird', 'cat', 'deer', 'dog', 'frog', 'horse', 'ship', 'truck']\n"
          ]
        }
      ]
    },
    {
      "cell_type": "code",
      "source": [
        "img, label = dataset[1]\n",
        "img_shape = img.shape\n",
        "img_shape"
      ],
      "metadata": {
        "colab": {
          "base_uri": "https://localhost:8080/"
        },
        "id": "bN6Cpl2n_R6j",
        "outputId": "78ea1151-59ed-4b9b-c375-f6044f75a858"
      },
      "execution_count": null,
      "outputs": [
        {
          "output_type": "execute_result",
          "data": {
            "text/plain": [
              "torch.Size([3, 32, 32])"
            ]
          },
          "metadata": {},
          "execution_count": 11
        }
      ]
    },
    {
      "cell_type": "code",
      "source": [
        "img, label = dataset[0]\n",
        "plt.imshow(img.permute((1, 2, 0)))\n",
        "print('Label (numeric):', label)\n",
        "print('Label (textual):', classes[label])\n",
        "print(type(img))\n",
        "print(img.size())"
      ],
      "metadata": {
        "colab": {
          "base_uri": "https://localhost:8080/",
          "height": 358
        },
        "id": "hkjDPeLS_SsA",
        "outputId": "9958a884-a4ee-4090-edd5-7bf7a8e68857"
      },
      "execution_count": null,
      "outputs": [
        {
          "output_type": "stream",
          "name": "stderr",
          "text": [
            "WARNING:matplotlib.image:Clipping input data to the valid range for imshow with RGB data ([0..1] for floats or [0..255] for integers).\n"
          ]
        },
        {
          "output_type": "stream",
          "name": "stdout",
          "text": [
            "Label (numeric): 6\n",
            "Label (textual): frog\n",
            "<class 'torch.Tensor'>\n",
            "torch.Size([3, 32, 32])\n"
          ]
        },
        {
          "output_type": "display_data",
          "data": {
            "text/plain": [
              "<Figure size 432x288 with 1 Axes>"
            ],
            "image/png": "[encoded data removed]"
          },
          "metadata": {
            "needs_background": "light"
          }
        }
      ]
    },
    {
      "cell_type": "code",
      "source": [
        "# We set the seed at the beginning of each experiment to ensure reproducibility.\n",
        "# We also make sure no non-deterministic methods are used.\n",
        "\n",
        "def setup_seed(s):\n",
        "  torch.manual_seed(s)\n",
        "  random.seed(s)\n",
        "  np.random.seed(s)\n",
        "  torch.backends.cudnn.deterministic = True\n",
        "  torch.backends.cudnn.benchmark = False"
      ],
      "metadata": {
        "id": "R5IP97djXaQK"
      },
      "execution_count": null,
      "outputs": []
    },
    {
      "cell_type": "code",
      "source": [
        "SEED = 1234"
      ],
      "metadata": {
        "id": "HAczp0up5x4e"
      },
      "execution_count": null,
      "outputs": []
    },
    {
      "cell_type": "code",
      "source": [
        "setup_seed(SEED)"
      ],
      "metadata": {
        "id": "ZC5RdkHZ5ODK"
      },
      "execution_count": null,
      "outputs": []
    },
    {
      "cell_type": "code",
      "source": [
        "# We preserve reproducibility in data loading:\n",
        "def seed_worker(worker_id):\n",
        "  worker_seed = torch.initial_seed() % 2**32"
      ],
      "metadata": {
        "id": "z0SP6WiR5UYf"
      },
      "execution_count": null,
      "outputs": []
    },
    {
      "cell_type": "code",
      "source": [
        "g = torch.Generator()\n",
        "g.manual_seed(SEED)"
      ],
      "metadata": {
        "colab": {
          "base_uri": "https://localhost:8080/"
        },
        "id": "nhY-xgac5qGA",
        "outputId": "a148e28a-f9db-4038-9a58-20bd1e9a7d26"
      },
      "execution_count": null,
      "outputs": [
        {
          "output_type": "execute_result",
          "data": {
            "text/plain": [
              "<torch._C.Generator at 0x7f113f055910>"
            ]
          },
          "metadata": {},
          "execution_count": 110
        }
      ]
    },
    {
      "cell_type": "code",
      "source": [
        "BATCH_SIZE = 128\n",
        "train_loader = torch.utils.data.DataLoader(dataset, \n",
        "                                           batch_size=BATCH_SIZE, \n",
        "                                           shuffle=True, \n",
        "                                           num_workers=4, \n",
        "                                           worker_init_fn=seed_worker, \n",
        "                                           generator=g)"
      ],
      "metadata": {
        "id": "tgWXE5Iz_kcL"
      },
      "execution_count": null,
      "outputs": []
    },
    {
      "cell_type": "code",
      "source": [
        "N_EPOCHS = 100 # previously 100\n",
        "LR = 0.05\n",
        "MOMENTUM = 0.9\n",
        "# WEIGHT_DECAY = 0\n",
        "WEIGHT_DECAY = 0\n",
        "BETAS = (0.9, 0.999) # default beta values for the Adam Optimizer\n",
        "criterion = torch.nn.CrossEntropyLoss()\n",
        "optimizer = optim.SGD(model.parameters(), lr=LR, momentum=MOMENTUM, weight_decay=WEIGHT_DECAY)\n",
        "# optimizer = optim.Adam(model.parameters(), lr=LR, betas=BETAS, weight_decay = WEIGHT_DECAY)"
      ],
      "metadata": {
        "id": "K2j4wyXm_9gv"
      },
      "execution_count": null,
      "outputs": []
    },
    {
      "cell_type": "code",
      "source": [
        "SAVED_MODEL_NAME = f'{DATASET_NAME}_{MODEL_IDENTIFIER}_{OPTIMIZER_NAME}_epochs={N_EPOCHS}_BS={BATCH_SIZE}_LR={LR}_MOM={MOMENTUM}_WD={WEIGHT_DECAY}.pt'\n",
        "#SAVED_MODEL_NAME = f'{DATASET_NAME}_{MODEL_IDENTIFIER}_{OPTIMIZER_NAME}_epochs={N_EPOCHS}_BS={BATCH_SIZE}_LR={LR}_BETA1={BETAS[0]}_BETA2={BETAS[1]}_WD={WEIGHT_DECAY}.pt'\n",
        "print(SAVED_MODEL_NAME)"
      ],
      "metadata": {
        "id": "Z4oey3HZbuHb",
        "colab": {
          "base_uri": "https://localhost:8080/"
        },
        "outputId": "3c839988-380a-4020-c634-086c341cc730"
      },
      "execution_count": null,
      "outputs": [
        {
          "output_type": "stream",
          "name": "stdout",
          "text": [
            "cifar10_resnet110_noshort_SGD_epochs=100_BS=128_LR=0.05_MOM=0.9_WD=0.pt\n"
          ]
        }
      ]
    },
    {
      "cell_type": "code",
      "source": [
        "PARTIAL_NAME = f'{DATASET_NAME}_{MODEL_IDENTIFIER}_{OPTIMIZER_NAME}_epochs={N_EPOCHS}_BS={BATCH_SIZE}_LR={LR}_MOM={MOMENTUM}_WD={WEIGHT_DECAY}'\n",
        "#PARTIAL_NAME = f'{DATASET_NAME}_{MODEL_IDENTIFIER}_{OPTIMIZER_NAME}_epochs={N_EPOCHS}_BS={BATCH_SIZE}_LR={LR}_BETA1={BETAS[0]}_BETA2={BETAS[1]}_WD={WEIGHT_DECAY}'\n",
        "print(PARTIAL_NAME)"
      ],
      "metadata": {
        "id": "dM0AXXJgw6ys",
        "colab": {
          "base_uri": "https://localhost:8080/"
        },
        "outputId": "c89853bc-ce36-4acc-fe68-301dd5e85e45"
      },
      "execution_count": null,
      "outputs": [
        {
          "output_type": "stream",
          "name": "stdout",
          "text": [
            "cifar10_resnet110_noshort_SGD_epochs=100_BS=128_LR=0.05_MOM=0.9_WD=0\n"
          ]
        }
      ]
    },
    {
      "cell_type": "code",
      "source": [
        "# TRAINING THE DEEP LEARNING MODEL\n",
        "train_losses, accuracies = [], []\n",
        "for epoch in range(N_EPOCHS):\n",
        "  running_loss = 0\n",
        "  correct = 0\n",
        "  total = 0\n",
        "  for inputs, labels in tqdm(train_loader):\n",
        "    inputs, labels = inputs.to(device), labels.to(device)\n",
        "    optimizer.zero_grad()\n",
        "    outputs = model(inputs)\n",
        "    _, predicted = torch.max(outputs.data, 1)\n",
        "    correct += (predicted == labels).sum().item()\n",
        "    total += labels.size(0)\n",
        "    loss = criterion(outputs, labels)\n",
        "    loss.backward()\n",
        "    optimizer.step()\n",
        "    running_loss += loss.item()\n",
        "  \n",
        "  train_loss = running_loss / len(train_loader)\n",
        "  train_losses.append(train_loss)\n",
        "  accuracy = 100 * correct / total\n",
        "  accuracies.append(accuracy)\n",
        "  print(f'Train Loss : {train_loss} ;   Accuracy : {accuracy}%')\n",
        "\n",
        "torch.save(model, SAVED_MODEL_NAME)"
      ],
      "metadata": {
        "colab": {
          "base_uri": "https://localhost:8080/",
          "height": 1000
        },
        "id": "Ca7iDpGmBJ-S",
        "outputId": "027c8a20-016c-4f36-d82a-987d5439c7e0"
      },
      "execution_count": null,
      "outputs": [
        {
          "output_type": "stream",
          "name": "stderr",
          "text": [
            "100%|██████████| 391/391 [00:39<00:00,  9.79it/s]\n"
          ]
        },
        {
          "output_type": "stream",
          "name": "stdout",
          "text": [
            "Train Loss : 2.3060751625948854 ;   Accuracy : 10.188%\n"
          ]
        },
        {
          "output_type": "stream",
          "name": "stderr",
          "text": [
            "100%|██████████| 391/391 [00:39<00:00,  9.85it/s]\n"
          ]
        },
        {
          "output_type": "stream",
          "name": "stdout",
          "text": [
            "Train Loss : 2.3036622391332444 ;   Accuracy : 9.93%\n"
          ]
        },
        {
          "output_type": "stream",
          "name": "stderr",
          "text": [
            "100%|██████████| 391/391 [00:39<00:00,  9.91it/s]\n"
          ]
        },
        {
          "output_type": "stream",
          "name": "stdout",
          "text": [
            "Train Loss : 2.30330352100265 ;   Accuracy : 9.786%\n"
          ]
        },
        {
          "output_type": "stream",
          "name": "stderr",
          "text": [
            "100%|██████████| 391/391 [00:39<00:00,  9.84it/s]\n"
          ]
        },
        {
          "output_type": "stream",
          "name": "stdout",
          "text": [
            "Train Loss : 2.3029424034421098 ;   Accuracy : 10.242%\n"
          ]
        },
        {
          "output_type": "stream",
          "name": "stderr",
          "text": [
            "100%|██████████| 391/391 [00:39<00:00,  9.78it/s]\n"
          ]
        },
        {
          "output_type": "stream",
          "name": "stdout",
          "text": [
            "Train Loss : 2.3034399348451657 ;   Accuracy : 9.912%\n"
          ]
        },
        {
          "output_type": "stream",
          "name": "stderr",
          "text": [
            "100%|██████████| 391/391 [00:39<00:00,  9.91it/s]\n"
          ]
        },
        {
          "output_type": "stream",
          "name": "stdout",
          "text": [
            "Train Loss : 2.3031709303941263 ;   Accuracy : 10.032%\n"
          ]
        },
        {
          "output_type": "stream",
          "name": "stderr",
          "text": [
            "100%|██████████| 391/391 [00:39<00:00,  9.90it/s]\n"
          ]
        },
        {
          "output_type": "stream",
          "name": "stdout",
          "text": [
            "Train Loss : 2.302953305451766 ;   Accuracy : 10.268%\n"
          ]
        },
        {
          "output_type": "stream",
          "name": "stderr",
          "text": [
            "100%|██████████| 391/391 [00:39<00:00,  9.90it/s]\n"
          ]
        },
        {
          "output_type": "stream",
          "name": "stdout",
          "text": [
            "Train Loss : 2.303105645167553 ;   Accuracy : 10.108%\n"
          ]
        },
        {
          "output_type": "stream",
          "name": "stderr",
          "text": [
            "100%|██████████| 391/391 [00:39<00:00,  9.96it/s]\n"
          ]
        },
        {
          "output_type": "stream",
          "name": "stdout",
          "text": [
            "Train Loss : 2.3034211729493594 ;   Accuracy : 9.902%\n"
          ]
        },
        {
          "output_type": "stream",
          "name": "stderr",
          "text": [
            "100%|██████████| 391/391 [00:39<00:00,  9.83it/s]\n"
          ]
        },
        {
          "output_type": "stream",
          "name": "stdout",
          "text": [
            "Train Loss : 2.3034331377814796 ;   Accuracy : 10.056%\n"
          ]
        },
        {
          "output_type": "stream",
          "name": "stderr",
          "text": [
            "100%|██████████| 391/391 [00:39<00:00,  9.81it/s]\n"
          ]
        },
        {
          "output_type": "stream",
          "name": "stdout",
          "text": [
            "Train Loss : 2.3030798453504167 ;   Accuracy : 10.146%\n"
          ]
        },
        {
          "output_type": "stream",
          "name": "stderr",
          "text": [
            "100%|██████████| 391/391 [00:39<00:00,  9.85it/s]\n"
          ]
        },
        {
          "output_type": "stream",
          "name": "stdout",
          "text": [
            "Train Loss : 2.3031810348296102 ;   Accuracy : 9.988%\n"
          ]
        },
        {
          "output_type": "stream",
          "name": "stderr",
          "text": [
            "100%|██████████| 391/391 [00:39<00:00,  9.92it/s]\n"
          ]
        },
        {
          "output_type": "stream",
          "name": "stdout",
          "text": [
            "Train Loss : 2.3032340405847105 ;   Accuracy : 10.054%\n"
          ]
        },
        {
          "output_type": "stream",
          "name": "stderr",
          "text": [
            "100%|██████████| 391/391 [00:39<00:00,  9.84it/s]\n"
          ]
        },
        {
          "output_type": "stream",
          "name": "stdout",
          "text": [
            "Train Loss : 2.3035356285017166 ;   Accuracy : 9.84%\n"
          ]
        },
        {
          "output_type": "stream",
          "name": "stderr",
          "text": [
            "100%|██████████| 391/391 [00:39<00:00,  9.84it/s]\n"
          ]
        },
        {
          "output_type": "stream",
          "name": "stdout",
          "text": [
            "Train Loss : 2.303021518165803 ;   Accuracy : 9.766%\n"
          ]
        },
        {
          "output_type": "stream",
          "name": "stderr",
          "text": [
            "100%|██████████| 391/391 [00:39<00:00,  9.89it/s]\n"
          ]
        },
        {
          "output_type": "stream",
          "name": "stdout",
          "text": [
            "Train Loss : 2.3031113470911673 ;   Accuracy : 10.25%\n"
          ]
        },
        {
          "output_type": "stream",
          "name": "stderr",
          "text": [
            "100%|██████████| 391/391 [00:39<00:00,  9.80it/s]\n"
          ]
        },
        {
          "output_type": "stream",
          "name": "stdout",
          "text": [
            "Train Loss : 2.3032667185644358 ;   Accuracy : 9.756%\n"
          ]
        },
        {
          "output_type": "stream",
          "name": "stderr",
          "text": [
            "100%|██████████| 391/391 [00:39<00:00,  9.84it/s]\n"
          ]
        },
        {
          "output_type": "stream",
          "name": "stdout",
          "text": [
            "Train Loss : 2.3030844521339593 ;   Accuracy : 10.124%\n"
          ]
        },
        {
          "output_type": "stream",
          "name": "stderr",
          "text": [
            "100%|██████████| 391/391 [00:40<00:00,  9.73it/s]\n"
          ]
        },
        {
          "output_type": "stream",
          "name": "stdout",
          "text": [
            "Train Loss : 2.3030554028728125 ;   Accuracy : 10.082%\n"
          ]
        },
        {
          "output_type": "stream",
          "name": "stderr",
          "text": [
            "100%|██████████| 391/391 [00:39<00:00,  9.85it/s]\n"
          ]
        },
        {
          "output_type": "stream",
          "name": "stdout",
          "text": [
            "Train Loss : 2.3030973371032557 ;   Accuracy : 9.864%\n"
          ]
        },
        {
          "output_type": "stream",
          "name": "stderr",
          "text": [
            "100%|██████████| 391/391 [00:39<00:00,  9.87it/s]\n"
          ]
        },
        {
          "output_type": "stream",
          "name": "stdout",
          "text": [
            "Train Loss : 2.302858513639406 ;   Accuracy : 10.026%\n"
          ]
        },
        {
          "output_type": "stream",
          "name": "stderr",
          "text": [
            "100%|██████████| 391/391 [00:39<00:00,  9.78it/s]\n"
          ]
        },
        {
          "output_type": "stream",
          "name": "stdout",
          "text": [
            "Train Loss : 2.303267004544778 ;   Accuracy : 9.996%\n"
          ]
        },
        {
          "output_type": "stream",
          "name": "stderr",
          "text": [
            "100%|██████████| 391/391 [00:39<00:00,  9.86it/s]\n"
          ]
        },
        {
          "output_type": "stream",
          "name": "stdout",
          "text": [
            "Train Loss : 2.3030537144302405 ;   Accuracy : 9.996%\n"
          ]
        },
        {
          "output_type": "stream",
          "name": "stderr",
          "text": [
            "100%|██████████| 391/391 [00:39<00:00,  9.92it/s]\n"
          ]
        },
        {
          "output_type": "stream",
          "name": "stdout",
          "text": [
            "Train Loss : 2.303103371959208 ;   Accuracy : 10.006%\n"
          ]
        },
        {
          "output_type": "stream",
          "name": "stderr",
          "text": [
            "100%|██████████| 391/391 [00:40<00:00,  9.72it/s]\n"
          ]
        },
        {
          "output_type": "stream",
          "name": "stdout",
          "text": [
            "Train Loss : 2.303141980524868 ;   Accuracy : 10.05%\n"
          ]
        },
        {
          "output_type": "stream",
          "name": "stderr",
          "text": [
            "100%|██████████| 391/391 [00:39<00:00,  9.85it/s]\n"
          ]
        },
        {
          "output_type": "stream",
          "name": "stdout",
          "text": [
            "Train Loss : 2.3031344474733944 ;   Accuracy : 9.998%\n"
          ]
        },
        {
          "output_type": "stream",
          "name": "stderr",
          "text": [
            "100%|██████████| 391/391 [00:39<00:00,  9.88it/s]\n"
          ]
        },
        {
          "output_type": "stream",
          "name": "stdout",
          "text": [
            "Train Loss : 2.303027704853536 ;   Accuracy : 9.874%\n"
          ]
        },
        {
          "output_type": "stream",
          "name": "stderr",
          "text": [
            "100%|██████████| 391/391 [00:39<00:00,  9.93it/s]\n"
          ]
        },
        {
          "output_type": "stream",
          "name": "stdout",
          "text": [
            "Train Loss : 2.3033364703283286 ;   Accuracy : 9.974%\n"
          ]
        },
        {
          "output_type": "stream",
          "name": "stderr",
          "text": [
            "100%|██████████| 391/391 [00:39<00:00,  9.89it/s]\n"
          ]
        },
        {
          "output_type": "stream",
          "name": "stdout",
          "text": [
            "Train Loss : 2.3031726401785146 ;   Accuracy : 9.836%\n"
          ]
        },
        {
          "output_type": "stream",
          "name": "stderr",
          "text": [
            "100%|██████████| 391/391 [00:39<00:00,  9.83it/s]\n"
          ]
        },
        {
          "output_type": "stream",
          "name": "stdout",
          "text": [
            "Train Loss : 2.3027929070660527 ;   Accuracy : 10.068%\n"
          ]
        },
        {
          "output_type": "stream",
          "name": "stderr",
          "text": [
            "100%|██████████| 391/391 [00:39<00:00,  9.90it/s]\n"
          ]
        },
        {
          "output_type": "stream",
          "name": "stdout",
          "text": [
            "Train Loss : 2.3032379510152676 ;   Accuracy : 9.982%\n"
          ]
        },
        {
          "output_type": "stream",
          "name": "stderr",
          "text": [
            "100%|██████████| 391/391 [00:39<00:00,  9.80it/s]\n"
          ]
        },
        {
          "output_type": "stream",
          "name": "stdout",
          "text": [
            "Train Loss : 2.303270058863608 ;   Accuracy : 10.014%\n"
          ]
        },
        {
          "output_type": "stream",
          "name": "stderr",
          "text": [
            "100%|██████████| 391/391 [00:39<00:00,  9.88it/s]\n"
          ]
        },
        {
          "output_type": "stream",
          "name": "stdout",
          "text": [
            "Train Loss : 2.3030215169462704 ;   Accuracy : 10.152%\n"
          ]
        },
        {
          "output_type": "stream",
          "name": "stderr",
          "text": [
            "100%|██████████| 391/391 [00:39<00:00,  9.80it/s]\n"
          ]
        },
        {
          "output_type": "stream",
          "name": "stdout",
          "text": [
            "Train Loss : 2.303012650336146 ;   Accuracy : 10.028%\n"
          ]
        },
        {
          "output_type": "stream",
          "name": "stderr",
          "text": [
            "100%|██████████| 391/391 [00:39<00:00,  9.84it/s]\n"
          ]
        },
        {
          "output_type": "stream",
          "name": "stdout",
          "text": [
            "Train Loss : 2.3033422856684536 ;   Accuracy : 9.998%\n"
          ]
        },
        {
          "output_type": "stream",
          "name": "stderr",
          "text": [
            "100%|██████████| 391/391 [00:39<00:00,  9.79it/s]\n"
          ]
        },
        {
          "output_type": "stream",
          "name": "stdout",
          "text": [
            "Train Loss : 2.303320225547342 ;   Accuracy : 10.128%\n"
          ]
        },
        {
          "output_type": "stream",
          "name": "stderr",
          "text": [
            "100%|██████████| 391/391 [00:39<00:00,  9.91it/s]\n"
          ]
        },
        {
          "output_type": "stream",
          "name": "stdout",
          "text": [
            "Train Loss : 2.3030775904350573 ;   Accuracy : 10.134%\n"
          ]
        },
        {
          "output_type": "stream",
          "name": "stderr",
          "text": [
            "100%|██████████| 391/391 [00:39<00:00,  9.94it/s]\n"
          ]
        },
        {
          "output_type": "stream",
          "name": "stdout",
          "text": [
            "Train Loss : 2.30309475535322 ;   Accuracy : 9.872%\n"
          ]
        },
        {
          "output_type": "stream",
          "name": "stderr",
          "text": [
            "100%|██████████| 391/391 [00:39<00:00,  9.87it/s]\n"
          ]
        },
        {
          "output_type": "stream",
          "name": "stdout",
          "text": [
            "Train Loss : 2.3027896692075998 ;   Accuracy : 10.008%\n"
          ]
        },
        {
          "output_type": "stream",
          "name": "stderr",
          "text": [
            "100%|██████████| 391/391 [00:39<00:00,  9.94it/s]\n"
          ]
        },
        {
          "output_type": "stream",
          "name": "stdout",
          "text": [
            "Train Loss : 2.3021314064864917 ;   Accuracy : 10.148%\n"
          ]
        },
        {
          "output_type": "stream",
          "name": "stderr",
          "text": [
            "100%|██████████| 391/391 [00:39<00:00,  9.91it/s]\n"
          ]
        },
        {
          "output_type": "stream",
          "name": "stdout",
          "text": [
            "Train Loss : 2.3025463432302256 ;   Accuracy : 10.16%\n"
          ]
        },
        {
          "output_type": "stream",
          "name": "stderr",
          "text": [
            "100%|██████████| 391/391 [00:39<00:00,  9.88it/s]\n"
          ]
        },
        {
          "output_type": "stream",
          "name": "stdout",
          "text": [
            "Train Loss : 2.30212950218669 ;   Accuracy : 10.286%\n"
          ]
        },
        {
          "output_type": "stream",
          "name": "stderr",
          "text": [
            "100%|██████████| 391/391 [00:39<00:00,  9.89it/s]\n"
          ]
        },
        {
          "output_type": "stream",
          "name": "stdout",
          "text": [
            "Train Loss : 2.302334424479843 ;   Accuracy : 10.3%\n"
          ]
        },
        {
          "output_type": "stream",
          "name": "stderr",
          "text": [
            "100%|██████████| 391/391 [00:39<00:00,  9.94it/s]\n"
          ]
        },
        {
          "output_type": "stream",
          "name": "stdout",
          "text": [
            "Train Loss : 2.2991415405517346 ;   Accuracy : 10.952%\n"
          ]
        },
        {
          "output_type": "stream",
          "name": "stderr",
          "text": [
            "100%|██████████| 391/391 [00:39<00:00,  9.86it/s]\n"
          ]
        },
        {
          "output_type": "stream",
          "name": "stdout",
          "text": [
            "Train Loss : 2.293231713497425 ;   Accuracy : 11.404%\n"
          ]
        },
        {
          "output_type": "stream",
          "name": "stderr",
          "text": [
            "100%|██████████| 391/391 [00:39<00:00,  9.88it/s]\n"
          ]
        },
        {
          "output_type": "stream",
          "name": "stdout",
          "text": [
            "Train Loss : 2.282311810861768 ;   Accuracy : 12.384%\n"
          ]
        },
        {
          "output_type": "stream",
          "name": "stderr",
          "text": [
            "100%|██████████| 391/391 [00:39<00:00,  9.80it/s]\n"
          ]
        },
        {
          "output_type": "stream",
          "name": "stdout",
          "text": [
            "Train Loss : 2.2653263328630295 ;   Accuracy : 13.288%\n"
          ]
        },
        {
          "output_type": "stream",
          "name": "stderr",
          "text": [
            "100%|██████████| 391/391 [00:39<00:00,  9.90it/s]\n"
          ]
        },
        {
          "output_type": "stream",
          "name": "stdout",
          "text": [
            "Train Loss : 2.256233036060772 ;   Accuracy : 13.642%\n"
          ]
        },
        {
          "output_type": "stream",
          "name": "stderr",
          "text": [
            "100%|██████████| 391/391 [00:39<00:00,  9.91it/s]\n"
          ]
        },
        {
          "output_type": "stream",
          "name": "stdout",
          "text": [
            "Train Loss : 2.2510599730264804 ;   Accuracy : 13.73%\n"
          ]
        },
        {
          "output_type": "stream",
          "name": "stderr",
          "text": [
            "100%|██████████| 391/391 [00:39<00:00,  9.87it/s]\n"
          ]
        },
        {
          "output_type": "stream",
          "name": "stdout",
          "text": [
            "Train Loss : 2.2461545644208902 ;   Accuracy : 14.034%\n"
          ]
        },
        {
          "output_type": "stream",
          "name": "stderr",
          "text": [
            "100%|██████████| 391/391 [00:39<00:00,  9.89it/s]\n"
          ]
        },
        {
          "output_type": "stream",
          "name": "stdout",
          "text": [
            "Train Loss : 2.2437077373494883 ;   Accuracy : 13.968%\n"
          ]
        },
        {
          "output_type": "stream",
          "name": "stderr",
          "text": [
            "100%|██████████| 391/391 [00:39<00:00,  9.92it/s]\n"
          ]
        },
        {
          "output_type": "stream",
          "name": "stdout",
          "text": [
            "Train Loss : 2.2436154150901855 ;   Accuracy : 14.17%\n"
          ]
        },
        {
          "output_type": "stream",
          "name": "stderr",
          "text": [
            "100%|██████████| 391/391 [00:39<00:00,  9.86it/s]\n"
          ]
        },
        {
          "output_type": "stream",
          "name": "stdout",
          "text": [
            "Train Loss : 2.2420435866431507 ;   Accuracy : 14.098%\n"
          ]
        },
        {
          "output_type": "stream",
          "name": "stderr",
          "text": [
            "100%|██████████| 391/391 [00:39<00:00,  9.85it/s]\n"
          ]
        },
        {
          "output_type": "stream",
          "name": "stdout",
          "text": [
            "Train Loss : 2.2388412062164464 ;   Accuracy : 14.222%\n"
          ]
        },
        {
          "output_type": "stream",
          "name": "stderr",
          "text": [
            "100%|██████████| 391/391 [00:39<00:00,  9.93it/s]\n"
          ]
        },
        {
          "output_type": "stream",
          "name": "stdout",
          "text": [
            "Train Loss : 2.236124227723807 ;   Accuracy : 14.346%\n"
          ]
        },
        {
          "output_type": "stream",
          "name": "stderr",
          "text": [
            "100%|██████████| 391/391 [00:39<00:00,  9.91it/s]\n"
          ]
        },
        {
          "output_type": "stream",
          "name": "stdout",
          "text": [
            "Train Loss : 2.235962497608741 ;   Accuracy : 14.31%\n"
          ]
        },
        {
          "output_type": "stream",
          "name": "stderr",
          "text": [
            "100%|██████████| 391/391 [00:39<00:00,  9.90it/s]\n"
          ]
        },
        {
          "output_type": "stream",
          "name": "stdout",
          "text": [
            "Train Loss : 2.232177930719712 ;   Accuracy : 14.578%\n"
          ]
        },
        {
          "output_type": "stream",
          "name": "stderr",
          "text": [
            "100%|██████████| 391/391 [00:39<00:00,  9.84it/s]\n"
          ]
        },
        {
          "output_type": "stream",
          "name": "stdout",
          "text": [
            "Train Loss : 2.233544750286795 ;   Accuracy : 14.27%\n"
          ]
        },
        {
          "output_type": "stream",
          "name": "stderr",
          "text": [
            "100%|██████████| 391/391 [00:39<00:00,  9.87it/s]\n"
          ]
        },
        {
          "output_type": "stream",
          "name": "stdout",
          "text": [
            "Train Loss : 2.2292372851115663 ;   Accuracy : 14.844%\n"
          ]
        },
        {
          "output_type": "stream",
          "name": "stderr",
          "text": [
            "100%|██████████| 391/391 [00:39<00:00,  9.89it/s]\n"
          ]
        },
        {
          "output_type": "stream",
          "name": "stdout",
          "text": [
            "Train Loss : 2.230661336723191 ;   Accuracy : 14.53%\n"
          ]
        },
        {
          "output_type": "stream",
          "name": "stderr",
          "text": [
            "100%|██████████| 391/391 [00:39<00:00,  9.85it/s]\n"
          ]
        },
        {
          "output_type": "stream",
          "name": "stdout",
          "text": [
            "Train Loss : 2.230069327537361 ;   Accuracy : 14.422%\n"
          ]
        },
        {
          "output_type": "stream",
          "name": "stderr",
          "text": [
            "100%|██████████| 391/391 [00:39<00:00,  9.91it/s]\n"
          ]
        },
        {
          "output_type": "stream",
          "name": "stdout",
          "text": [
            "Train Loss : 2.2267283631102814 ;   Accuracy : 14.81%\n"
          ]
        },
        {
          "output_type": "stream",
          "name": "stderr",
          "text": [
            "100%|██████████| 391/391 [00:39<00:00,  9.93it/s]\n"
          ]
        },
        {
          "output_type": "stream",
          "name": "stdout",
          "text": [
            "Train Loss : 2.2256877556481323 ;   Accuracy : 14.71%\n"
          ]
        },
        {
          "output_type": "stream",
          "name": "stderr",
          "text": [
            "100%|██████████| 391/391 [00:39<00:00,  9.95it/s]\n"
          ]
        },
        {
          "output_type": "stream",
          "name": "stdout",
          "text": [
            "Train Loss : 2.22514728938832 ;   Accuracy : 14.854%\n"
          ]
        },
        {
          "output_type": "stream",
          "name": "stderr",
          "text": [
            "100%|██████████| 391/391 [00:39<00:00,  9.84it/s]\n"
          ]
        },
        {
          "output_type": "stream",
          "name": "stdout",
          "text": [
            "Train Loss : 2.221920454898454 ;   Accuracy : 15.044%\n"
          ]
        },
        {
          "output_type": "stream",
          "name": "stderr",
          "text": [
            "100%|██████████| 391/391 [00:39<00:00,  9.89it/s]\n"
          ]
        },
        {
          "output_type": "stream",
          "name": "stdout",
          "text": [
            "Train Loss : 2.218621974710918 ;   Accuracy : 15.662%\n"
          ]
        },
        {
          "output_type": "stream",
          "name": "stderr",
          "text": [
            "100%|██████████| 391/391 [00:39<00:00,  9.94it/s]\n"
          ]
        },
        {
          "output_type": "stream",
          "name": "stdout",
          "text": [
            "Train Loss : 2.215367848915822 ;   Accuracy : 15.93%\n"
          ]
        },
        {
          "output_type": "stream",
          "name": "stderr",
          "text": [
            "100%|██████████| 391/391 [00:39<00:00,  9.93it/s]\n"
          ]
        },
        {
          "output_type": "stream",
          "name": "stdout",
          "text": [
            "Train Loss : 2.2121311545067126 ;   Accuracy : 16.458%\n"
          ]
        },
        {
          "output_type": "stream",
          "name": "stderr",
          "text": [
            "100%|██████████| 391/391 [00:39<00:00,  9.86it/s]\n"
          ]
        },
        {
          "output_type": "stream",
          "name": "stdout",
          "text": [
            "Train Loss : 2.210172237947469 ;   Accuracy : 16.462%\n"
          ]
        },
        {
          "output_type": "stream",
          "name": "stderr",
          "text": [
            "100%|██████████| 391/391 [00:39<00:00,  9.96it/s]\n"
          ]
        },
        {
          "output_type": "stream",
          "name": "stdout",
          "text": [
            "Train Loss : 2.208505352439783 ;   Accuracy : 16.332%\n"
          ]
        },
        {
          "output_type": "stream",
          "name": "stderr",
          "text": [
            "100%|██████████| 391/391 [00:39<00:00,  9.82it/s]\n"
          ]
        },
        {
          "output_type": "stream",
          "name": "stdout",
          "text": [
            "Train Loss : 2.2071218325963717 ;   Accuracy : 16.546%\n"
          ]
        },
        {
          "output_type": "stream",
          "name": "stderr",
          "text": [
            "100%|██████████| 391/391 [00:39<00:00,  9.84it/s]\n"
          ]
        },
        {
          "output_type": "stream",
          "name": "stdout",
          "text": [
            "Train Loss : 2.205555124965775 ;   Accuracy : 16.46%\n"
          ]
        },
        {
          "output_type": "stream",
          "name": "stderr",
          "text": [
            "100%|██████████| 391/391 [00:39<00:00,  9.99it/s]\n"
          ]
        },
        {
          "output_type": "stream",
          "name": "stdout",
          "text": [
            "Train Loss : 2.204928185323925 ;   Accuracy : 16.564%\n"
          ]
        },
        {
          "output_type": "stream",
          "name": "stderr",
          "text": [
            "100%|██████████| 391/391 [00:38<00:00, 10.04it/s]\n"
          ]
        },
        {
          "output_type": "stream",
          "name": "stdout",
          "text": [
            "Train Loss : 2.202277806713758 ;   Accuracy : 16.77%\n"
          ]
        },
        {
          "output_type": "stream",
          "name": "stderr",
          "text": [
            "100%|██████████| 391/391 [00:39<00:00,  9.89it/s]\n"
          ]
        },
        {
          "output_type": "stream",
          "name": "stdout",
          "text": [
            "Train Loss : 2.2008597155666108 ;   Accuracy : 16.886%\n"
          ]
        },
        {
          "output_type": "stream",
          "name": "stderr",
          "text": [
            "100%|██████████| 391/391 [00:39<00:00,  9.87it/s]\n"
          ]
        },
        {
          "output_type": "stream",
          "name": "stdout",
          "text": [
            "Train Loss : 2.200889734965761 ;   Accuracy : 16.85%\n"
          ]
        },
        {
          "output_type": "stream",
          "name": "stderr",
          "text": [
            "100%|██████████| 391/391 [00:39<00:00,  9.97it/s]\n"
          ]
        },
        {
          "output_type": "stream",
          "name": "stdout",
          "text": [
            "Train Loss : 2.198031050469869 ;   Accuracy : 17.02%\n"
          ]
        },
        {
          "output_type": "stream",
          "name": "stderr",
          "text": [
            "100%|██████████| 391/391 [00:39<00:00,  9.93it/s]\n"
          ]
        },
        {
          "output_type": "stream",
          "name": "stdout",
          "text": [
            "Train Loss : 2.1983592113875368 ;   Accuracy : 17.158%\n"
          ]
        },
        {
          "output_type": "stream",
          "name": "stderr",
          "text": [
            "100%|██████████| 391/391 [00:39<00:00,  9.87it/s]\n"
          ]
        },
        {
          "output_type": "stream",
          "name": "stdout",
          "text": [
            "Train Loss : 2.200403964732919 ;   Accuracy : 16.83%\n"
          ]
        },
        {
          "output_type": "stream",
          "name": "stderr",
          "text": [
            "100%|██████████| 391/391 [00:39<00:00,  9.92it/s]\n"
          ]
        },
        {
          "output_type": "stream",
          "name": "stdout",
          "text": [
            "Train Loss : 2.1983564668299294 ;   Accuracy : 16.98%\n"
          ]
        },
        {
          "output_type": "stream",
          "name": "stderr",
          "text": [
            "100%|██████████| 391/391 [00:39<00:00,  9.95it/s]\n"
          ]
        },
        {
          "output_type": "stream",
          "name": "stdout",
          "text": [
            "Train Loss : 2.198019899065842 ;   Accuracy : 16.932%\n"
          ]
        },
        {
          "output_type": "stream",
          "name": "stderr",
          "text": [
            "100%|██████████| 391/391 [00:39<00:00, 10.00it/s]\n"
          ]
        },
        {
          "output_type": "stream",
          "name": "stdout",
          "text": [
            "Train Loss : 2.1972867058366155 ;   Accuracy : 16.998%\n"
          ]
        },
        {
          "output_type": "stream",
          "name": "stderr",
          "text": [
            "100%|██████████| 391/391 [00:39<00:00,  9.94it/s]\n"
          ]
        },
        {
          "output_type": "stream",
          "name": "stdout",
          "text": [
            "Train Loss : 2.192380751490288 ;   Accuracy : 17.24%\n"
          ]
        },
        {
          "output_type": "stream",
          "name": "stderr",
          "text": [
            "100%|██████████| 391/391 [00:39<00:00,  9.86it/s]\n"
          ]
        },
        {
          "output_type": "stream",
          "name": "stdout",
          "text": [
            "Train Loss : 2.1946109487577474 ;   Accuracy : 17.384%\n"
          ]
        },
        {
          "output_type": "stream",
          "name": "stderr",
          "text": [
            "100%|██████████| 391/391 [00:39<00:00,  9.92it/s]\n"
          ]
        },
        {
          "output_type": "stream",
          "name": "stdout",
          "text": [
            "Train Loss : 2.191193193425913 ;   Accuracy : 17.182%\n"
          ]
        },
        {
          "output_type": "stream",
          "name": "stderr",
          "text": [
            "100%|██████████| 391/391 [00:39<00:00,  9.88it/s]\n"
          ]
        },
        {
          "output_type": "stream",
          "name": "stdout",
          "text": [
            "Train Loss : 2.188697182004104 ;   Accuracy : 17.428%\n"
          ]
        },
        {
          "output_type": "stream",
          "name": "stderr",
          "text": [
            "100%|██████████| 391/391 [00:39<00:00,  9.90it/s]\n"
          ]
        },
        {
          "output_type": "stream",
          "name": "stdout",
          "text": [
            "Train Loss : 2.1930948669648234 ;   Accuracy : 17.23%\n"
          ]
        },
        {
          "output_type": "stream",
          "name": "stderr",
          "text": [
            "100%|██████████| 391/391 [00:39<00:00,  9.99it/s]\n"
          ]
        },
        {
          "output_type": "stream",
          "name": "stdout",
          "text": [
            "Train Loss : 2.193200132730977 ;   Accuracy : 17.316%\n"
          ]
        },
        {
          "output_type": "stream",
          "name": "stderr",
          "text": [
            "100%|██████████| 391/391 [00:39<00:00,  9.93it/s]\n"
          ]
        },
        {
          "output_type": "stream",
          "name": "stdout",
          "text": [
            "Train Loss : 2.191563169059851 ;   Accuracy : 17.546%\n"
          ]
        },
        {
          "output_type": "stream",
          "name": "stderr",
          "text": [
            "100%|██████████| 391/391 [00:39<00:00, 10.00it/s]\n"
          ]
        },
        {
          "output_type": "stream",
          "name": "stdout",
          "text": [
            "Train Loss : 2.190016214195115 ;   Accuracy : 17.236%\n"
          ]
        },
        {
          "output_type": "stream",
          "name": "stderr",
          "text": [
            "100%|██████████| 391/391 [00:39<00:00,  9.88it/s]\n"
          ]
        },
        {
          "output_type": "stream",
          "name": "stdout",
          "text": [
            "Train Loss : 2.192259417165576 ;   Accuracy : 17.298%\n"
          ]
        },
        {
          "output_type": "stream",
          "name": "stderr",
          "text": [
            "100%|██████████| 391/391 [00:39<00:00,  9.95it/s]\n"
          ]
        },
        {
          "output_type": "stream",
          "name": "stdout",
          "text": [
            "Train Loss : 2.1897689052250073 ;   Accuracy : 17.45%\n"
          ]
        },
        {
          "output_type": "stream",
          "name": "stderr",
          "text": [
            "100%|██████████| 391/391 [00:39<00:00,  9.90it/s]\n"
          ]
        },
        {
          "output_type": "stream",
          "name": "stdout",
          "text": [
            "Train Loss : 2.186585699505818 ;   Accuracy : 17.66%\n"
          ]
        },
        {
          "output_type": "stream",
          "name": "stderr",
          "text": [
            "100%|██████████| 391/391 [00:39<00:00,  9.80it/s]\n"
          ]
        },
        {
          "output_type": "stream",
          "name": "stdout",
          "text": [
            "Train Loss : 2.1884301995377404 ;   Accuracy : 17.5%\n"
          ]
        },
        {
          "output_type": "stream",
          "name": "stderr",
          "text": [
            "100%|██████████| 391/391 [00:39<00:00,  9.81it/s]\n"
          ]
        },
        {
          "output_type": "stream",
          "name": "stdout",
          "text": [
            "Train Loss : 2.188536489711088 ;   Accuracy : 17.45%\n"
          ]
        },
        {
          "output_type": "stream",
          "name": "stderr",
          "text": [
            "100%|██████████| 391/391 [00:39<00:00,  9.96it/s]\n"
          ]
        },
        {
          "output_type": "stream",
          "name": "stdout",
          "text": [
            "Train Loss : 2.1876863030826343 ;   Accuracy : 17.36%\n"
          ]
        },
        {
          "output_type": "stream",
          "name": "stderr",
          "text": [
            "100%|██████████| 391/391 [00:39<00:00,  9.90it/s]\n"
          ]
        },
        {
          "output_type": "stream",
          "name": "stdout",
          "text": [
            "Train Loss : 2.1851161007990925 ;   Accuracy : 17.7%\n"
          ]
        },
        {
          "output_type": "stream",
          "name": "stderr",
          "text": [
            "100%|██████████| 391/391 [00:39<00:00,  9.94it/s]\n"
          ]
        },
        {
          "output_type": "stream",
          "name": "stdout",
          "text": [
            "Train Loss : 2.184702636030934 ;   Accuracy : 17.752%\n"
          ]
        },
        {
          "output_type": "stream",
          "name": "stderr",
          "text": [
            "100%|██████████| 391/391 [00:39<00:00,  9.99it/s]\n"
          ]
        },
        {
          "output_type": "stream",
          "name": "stdout",
          "text": [
            "Train Loss : 2.1880189220008948 ;   Accuracy : 17.674%\n"
          ]
        },
        {
          "output_type": "stream",
          "name": "stderr",
          "text": [
            "100%|██████████| 391/391 [00:39<00:00,  9.99it/s]\n",
            "ERROR:root:Internal Python error in the inspect module.\n",
            "Below is the traceback from this internal error.\n",
            "\n"
          ]
        },
        {
          "output_type": "stream",
          "name": "stdout",
          "text": [
            "Train Loss : 2.184663287818889 ;   Accuracy : 17.87%\n",
            "Traceback (most recent call last):\n",
            "  File \"/usr/local/lib/python3.8/dist-packages/IPython/core/interactiveshell.py\", line 3326, in run_code\n",
            "    exec(code_obj, self.user_global_ns, self.user_ns)\n",
            "  File \"<ipython-input-94-1304ba007241>\", line 25, in <module>\n",
            "    torch.save(model, SAVED_MODEL_NAME)\n",
            "  File \"/usr/local/lib/python3.8/dist-packages/torch/serialization.py\", line 422, in save\n",
            "    with _open_zipfile_writer(f) as opened_zipfile:\n",
            "  File \"/usr/local/lib/python3.8/dist-packages/torch/serialization.py\", line 309, in _open_zipfile_writer\n",
            "    return container(name_or_buffer)\n",
            "  File \"/usr/local/lib/python3.8/dist-packages/torch/serialization.py\", line 287, in __init__\n",
            "    super(_open_zipfile_writer_file, self).__init__(torch._C.PyTorchFileWriter(str(name)))\n",
            "RuntimeError: File cifar10_resnet110_noshort_SGD_epochs=100_BS=128_LR=0.05_MOM=0.9_WD=0.pt cannot be opened.\n",
            "\n",
            "During handling of the above exception, another exception occurred:\n",
            "\n",
            "Traceback (most recent call last):\n",
            "  File \"/usr/local/lib/python3.8/dist-packages/IPython/core/interactiveshell.py\", line 2040, in showtraceback\n",
            "    stb = value._render_traceback_()\n",
            "AttributeError: 'RuntimeError' object has no attribute '_render_traceback_'\n",
            "\n",
            "During handling of the above exception, another exception occurred:\n",
            "\n",
            "Traceback (most recent call last):\n",
            "  File \"/usr/local/lib/python3.8/dist-packages/IPython/core/ultratb.py\", line 1101, in get_records\n",
            "    return _fixed_getinnerframes(etb, number_of_lines_of_context, tb_offset)\n",
            "  File \"/usr/local/lib/python3.8/dist-packages/IPython/core/ultratb.py\", line 319, in wrapped\n",
            "    return f(*args, **kwargs)\n",
            "  File \"/usr/local/lib/python3.8/dist-packages/IPython/core/ultratb.py\", line 353, in _fixed_getinnerframes\n",
            "    records = fix_frame_records_filenames(inspect.getinnerframes(etb, context))\n",
            "  File \"/usr/lib/python3.8/inspect.py\", line 1515, in getinnerframes\n",
            "    frameinfo = (tb.tb_frame,) + getframeinfo(tb, context)\n",
            "  File \"/usr/lib/python3.8/inspect.py\", line 1473, in getframeinfo\n",
            "    filename = getsourcefile(frame) or getfile(frame)\n",
            "  File \"/usr/lib/python3.8/inspect.py\", line 708, in getsourcefile\n",
            "    if getattr(getmodule(object, filename), '__loader__', None) is not None:\n",
            "  File \"/usr/lib/python3.8/inspect.py\", line 737, in getmodule\n",
            "    file = getabsfile(object, _filename)\n",
            "  File \"/usr/lib/python3.8/inspect.py\", line 721, in getabsfile\n",
            "    return os.path.normcase(os.path.abspath(_filename))\n",
            "  File \"/usr/lib/python3.8/posixpath.py\", line 379, in abspath\n",
            "    cwd = os.getcwd()\n",
            "OSError: [Errno 107] Transport endpoint is not connected\n"
          ]
        },
        {
          "output_type": "error",
          "ename": "RuntimeError",
          "evalue": "ignored",
          "traceback": [
            "\u001b[0;31m---------------------------------------------------------------------------\u001b[0m"
          ]
        }
      ]
    },
    {
      "cell_type": "code",
      "source": [
        "train_losses = np.array(train_losses)\n",
        "accuracies = np.array(accuracies)\n",
        "np.save(\"TRAIN_LOSSES_\" + PARTIAL_NAME, train_losses)\n",
        "np.save(\"TRAIN_ACCURACIES_\" + PARTIAL_NAME, accuracies)"
      ],
      "metadata": {
        "id": "VpgxUbZ7KCyS",
        "colab": {
          "base_uri": "https://localhost:8080/",
          "height": 856
        },
        "outputId": "2938ae14-3e9b-4c6e-e991-186797bf3bdc"
      },
      "execution_count": null,
      "outputs": [
        {
          "output_type": "stream",
          "name": "stderr",
          "text": [
            "ERROR:root:Internal Python error in the inspect module.\n",
            "Below is the traceback from this internal error.\n",
            "\n"
          ]
        },
        {
          "output_type": "stream",
          "name": "stdout",
          "text": [
            "Traceback (most recent call last):\n",
            "  File \"/usr/local/lib/python3.8/dist-packages/IPython/core/interactiveshell.py\", line 3326, in run_code\n",
            "    exec(code_obj, self.user_global_ns, self.user_ns)\n",
            "  File \"<ipython-input-95-a143c06393a0>\", line 3, in <module>\n",
            "    np.save(\"TRAIN_LOSSES_\" + PARTIAL_NAME, train_losses)\n",
            "  File \"<__array_function__ internals>\", line 180, in save\n",
            "  File \"/usr/local/lib/python3.8/dist-packages/numpy/lib/npyio.py\", line 515, in save\n",
            "    file_ctx = open(file, \"wb\")\n",
            "OSError: [Errno 107] Transport endpoint is not connected: 'TRAIN_LOSSES_cifar10_resnet110_noshort_SGD_epochs=100_BS=128_LR=0.05_MOM=0.9_WD=0.npy'\n",
            "\n",
            "During handling of the above exception, another exception occurred:\n",
            "\n",
            "Traceback (most recent call last):\n",
            "  File \"/usr/local/lib/python3.8/dist-packages/IPython/core/interactiveshell.py\", line 2040, in showtraceback\n",
            "    stb = value._render_traceback_()\n",
            "AttributeError: 'OSError' object has no attribute '_render_traceback_'\n",
            "\n",
            "During handling of the above exception, another exception occurred:\n",
            "\n",
            "Traceback (most recent call last):\n",
            "  File \"/usr/local/lib/python3.8/dist-packages/IPython/core/ultratb.py\", line 1101, in get_records\n",
            "    return _fixed_getinnerframes(etb, number_of_lines_of_context, tb_offset)\n",
            "  File \"/usr/local/lib/python3.8/dist-packages/IPython/core/ultratb.py\", line 319, in wrapped\n",
            "    return f(*args, **kwargs)\n",
            "  File \"/usr/local/lib/python3.8/dist-packages/IPython/core/ultratb.py\", line 353, in _fixed_getinnerframes\n",
            "    records = fix_frame_records_filenames(inspect.getinnerframes(etb, context))\n",
            "  File \"/usr/lib/python3.8/inspect.py\", line 1515, in getinnerframes\n",
            "    frameinfo = (tb.tb_frame,) + getframeinfo(tb, context)\n",
            "  File \"/usr/lib/python3.8/inspect.py\", line 1473, in getframeinfo\n",
            "    filename = getsourcefile(frame) or getfile(frame)\n",
            "  File \"/usr/lib/python3.8/inspect.py\", line 708, in getsourcefile\n",
            "    if getattr(getmodule(object, filename), '__loader__', None) is not None:\n",
            "  File \"/usr/lib/python3.8/inspect.py\", line 737, in getmodule\n",
            "    file = getabsfile(object, _filename)\n",
            "  File \"/usr/lib/python3.8/inspect.py\", line 721, in getabsfile\n",
            "    return os.path.normcase(os.path.abspath(_filename))\n",
            "  File \"/usr/lib/python3.8/posixpath.py\", line 379, in abspath\n",
            "    cwd = os.getcwd()\n",
            "OSError: [Errno 107] Transport endpoint is not connected\n"
          ]
        },
        {
          "output_type": "error",
          "ename": "OSError",
          "evalue": "ignored",
          "traceback": [
            "\u001b[0;31m---------------------------------------------------------------------------\u001b[0m"
          ]
        }
      ]
    },
    {
      "cell_type": "code",
      "source": [
        "MDL = torch.load(SAVED_MODEL_NAME).eval()\n",
        "MDL = MDL.to(device)"
      ],
      "metadata": {
        "id": "C70MZImCBKA-"
      },
      "execution_count": null,
      "outputs": []
    },
    {
      "cell_type": "code",
      "source": [
        "# EVALUATE THE ACCURACY OF THE SAVED MODEL\n",
        "correct = 0\n",
        "total = 0\n",
        "for inputs, labels in tqdm(train_loader):\n",
        "  inputs, labels = inputs.to('cuda'), labels.to('cuda')\n",
        "  outputs = MDL(inputs)\n",
        "  correct += (outputs.argmax(axis=1)==labels).sum().item()\n",
        "  total += labels.size(0)\n",
        "  # del MDL, inputs, labels\n",
        "  torch.cuda.empty_cache()\n",
        "  \n",
        "accuracy = 100. * correct / total\n",
        "print('Train Accuracy: %.2f \\n'%accuracy)"
      ],
      "metadata": {
        "id": "opyNb3GPBKDu",
        "colab": {
          "base_uri": "https://localhost:8080/"
        },
        "outputId": "1ca38c1b-3967-43cd-9a7d-7d2968e64e04"
      },
      "execution_count": null,
      "outputs": [
        {
          "output_type": "stream",
          "name": "stderr",
          "text": [
            "100%|██████████| 391/391 [00:22<00:00, 17.31it/s]"
          ]
        },
        {
          "output_type": "stream",
          "name": "stdout",
          "text": [
            "Train Accuracy: 17.55 \n",
            "\n"
          ]
        },
        {
          "output_type": "stream",
          "name": "stderr",
          "text": [
            "\n"
          ]
        }
      ]
    },
    {
      "cell_type": "code",
      "source": [
        "def init_directions(model, seed):\n",
        "  torch.manual_seed(seed)\n",
        "  noises = []\n",
        "  n_params = 0\n",
        "  for name, param in model.named_parameters():\n",
        "      delta = torch.normal(.0, 1., size=param.size())\n",
        "      nu = torch.normal(.0, 1., size=param.size())\n",
        "\n",
        "      param_norm = torch.norm(param)\n",
        "      delta_norm = torch.norm(delta)\n",
        "      nu_norm = torch.norm(nu)\n",
        "\n",
        "      delta /= delta_norm\n",
        "      delta *= param_norm\n",
        "\n",
        "      nu /= nu_norm\n",
        "      nu *= param_norm\n",
        "\n",
        "      noises.append((delta, nu))\n",
        "\n",
        "      n_params += np.prod(param.size())\n",
        "\n",
        "  print(f'A total of {n_params:,} parameters.')\n",
        "\n",
        "  return noises\n",
        "\n",
        "\n",
        "def init_network(model, all_noises, alpha, beta):\n",
        "  with torch.no_grad():\n",
        "    for param, noises in zip(model.parameters(), all_noises):\n",
        "      delta, nu = noises\n",
        "      new_value = param + alpha * delta + beta * nu\n",
        "      param.copy_(new_value)\n",
        "  return model\n"
      ],
      "metadata": {
        "id": "PG3_9_F2DdYW"
      },
      "execution_count": null,
      "outputs": []
    },
    {
      "cell_type": "code",
      "source": [
        "def load_model (model_name):\n",
        "  return torch.load(model_name, map_location=torch.device('cpu')) #.eval()"
      ],
      "metadata": {
        "id": "TZVKJyov0PP8"
      },
      "execution_count": null,
      "outputs": []
    },
    {
      "cell_type": "code",
      "source": [
        "def run_landscape_gen(model_name, dataloader, resolution, seed):\n",
        "\n",
        "    print(f'Testing {model_name}')\n",
        "\n",
        "    noises = init_directions(load_model(model_name), seed)\n",
        "\n",
        "    crit = torch.nn.CrossEntropyLoss()\n",
        "\n",
        "    A, B = np.meshgrid(np.linspace(-1, 1, resolution),\n",
        "                       np.linspace(-1, 1, resolution), \n",
        "                       indexing='ij')\n",
        "    \n",
        "    # SAVE X AND Y VALUES\n",
        "    np.save(\"XX_\" + PARTIAL_NAME + \".npy\", A)\n",
        "    np.save(\"YY_\" + PARTIAL_NAME + \".npy\", B)\n",
        "    \n",
        "    ZZ_filename = \"ZZ_\" + PARTIAL_NAME + \".npy\"\n",
        "    # CHECK IF FILE ALREADY EXISTS AND START FROM THERE\n",
        "    if os.path.exists(ZZ_filename):\n",
        "      partial_array = np.load(ZZ_filename)\n",
        "      resume_index = int(np.where(~partial_array.any(axis=1))[0][0])\n",
        "      loss_surface = partial_array\n",
        "    else:\n",
        "      resume_index = 0\n",
        "      loss_surface = np.zeros_like(A)\n",
        "\n",
        "    \n",
        "    print(f\"Resuming Computation from Index {resume_index}\\n\")\n",
        "    for i in range(resume_index, resolution):\n",
        "        for j in range(resolution):\n",
        "            total_loss = 0.\n",
        "            n_batch = 0\n",
        "            alpha = A[i, j]\n",
        "            beta = B[i, j]\n",
        "            net = init_network(load_model(model_name), noises, alpha, beta).to('cuda')\n",
        "            torch.autograd.set_detect_anomaly(True)\n",
        "            for batch, labels in dataloader:\n",
        "                batch = batch.to('cuda')\n",
        "                labels = labels.to('cuda')\n",
        "                with torch.no_grad():\n",
        "                    preds = net(batch)\n",
        "                    loss = crit(preds, labels)\n",
        "                    total_loss += loss.item()\n",
        "                    n_batch += 1\n",
        "            loss_surface[i, j] = total_loss / n_batch\n",
        "            del net, batch, labels\n",
        "            print(f'alpha : {alpha:.2f}, beta : {beta:.2f}, loss : {loss_surface[i, j]:.2f}')\n",
        "            torch.cuda.empty_cache()\n",
        "        # save computed losses so far\n",
        "        np.save(ZZ_filename, loss_surface)"
      ],
      "metadata": {
        "id": "olVpgdq9Dsw_"
      },
      "execution_count": null,
      "outputs": []
    },
    {
      "cell_type": "code",
      "source": [
        "run_landscape_gen(model_name=SAVED_MODEL_NAME, \n",
        "                  dataloader=train_loader,\n",
        "                  resolution=30,\n",
        "                  seed=1234)"
      ],
      "metadata": {
        "id": "hq4S2D0ohcFU",
        "colab": {
          "base_uri": "https://localhost:8080/"
        },
        "outputId": "45905ec3-2d85-4344-9152-20c6c5ab4917"
      },
      "execution_count": null,
      "outputs": [
        {
          "output_type": "stream",
          "name": "stdout",
          "text": [
            "Testing cifar10_resnet110_noshort_SGD_epochs=100_BS=128_LR=0.05_MOM=0.9_WD=0.pt\n",
            "A total of 1,727,962 parameters.\n",
            "Resuming Computation from Index 0\n",
            "\n",
            "alpha : -1.00, beta : -1.00, loss : 2.75\n",
            "alpha : -1.00, beta : -0.93, loss : 2.72\n",
            "alpha : -1.00, beta : -0.86, loss : 2.71\n",
            "alpha : -1.00, beta : -0.79, loss : 2.71\n",
            "alpha : -1.00, beta : -0.72, loss : 2.68\n",
            "alpha : -1.00, beta : -0.66, loss : 2.67\n",
            "alpha : -1.00, beta : -0.59, loss : 2.65\n",
            "alpha : -1.00, beta : -0.52, loss : 2.62\n",
            "alpha : -1.00, beta : -0.45, loss : 2.58\n",
            "alpha : -1.00, beta : -0.38, loss : 2.55\n",
            "alpha : -1.00, beta : -0.31, loss : 2.52\n",
            "alpha : -1.00, beta : -0.24, loss : 2.51\n",
            "alpha : -1.00, beta : -0.17, loss : 2.50\n",
            "alpha : -1.00, beta : -0.10, loss : 2.48\n",
            "alpha : -1.00, beta : -0.03, loss : 2.46\n",
            "alpha : -1.00, beta : 0.03, loss : 2.45\n",
            "alpha : -1.00, beta : 0.10, loss : 2.45\n",
            "alpha : -1.00, beta : 0.17, loss : 2.46\n",
            "alpha : -1.00, beta : 0.24, loss : 2.45\n",
            "alpha : -1.00, beta : 0.31, loss : 2.42\n",
            "alpha : -1.00, beta : 0.38, loss : 2.43\n",
            "alpha : -1.00, beta : 0.45, loss : 2.48\n",
            "alpha : -1.00, beta : 0.52, loss : 2.52\n",
            "alpha : -1.00, beta : 0.59, loss : 2.53\n",
            "alpha : -1.00, beta : 0.66, loss : 2.57\n",
            "alpha : -1.00, beta : 0.72, loss : 2.61\n",
            "alpha : -1.00, beta : 0.79, loss : 2.63\n",
            "alpha : -1.00, beta : 0.86, loss : 2.65\n",
            "alpha : -1.00, beta : 0.93, loss : 2.68\n",
            "alpha : -1.00, beta : 1.00, loss : 2.68\n",
            "alpha : -0.93, beta : -1.00, loss : 2.73\n",
            "alpha : -0.93, beta : -0.93, loss : 2.73\n",
            "alpha : -0.93, beta : -0.86, loss : 2.72\n",
            "alpha : -0.93, beta : -0.79, loss : 2.71\n",
            "alpha : -0.93, beta : -0.72, loss : 2.70\n",
            "alpha : -0.93, beta : -0.66, loss : 2.68\n",
            "alpha : -0.93, beta : -0.59, loss : 2.65\n",
            "alpha : -0.93, beta : -0.52, loss : 2.61\n",
            "alpha : -0.93, beta : -0.45, loss : 2.58\n",
            "alpha : -0.93, beta : -0.38, loss : 2.55\n",
            "alpha : -0.93, beta : -0.31, loss : 2.53\n",
            "alpha : -0.93, beta : -0.24, loss : 2.50\n",
            "alpha : -0.93, beta : -0.17, loss : 2.47\n",
            "alpha : -0.93, beta : -0.10, loss : 2.45\n",
            "alpha : -0.93, beta : -0.03, loss : 2.44\n",
            "alpha : -0.93, beta : 0.03, loss : 2.42\n",
            "alpha : -0.93, beta : 0.10, loss : 2.42\n",
            "alpha : -0.93, beta : 0.17, loss : 2.43\n",
            "alpha : -0.93, beta : 0.24, loss : 2.40\n",
            "alpha : -0.93, beta : 0.31, loss : 2.40\n",
            "alpha : -0.93, beta : 0.38, loss : 2.45\n",
            "alpha : -0.93, beta : 0.45, loss : 2.47\n",
            "alpha : -0.93, beta : 0.52, loss : 2.48\n",
            "alpha : -0.93, beta : 0.59, loss : 2.50\n",
            "alpha : -0.93, beta : 0.66, loss : 2.54\n",
            "alpha : -0.93, beta : 0.72, loss : 2.56\n",
            "alpha : -0.93, beta : 0.79, loss : 2.58\n",
            "alpha : -0.93, beta : 0.86, loss : 2.60\n",
            "alpha : -0.93, beta : 0.93, loss : 2.64\n",
            "alpha : -0.93, beta : 1.00, loss : 2.67\n",
            "alpha : -0.86, beta : -1.00, loss : 2.72\n",
            "alpha : -0.86, beta : -0.93, loss : 2.73\n",
            "alpha : -0.86, beta : -0.86, loss : 2.75\n",
            "alpha : -0.86, beta : -0.79, loss : 2.72\n",
            "alpha : -0.86, beta : -0.72, loss : 2.70\n",
            "alpha : -0.86, beta : -0.66, loss : 2.67\n",
            "alpha : -0.86, beta : -0.59, loss : 2.65\n",
            "alpha : -0.86, beta : -0.52, loss : 2.59\n",
            "alpha : -0.86, beta : -0.45, loss : 2.56\n",
            "alpha : -0.86, beta : -0.38, loss : 2.54\n",
            "alpha : -0.86, beta : -0.31, loss : 2.51\n",
            "alpha : -0.86, beta : -0.24, loss : 2.47\n",
            "alpha : -0.86, beta : -0.17, loss : 2.44\n",
            "alpha : -0.86, beta : -0.10, loss : 2.43\n",
            "alpha : -0.86, beta : -0.03, loss : 2.43\n",
            "alpha : -0.86, beta : 0.03, loss : 2.41\n",
            "alpha : -0.86, beta : 0.10, loss : 2.39\n",
            "alpha : -0.86, beta : 0.17, loss : 2.39\n",
            "alpha : -0.86, beta : 0.24, loss : 2.40\n",
            "alpha : -0.86, beta : 0.31, loss : 2.42\n",
            "alpha : -0.86, beta : 0.38, loss : 2.44\n",
            "alpha : -0.86, beta : 0.45, loss : 2.45\n",
            "alpha : -0.86, beta : 0.52, loss : 2.46\n",
            "alpha : -0.86, beta : 0.59, loss : 2.48\n",
            "alpha : -0.86, beta : 0.66, loss : 2.51\n",
            "alpha : -0.86, beta : 0.72, loss : 2.52\n",
            "alpha : -0.86, beta : 0.79, loss : 2.54\n",
            "alpha : -0.86, beta : 0.86, loss : 2.57\n",
            "alpha : -0.86, beta : 0.93, loss : 2.61\n",
            "alpha : -0.86, beta : 1.00, loss : 2.65\n",
            "alpha : -0.79, beta : -1.00, loss : 2.72\n",
            "alpha : -0.79, beta : -0.93, loss : 2.75\n",
            "alpha : -0.79, beta : -0.86, loss : 2.76\n",
            "alpha : -0.79, beta : -0.79, loss : 2.73\n",
            "alpha : -0.79, beta : -0.72, loss : 2.70\n",
            "alpha : -0.79, beta : -0.66, loss : 2.67\n",
            "alpha : -0.79, beta : -0.59, loss : 2.63\n",
            "alpha : -0.79, beta : -0.52, loss : 2.59\n",
            "alpha : -0.79, beta : -0.45, loss : 2.56\n",
            "alpha : -0.79, beta : -0.38, loss : 2.52\n",
            "alpha : -0.79, beta : -0.31, loss : 2.49\n",
            "alpha : -0.79, beta : -0.24, loss : 2.45\n",
            "alpha : -0.79, beta : -0.17, loss : 2.43\n",
            "alpha : -0.79, beta : -0.10, loss : 2.43\n",
            "alpha : -0.79, beta : -0.03, loss : 2.42\n",
            "alpha : -0.79, beta : 0.03, loss : 2.39\n",
            "alpha : -0.79, beta : 0.10, loss : 2.38\n",
            "alpha : -0.79, beta : 0.17, loss : 2.41\n",
            "alpha : -0.79, beta : 0.24, loss : 2.41\n",
            "alpha : -0.79, beta : 0.31, loss : 2.40\n",
            "alpha : -0.79, beta : 0.38, loss : 2.40\n",
            "alpha : -0.79, beta : 0.45, loss : 2.43\n",
            "alpha : -0.79, beta : 0.52, loss : 2.44\n",
            "alpha : -0.79, beta : 0.59, loss : 2.46\n",
            "alpha : -0.79, beta : 0.66, loss : 2.48\n",
            "alpha : -0.79, beta : 0.72, loss : 2.50\n",
            "alpha : -0.79, beta : 0.79, loss : 2.51\n",
            "alpha : -0.79, beta : 0.86, loss : 2.54\n",
            "alpha : -0.79, beta : 0.93, loss : 2.57\n",
            "alpha : -0.79, beta : 1.00, loss : 2.63\n",
            "alpha : -0.72, beta : -1.00, loss : 2.76\n",
            "alpha : -0.72, beta : -0.93, loss : 2.77\n",
            "alpha : -0.72, beta : -0.86, loss : 2.78\n",
            "alpha : -0.72, beta : -0.79, loss : 2.73\n",
            "alpha : -0.72, beta : -0.72, loss : 2.70\n",
            "alpha : -0.72, beta : -0.66, loss : 2.66\n",
            "alpha : -0.72, beta : -0.59, loss : 2.61\n",
            "alpha : -0.72, beta : -0.52, loss : 2.57\n",
            "alpha : -0.72, beta : -0.45, loss : 2.53\n",
            "alpha : -0.72, beta : -0.38, loss : 2.50\n",
            "alpha : -0.72, beta : -0.31, loss : 2.48\n",
            "alpha : -0.72, beta : -0.24, loss : 2.45\n",
            "alpha : -0.72, beta : -0.17, loss : 2.43\n",
            "alpha : -0.72, beta : -0.10, loss : 2.44\n",
            "alpha : -0.72, beta : -0.03, loss : 2.42\n",
            "alpha : -0.72, beta : 0.03, loss : 2.40\n",
            "alpha : -0.72, beta : 0.10, loss : 2.39\n",
            "alpha : -0.72, beta : 0.17, loss : 2.39\n",
            "alpha : -0.72, beta : 0.24, loss : 2.39\n",
            "alpha : -0.72, beta : 0.31, loss : 2.39\n",
            "alpha : -0.72, beta : 0.38, loss : 2.38\n",
            "alpha : -0.72, beta : 0.45, loss : 2.39\n",
            "alpha : -0.72, beta : 0.52, loss : 2.40\n",
            "alpha : -0.72, beta : 0.59, loss : 2.43\n",
            "alpha : -0.72, beta : 0.66, loss : 2.46\n",
            "alpha : -0.72, beta : 0.72, loss : 2.47\n",
            "alpha : -0.72, beta : 0.79, loss : 2.50\n",
            "alpha : -0.72, beta : 0.86, loss : 2.53\n",
            "alpha : -0.72, beta : 0.93, loss : 2.55\n",
            "alpha : -0.72, beta : 1.00, loss : 2.60\n",
            "alpha : -0.66, beta : -1.00, loss : 2.76\n",
            "alpha : -0.66, beta : -0.93, loss : 2.77\n",
            "alpha : -0.66, beta : -0.86, loss : 2.75\n",
            "alpha : -0.66, beta : -0.79, loss : 2.70\n",
            "alpha : -0.66, beta : -0.72, loss : 2.65\n",
            "alpha : -0.66, beta : -0.66, loss : 2.60\n",
            "alpha : -0.66, beta : -0.59, loss : 2.60\n",
            "alpha : -0.66, beta : -0.52, loss : 2.54\n",
            "alpha : -0.66, beta : -0.45, loss : 2.50\n",
            "alpha : -0.66, beta : -0.38, loss : 2.49\n",
            "alpha : -0.66, beta : -0.31, loss : 2.46\n",
            "alpha : -0.66, beta : -0.24, loss : 2.43\n",
            "alpha : -0.66, beta : -0.17, loss : 2.42\n",
            "alpha : -0.66, beta : -0.10, loss : 2.41\n",
            "alpha : -0.66, beta : -0.03, loss : 2.41\n",
            "alpha : -0.66, beta : 0.03, loss : 2.39\n",
            "alpha : -0.66, beta : 0.10, loss : 2.38\n",
            "alpha : -0.66, beta : 0.17, loss : 2.40\n",
            "alpha : -0.66, beta : 0.24, loss : 2.40\n",
            "alpha : -0.66, beta : 0.31, loss : 2.40\n",
            "alpha : -0.66, beta : 0.38, loss : 2.38\n",
            "alpha : -0.66, beta : 0.45, loss : 2.38\n",
            "alpha : -0.66, beta : 0.52, loss : 2.40\n",
            "alpha : -0.66, beta : 0.59, loss : 2.42\n",
            "alpha : -0.66, beta : 0.66, loss : 2.44\n",
            "alpha : -0.66, beta : 0.72, loss : 2.47\n",
            "alpha : -0.66, beta : 0.79, loss : 2.49\n",
            "alpha : -0.66, beta : 0.86, loss : 2.52\n",
            "alpha : -0.66, beta : 0.93, loss : 2.53\n",
            "alpha : -0.66, beta : 1.00, loss : 2.58\n",
            "alpha : -0.59, beta : -1.00, loss : 2.75\n",
            "alpha : -0.59, beta : -0.93, loss : 2.73\n",
            "alpha : -0.59, beta : -0.86, loss : 2.72\n",
            "alpha : -0.59, beta : -0.79, loss : 2.62\n",
            "alpha : -0.59, beta : -0.72, loss : 2.58\n",
            "alpha : -0.59, beta : -0.66, loss : 2.59\n",
            "alpha : -0.59, beta : -0.59, loss : 2.58\n",
            "alpha : -0.59, beta : -0.52, loss : 2.50\n",
            "alpha : -0.59, beta : -0.45, loss : 2.47\n",
            "alpha : -0.59, beta : -0.38, loss : 2.47\n",
            "alpha : -0.59, beta : -0.31, loss : 2.45\n",
            "alpha : -0.59, beta : -0.24, loss : 2.43\n",
            "alpha : -0.59, beta : -0.17, loss : 2.42\n",
            "alpha : -0.59, beta : -0.10, loss : 2.39\n",
            "alpha : -0.59, beta : -0.03, loss : 2.40\n",
            "alpha : -0.59, beta : 0.03, loss : 2.39\n",
            "alpha : -0.59, beta : 0.10, loss : 2.38\n",
            "alpha : -0.59, beta : 0.17, loss : 2.39\n",
            "alpha : -0.59, beta : 0.24, loss : 2.40\n",
            "alpha : -0.59, beta : 0.31, loss : 2.38\n",
            "alpha : -0.59, beta : 0.38, loss : 2.36\n",
            "alpha : -0.59, beta : 0.45, loss : 2.38\n",
            "alpha : -0.59, beta : 0.52, loss : 2.40\n",
            "alpha : -0.59, beta : 0.59, loss : 2.40\n",
            "alpha : -0.59, beta : 0.66, loss : 2.43\n",
            "alpha : -0.59, beta : 0.72, loss : 2.47\n",
            "alpha : -0.59, beta : 0.79, loss : 2.48\n",
            "alpha : -0.59, beta : 0.86, loss : 2.50\n",
            "alpha : -0.59, beta : 0.93, loss : 2.52\n",
            "alpha : -0.59, beta : 1.00, loss : 2.58\n",
            "alpha : -0.52, beta : -1.00, loss : 2.73\n",
            "alpha : -0.52, beta : -0.93, loss : 2.71\n",
            "alpha : -0.52, beta : -0.86, loss : 2.65\n",
            "alpha : -0.52, beta : -0.79, loss : 2.61\n",
            "alpha : -0.52, beta : -0.72, loss : 2.62\n",
            "alpha : -0.52, beta : -0.66, loss : 2.60\n",
            "alpha : -0.52, beta : -0.59, loss : 2.52\n",
            "alpha : -0.52, beta : -0.52, loss : 2.49\n",
            "alpha : -0.52, beta : -0.45, loss : 2.44\n",
            "alpha : -0.52, beta : -0.38, loss : 2.46\n",
            "alpha : -0.52, beta : -0.31, loss : 2.49\n",
            "alpha : -0.52, beta : -0.24, loss : 2.47\n",
            "alpha : -0.52, beta : -0.17, loss : 2.42\n",
            "alpha : -0.52, beta : -0.10, loss : 2.38\n",
            "alpha : -0.52, beta : -0.03, loss : 2.38\n",
            "alpha : -0.52, beta : 0.03, loss : 2.38\n",
            "alpha : -0.52, beta : 0.10, loss : 2.37\n",
            "alpha : -0.52, beta : 0.17, loss : 2.38\n",
            "alpha : -0.52, beta : 0.24, loss : 2.39\n",
            "alpha : -0.52, beta : 0.31, loss : 2.37\n",
            "alpha : -0.52, beta : 0.38, loss : 2.38\n",
            "alpha : -0.52, beta : 0.45, loss : 2.40\n",
            "alpha : -0.52, beta : 0.52, loss : 2.39\n",
            "alpha : -0.52, beta : 0.59, loss : 2.41\n",
            "alpha : -0.52, beta : 0.66, loss : 2.44\n",
            "alpha : -0.52, beta : 0.72, loss : 2.47\n",
            "alpha : -0.52, beta : 0.79, loss : 2.49\n",
            "alpha : -0.52, beta : 0.86, loss : 2.48\n",
            "alpha : -0.52, beta : 0.93, loss : 2.51\n",
            "alpha : -0.52, beta : 1.00, loss : 2.54\n",
            "alpha : -0.45, beta : -1.00, loss : 2.68\n",
            "alpha : -0.45, beta : -0.93, loss : 2.68\n",
            "alpha : -0.45, beta : -0.86, loss : 2.66\n",
            "alpha : -0.45, beta : -0.79, loss : 2.64\n",
            "alpha : -0.45, beta : -0.72, loss : 2.62\n",
            "alpha : -0.45, beta : -0.66, loss : 2.52\n",
            "alpha : -0.45, beta : -0.59, loss : 2.47\n",
            "alpha : -0.45, beta : -0.52, loss : 2.46\n",
            "alpha : -0.45, beta : -0.45, loss : 2.42\n",
            "alpha : -0.45, beta : -0.38, loss : 2.42\n",
            "alpha : -0.45, beta : -0.31, loss : 2.47\n",
            "alpha : -0.45, beta : -0.24, loss : 2.44\n",
            "alpha : -0.45, beta : -0.17, loss : 2.42\n",
            "alpha : -0.45, beta : -0.10, loss : 2.40\n",
            "alpha : -0.45, beta : -0.03, loss : 2.39\n",
            "alpha : -0.45, beta : 0.03, loss : 2.38\n",
            "alpha : -0.45, beta : 0.10, loss : 2.36\n",
            "alpha : -0.45, beta : 0.17, loss : 2.37\n",
            "alpha : -0.45, beta : 0.24, loss : 2.38\n",
            "alpha : -0.45, beta : 0.31, loss : 2.38\n",
            "alpha : -0.45, beta : 0.38, loss : 2.38\n",
            "alpha : -0.45, beta : 0.45, loss : 2.40\n",
            "alpha : -0.45, beta : 0.52, loss : 2.41\n",
            "alpha : -0.45, beta : 0.59, loss : 2.43\n",
            "alpha : -0.45, beta : 0.66, loss : 2.42\n",
            "alpha : -0.45, beta : 0.72, loss : 2.45\n",
            "alpha : -0.45, beta : 0.79, loss : 2.47\n",
            "alpha : -0.45, beta : 0.86, loss : 2.49\n",
            "alpha : -0.45, beta : 0.93, loss : 2.47\n",
            "alpha : -0.45, beta : 1.00, loss : 2.48\n",
            "alpha : -0.38, beta : -1.00, loss : 2.60\n",
            "alpha : -0.38, beta : -0.93, loss : 2.58\n",
            "alpha : -0.38, beta : -0.86, loss : 2.62\n",
            "alpha : -0.38, beta : -0.79, loss : 2.61\n",
            "alpha : -0.38, beta : -0.72, loss : 2.58\n",
            "alpha : -0.38, beta : -0.66, loss : 2.46\n",
            "alpha : -0.38, beta : -0.59, loss : 2.43\n",
            "alpha : -0.38, beta : -0.52, loss : 2.43\n",
            "alpha : -0.38, beta : -0.45, loss : 2.39\n",
            "alpha : -0.38, beta : -0.38, loss : 2.42\n",
            "alpha : -0.38, beta : -0.31, loss : 2.41\n",
            "alpha : -0.38, beta : -0.24, loss : 2.39\n",
            "alpha : -0.38, beta : -0.17, loss : 2.38\n",
            "alpha : -0.38, beta : -0.10, loss : 2.41\n",
            "alpha : -0.38, beta : -0.03, loss : 2.39\n",
            "alpha : -0.38, beta : 0.03, loss : 2.37\n",
            "alpha : -0.38, beta : 0.10, loss : 2.38\n",
            "alpha : -0.38, beta : 0.17, loss : 2.39\n",
            "alpha : -0.38, beta : 0.24, loss : 2.37\n",
            "alpha : -0.38, beta : 0.31, loss : 2.39\n",
            "alpha : -0.38, beta : 0.38, loss : 2.41\n",
            "alpha : -0.38, beta : 0.45, loss : 2.41\n",
            "alpha : -0.38, beta : 0.52, loss : 2.40\n",
            "alpha : -0.38, beta : 0.59, loss : 2.42\n",
            "alpha : -0.38, beta : 0.66, loss : 2.40\n",
            "alpha : -0.38, beta : 0.72, loss : 2.41\n",
            "alpha : -0.38, beta : 0.79, loss : 2.42\n",
            "alpha : -0.38, beta : 0.86, loss : 2.45\n",
            "alpha : -0.38, beta : 0.93, loss : 2.47\n",
            "alpha : -0.38, beta : 1.00, loss : 2.49\n",
            "alpha : -0.31, beta : -1.00, loss : 2.55\n",
            "alpha : -0.31, beta : -0.93, loss : 2.56\n",
            "alpha : -0.31, beta : -0.86, loss : 2.60\n",
            "alpha : -0.31, beta : -0.79, loss : 2.58\n",
            "alpha : -0.31, beta : -0.72, loss : 2.52\n",
            "alpha : -0.31, beta : -0.66, loss : 2.44\n",
            "alpha : -0.31, beta : -0.59, loss : 2.43\n",
            "alpha : -0.31, beta : -0.52, loss : 2.41\n",
            "alpha : -0.31, beta : -0.45, loss : 2.37\n",
            "alpha : -0.31, beta : -0.38, loss : 2.42\n",
            "alpha : -0.31, beta : -0.31, loss : 2.42\n",
            "alpha : -0.31, beta : -0.24, loss : 2.38\n",
            "alpha : -0.31, beta : -0.17, loss : 2.35\n",
            "alpha : -0.31, beta : -0.10, loss : 2.38\n",
            "alpha : -0.31, beta : -0.03, loss : 2.37\n",
            "alpha : -0.31, beta : 0.03, loss : 2.34\n",
            "alpha : -0.31, beta : 0.10, loss : 2.36\n",
            "alpha : -0.31, beta : 0.17, loss : 2.37\n",
            "alpha : -0.31, beta : 0.24, loss : 2.39\n",
            "alpha : -0.31, beta : 0.31, loss : 2.41\n",
            "alpha : -0.31, beta : 0.38, loss : 2.41\n",
            "alpha : -0.31, beta : 0.45, loss : 2.39\n",
            "alpha : -0.31, beta : 0.52, loss : 2.41\n",
            "alpha : -0.31, beta : 0.59, loss : 2.41\n",
            "alpha : -0.31, beta : 0.66, loss : 2.39\n",
            "alpha : -0.31, beta : 0.72, loss : 2.41\n",
            "alpha : -0.31, beta : 0.79, loss : 2.41\n",
            "alpha : -0.31, beta : 0.86, loss : 2.41\n",
            "alpha : -0.31, beta : 0.93, loss : 2.44\n",
            "alpha : -0.31, beta : 1.00, loss : 2.52\n",
            "alpha : -0.24, beta : -1.00, loss : 2.56\n",
            "alpha : -0.24, beta : -0.93, loss : 2.56\n",
            "alpha : -0.24, beta : -0.86, loss : 2.57\n",
            "alpha : -0.24, beta : -0.79, loss : 2.58\n",
            "alpha : -0.24, beta : -0.72, loss : 2.50\n",
            "alpha : -0.24, beta : -0.66, loss : 2.44\n",
            "alpha : -0.24, beta : -0.59, loss : 2.43\n",
            "alpha : -0.24, beta : -0.52, loss : 2.39\n",
            "alpha : -0.24, beta : -0.45, loss : 2.37\n",
            "alpha : -0.24, beta : -0.38, loss : 2.38\n",
            "alpha : -0.24, beta : -0.31, loss : 2.41\n",
            "alpha : -0.24, beta : -0.24, loss : 2.43\n",
            "alpha : -0.24, beta : -0.17, loss : 2.38\n",
            "alpha : -0.24, beta : -0.10, loss : 2.37\n",
            "alpha : -0.24, beta : -0.03, loss : 2.37\n",
            "alpha : -0.24, beta : 0.03, loss : 2.35\n",
            "alpha : -0.24, beta : 0.10, loss : 2.37\n",
            "alpha : -0.24, beta : 0.17, loss : 2.38\n",
            "alpha : -0.24, beta : 0.24, loss : 2.42\n",
            "alpha : -0.24, beta : 0.31, loss : 2.43\n",
            "alpha : -0.24, beta : 0.38, loss : 2.42\n",
            "alpha : -0.24, beta : 0.45, loss : 2.39\n",
            "alpha : -0.24, beta : 0.52, loss : 2.40\n",
            "alpha : -0.24, beta : 0.59, loss : 2.39\n",
            "alpha : -0.24, beta : 0.66, loss : 2.40\n",
            "alpha : -0.24, beta : 0.72, loss : 2.38\n",
            "alpha : -0.24, beta : 0.79, loss : 2.40\n",
            "alpha : -0.24, beta : 0.86, loss : 2.42\n",
            "alpha : -0.24, beta : 0.93, loss : 2.44\n",
            "alpha : -0.24, beta : 1.00, loss : 2.51\n",
            "alpha : -0.17, beta : -1.00, loss : 2.51\n",
            "alpha : -0.17, beta : -0.93, loss : 2.51\n",
            "alpha : -0.17, beta : -0.86, loss : 2.50\n",
            "alpha : -0.17, beta : -0.79, loss : 2.49\n",
            "alpha : -0.17, beta : -0.72, loss : 2.47\n",
            "alpha : -0.17, beta : -0.66, loss : 2.42\n",
            "alpha : -0.17, beta : -0.59, loss : 2.42\n",
            "alpha : -0.17, beta : -0.52, loss : 2.38\n",
            "alpha : -0.17, beta : -0.45, loss : 2.38\n",
            "alpha : -0.17, beta : -0.38, loss : 2.38\n",
            "alpha : -0.17, beta : -0.31, loss : 2.39\n",
            "alpha : -0.17, beta : -0.24, loss : 2.38\n",
            "alpha : -0.17, beta : -0.17, loss : 2.35\n",
            "alpha : -0.17, beta : -0.10, loss : 2.37\n",
            "alpha : -0.17, beta : -0.03, loss : 2.33\n",
            "alpha : -0.17, beta : 0.03, loss : 2.35\n",
            "alpha : -0.17, beta : 0.10, loss : 2.37\n",
            "alpha : -0.17, beta : 0.17, loss : 2.33\n",
            "alpha : -0.17, beta : 0.24, loss : 2.47\n",
            "alpha : -0.17, beta : 0.31, loss : 2.40\n",
            "alpha : -0.17, beta : 0.38, loss : 2.42\n",
            "alpha : -0.17, beta : 0.45, loss : 2.37\n",
            "alpha : -0.17, beta : 0.52, loss : 2.42\n",
            "alpha : -0.17, beta : 0.59, loss : 2.40\n",
            "alpha : -0.17, beta : 0.66, loss : 2.42\n",
            "alpha : -0.17, beta : 0.72, loss : 2.42\n",
            "alpha : -0.17, beta : 0.79, loss : 2.40\n",
            "alpha : -0.17, beta : 0.86, loss : 2.43\n",
            "alpha : -0.17, beta : 0.93, loss : 2.48\n",
            "alpha : -0.17, beta : 1.00, loss : 2.49\n",
            "alpha : -0.10, beta : -1.00, loss : 2.49\n",
            "alpha : -0.10, beta : -0.93, loss : 2.46\n",
            "alpha : -0.10, beta : -0.86, loss : 2.44\n",
            "alpha : -0.10, beta : -0.79, loss : 2.43\n",
            "alpha : -0.10, beta : -0.72, loss : 2.41\n",
            "alpha : -0.10, beta : -0.66, loss : 2.42\n",
            "alpha : -0.10, beta : -0.59, loss : 2.40\n",
            "alpha : -0.10, beta : -0.52, loss : 2.36\n",
            "alpha : -0.10, beta : -0.45, loss : 2.39\n",
            "alpha : -0.10, beta : -0.38, loss : 2.38\n",
            "alpha : -0.10, beta : -0.31, loss : 2.39\n",
            "alpha : -0.10, beta : -0.24, loss : 2.37\n",
            "alpha : -0.10, beta : -0.17, loss : 2.33\n",
            "alpha : -0.10, beta : -0.10, loss : 2.30\n",
            "alpha : -0.10, beta : -0.03, loss : 2.29\n",
            "alpha : -0.10, beta : 0.03, loss : 2.30\n",
            "alpha : -0.10, beta : 0.10, loss : 2.31\n",
            "alpha : -0.10, beta : 0.17, loss : 2.31\n",
            "alpha : -0.10, beta : 0.24, loss : 2.40\n",
            "alpha : -0.10, beta : 0.31, loss : 2.33\n",
            "alpha : -0.10, beta : 0.38, loss : 2.40\n",
            "alpha : -0.10, beta : 0.45, loss : 2.42\n",
            "alpha : -0.10, beta : 0.52, loss : 2.43\n",
            "alpha : -0.10, beta : 0.59, loss : 2.41\n",
            "alpha : -0.10, beta : 0.66, loss : 2.38\n",
            "alpha : -0.10, beta : 0.72, loss : 2.39\n",
            "alpha : -0.10, beta : 0.79, loss : 2.39\n",
            "alpha : -0.10, beta : 0.86, loss : 2.40\n",
            "alpha : -0.10, beta : 0.93, loss : 2.44\n",
            "alpha : -0.10, beta : 1.00, loss : 2.48\n",
            "alpha : -0.03, beta : -1.00, loss : 2.50\n",
            "alpha : -0.03, beta : -0.93, loss : 2.47\n",
            "alpha : -0.03, beta : -0.86, loss : 2.43\n",
            "alpha : -0.03, beta : -0.79, loss : 2.42\n",
            "alpha : -0.03, beta : -0.72, loss : 2.40\n",
            "alpha : -0.03, beta : -0.66, loss : 2.39\n",
            "alpha : -0.03, beta : -0.59, loss : 2.39\n",
            "alpha : -0.03, beta : -0.52, loss : 2.40\n",
            "alpha : -0.03, beta : -0.45, loss : 2.41\n",
            "alpha : -0.03, beta : -0.38, loss : 2.36\n",
            "alpha : -0.03, beta : -0.31, loss : 2.36\n",
            "alpha : -0.03, beta : -0.24, loss : 2.37\n",
            "alpha : -0.03, beta : -0.17, loss : 2.32\n",
            "alpha : -0.03, beta : -0.10, loss : 2.30\n",
            "alpha : -0.03, beta : -0.03, loss : 2.24\n",
            "alpha : -0.03, beta : 0.03, loss : 2.22\n",
            "alpha : -0.03, beta : 0.10, loss : 2.29\n",
            "alpha : -0.03, beta : 0.17, loss : 2.34\n",
            "alpha : -0.03, beta : 0.24, loss : 2.40\n",
            "alpha : -0.03, beta : 0.31, loss : 2.42\n",
            "alpha : -0.03, beta : 0.38, loss : 2.37\n",
            "alpha : -0.03, beta : 0.45, loss : 2.42\n",
            "alpha : -0.03, beta : 0.52, loss : 2.42\n",
            "alpha : -0.03, beta : 0.59, loss : 2.40\n",
            "alpha : -0.03, beta : 0.66, loss : 2.42\n",
            "alpha : -0.03, beta : 0.72, loss : 2.40\n",
            "alpha : -0.03, beta : 0.79, loss : 2.40\n",
            "alpha : -0.03, beta : 0.86, loss : 2.43\n",
            "alpha : -0.03, beta : 0.93, loss : 2.49\n",
            "alpha : -0.03, beta : 1.00, loss : 2.48\n",
            "alpha : 0.03, beta : -1.00, loss : 2.52\n",
            "alpha : 0.03, beta : -0.93, loss : 2.48\n",
            "alpha : 0.03, beta : -0.86, loss : 2.42\n",
            "alpha : 0.03, beta : -0.79, loss : 2.38\n",
            "alpha : 0.03, beta : -0.72, loss : 2.38\n",
            "alpha : 0.03, beta : -0.66, loss : 2.38\n",
            "alpha : 0.03, beta : -0.59, loss : 2.38\n",
            "alpha : 0.03, beta : -0.52, loss : 2.38\n",
            "alpha : 0.03, beta : -0.45, loss : 2.38\n",
            "alpha : 0.03, beta : -0.38, loss : 2.35\n",
            "alpha : 0.03, beta : -0.31, loss : 2.36\n",
            "alpha : 0.03, beta : -0.24, loss : 2.40\n",
            "alpha : 0.03, beta : -0.17, loss : 2.40\n",
            "alpha : 0.03, beta : -0.10, loss : 2.36\n",
            "alpha : 0.03, beta : -0.03, loss : 2.26\n",
            "alpha : 0.03, beta : 0.03, loss : 2.24\n",
            "alpha : 0.03, beta : 0.10, loss : 2.37\n",
            "alpha : 0.03, beta : 0.17, loss : 2.40\n",
            "alpha : 0.03, beta : 0.24, loss : 2.45\n",
            "alpha : 0.03, beta : 0.31, loss : 2.48\n",
            "alpha : 0.03, beta : 0.38, loss : 2.44\n",
            "alpha : 0.03, beta : 0.45, loss : 2.42\n",
            "alpha : 0.03, beta : 0.52, loss : 2.43\n",
            "alpha : 0.03, beta : 0.59, loss : 2.41\n",
            "alpha : 0.03, beta : 0.66, loss : 2.41\n",
            "alpha : 0.03, beta : 0.72, loss : 2.45\n",
            "alpha : 0.03, beta : 0.79, loss : 2.46\n",
            "alpha : 0.03, beta : 0.86, loss : 2.47\n",
            "alpha : 0.03, beta : 0.93, loss : 2.49\n",
            "alpha : 0.03, beta : 1.00, loss : 2.50\n",
            "alpha : 0.10, beta : -1.00, loss : 2.53\n",
            "alpha : 0.10, beta : -0.93, loss : 2.48\n",
            "alpha : 0.10, beta : -0.86, loss : 2.43\n",
            "alpha : 0.10, beta : -0.79, loss : 2.38\n",
            "alpha : 0.10, beta : -0.72, loss : 2.38\n",
            "alpha : 0.10, beta : -0.66, loss : 2.39\n",
            "alpha : 0.10, beta : -0.59, loss : 2.39\n",
            "alpha : 0.10, beta : -0.52, loss : 2.40\n",
            "alpha : 0.10, beta : -0.45, loss : 2.38\n",
            "alpha : 0.10, beta : -0.38, loss : 2.35\n",
            "alpha : 0.10, beta : -0.31, loss : 2.41\n",
            "alpha : 0.10, beta : -0.24, loss : 2.42\n",
            "alpha : 0.10, beta : -0.17, loss : 2.40\n",
            "alpha : 0.10, beta : -0.10, loss : 2.39\n",
            "alpha : 0.10, beta : -0.03, loss : 2.37\n",
            "alpha : 0.10, beta : 0.03, loss : 2.35\n",
            "alpha : 0.10, beta : 0.10, loss : 2.42\n",
            "alpha : 0.10, beta : 0.17, loss : 2.43\n",
            "alpha : 0.10, beta : 0.24, loss : 2.44\n",
            "alpha : 0.10, beta : 0.31, loss : 2.44\n",
            "alpha : 0.10, beta : 0.38, loss : 2.44\n",
            "alpha : 0.10, beta : 0.45, loss : 2.44\n",
            "alpha : 0.10, beta : 0.52, loss : 2.42\n",
            "alpha : 0.10, beta : 0.59, loss : 2.42\n",
            "alpha : 0.10, beta : 0.66, loss : 2.44\n",
            "alpha : 0.10, beta : 0.72, loss : 2.45\n",
            "alpha : 0.10, beta : 0.79, loss : 2.46\n",
            "alpha : 0.10, beta : 0.86, loss : 2.50\n",
            "alpha : 0.10, beta : 0.93, loss : 2.48\n",
            "alpha : 0.10, beta : 1.00, loss : 2.49\n",
            "alpha : 0.17, beta : -1.00, loss : 2.51\n",
            "alpha : 0.17, beta : -0.93, loss : 2.48\n",
            "alpha : 0.17, beta : -0.86, loss : 2.42\n",
            "alpha : 0.17, beta : -0.79, loss : 2.41\n",
            "alpha : 0.17, beta : -0.72, loss : 2.39\n",
            "alpha : 0.17, beta : -0.66, loss : 2.38\n",
            "alpha : 0.17, beta : -0.59, loss : 2.40\n",
            "alpha : 0.17, beta : -0.52, loss : 2.40\n",
            "alpha : 0.17, beta : -0.45, loss : 2.40\n",
            "alpha : 0.17, beta : -0.38, loss : 2.36\n",
            "alpha : 0.17, beta : -0.31, loss : 2.41\n",
            "alpha : 0.17, beta : -0.24, loss : 2.46\n",
            "alpha : 0.17, beta : -0.17, loss : 2.44\n",
            "alpha : 0.17, beta : -0.10, loss : 2.43\n",
            "alpha : 0.17, beta : -0.03, loss : 2.43\n",
            "alpha : 0.17, beta : 0.03, loss : 2.41\n",
            "alpha : 0.17, beta : 0.10, loss : 2.45\n",
            "alpha : 0.17, beta : 0.17, loss : 2.48\n",
            "alpha : 0.17, beta : 0.24, loss : 2.45\n",
            "alpha : 0.17, beta : 0.31, loss : 2.41\n",
            "alpha : 0.17, beta : 0.38, loss : 2.39\n",
            "alpha : 0.17, beta : 0.45, loss : 2.40\n",
            "alpha : 0.17, beta : 0.52, loss : 2.41\n",
            "alpha : 0.17, beta : 0.59, loss : 2.43\n",
            "alpha : 0.17, beta : 0.66, loss : 2.44\n",
            "alpha : 0.17, beta : 0.72, loss : 2.45\n",
            "alpha : 0.17, beta : 0.79, loss : 2.50\n",
            "alpha : 0.17, beta : 0.86, loss : 2.52\n",
            "alpha : 0.17, beta : 0.93, loss : 2.53\n",
            "alpha : 0.17, beta : 1.00, loss : 2.50\n",
            "alpha : 0.24, beta : -1.00, loss : 2.48\n",
            "alpha : 0.24, beta : -0.93, loss : 2.45\n",
            "alpha : 0.24, beta : -0.86, loss : 2.43\n",
            "alpha : 0.24, beta : -0.79, loss : 2.42\n",
            "alpha : 0.24, beta : -0.72, loss : 2.42\n",
            "alpha : 0.24, beta : -0.66, loss : 2.39\n",
            "alpha : 0.24, beta : -0.59, loss : 2.38\n",
            "alpha : 0.24, beta : -0.52, loss : 2.39\n",
            "alpha : 0.24, beta : -0.45, loss : 2.38\n",
            "alpha : 0.24, beta : -0.38, loss : 2.38\n",
            "alpha : 0.24, beta : -0.31, loss : 2.42\n",
            "alpha : 0.24, beta : -0.24, loss : 2.47\n",
            "alpha : 0.24, beta : -0.17, loss : 2.51\n",
            "alpha : 0.24, beta : -0.10, loss : 2.48\n",
            "alpha : 0.24, beta : -0.03, loss : 2.44\n",
            "alpha : 0.24, beta : 0.03, loss : 2.42\n",
            "alpha : 0.24, beta : 0.10, loss : 2.44\n",
            "alpha : 0.24, beta : 0.17, loss : 2.46\n",
            "alpha : 0.24, beta : 0.24, loss : 2.45\n",
            "alpha : 0.24, beta : 0.31, loss : 2.46\n",
            "alpha : 0.24, beta : 0.38, loss : 2.44\n",
            "alpha : 0.24, beta : 0.45, loss : 2.45\n",
            "alpha : 0.24, beta : 0.52, loss : 2.44\n",
            "alpha : 0.24, beta : 0.59, loss : 2.45\n",
            "alpha : 0.24, beta : 0.66, loss : 2.45\n",
            "alpha : 0.24, beta : 0.72, loss : 2.46\n",
            "alpha : 0.24, beta : 0.79, loss : 2.50\n",
            "alpha : 0.24, beta : 0.86, loss : 2.50\n",
            "alpha : 0.24, beta : 0.93, loss : 2.52\n",
            "alpha : 0.24, beta : 1.00, loss : 2.50\n",
            "alpha : 0.31, beta : -1.00, loss : 2.50\n",
            "alpha : 0.31, beta : -0.93, loss : 2.48\n",
            "alpha : 0.31, beta : -0.86, loss : 2.45\n",
            "alpha : 0.31, beta : -0.79, loss : 2.44\n",
            "alpha : 0.31, beta : -0.72, loss : 2.42\n",
            "alpha : 0.31, beta : -0.66, loss : 2.42\n",
            "alpha : 0.31, beta : -0.59, loss : 2.41\n",
            "alpha : 0.31, beta : -0.52, loss : 2.40\n",
            "alpha : 0.31, beta : -0.45, loss : 2.38\n",
            "alpha : 0.31, beta : -0.38, loss : 2.38\n",
            "alpha : 0.31, beta : -0.31, loss : 2.44\n",
            "alpha : 0.31, beta : -0.24, loss : 2.43\n",
            "alpha : 0.31, beta : -0.17, loss : 2.45\n",
            "alpha : 0.31, beta : -0.10, loss : 2.42\n",
            "alpha : 0.31, beta : -0.03, loss : 2.43\n",
            "alpha : 0.31, beta : 0.03, loss : 2.45\n",
            "alpha : 0.31, beta : 0.10, loss : 2.41\n",
            "alpha : 0.31, beta : 0.17, loss : 2.41\n",
            "alpha : 0.31, beta : 0.24, loss : 2.47\n",
            "alpha : 0.31, beta : 0.31, loss : 2.51\n",
            "alpha : 0.31, beta : 0.38, loss : 2.47\n",
            "alpha : 0.31, beta : 0.45, loss : 2.45\n",
            "alpha : 0.31, beta : 0.52, loss : 2.48\n",
            "alpha : 0.31, beta : 0.59, loss : 2.49\n",
            "alpha : 0.31, beta : 0.66, loss : 2.50\n",
            "alpha : 0.31, beta : 0.72, loss : 2.48\n",
            "alpha : 0.31, beta : 0.79, loss : 2.49\n",
            "alpha : 0.31, beta : 0.86, loss : 2.53\n",
            "alpha : 0.31, beta : 0.93, loss : 2.53\n",
            "alpha : 0.31, beta : 1.00, loss : 2.51\n",
            "alpha : 0.38, beta : -1.00, loss : 2.52\n",
            "alpha : 0.38, beta : -0.93, loss : 2.50\n",
            "alpha : 0.38, beta : -0.86, loss : 2.48\n",
            "alpha : 0.38, beta : -0.79, loss : 2.47\n",
            "alpha : 0.38, beta : -0.72, loss : 2.46\n",
            "alpha : 0.38, beta : -0.66, loss : 2.44\n",
            "alpha : 0.38, beta : -0.59, loss : 2.44\n",
            "alpha : 0.38, beta : -0.52, loss : 2.40\n",
            "alpha : 0.38, beta : -0.45, loss : 2.38\n",
            "alpha : 0.38, beta : -0.38, loss : 2.36\n",
            "alpha : 0.38, beta : -0.31, loss : 2.39\n",
            "alpha : 0.38, beta : -0.24, loss : 2.42\n",
            "alpha : 0.38, beta : -0.17, loss : 2.37\n",
            "alpha : 0.38, beta : -0.10, loss : 2.40\n",
            "alpha : 0.38, beta : -0.03, loss : 2.43\n",
            "alpha : 0.38, beta : 0.03, loss : 2.39\n",
            "alpha : 0.38, beta : 0.10, loss : 2.40\n",
            "alpha : 0.38, beta : 0.17, loss : 2.40\n",
            "alpha : 0.38, beta : 0.24, loss : 2.48\n",
            "alpha : 0.38, beta : 0.31, loss : 2.46\n",
            "alpha : 0.38, beta : 0.38, loss : 2.45\n",
            "alpha : 0.38, beta : 0.45, loss : 2.50\n",
            "alpha : 0.38, beta : 0.52, loss : 2.52\n",
            "alpha : 0.38, beta : 0.59, loss : 2.50\n",
            "alpha : 0.38, beta : 0.66, loss : 2.49\n",
            "alpha : 0.38, beta : 0.72, loss : 2.48\n",
            "alpha : 0.38, beta : 0.79, loss : 2.48\n",
            "alpha : 0.38, beta : 0.86, loss : 2.51\n",
            "alpha : 0.38, beta : 0.93, loss : 2.51\n",
            "alpha : 0.38, beta : 1.00, loss : 2.51\n",
            "alpha : 0.45, beta : -1.00, loss : 2.53\n",
            "alpha : 0.45, beta : -0.93, loss : 2.51\n",
            "alpha : 0.45, beta : -0.86, loss : 2.52\n",
            "alpha : 0.45, beta : -0.79, loss : 2.51\n",
            "alpha : 0.45, beta : -0.72, loss : 2.53\n",
            "alpha : 0.45, beta : -0.66, loss : 2.55\n",
            "alpha : 0.45, beta : -0.59, loss : 2.49\n",
            "alpha : 0.45, beta : -0.52, loss : 2.46\n",
            "alpha : 0.45, beta : -0.45, loss : 2.42\n",
            "alpha : 0.45, beta : -0.38, loss : 2.41\n",
            "alpha : 0.45, beta : -0.31, loss : 2.41\n",
            "alpha : 0.45, beta : -0.24, loss : 2.43\n",
            "alpha : 0.45, beta : -0.17, loss : 2.37\n",
            "alpha : 0.45, beta : -0.10, loss : 2.40\n",
            "alpha : 0.45, beta : -0.03, loss : 2.44\n",
            "alpha : 0.45, beta : 0.03, loss : 2.40\n",
            "alpha : 0.45, beta : 0.10, loss : 2.38\n",
            "alpha : 0.45, beta : 0.17, loss : 2.43\n",
            "alpha : 0.45, beta : 0.24, loss : 2.43\n",
            "alpha : 0.45, beta : 0.31, loss : 2.49\n",
            "alpha : 0.45, beta : 0.38, loss : 2.48\n",
            "alpha : 0.45, beta : 0.45, loss : 2.50\n",
            "alpha : 0.45, beta : 0.52, loss : 2.54\n",
            "alpha : 0.45, beta : 0.59, loss : 2.52\n",
            "alpha : 0.45, beta : 0.66, loss : 2.48\n",
            "alpha : 0.45, beta : 0.72, loss : 2.47\n",
            "alpha : 0.45, beta : 0.79, loss : 2.50\n",
            "alpha : 0.45, beta : 0.86, loss : 2.50\n",
            "alpha : 0.45, beta : 0.93, loss : 2.49\n",
            "alpha : 0.45, beta : 1.00, loss : 2.54\n",
            "alpha : 0.52, beta : -1.00, loss : 2.55\n",
            "alpha : 0.52, beta : -0.93, loss : 2.51\n",
            "alpha : 0.52, beta : -0.86, loss : 2.52\n",
            "alpha : 0.52, beta : -0.79, loss : 2.54\n",
            "alpha : 0.52, beta : -0.72, loss : 2.55\n",
            "alpha : 0.52, beta : -0.66, loss : 2.52\n",
            "alpha : 0.52, beta : -0.59, loss : 2.52\n",
            "alpha : 0.52, beta : -0.52, loss : 2.47\n",
            "alpha : 0.52, beta : -0.45, loss : 2.45\n",
            "alpha : 0.52, beta : -0.38, loss : 2.44\n",
            "alpha : 0.52, beta : -0.31, loss : 2.43\n",
            "alpha : 0.52, beta : -0.24, loss : 2.41\n",
            "alpha : 0.52, beta : -0.17, loss : 2.40\n",
            "alpha : 0.52, beta : -0.10, loss : 2.45\n",
            "alpha : 0.52, beta : -0.03, loss : 2.45\n",
            "alpha : 0.52, beta : 0.03, loss : 2.42\n",
            "alpha : 0.52, beta : 0.10, loss : 2.39\n",
            "alpha : 0.52, beta : 0.17, loss : 2.38\n",
            "alpha : 0.52, beta : 0.24, loss : 2.39\n",
            "alpha : 0.52, beta : 0.31, loss : 2.45\n",
            "alpha : 0.52, beta : 0.38, loss : 2.48\n",
            "alpha : 0.52, beta : 0.45, loss : 2.49\n",
            "alpha : 0.52, beta : 0.52, loss : 2.50\n",
            "alpha : 0.52, beta : 0.59, loss : 2.47\n",
            "alpha : 0.52, beta : 0.66, loss : 2.50\n",
            "alpha : 0.52, beta : 0.72, loss : 2.49\n",
            "alpha : 0.52, beta : 0.79, loss : 2.47\n",
            "alpha : 0.52, beta : 0.86, loss : 2.47\n",
            "alpha : 0.52, beta : 0.93, loss : 2.48\n",
            "alpha : 0.52, beta : 1.00, loss : 2.54\n",
            "alpha : 0.59, beta : -1.00, loss : 2.59\n",
            "alpha : 0.59, beta : -0.93, loss : 2.54\n",
            "alpha : 0.59, beta : -0.86, loss : 2.53\n",
            "alpha : 0.59, beta : -0.79, loss : 2.55\n",
            "alpha : 0.59, beta : -0.72, loss : 2.56\n",
            "alpha : 0.59, beta : -0.66, loss : 2.53\n",
            "alpha : 0.59, beta : -0.59, loss : 2.54\n",
            "alpha : 0.59, beta : -0.52, loss : 2.50\n",
            "alpha : 0.59, beta : -0.45, loss : 2.48\n",
            "alpha : 0.59, beta : -0.38, loss : 2.45\n",
            "alpha : 0.59, beta : -0.31, loss : 2.46\n",
            "alpha : 0.59, beta : -0.24, loss : 2.46\n",
            "alpha : 0.59, beta : -0.17, loss : 2.42\n",
            "alpha : 0.59, beta : -0.10, loss : 2.43\n",
            "alpha : 0.59, beta : -0.03, loss : 2.45\n",
            "alpha : 0.59, beta : 0.03, loss : 2.41\n",
            "alpha : 0.59, beta : 0.10, loss : 2.39\n",
            "alpha : 0.59, beta : 0.17, loss : 2.37\n",
            "alpha : 0.59, beta : 0.24, loss : 2.39\n",
            "alpha : 0.59, beta : 0.31, loss : 2.40\n",
            "alpha : 0.59, beta : 0.38, loss : 2.41\n",
            "alpha : 0.59, beta : 0.45, loss : 2.43\n",
            "alpha : 0.59, beta : 0.52, loss : 2.44\n",
            "alpha : 0.59, beta : 0.59, loss : 2.43\n",
            "alpha : 0.59, beta : 0.66, loss : 2.44\n",
            "alpha : 0.59, beta : 0.72, loss : 2.44\n",
            "alpha : 0.59, beta : 0.79, loss : 2.45\n",
            "alpha : 0.59, beta : 0.86, loss : 2.47\n",
            "alpha : 0.59, beta : 0.93, loss : 2.51\n",
            "alpha : 0.59, beta : 1.00, loss : 2.56\n",
            "alpha : 0.66, beta : -1.00, loss : 2.64\n",
            "alpha : 0.66, beta : -0.93, loss : 2.59\n",
            "alpha : 0.66, beta : -0.86, loss : 2.55\n",
            "alpha : 0.66, beta : -0.79, loss : 2.55\n",
            "alpha : 0.66, beta : -0.72, loss : 2.54\n",
            "alpha : 0.66, beta : -0.66, loss : 2.56\n",
            "alpha : 0.66, beta : -0.59, loss : 2.56\n",
            "alpha : 0.66, beta : -0.52, loss : 2.53\n",
            "alpha : 0.66, beta : -0.45, loss : 2.51\n",
            "alpha : 0.66, beta : -0.38, loss : 2.50\n",
            "alpha : 0.66, beta : -0.31, loss : 2.49\n",
            "alpha : 0.66, beta : -0.24, loss : 2.48\n",
            "alpha : 0.66, beta : -0.17, loss : 2.46\n",
            "alpha : 0.66, beta : -0.10, loss : 2.48\n",
            "alpha : 0.66, beta : -0.03, loss : 2.49\n",
            "alpha : 0.66, beta : 0.03, loss : 2.45\n",
            "alpha : 0.66, beta : 0.10, loss : 2.42\n",
            "alpha : 0.66, beta : 0.17, loss : 2.36\n",
            "alpha : 0.66, beta : 0.24, loss : 2.41\n",
            "alpha : 0.66, beta : 0.31, loss : 2.42\n",
            "alpha : 0.66, beta : 0.38, loss : 2.42\n",
            "alpha : 0.66, beta : 0.45, loss : 2.43\n",
            "alpha : 0.66, beta : 0.52, loss : 2.41\n",
            "alpha : 0.66, beta : 0.59, loss : 2.42\n",
            "alpha : 0.66, beta : 0.66, loss : 2.44\n",
            "alpha : 0.66, beta : 0.72, loss : 2.46\n",
            "alpha : 0.66, beta : 0.79, loss : 2.46\n",
            "alpha : 0.66, beta : 0.86, loss : 2.49\n",
            "alpha : 0.66, beta : 0.93, loss : 2.55\n",
            "alpha : 0.66, beta : 1.00, loss : 2.56\n",
            "alpha : 0.72, beta : -1.00, loss : 2.60\n",
            "alpha : 0.72, beta : -0.93, loss : 2.60\n",
            "alpha : 0.72, beta : -0.86, loss : 2.61\n",
            "alpha : 0.72, beta : -0.79, loss : 2.61\n",
            "alpha : 0.72, beta : -0.72, loss : 2.60\n",
            "alpha : 0.72, beta : -0.66, loss : 2.60\n",
            "alpha : 0.72, beta : -0.59, loss : 2.55\n",
            "alpha : 0.72, beta : -0.52, loss : 2.56\n",
            "alpha : 0.72, beta : -0.45, loss : 2.55\n",
            "alpha : 0.72, beta : -0.38, loss : 2.55\n",
            "alpha : 0.72, beta : -0.31, loss : 2.52\n",
            "alpha : 0.72, beta : -0.24, loss : 2.49\n",
            "alpha : 0.72, beta : -0.17, loss : 2.54\n",
            "alpha : 0.72, beta : -0.10, loss : 2.53\n",
            "alpha : 0.72, beta : -0.03, loss : 2.49\n",
            "alpha : 0.72, beta : 0.03, loss : 2.44\n",
            "alpha : 0.72, beta : 0.10, loss : 2.41\n",
            "alpha : 0.72, beta : 0.17, loss : 2.39\n",
            "alpha : 0.72, beta : 0.24, loss : 2.39\n",
            "alpha : 0.72, beta : 0.31, loss : 2.41\n",
            "alpha : 0.72, beta : 0.38, loss : 2.39\n",
            "alpha : 0.72, beta : 0.45, loss : 2.38\n",
            "alpha : 0.72, beta : 0.52, loss : 2.39\n",
            "alpha : 0.72, beta : 0.59, loss : 2.44\n",
            "alpha : 0.72, beta : 0.66, loss : 2.46\n",
            "alpha : 0.72, beta : 0.72, loss : 2.48\n",
            "alpha : 0.72, beta : 0.79, loss : 2.51\n",
            "alpha : 0.72, beta : 0.86, loss : 2.55\n",
            "alpha : 0.72, beta : 0.93, loss : 2.57\n",
            "alpha : 0.72, beta : 1.00, loss : 2.55\n",
            "alpha : 0.79, beta : -1.00, loss : 2.60\n",
            "alpha : 0.79, beta : -0.93, loss : 2.61\n",
            "alpha : 0.79, beta : -0.86, loss : 2.63\n",
            "alpha : 0.79, beta : -0.79, loss : 2.61\n",
            "alpha : 0.79, beta : -0.72, loss : 2.59\n",
            "alpha : 0.79, beta : -0.66, loss : 2.55\n",
            "alpha : 0.79, beta : -0.59, loss : 2.54\n",
            "alpha : 0.79, beta : -0.52, loss : 2.55\n",
            "alpha : 0.79, beta : -0.45, loss : 2.58\n",
            "alpha : 0.79, beta : -0.38, loss : 2.60\n",
            "alpha : 0.79, beta : -0.31, loss : 2.58\n",
            "alpha : 0.79, beta : -0.24, loss : 2.52\n",
            "alpha : 0.79, beta : -0.17, loss : 2.58\n",
            "alpha : 0.79, beta : -0.10, loss : 2.53\n",
            "alpha : 0.79, beta : -0.03, loss : 2.47\n",
            "alpha : 0.79, beta : 0.03, loss : 2.43\n",
            "alpha : 0.79, beta : 0.10, loss : 2.42\n",
            "alpha : 0.79, beta : 0.17, loss : 2.40\n",
            "alpha : 0.79, beta : 0.24, loss : 2.41\n",
            "alpha : 0.79, beta : 0.31, loss : 2.41\n",
            "alpha : 0.79, beta : 0.38, loss : 2.39\n",
            "alpha : 0.79, beta : 0.45, loss : 2.38\n",
            "alpha : 0.79, beta : 0.52, loss : 2.39\n",
            "alpha : 0.79, beta : 0.59, loss : 2.44\n",
            "alpha : 0.79, beta : 0.66, loss : 2.46\n",
            "alpha : 0.79, beta : 0.72, loss : 2.49\n",
            "alpha : 0.79, beta : 0.79, loss : 2.54\n",
            "alpha : 0.79, beta : 0.86, loss : 2.58\n",
            "alpha : 0.79, beta : 0.93, loss : 2.59\n",
            "alpha : 0.79, beta : 1.00, loss : 2.56\n",
            "alpha : 0.86, beta : -1.00, loss : 2.61\n",
            "alpha : 0.86, beta : -0.93, loss : 2.61\n",
            "alpha : 0.86, beta : -0.86, loss : 2.68\n",
            "alpha : 0.86, beta : -0.79, loss : 2.65\n",
            "alpha : 0.86, beta : -0.72, loss : 2.61\n",
            "alpha : 0.86, beta : -0.66, loss : 2.56\n",
            "alpha : 0.86, beta : -0.59, loss : 2.55\n",
            "alpha : 0.86, beta : -0.52, loss : 2.55\n",
            "alpha : 0.86, beta : -0.45, loss : 2.57\n",
            "alpha : 0.86, beta : -0.38, loss : 2.59\n",
            "alpha : 0.86, beta : -0.31, loss : 2.58\n",
            "alpha : 0.86, beta : -0.24, loss : 2.53\n",
            "alpha : 0.86, beta : -0.17, loss : 2.54\n",
            "alpha : 0.86, beta : -0.10, loss : 2.51\n",
            "alpha : 0.86, beta : -0.03, loss : 2.46\n",
            "alpha : 0.86, beta : 0.03, loss : 2.43\n",
            "alpha : 0.86, beta : 0.10, loss : 2.42\n",
            "alpha : 0.86, beta : 0.17, loss : 2.41\n",
            "alpha : 0.86, beta : 0.24, loss : 2.42\n",
            "alpha : 0.86, beta : 0.31, loss : 2.42\n",
            "alpha : 0.86, beta : 0.38, loss : 2.40\n",
            "alpha : 0.86, beta : 0.45, loss : 2.41\n",
            "alpha : 0.86, beta : 0.52, loss : 2.41\n",
            "alpha : 0.86, beta : 0.59, loss : 2.46\n",
            "alpha : 0.86, beta : 0.66, loss : 2.47\n",
            "alpha : 0.86, beta : 0.72, loss : 2.51\n",
            "alpha : 0.86, beta : 0.79, loss : 2.56\n",
            "alpha : 0.86, beta : 0.86, loss : 2.59\n",
            "alpha : 0.86, beta : 0.93, loss : 2.58\n",
            "alpha : 0.86, beta : 1.00, loss : 2.57\n",
            "alpha : 0.93, beta : -1.00, loss : 2.63\n",
            "alpha : 0.93, beta : -0.93, loss : 2.64\n",
            "alpha : 0.93, beta : -0.86, loss : 2.67\n",
            "alpha : 0.93, beta : -0.79, loss : 2.63\n",
            "alpha : 0.93, beta : -0.72, loss : 2.62\n",
            "alpha : 0.93, beta : -0.66, loss : 2.58\n",
            "alpha : 0.93, beta : -0.59, loss : 2.56\n",
            "alpha : 0.93, beta : -0.52, loss : 2.56\n",
            "alpha : 0.93, beta : -0.45, loss : 2.58\n",
            "alpha : 0.93, beta : -0.38, loss : 2.59\n",
            "alpha : 0.93, beta : -0.31, loss : 2.55\n",
            "alpha : 0.93, beta : -0.24, loss : 2.54\n",
            "alpha : 0.93, beta : -0.17, loss : 2.54\n",
            "alpha : 0.93, beta : -0.10, loss : 2.52\n",
            "alpha : 0.93, beta : -0.03, loss : 2.47\n",
            "alpha : 0.93, beta : 0.03, loss : 2.45\n",
            "alpha : 0.93, beta : 0.10, loss : 2.44\n",
            "alpha : 0.93, beta : 0.17, loss : 2.44\n",
            "alpha : 0.93, beta : 0.24, loss : 2.45\n",
            "alpha : 0.93, beta : 0.31, loss : 2.44\n",
            "alpha : 0.93, beta : 0.38, loss : 2.43\n",
            "alpha : 0.93, beta : 0.45, loss : 2.44\n",
            "alpha : 0.93, beta : 0.52, loss : 2.44\n",
            "alpha : 0.93, beta : 0.59, loss : 2.47\n",
            "alpha : 0.93, beta : 0.66, loss : 2.48\n",
            "alpha : 0.93, beta : 0.72, loss : 2.53\n",
            "alpha : 0.93, beta : 0.79, loss : 2.56\n",
            "alpha : 0.93, beta : 0.86, loss : 2.57\n",
            "alpha : 0.93, beta : 0.93, loss : 2.58\n",
            "alpha : 0.93, beta : 1.00, loss : 2.58\n",
            "alpha : 1.00, beta : -1.00, loss : 2.65\n",
            "alpha : 1.00, beta : -0.93, loss : 2.67\n",
            "alpha : 1.00, beta : -0.86, loss : 2.64\n",
            "alpha : 1.00, beta : -0.79, loss : 2.61\n",
            "alpha : 1.00, beta : -0.72, loss : 2.61\n",
            "alpha : 1.00, beta : -0.66, loss : 2.61\n",
            "alpha : 1.00, beta : -0.59, loss : 2.57\n",
            "alpha : 1.00, beta : -0.52, loss : 2.57\n",
            "alpha : 1.00, beta : -0.45, loss : 2.56\n",
            "alpha : 1.00, beta : -0.38, loss : 2.55\n",
            "alpha : 1.00, beta : -0.31, loss : 2.55\n",
            "alpha : 1.00, beta : -0.24, loss : 2.53\n",
            "alpha : 1.00, beta : -0.17, loss : 2.51\n",
            "alpha : 1.00, beta : -0.10, loss : 2.51\n",
            "alpha : 1.00, beta : -0.03, loss : 2.48\n",
            "alpha : 1.00, beta : 0.03, loss : 2.46\n",
            "alpha : 1.00, beta : 0.10, loss : 2.46\n",
            "alpha : 1.00, beta : 0.17, loss : 2.46\n",
            "alpha : 1.00, beta : 0.24, loss : 2.48\n",
            "alpha : 1.00, beta : 0.31, loss : 2.48\n",
            "alpha : 1.00, beta : 0.38, loss : 2.47\n",
            "alpha : 1.00, beta : 0.45, loss : 2.48\n",
            "alpha : 1.00, beta : 0.52, loss : 2.50\n",
            "alpha : 1.00, beta : 0.59, loss : 2.51\n",
            "alpha : 1.00, beta : 0.66, loss : 2.52\n",
            "alpha : 1.00, beta : 0.72, loss : 2.53\n",
            "alpha : 1.00, beta : 0.79, loss : 2.56\n",
            "alpha : 1.00, beta : 0.86, loss : 2.57\n",
            "alpha : 1.00, beta : 0.93, loss : 2.57\n",
            "alpha : 1.00, beta : 1.00, loss : 2.60\n"
          ]
        }
      ]
    },
    {
      "cell_type": "code",
      "source": [
        "# parser = argparse.ArgumentParser(description='Arguments to generate loss landscape.')\n",
        "# parser.add_argument('--path_to_imagenetv2', default='/mnt/storage/datasets/imagenetv2-top-images-format-val/', type=str)\n",
        "# parser.add_argument('--batch_size', default=8, type=int)\n",
        "# parser.add_argument('--resolution', default=25, type=int)\n",
        "\n",
        "# plt.figure(figsize=(18, 12))\n",
        "# plt.contour(A, B, loss_surface)\n",
        "# plt.savefig(f'{model_id}_contour_optim_{optimizer_name}_bs_{BATCH_SIZE}_res_{RESOLUTION}_{dataset_name}.png', dpi=100)\n",
        "# plt.close()"
      ],
      "metadata": {
        "id": "wJFCRhxwFXvJ"
      },
      "execution_count": null,
      "outputs": []
    },
    {
      "cell_type": "code",
      "source": [
        "%matplotlib inline\n",
        "import numpy as np\n",
        "import matplotlib.pyplot as plt\n",
        "from matplotlib import cm\n",
        "from matplotlib import animation\n",
        "from mpl_toolkits.mplot3d import Axes3D\n",
        "from matplotlib.animation import FuncAnimation, PillowWriter\n",
        "import networkx\n",
        "plt.rcParams[\"figure.figsize\"] = (20,20)\n",
        "\n",
        "def generate_plots(file_name, with_axes, log):\n",
        "\n",
        "    xx = np.load(\"XX_\" + file_name + \".npy\")\n",
        "    yy = np.load(\"YY_\" + file_name + \".npy\")\n",
        "    zz = np.load(\"ZZ_\" + file_name + \".npy\")\n",
        "\n",
        "    if log:\n",
        "      zz = np.log(zz)\n",
        "      log_label = \"ON\"\n",
        "    else:\n",
        "      log_label = \"OFF\"\n",
        "\n",
        "    plt.figure(figsize=(20, 20))\n",
        "\n",
        "    ## 3D loss plot\n",
        "    fig, ax = plt.subplots(subplot_kw={'projection' : '3d'})\n",
        "    if not with_axes:\n",
        "      ax.set_axis_off()\n",
        "      label_axes = \"OFF\"\n",
        "    else:\n",
        "      label_axes = \"ON\"\n",
        "\n",
        "    surf = ax.plot_surface(xx, yy, zz, \n",
        "                           cmap=cm.coolwarm,\n",
        "                           linewidth=0, \n",
        "                           antialiased=False)\n",
        "    ax.set_xlim(-1, 1)\n",
        "    ax.set_ylim(-1, 1)\n",
        "    # print(ax.azim, ax.elev)\n",
        "\n",
        "    plt.savefig(f'loss_surface_{file_name}_axes={label_axes}_log={log_label}.png', \n",
        "                dpi=300,\n",
        "                format='png', \n",
        "                bbox_inches = \"tight\")\n",
        "    plt.show()\n"
      ],
      "metadata": {
        "id": "sSIamqngLrSf"
      },
      "execution_count": null,
      "outputs": []
    },
    {
      "cell_type": "code",
      "source": [
        "generate_plots(file_name=PARTIAL_NAME, \n",
        "               with_axes=True,\n",
        "               log=True)"
      ],
      "metadata": {
        "id": "1j8ZtWjlL--u",
        "colab": {
          "base_uri": "https://localhost:8080/",
          "height": 1000
        },
        "outputId": "687b85df-e52e-4113-d707-9a7e11b64fa9"
      },
      "execution_count": null,
      "outputs": [
        {
          "output_type": "display_data",
          "data": {
            "text/plain": [
              "<Figure size 1440x1440 with 0 Axes>"
            ]
          },
          "metadata": {}
        },
        {
          "output_type": "display_data",
          "data": {
            "text/plain": [
              "<Figure size 1440x1440 with 1 Axes>"
            ],
            "image/png": "[encoded data removed]"
          },
          "metadata": {
            "needs_background": "light"
          }
        }
      ]
    },
    {
      "cell_type": "code",
      "source": [
        "generate_plots(file_name=PARTIAL_NAME, \n",
        "               with_axes=True,\n",
        "               log=False)"
      ],
      "metadata": {
        "colab": {
          "base_uri": "https://localhost:8080/",
          "height": 1000
        },
        "id": "N2aLRFJGVy8E",
        "outputId": "fb4f9ee0-1593-43fa-e485-e0cf0c4c6ea9"
      },
      "execution_count": null,
      "outputs": [
        {
          "output_type": "display_data",
          "data": {
            "text/plain": [
              "<Figure size 1440x1440 with 0 Axes>"
            ]
          },
          "metadata": {}
        },
        {
          "output_type": "display_data",
          "data": {
            "text/plain": [
              "<Figure size 1440x1440 with 1 Axes>"
            ],
            "image/png": "[encoded data removed]"
          },
          "metadata": {
            "needs_background": "light"
          }
        }
      ]
    },
    {
      "cell_type": "markdown",
      "source": [
        "What if I try to see how the loss landscape looks on the test data??"
      ],
      "metadata": {
        "id": "U5LhOa3kIpuQ"
      }
    },
    {
      "cell_type": "code",
      "source": [],
      "metadata": {
        "id": "2MkKn2QIIxWf"
      },
      "execution_count": null,
      "outputs": []
    }
  ]
}